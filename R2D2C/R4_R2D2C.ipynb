{
 "cells": [
  {
   "cell_type": "code",
   "execution_count": 3,
   "metadata": {},
   "outputs": [
    {
     "data": {
      "text/html": [
       "<style>\n",
       ".list-inline {list-style: none; margin:0; padding: 0}\n",
       ".list-inline>li {display: inline-block}\n",
       ".list-inline>li:not(:last-child)::after {content: \"\\00b7\"; padding: 0 .5ex}\n",
       "</style>\n",
       "<ol class=list-inline><li>'ptsampleFenayL93.cpg'</li><li>'ptsampleFenayL93.dbf'</li><li>'ptsampleFenayL93.prj'</li><li>'ptsampleFenayL93.qpj'</li><li>'ptsampleFenayL93.shp'</li><li>'ptsampleFenayL93.shx'</li></ol>\n"
      ],
      "text/latex": [
       "\\begin{enumerate*}\n",
       "\\item 'ptsampleFenayL93.cpg'\n",
       "\\item 'ptsampleFenayL93.dbf'\n",
       "\\item 'ptsampleFenayL93.prj'\n",
       "\\item 'ptsampleFenayL93.qpj'\n",
       "\\item 'ptsampleFenayL93.shp'\n",
       "\\item 'ptsampleFenayL93.shx'\n",
       "\\end{enumerate*}\n"
      ],
      "text/markdown": [
       "1. 'ptsampleFenayL93.cpg'\n",
       "2. 'ptsampleFenayL93.dbf'\n",
       "3. 'ptsampleFenayL93.prj'\n",
       "4. 'ptsampleFenayL93.qpj'\n",
       "5. 'ptsampleFenayL93.shp'\n",
       "6. 'ptsampleFenayL93.shx'\n",
       "\n",
       "\n"
      ],
      "text/plain": [
       "[1] \"ptsampleFenayL93.cpg\" \"ptsampleFenayL93.dbf\" \"ptsampleFenayL93.prj\"\n",
       "[4] \"ptsampleFenayL93.qpj\" \"ptsampleFenayL93.shp\" \"ptsampleFenayL93.shx\""
      ]
     },
     "metadata": {},
     "output_type": "display_data"
    }
   ],
   "source": [
    "## La remise à niveau R qui vous est proposée s'appuie sur un jeu de données \n",
    "## issues des travaux de recherche dont les réfrences vous sont fournies dans le dossier Docpdf\n",
    "## en plus de support inrtroductif au langage R et à RStudio \n",
    "\n",
    "##################################################################\n",
    "##\n",
    "## I. définir le dossier de travail, import des librairies (packages)\n",
    "##                  lecture et chargement des données\n",
    "##\n",
    "##################################################################\n",
    "\n",
    "### Se positionner dans le répertoire des données ###\n",
    "## vous changer le 'work directory' dans RStudio via le menu\n",
    "\n",
    "setwd('../BData') ## A adapter en fonction de la localisation du dossier\n",
    "\n",
    "## Pour vérifier que R 'regarde' dans le bon répertoire on peut utiliser la fonction dir() \n",
    "\n",
    "dir()\n",
    "\n",
    "### chargement des paquets R pour lire et manipuler les données spatiales \n",
    "library(sf) ## lecture et écriture de données vecteurs \n",
    "## library(rgdal) ## lecture de données vecteurs"
   ]
  },
  {
   "cell_type": "code",
   "execution_count": 4,
   "metadata": {},
   "outputs": [
    {
     "name": "stdout",
     "output_type": "stream",
     "text": [
      "Reading layer `ptsampleFenayL93' from data source \n",
      "  `/home/thierry/works/R4R2D2C_2022_2023/BData/ptsampleFenayL93.shp' \n",
      "  using driver `ESRI Shapefile'\n",
      "Simple feature collection with 269 features and 16 fields\n",
      "Geometry type: POINT\n",
      "Dimension:     XY\n",
      "Bounding box:  xmin: 853766.6 ymin: 6681507 xmax: 858712.6 ymax: 6684948\n",
      "Projected CRS: RGF93 v1 / Lambert-93\n"
     ]
    }
   ],
   "source": [
    "##########################################################################\n",
    "## Charge l'ensemble des pts echantillonnes sur la zone atelier de Fenay\n",
    "## utilisation de la fonction st_read du package sf\n",
    "## pour lister l'ensemble des fonctions du package sf: help(package = \"sf\")\n",
    "\n",
    "## ?st_read ## pour afficher l'aide sur la function supprimer le commentaire ##\n",
    "\n",
    "mydata <- st_read(\"ptsampleFenayL93.shp\") ## Lecture et chargement des données\n",
    "\n",
    "\n",
    "## mydata <- readOGR(\"ptsampleFenayL93.shp\")\n",
    "## affiche le header des données"
   ]
  },
  {
   "cell_type": "code",
   "execution_count": 5,
   "metadata": {},
   "outputs": [
    {
     "data": {
      "text/html": [
       "<style>\n",
       ".list-inline {list-style: none; margin:0; padding: 0}\n",
       ".list-inline>li {display: inline-block}\n",
       ".list-inline>li:not(:last-child)::after {content: \"\\00b7\"; padding: 0 .5ex}\n",
       "</style>\n",
       "<ol class=list-inline><li>'sf'</li><li>'data.frame'</li></ol>\n"
      ],
      "text/latex": [
       "\\begin{enumerate*}\n",
       "\\item 'sf'\n",
       "\\item 'data.frame'\n",
       "\\end{enumerate*}\n"
      ],
      "text/markdown": [
       "1. 'sf'\n",
       "2. 'data.frame'\n",
       "\n",
       "\n"
      ],
      "text/plain": [
       "[1] \"sf\"         \"data.frame\""
      ]
     },
     "metadata": {},
     "output_type": "display_data"
    },
    {
     "name": "stdout",
     "output_type": "stream",
     "text": [
      "Classes ‘sf’ and 'data.frame':\t269 obs. of  17 variables:\n",
      " $ field_1   : chr  \"Py_1_2011\" \"Py_100_2011\" \"Py_101_2011\" \"Py_102_2011\" ...\n",
      " $ annee     : num  2011 2011 2011 2011 2011 ...\n",
      " $ SOC       : num  35 24.5 23 19.8 45.2 10.3 33.2 11 10.4 37.6 ...\n",
      " $ TN        : num  3.07 2.42 2.43 2.1 3.75 5.92 3.14 1.06 0.999 3.25 ...\n",
      " $ C_N       : num  11.4 10.1 9.48 9.44 12 1.74 10.6 10.4 10.4 11.6 ...\n",
      " $ PH        : num  6.78 8.1 7.5 7.51 8.06 8.25 8.2 6.78 7.75 8.13 ...\n",
      " $ Clay      : num  44.2 34.3 42 40.3 33 31 21.4 27.3 24.3 23.2 ...\n",
      " $ Sand      : num  4.5 15 8 11.6 10.1 5.6 14.4 7.9 6.5 11.8 ...\n",
      " $ XLB93     : num  857059 854843 858498 858283 855273 ...\n",
      " $ YLB93     : num  6684437 6682797 6682798 6682798 6682798 ...\n",
      " $ cat_cultur: chr  \"Foret\" \"Hiver\" \"Ete\" \"Ete\" ...\n",
      " $ Categories: chr  \"pas_de_travail\" \"Travail_intermediaire\" \"Labour\" \"Labour\" ...\n",
      " $ Shannon   : num  4.81 5.73 5.47 5.49 5.74 ...\n",
      " $ Evenness  : num  0.697 0.796 0.782 0.778 0.79 ...\n",
      " $ X1.Simpson: num  25.7 94.5 86.9 75.4 77.7 ...\n",
      " $ Biomasse  : num  230 100 69 6.6 90 37 87 23 31 6.6 ...\n",
      " $ geometry  :sfc_POINT of length 269; first list element:  'XY' num  857059 6684437\n",
      " - attr(*, \"sf_column\")= chr \"geometry\"\n",
      " - attr(*, \"agr\")= Factor w/ 3 levels \"constant\",\"aggregate\",..: NA NA NA NA NA NA NA NA NA NA ...\n",
      "  ..- attr(*, \"names\")= chr [1:16] \"field_1\" \"annee\" \"SOC\" \"TN\" ...\n"
     ]
    }
   ],
   "source": [
    "## type de l'objet mydata\n",
    "class(mydata)\n",
    "## structure de l'objet mydata\n",
    "str(mydata)"
   ]
  },
  {
   "cell_type": "code",
   "execution_count": 6,
   "metadata": {},
   "outputs": [
    {
     "data": {
      "image/png": "[encoded data removed]",
      "text/plain": [
       "Plot with title “SOC”"
      ]
     },
     "metadata": {
      "image/png": {
       "height": 420,
       "width": 420
      }
     },
     "output_type": "display_data"
    }
   ],
   "source": [
    "##################################################################\n",
    "##\n",
    "## II. Exploration des données :\n",
    "##       - graphe les données pour la variable SOC (matière organique)\n",
    "##       - trace l'histogramme pour la variable SOC\n",
    "##       - Calcul des moments d'ordre 1 : min, max, moyenne, écart-type\n",
    "##\n",
    "##################################################################\n",
    "\n",
    "## Graphe la variable SOC \n",
    "plot(mydata[\"SOC\"])"
   ]
  },
  {
   "cell_type": "code",
   "execution_count": 61,
   "metadata": {},
   "outputs": [
    {
     "data": {
      "image/png": "[encoded data removed]",
      "text/plain": [
       "Plot with title “Histogram of mydata$SOC”"
      ]
     },
     "metadata": {
      "image/png": {
       "height": 420,
       "width": 420
      }
     },
     "output_type": "display_data"
    }
   ],
   "source": [
    "## gamme et distribution des valeurs pour la variable SOC\n",
    "hist(mydata$SOC,breaks=15)"
   ]
  },
  {
   "cell_type": "code",
   "execution_count": 62,
   "metadata": {},
   "outputs": [
    {
     "data": {
      "text/html": [
       "9.5"
      ],
      "text/latex": [
       "9.5"
      ],
      "text/markdown": [
       "9.5"
      ],
      "text/plain": [
       "[1] 9.5"
      ]
     },
     "metadata": {},
     "output_type": "display_data"
    },
    {
     "data": {
      "text/html": [
       "88.6"
      ],
      "text/latex": [
       "88.6"
      ],
      "text/markdown": [
       "88.6"
      ],
      "text/plain": [
       "[1] 88.6"
      ]
     },
     "metadata": {},
     "output_type": "display_data"
    },
    {
     "data": {
      "text/html": [
       "<style>\n",
       ".list-inline {list-style: none; margin:0; padding: 0}\n",
       ".list-inline>li {display: inline-block}\n",
       ".list-inline>li:not(:last-child)::after {content: \"\\00b7\"; padding: 0 .5ex}\n",
       "</style>\n",
       "<ol class=list-inline><li>9.5</li><li>88.6</li></ol>\n"
      ],
      "text/latex": [
       "\\begin{enumerate*}\n",
       "\\item 9.5\n",
       "\\item 88.6\n",
       "\\end{enumerate*}\n"
      ],
      "text/markdown": [
       "1. 9.5\n",
       "2. 88.6\n",
       "\n",
       "\n"
      ],
      "text/plain": [
       "[1]  9.5 88.6"
      ]
     },
     "metadata": {},
     "output_type": "display_data"
    },
    {
     "data": {
      "text/html": [
       "21.3889219330855"
      ],
      "text/latex": [
       "21.3889219330855"
      ],
      "text/markdown": [
       "21.3889219330855"
      ],
      "text/plain": [
       "[1] 21.38892"
      ]
     },
     "metadata": {},
     "output_type": "display_data"
    },
    {
     "data": {
      "text/html": [
       "12.8561248814627"
      ],
      "text/latex": [
       "12.8561248814627"
      ],
      "text/markdown": [
       "12.8561248814627"
      ],
      "text/plain": [
       "[1] 12.85612"
      ]
     },
     "metadata": {},
     "output_type": "display_data"
    }
   ],
   "source": [
    "min(mydata$SOC);max(mydata$SOC)\n",
    "range(mydata$SOC)\n",
    "mean(mydata$SOC);sd(mydata$SOC)"
   ]
  },
  {
   "cell_type": "code",
   "execution_count": 11,
   "metadata": {},
   "outputs": [
    {
     "data": {
      "image/png": "[encoded data removed]",
      "text/plain": [
       "plot without title"
      ]
     },
     "metadata": {
      "image/png": {
       "height": 420,
       "width": 420
      }
     },
     "output_type": "display_data"
    }
   ],
   "source": [
    "##################################################################\n",
    "##\n",
    "## III. Ajustement d'un modèle linéaire simple\n",
    "##      métrique de la qualité de l'ajustement du modèle : r et R2\n",
    "##      erreur quadratique moyenne associée à l'ajustement : RMSE\n",
    "##\n",
    "##################################################################\n",
    "\n",
    "## scatterplot de SOC vs. Biomasse\n",
    "plot(mydata$Biomasse,mydata$SOC)\n",
    "\n",
    "## Ajustement d'un modèle linéaire\n",
    "mylm <- lm(SOC~Biomasse, data = mydata)\n",
    "\n",
    "## Trace la modèle linéaire ajusté\n",
    "abline(mylm)\n"
   ]
  },
  {
   "cell_type": "code",
   "execution_count": 12,
   "metadata": {},
   "outputs": [
    {
     "data": {
      "text/plain": [
       "\n",
       "Call:\n",
       "lm(formula = SOC ~ Biomasse, data = mydata)\n",
       "\n",
       "Residuals:\n",
       "    Min      1Q  Median      3Q     Max \n",
       "-54.076  -4.497  -2.043   2.393  44.848 \n",
       "\n",
       "Coefficients:\n",
       "             Estimate Std. Error t value Pr(>|t|)    \n",
       "(Intercept) 10.664388   0.829971   12.85   <2e-16 ***\n",
       "Biomasse     0.165438   0.009685   17.08   <2e-16 ***\n",
       "---\n",
       "Signif. codes:  0 ‘***’ 0.001 ‘**’ 0.01 ‘*’ 0.05 ‘.’ 0.1 ‘ ’ 1\n",
       "\n",
       "Residual standard error: 8.903 on 267 degrees of freedom\n",
       "Multiple R-squared:  0.5222,\tAdjusted R-squared:  0.5204 \n",
       "F-statistic: 291.8 on 1 and 267 DF,  p-value: < 2.2e-16\n"
      ]
     },
     "metadata": {},
     "output_type": "display_data"
    },
    {
     "data": {
      "text/html": [
       "0.722622640747365"
      ],
      "text/latex": [
       "0.722622640747365"
      ],
      "text/markdown": [
       "0.722622640747365"
      ],
      "text/plain": [
       "[1] 0.7226226"
      ]
     },
     "metadata": {},
     "output_type": "display_data"
    }
   ],
   "source": [
    "## résumé des paramètres et de la qualité de l'ajustement\n",
    "summary(mylm)\n",
    "\n",
    "## corrélation linéaire entre les deux variables\n",
    "cor(mydata$Biomasse,mydata$SOC)\n",
    "\n",
    "###############################################\n",
    "###############################################\n",
    "## Que déduire de ces résultats ?\n",
    "## Commentaires ?"
   ]
  },
  {
   "cell_type": "code",
   "execution_count": 13,
   "metadata": {},
   "outputs": [
    {
     "data": {
      "text/html": [
       "8.8701695130646"
      ],
      "text/latex": [
       "8.8701695130646"
      ],
      "text/markdown": [
       "8.8701695130646"
      ],
      "text/plain": [
       "[1] 8.87017"
      ]
     },
     "metadata": {},
     "output_type": "display_data"
    }
   ],
   "source": [
    "## Calcule de la RMSE (Root Mean Squared Error) ou Erreur Quadratique Moyenne\n",
    "RMSE <- sqrt(sum(mylm$residuals^2)/length(mylm$residuals))\n",
    "RMSE"
   ]
  },
  {
   "cell_type": "code",
   "execution_count": 15,
   "metadata": {},
   "outputs": [
    {
     "data": {
      "text/html": [
       "<style>\n",
       ".list-inline {list-style: none; margin:0; padding: 0}\n",
       ".list-inline>li {display: inline-block}\n",
       ".list-inline>li:not(:last-child)::after {content: \"\\00b7\"; padding: 0 .5ex}\n",
       "</style>\n",
       "<ol class=list-inline><li>269</li><li>17</li></ol>\n"
      ],
      "text/latex": [
       "\\begin{enumerate*}\n",
       "\\item 269\n",
       "\\item 17\n",
       "\\end{enumerate*}\n"
      ],
      "text/markdown": [
       "1. 269\n",
       "2. 17\n",
       "\n",
       "\n"
      ],
      "text/plain": [
       "[1] 269  17"
      ]
     },
     "metadata": {},
     "output_type": "display_data"
    },
    {
     "data": {
      "text/html": [
       "80"
      ],
      "text/latex": [
       "80"
      ],
      "text/markdown": [
       "80"
      ],
      "text/plain": [
       "[1] 80"
      ]
     },
     "metadata": {},
     "output_type": "display_data"
    },
    {
     "data": {
      "text/html": [
       "189"
      ],
      "text/latex": [
       "189"
      ],
      "text/markdown": [
       "189"
      ],
      "text/plain": [
       "[1] 189"
      ]
     },
     "metadata": {},
     "output_type": "display_data"
    },
    {
     "data": {
      "text/html": [
       "'data.frame'"
      ],
      "text/latex": [
       "'data.frame'"
      ],
      "text/markdown": [
       "'data.frame'"
      ],
      "text/plain": [
       "[1] \"data.frame\""
      ]
     },
     "metadata": {},
     "output_type": "display_data"
    }
   ],
   "source": [
    "##############################################################\n",
    "##\n",
    "## IV. Evaluation de la robustesse du modèle linéaire ajusté\n",
    "##\n",
    "## 1- estimateur cross validation : 1 échantillon d'entraînement (training sample) ~70%\n",
    "##                                  1 échantillon de contrôle (control sample) ~30%\n",
    "##\n",
    "## 2- estimateur jackknife également appelée leave-one-out\n",
    "###############################################################\n",
    "dim(mydata) ## dimension de la table des données\n",
    "ctrlsize <- floor(dim(mydata)[1]*0.3)\n",
    "trainingsize <- dim(mydata)[1] - ctrlsize\n",
    "ctrlsize ## nombre des données dans l'échantillon de contrôle\n",
    "trainingsize ## nombre des données dans l'échanllion d'ajustement du modèle\n",
    "\n",
    "## tirage aléatoire des données pour le contrôle\n",
    "ctrl_sample <- sample(1:dim(mydata)[1], size=ctrlsize)\n",
    "\n",
    "## copie de mydata et transformation en un objet dataframe\n",
    "mydf <- mydata\n",
    "st_geometry(mydf) <- NULL ## supression de la partie spatiale\n",
    "class(mydf) ## mydf est maintenant un  objet dataframe cela va simplifier le sous-échantillonnage"
   ]
  },
  {
   "cell_type": "code",
   "execution_count": 16,
   "metadata": {},
   "outputs": [
    {
     "data": {
      "text/html": [
       "<style>\n",
       ".list-inline {list-style: none; margin:0; padding: 0}\n",
       ".list-inline>li {display: inline-block}\n",
       ".list-inline>li:not(:last-child)::after {content: \"\\00b7\"; padding: 0 .5ex}\n",
       "</style>\n",
       "<ol class=list-inline><li>189</li><li>16</li></ol>\n"
      ],
      "text/latex": [
       "\\begin{enumerate*}\n",
       "\\item 189\n",
       "\\item 16\n",
       "\\end{enumerate*}\n"
      ],
      "text/markdown": [
       "1. 189\n",
       "2. 16\n",
       "\n",
       "\n"
      ],
      "text/plain": [
       "[1] 189  16"
      ]
     },
     "metadata": {},
     "output_type": "display_data"
    },
    {
     "data": {
      "text/html": [
       "<style>\n",
       ".list-inline {list-style: none; margin:0; padding: 0}\n",
       ".list-inline>li {display: inline-block}\n",
       ".list-inline>li:not(:last-child)::after {content: \"\\00b7\"; padding: 0 .5ex}\n",
       "</style>\n",
       "<ol class=list-inline><li>80</li><li>16</li></ol>\n"
      ],
      "text/latex": [
       "\\begin{enumerate*}\n",
       "\\item 80\n",
       "\\item 16\n",
       "\\end{enumerate*}\n"
      ],
      "text/markdown": [
       "1. 80\n",
       "2. 16\n",
       "\n",
       "\n"
      ],
      "text/plain": [
       "[1] 80 16"
      ]
     },
     "metadata": {},
     "output_type": "display_data"
    },
    {
     "data": {
      "text/html": [
       "0.721410766991623"
      ],
      "text/latex": [
       "0.721410766991623"
      ],
      "text/markdown": [
       "0.721410766991623"
      ],
      "text/plain": [
       "[1] 0.7214108"
      ]
     },
     "metadata": {},
     "output_type": "display_data"
    }
   ],
   "source": [
    "#########################################################################################\n",
    "##\n",
    "## Calcul modèle d'entrainement\n",
    "##\n",
    "#########################################################################################\n",
    "## Sélection des données pour paramétrer le modèle d'entrainement\n",
    "training_mydf <- mydf[-ctrl_sample,]\n",
    "## Sélection des données pour évaluer/controler le modèle\n",
    "control_mydf <- mydf[ctrl_sample,]\n",
    "## dimension de l'échantillon\n",
    "dim(training_mydf)\n",
    "dim(control_mydf)\n",
    "## corrélation linéraire entre SOC vs Biomasse\n",
    "cor(training_mydf$Biomasse,training_mydf$SOC)\n",
    "## Ajustement du modèle linéraire à partie de l'échantillon d'entraînement\n",
    "mydflm <- lm(SOC~Biomasse, data = training_mydf)"
   ]
  },
  {
   "cell_type": "code",
   "execution_count": 17,
   "metadata": {},
   "outputs": [
    {
     "data": {
      "text/plain": [
       "\n",
       "Call:\n",
       "lm(formula = SOC ~ Biomasse, data = training_mydf)\n",
       "\n",
       "Residuals:\n",
       "    Min      1Q  Median      3Q     Max \n",
       "-52.492  -4.577  -2.118   2.416  45.536 \n",
       "\n",
       "Coefficients:\n",
       "            Estimate Std. Error t value Pr(>|t|)    \n",
       "(Intercept) 11.03183    1.03448   10.66   <2e-16 ***\n",
       "Biomasse     0.16016    0.01124   14.25   <2e-16 ***\n",
       "---\n",
       "Signif. codes:  0 ‘***’ 0.001 ‘**’ 0.01 ‘*’ 0.05 ‘.’ 0.1 ‘ ’ 1\n",
       "\n",
       "Residual standard error: 9.459 on 187 degrees of freedom\n",
       "Multiple R-squared:  0.5204,\tAdjusted R-squared:  0.5179 \n",
       "F-statistic: 202.9 on 1 and 187 DF,  p-value: < 2.2e-16\n"
      ]
     },
     "metadata": {},
     "output_type": "display_data"
    }
   ],
   "source": [
    "summary(mydflm)"
   ]
  },
  {
   "cell_type": "code",
   "execution_count": 18,
   "metadata": {},
   "outputs": [
    {
     "data": {
      "text/html": [
       "<style>\n",
       ".dl-inline {width: auto; margin:0; padding: 0}\n",
       ".dl-inline>dt, .dl-inline>dd {float: none; width: auto; display: inline-block}\n",
       ".dl-inline>dt::after {content: \":\\0020\"; padding-right: .5ex}\n",
       ".dl-inline>dt:not(:first-of-type) {padding-left: .5ex}\n",
       "</style><dl class=dl-inline><dt>(Intercept)</dt><dd>11.0318286407692</dd><dt>Biomasse</dt><dd>0.160162044191631</dd></dl>\n"
      ],
      "text/latex": [
       "\\begin{description*}\n",
       "\\item[(Intercept)] 11.0318286407692\n",
       "\\item[Biomasse] 0.160162044191631\n",
       "\\end{description*}\n"
      ],
      "text/markdown": [
       "(Intercept)\n",
       ":   11.0318286407692Biomasse\n",
       ":   0.160162044191631\n",
       "\n"
      ],
      "text/plain": [
       "(Intercept)    Biomasse \n",
       "  11.031829    0.160162 "
      ]
     },
     "metadata": {},
     "output_type": "display_data"
    }
   ],
   "source": [
    "coef(mydflm)"
   ]
  },
  {
   "cell_type": "code",
   "execution_count": 19,
   "metadata": {},
   "outputs": [],
   "source": [
    "## Application du modèle ajusté sur les données de controle\n",
    "## SOCpredict = a x Biomasse + b \n",
    "control_mydf$SOCpredict <- coef(mydflm)[2]*control_mydf$Biomasse + coef(mydflm)[1]"
   ]
  },
  {
   "cell_type": "code",
   "execution_count": 20,
   "metadata": {},
   "outputs": [
    {
     "data": {
      "text/html": [
       "<table class=\"dataframe\">\n",
       "<caption>A data.frame: 6 × 17</caption>\n",
       "<thead>\n",
       "\t<tr><th></th><th scope=col>field_1</th><th scope=col>annee</th><th scope=col>SOC</th><th scope=col>TN</th><th scope=col>C_N</th><th scope=col>PH</th><th scope=col>Clay</th><th scope=col>Sand</th><th scope=col>XLB93</th><th scope=col>YLB93</th><th scope=col>cat_cultur</th><th scope=col>Categories</th><th scope=col>Shannon</th><th scope=col>Evenness</th><th scope=col>X1.Simpson</th><th scope=col>Biomasse</th><th scope=col>SOCpredict</th></tr>\n",
       "\t<tr><th></th><th scope=col>&lt;chr&gt;</th><th scope=col>&lt;dbl&gt;</th><th scope=col>&lt;dbl&gt;</th><th scope=col>&lt;dbl&gt;</th><th scope=col>&lt;dbl&gt;</th><th scope=col>&lt;dbl&gt;</th><th scope=col>&lt;dbl&gt;</th><th scope=col>&lt;dbl&gt;</th><th scope=col>&lt;dbl&gt;</th><th scope=col>&lt;dbl&gt;</th><th scope=col>&lt;chr&gt;</th><th scope=col>&lt;chr&gt;</th><th scope=col>&lt;dbl&gt;</th><th scope=col>&lt;dbl&gt;</th><th scope=col>&lt;dbl&gt;</th><th scope=col>&lt;dbl&gt;</th><th scope=col>&lt;dbl&gt;</th></tr>\n",
       "</thead>\n",
       "<tbody>\n",
       "\t<tr><th scope=row>49</th><td>Py_146_2011</td><td>2011</td><td>21.6</td><td>1.86</td><td>11.60</td><td>8.23</td><td>32.7</td><td>21.1</td><td>855488.5</td><td>6683228</td><td>Hiver       </td><td>Labour               </td><td>5.732</td><td>0.793639</td><td>98.807</td><td>46</td><td>18.39928</td></tr>\n",
       "\t<tr><th scope=row>119</th><td>Py_212_2011</td><td>2011</td><td>14.2</td><td>1.40</td><td>10.20</td><td>7.27</td><td>35.6</td><td> 6.6</td><td>856779.5</td><td>6683874</td><td>Printemps   </td><td>Labour               </td><td>5.500</td><td>0.782904</td><td>76.931</td><td>41</td><td>17.59847</td></tr>\n",
       "\t<tr><th scope=row>159</th><td>Py_251_2011</td><td>2011</td><td>20.8</td><td>2.20</td><td> 9.47</td><td>7.66</td><td>43.7</td><td> 7.2</td><td>856779.0</td><td>6684304</td><td>Brassicacees</td><td>Labour               </td><td>5.530</td><td>0.779772</td><td>82.715</td><td>58</td><td>20.32123</td></tr>\n",
       "\t<tr><th scope=row>225</th><td>Py_57_2011 </td><td>2011</td><td>14.7</td><td>1.21</td><td>12.10</td><td>6.85</td><td>25.1</td><td> 9.9</td><td>853766.6</td><td>6682367</td><td>Hiver       </td><td>Travail_intermediaire</td><td>5.487</td><td>0.781235</td><td>83.346</td><td>48</td><td>18.71961</td></tr>\n",
       "\t<tr><th scope=row>199</th><td>Py_31_2011 </td><td>2011</td><td>17.6</td><td>1.78</td><td> 9.90</td><td>8.20</td><td>33.1</td><td> 5.0</td><td>857207.2</td><td>6681507</td><td>Hiver       </td><td>Labour               </td><td>5.664</td><td>0.787283</td><td>86.395</td><td>23</td><td>14.71556</td></tr>\n",
       "\t<tr><th scope=row>154</th><td>Py_247_2011</td><td>2011</td><td>26.3</td><td>2.37</td><td>11.10</td><td>7.99</td><td>43.1</td><td> 4.9</td><td>857208.9</td><td>6684303</td><td>Brassicacees</td><td>Labour               </td><td>5.424</td><td>0.756649</td><td>62.344</td><td>69</td><td>22.08301</td></tr>\n",
       "</tbody>\n",
       "</table>\n"
      ],
      "text/latex": [
       "A data.frame: 6 × 17\n",
       "\\begin{tabular}{r|lllllllllllllllll}\n",
       "  & field\\_1 & annee & SOC & TN & C\\_N & PH & Clay & Sand & XLB93 & YLB93 & cat\\_cultur & Categories & Shannon & Evenness & X1.Simpson & Biomasse & SOCpredict\\\\\n",
       "  & <chr> & <dbl> & <dbl> & <dbl> & <dbl> & <dbl> & <dbl> & <dbl> & <dbl> & <dbl> & <chr> & <chr> & <dbl> & <dbl> & <dbl> & <dbl> & <dbl>\\\\\n",
       "\\hline\n",
       "\t49 & Py\\_146\\_2011 & 2011 & 21.6 & 1.86 & 11.60 & 8.23 & 32.7 & 21.1 & 855488.5 & 6683228 & Hiver        & Labour                & 5.732 & 0.793639 & 98.807 & 46 & 18.39928\\\\\n",
       "\t119 & Py\\_212\\_2011 & 2011 & 14.2 & 1.40 & 10.20 & 7.27 & 35.6 &  6.6 & 856779.5 & 6683874 & Printemps    & Labour                & 5.500 & 0.782904 & 76.931 & 41 & 17.59847\\\\\n",
       "\t159 & Py\\_251\\_2011 & 2011 & 20.8 & 2.20 &  9.47 & 7.66 & 43.7 &  7.2 & 856779.0 & 6684304 & Brassicacees & Labour                & 5.530 & 0.779772 & 82.715 & 58 & 20.32123\\\\\n",
       "\t225 & Py\\_57\\_2011  & 2011 & 14.7 & 1.21 & 12.10 & 6.85 & 25.1 &  9.9 & 853766.6 & 6682367 & Hiver        & Travail\\_intermediaire & 5.487 & 0.781235 & 83.346 & 48 & 18.71961\\\\\n",
       "\t199 & Py\\_31\\_2011  & 2011 & 17.6 & 1.78 &  9.90 & 8.20 & 33.1 &  5.0 & 857207.2 & 6681507 & Hiver        & Labour                & 5.664 & 0.787283 & 86.395 & 23 & 14.71556\\\\\n",
       "\t154 & Py\\_247\\_2011 & 2011 & 26.3 & 2.37 & 11.10 & 7.99 & 43.1 &  4.9 & 857208.9 & 6684303 & Brassicacees & Labour                & 5.424 & 0.756649 & 62.344 & 69 & 22.08301\\\\\n",
       "\\end{tabular}\n"
      ],
      "text/markdown": [
       "\n",
       "A data.frame: 6 × 17\n",
       "\n",
       "| <!--/--> | field_1 &lt;chr&gt; | annee &lt;dbl&gt; | SOC &lt;dbl&gt; | TN &lt;dbl&gt; | C_N &lt;dbl&gt; | PH &lt;dbl&gt; | Clay &lt;dbl&gt; | Sand &lt;dbl&gt; | XLB93 &lt;dbl&gt; | YLB93 &lt;dbl&gt; | cat_cultur &lt;chr&gt; | Categories &lt;chr&gt; | Shannon &lt;dbl&gt; | Evenness &lt;dbl&gt; | X1.Simpson &lt;dbl&gt; | Biomasse &lt;dbl&gt; | SOCpredict &lt;dbl&gt; |\n",
       "|---|---|---|---|---|---|---|---|---|---|---|---|---|---|---|---|---|---|\n",
       "| 49 | Py_146_2011 | 2011 | 21.6 | 1.86 | 11.60 | 8.23 | 32.7 | 21.1 | 855488.5 | 6683228 | Hiver        | Labour                | 5.732 | 0.793639 | 98.807 | 46 | 18.39928 |\n",
       "| 119 | Py_212_2011 | 2011 | 14.2 | 1.40 | 10.20 | 7.27 | 35.6 |  6.6 | 856779.5 | 6683874 | Printemps    | Labour                | 5.500 | 0.782904 | 76.931 | 41 | 17.59847 |\n",
       "| 159 | Py_251_2011 | 2011 | 20.8 | 2.20 |  9.47 | 7.66 | 43.7 |  7.2 | 856779.0 | 6684304 | Brassicacees | Labour                | 5.530 | 0.779772 | 82.715 | 58 | 20.32123 |\n",
       "| 225 | Py_57_2011  | 2011 | 14.7 | 1.21 | 12.10 | 6.85 | 25.1 |  9.9 | 853766.6 | 6682367 | Hiver        | Travail_intermediaire | 5.487 | 0.781235 | 83.346 | 48 | 18.71961 |\n",
       "| 199 | Py_31_2011  | 2011 | 17.6 | 1.78 |  9.90 | 8.20 | 33.1 |  5.0 | 857207.2 | 6681507 | Hiver        | Labour                | 5.664 | 0.787283 | 86.395 | 23 | 14.71556 |\n",
       "| 154 | Py_247_2011 | 2011 | 26.3 | 2.37 | 11.10 | 7.99 | 43.1 |  4.9 | 857208.9 | 6684303 | Brassicacees | Labour                | 5.424 | 0.756649 | 62.344 | 69 | 22.08301 |\n",
       "\n"
      ],
      "text/plain": [
       "    field_1     annee SOC  TN   C_N   PH   Clay Sand XLB93    YLB93  \n",
       "49  Py_146_2011 2011  21.6 1.86 11.60 8.23 32.7 21.1 855488.5 6683228\n",
       "119 Py_212_2011 2011  14.2 1.40 10.20 7.27 35.6  6.6 856779.5 6683874\n",
       "159 Py_251_2011 2011  20.8 2.20  9.47 7.66 43.7  7.2 856779.0 6684304\n",
       "225 Py_57_2011  2011  14.7 1.21 12.10 6.85 25.1  9.9 853766.6 6682367\n",
       "199 Py_31_2011  2011  17.6 1.78  9.90 8.20 33.1  5.0 857207.2 6681507\n",
       "154 Py_247_2011 2011  26.3 2.37 11.10 7.99 43.1  4.9 857208.9 6684303\n",
       "    cat_cultur   Categories            Shannon Evenness X1.Simpson Biomasse\n",
       "49  Hiver        Labour                5.732   0.793639 98.807     46      \n",
       "119 Printemps    Labour                5.500   0.782904 76.931     41      \n",
       "159 Brassicacees Labour                5.530   0.779772 82.715     58      \n",
       "225 Hiver        Travail_intermediaire 5.487   0.781235 83.346     48      \n",
       "199 Hiver        Labour                5.664   0.787283 86.395     23      \n",
       "154 Brassicacees Labour                5.424   0.756649 62.344     69      \n",
       "    SOCpredict\n",
       "49  18.39928  \n",
       "119 17.59847  \n",
       "159 20.32123  \n",
       "225 18.71961  \n",
       "199 14.71556  \n",
       "154 22.08301  "
      ]
     },
     "metadata": {},
     "output_type": "display_data"
    },
    {
     "data": {
      "text/html": [
       "<table class=\"dataframe\">\n",
       "<caption>A data.frame: 6 × 17</caption>\n",
       "<thead>\n",
       "\t<tr><th></th><th scope=col>field_1</th><th scope=col>annee</th><th scope=col>SOC</th><th scope=col>TN</th><th scope=col>C_N</th><th scope=col>PH</th><th scope=col>Clay</th><th scope=col>Sand</th><th scope=col>XLB93</th><th scope=col>YLB93</th><th scope=col>cat_cultur</th><th scope=col>Categories</th><th scope=col>Shannon</th><th scope=col>Evenness</th><th scope=col>X1.Simpson</th><th scope=col>Biomasse</th><th scope=col>SOCpredict</th></tr>\n",
       "\t<tr><th></th><th scope=col>&lt;chr&gt;</th><th scope=col>&lt;dbl&gt;</th><th scope=col>&lt;dbl&gt;</th><th scope=col>&lt;dbl&gt;</th><th scope=col>&lt;dbl&gt;</th><th scope=col>&lt;dbl&gt;</th><th scope=col>&lt;dbl&gt;</th><th scope=col>&lt;dbl&gt;</th><th scope=col>&lt;dbl&gt;</th><th scope=col>&lt;dbl&gt;</th><th scope=col>&lt;chr&gt;</th><th scope=col>&lt;chr&gt;</th><th scope=col>&lt;dbl&gt;</th><th scope=col>&lt;dbl&gt;</th><th scope=col>&lt;dbl&gt;</th><th scope=col>&lt;dbl&gt;</th><th scope=col>&lt;dbl&gt;</th></tr>\n",
       "</thead>\n",
       "<tbody>\n",
       "\t<tr><th scope=row>33</th><td>Py_131_2011</td><td>2011</td><td>44.0</td><td>3.610</td><td>12.20</td><td>7.15</td><td>54.2</td><td> 4.8</td><td>856348.9</td><td>6683013</td><td>Foret       </td><td>pas_de_travail       </td><td>5.023</td><td>0.732640</td><td>40.308</td><td>120.0</td><td>30.25127</td></tr>\n",
       "\t<tr><th scope=row>108</th><td>Py_202_2011</td><td>2011</td><td>17.2</td><td>1.580</td><td>10.90</td><td>8.17</td><td>40.6</td><td> 3.9</td><td>857853.8</td><td>6683873</td><td>Hiver       </td><td>Travail_intermediaire</td><td>5.429</td><td>0.764411</td><td>57.978</td><td> 77.0</td><td>23.36431</td></tr>\n",
       "\t<tr><th scope=row>204</th><td>Py_38_2011 </td><td>2011</td><td>10.2</td><td>1.070</td><td> 9.54</td><td>8.17</td><td>25.1</td><td> 7.2</td><td>856562.5</td><td>6681722</td><td>Hiver       </td><td>Travail_intermediaire</td><td>5.727</td><td>0.797604</td><td>98.513</td><td> 56.0</td><td>20.00090</td></tr>\n",
       "\t<tr><th scope=row>104</th><td>Py_2_2011  </td><td>2011</td><td>10.7</td><td>0.949</td><td>11.20</td><td>8.37</td><td>41.3</td><td>17.1</td><td>857497.0</td><td>6682011</td><td>Brassicacees</td><td>Labour               </td><td>5.606</td><td>0.789509</td><td>91.701</td><td>  9.9</td><td>12.61743</td></tr>\n",
       "\t<tr><th scope=row>264</th><td>Py_94_2011 </td><td>2011</td><td>22.9</td><td>2.160</td><td>10.60</td><td>8.14</td><td>36.6</td><td>16.0</td><td>856563.5</td><td>6682583</td><td>Hiver       </td><td>Travail_intermediaire</td><td>5.706</td><td>0.786576</td><td>94.563</td><td> 77.0</td><td>23.36431</td></tr>\n",
       "\t<tr><th scope=row>234</th><td>Py_66_2011 </td><td>2011</td><td> 9.5</td><td>0.942</td><td>10.10</td><td>6.90</td><td>22.4</td><td> 7.2</td><td>858067.8</td><td>6682368</td><td>Hiver       </td><td>Labour               </td><td>5.595</td><td>0.784790</td><td>81.464</td><td> 19.0</td><td>14.07491</td></tr>\n",
       "</tbody>\n",
       "</table>\n"
      ],
      "text/latex": [
       "A data.frame: 6 × 17\n",
       "\\begin{tabular}{r|lllllllllllllllll}\n",
       "  & field\\_1 & annee & SOC & TN & C\\_N & PH & Clay & Sand & XLB93 & YLB93 & cat\\_cultur & Categories & Shannon & Evenness & X1.Simpson & Biomasse & SOCpredict\\\\\n",
       "  & <chr> & <dbl> & <dbl> & <dbl> & <dbl> & <dbl> & <dbl> & <dbl> & <dbl> & <dbl> & <chr> & <chr> & <dbl> & <dbl> & <dbl> & <dbl> & <dbl>\\\\\n",
       "\\hline\n",
       "\t33 & Py\\_131\\_2011 & 2011 & 44.0 & 3.610 & 12.20 & 7.15 & 54.2 &  4.8 & 856348.9 & 6683013 & Foret        & pas\\_de\\_travail        & 5.023 & 0.732640 & 40.308 & 120.0 & 30.25127\\\\\n",
       "\t108 & Py\\_202\\_2011 & 2011 & 17.2 & 1.580 & 10.90 & 8.17 & 40.6 &  3.9 & 857853.8 & 6683873 & Hiver        & Travail\\_intermediaire & 5.429 & 0.764411 & 57.978 &  77.0 & 23.36431\\\\\n",
       "\t204 & Py\\_38\\_2011  & 2011 & 10.2 & 1.070 &  9.54 & 8.17 & 25.1 &  7.2 & 856562.5 & 6681722 & Hiver        & Travail\\_intermediaire & 5.727 & 0.797604 & 98.513 &  56.0 & 20.00090\\\\\n",
       "\t104 & Py\\_2\\_2011   & 2011 & 10.7 & 0.949 & 11.20 & 8.37 & 41.3 & 17.1 & 857497.0 & 6682011 & Brassicacees & Labour                & 5.606 & 0.789509 & 91.701 &   9.9 & 12.61743\\\\\n",
       "\t264 & Py\\_94\\_2011  & 2011 & 22.9 & 2.160 & 10.60 & 8.14 & 36.6 & 16.0 & 856563.5 & 6682583 & Hiver        & Travail\\_intermediaire & 5.706 & 0.786576 & 94.563 &  77.0 & 23.36431\\\\\n",
       "\t234 & Py\\_66\\_2011  & 2011 &  9.5 & 0.942 & 10.10 & 6.90 & 22.4 &  7.2 & 858067.8 & 6682368 & Hiver        & Labour                & 5.595 & 0.784790 & 81.464 &  19.0 & 14.07491\\\\\n",
       "\\end{tabular}\n"
      ],
      "text/markdown": [
       "\n",
       "A data.frame: 6 × 17\n",
       "\n",
       "| <!--/--> | field_1 &lt;chr&gt; | annee &lt;dbl&gt; | SOC &lt;dbl&gt; | TN &lt;dbl&gt; | C_N &lt;dbl&gt; | PH &lt;dbl&gt; | Clay &lt;dbl&gt; | Sand &lt;dbl&gt; | XLB93 &lt;dbl&gt; | YLB93 &lt;dbl&gt; | cat_cultur &lt;chr&gt; | Categories &lt;chr&gt; | Shannon &lt;dbl&gt; | Evenness &lt;dbl&gt; | X1.Simpson &lt;dbl&gt; | Biomasse &lt;dbl&gt; | SOCpredict &lt;dbl&gt; |\n",
       "|---|---|---|---|---|---|---|---|---|---|---|---|---|---|---|---|---|---|\n",
       "| 33 | Py_131_2011 | 2011 | 44.0 | 3.610 | 12.20 | 7.15 | 54.2 |  4.8 | 856348.9 | 6683013 | Foret        | pas_de_travail        | 5.023 | 0.732640 | 40.308 | 120.0 | 30.25127 |\n",
       "| 108 | Py_202_2011 | 2011 | 17.2 | 1.580 | 10.90 | 8.17 | 40.6 |  3.9 | 857853.8 | 6683873 | Hiver        | Travail_intermediaire | 5.429 | 0.764411 | 57.978 |  77.0 | 23.36431 |\n",
       "| 204 | Py_38_2011  | 2011 | 10.2 | 1.070 |  9.54 | 8.17 | 25.1 |  7.2 | 856562.5 | 6681722 | Hiver        | Travail_intermediaire | 5.727 | 0.797604 | 98.513 |  56.0 | 20.00090 |\n",
       "| 104 | Py_2_2011   | 2011 | 10.7 | 0.949 | 11.20 | 8.37 | 41.3 | 17.1 | 857497.0 | 6682011 | Brassicacees | Labour                | 5.606 | 0.789509 | 91.701 |   9.9 | 12.61743 |\n",
       "| 264 | Py_94_2011  | 2011 | 22.9 | 2.160 | 10.60 | 8.14 | 36.6 | 16.0 | 856563.5 | 6682583 | Hiver        | Travail_intermediaire | 5.706 | 0.786576 | 94.563 |  77.0 | 23.36431 |\n",
       "| 234 | Py_66_2011  | 2011 |  9.5 | 0.942 | 10.10 | 6.90 | 22.4 |  7.2 | 858067.8 | 6682368 | Hiver        | Labour                | 5.595 | 0.784790 | 81.464 |  19.0 | 14.07491 |\n",
       "\n"
      ],
      "text/plain": [
       "    field_1     annee SOC  TN    C_N   PH   Clay Sand XLB93    YLB93  \n",
       "33  Py_131_2011 2011  44.0 3.610 12.20 7.15 54.2  4.8 856348.9 6683013\n",
       "108 Py_202_2011 2011  17.2 1.580 10.90 8.17 40.6  3.9 857853.8 6683873\n",
       "204 Py_38_2011  2011  10.2 1.070  9.54 8.17 25.1  7.2 856562.5 6681722\n",
       "104 Py_2_2011   2011  10.7 0.949 11.20 8.37 41.3 17.1 857497.0 6682011\n",
       "264 Py_94_2011  2011  22.9 2.160 10.60 8.14 36.6 16.0 856563.5 6682583\n",
       "234 Py_66_2011  2011   9.5 0.942 10.10 6.90 22.4  7.2 858067.8 6682368\n",
       "    cat_cultur   Categories            Shannon Evenness X1.Simpson Biomasse\n",
       "33  Foret        pas_de_travail        5.023   0.732640 40.308     120.0   \n",
       "108 Hiver        Travail_intermediaire 5.429   0.764411 57.978      77.0   \n",
       "204 Hiver        Travail_intermediaire 5.727   0.797604 98.513      56.0   \n",
       "104 Brassicacees Labour                5.606   0.789509 91.701       9.9   \n",
       "264 Hiver        Travail_intermediaire 5.706   0.786576 94.563      77.0   \n",
       "234 Hiver        Labour                5.595   0.784790 81.464      19.0   \n",
       "    SOCpredict\n",
       "33  30.25127  \n",
       "108 23.36431  \n",
       "204 20.00090  \n",
       "104 12.61743  \n",
       "264 23.36431  \n",
       "234 14.07491  "
      ]
     },
     "metadata": {},
     "output_type": "display_data"
    }
   ],
   "source": [
    "head(control_mydf)\n",
    "tail(control_mydf)"
   ]
  },
  {
   "cell_type": "code",
   "execution_count": 21,
   "metadata": {},
   "outputs": [
    {
     "data": {
      "image/png": "[encoded data removed]",
      "text/plain": [
       "plot without title"
      ]
     },
     "metadata": {
      "image/png": {
       "height": 420,
       "width": 420
      }
     },
     "output_type": "display_data"
    }
   ],
   "source": [
    "## Trace SOC mesuré vs SOC prédit par le modèle linéaire\n",
    "plot(control_mydf$SOC, control_mydf$SOCpredict) ## scatterplot\n",
    "abline(0,1) ## trace la droite 1:1"
   ]
  },
  {
   "cell_type": "code",
   "execution_count": 22,
   "metadata": {},
   "outputs": [
    {
     "data": {
      "text/html": [
       "0.727279993737577"
      ],
      "text/latex": [
       "0.727279993737577"
      ],
      "text/markdown": [
       "0.727279993737577"
      ],
      "text/plain": [
       "[1] 0.72728"
      ]
     },
     "metadata": {},
     "output_type": "display_data"
    },
    {
     "data": {
      "text/html": [
       "0.52893618929093"
      ],
      "text/latex": [
       "0.52893618929093"
      ],
      "text/markdown": [
       "0.52893618929093"
      ],
      "text/plain": [
       "[1] 0.5289362"
      ]
     },
     "metadata": {},
     "output_type": "display_data"
    },
    {
     "data": {
      "text/html": [
       "7.46526413475982"
      ],
      "text/latex": [
       "7.46526413475982"
      ],
      "text/markdown": [
       "7.46526413475982"
      ],
      "text/plain": [
       "[1] 7.465264"
      ]
     },
     "metadata": {},
     "output_type": "display_data"
    }
   ],
   "source": [
    "## Evaluataion de la qualité du modèle\n",
    "cor(control_mydf$SOC,control_mydf$SOCpredict) ## coef corrélation linéaire\n",
    "(cor(control_mydf$SOC,control_mydf$SOCpredict))^2 ## coef détermination\n",
    "RMSE <- sqrt(sum((control_mydf$SOC-control_mydf$SOCpredict)^2)/dim(control_mydf)[1])\n",
    "RMSE"
   ]
  },
  {
   "cell_type": "code",
   "execution_count": 23,
   "metadata": {},
   "outputs": [
    {
     "data": {
      "text/html": [
       "<pre class=language-r><code>function (tmp) \n",
       "{\n",
       "<span style=white-space:pre-wrap>    cvdf &lt;- tmp[, c(\"SOC\", \"Biomasse\")]</span>\n",
       "<span style=white-space:pre-wrap>    colnames(cvdf) &lt;- c(\"SOC\", \"SOCpredict\")</span>\n",
       "<span style=white-space:pre-wrap>    cvdf$SOCpredict &lt;- NA</span>\n",
       "<span style=white-space:pre-wrap>    for (i in 1:nrow(tmp)) {</span>\n",
       "<span style=white-space:pre-wrap>        t.cv &lt;- tmp[-i, ]</span>\n",
       "<span style=white-space:pre-wrap>        coeff.lm &lt;- coefficients(lm(SOC ~ Biomasse, data = t.cv))</span>\n",
       "<span style=white-space:pre-wrap>        cvdf[i, 2] &lt;- coeff.lm[2] * tmp$Biomasse[i] + coeff.lm[1]</span>\n",
       "<span style=white-space:pre-wrap>    }</span>\n",
       "<span style=white-space:pre-wrap>    r2 &lt;- cor(cvdf[, 1], cvdf[, 2], use = \"complete.obs\")^2</span>\n",
       "<span style=white-space:pre-wrap>    rmse &lt;- sqrt(mean((cvdf[, 1] - cvdf[, 2])^2, na.rm = T))</span>\n",
       "<span style=white-space:pre-wrap>    bias &lt;- mean(abs(cvdf[, 1] - cvdf[, 2]))</span>\n",
       "<span style=white-space:pre-wrap>    resultats &lt;- list(cvdata = cvdf, r2 = r2, RMSE = rmse, biais = bias)</span>\n",
       "<span style=white-space:pre-wrap>    return(resultats)</span>\n",
       "}</code></pre>"
      ],
      "text/latex": [
       "\\begin{minted}{r}\n",
       "function (tmp) \n",
       "\\{\n",
       "    cvdf <- tmp{[}, c(\"SOC\", \"Biomasse\"){]}\n",
       "    colnames(cvdf) <- c(\"SOC\", \"SOCpredict\")\n",
       "    cvdf\\$SOCpredict <- NA\n",
       "    for (i in 1:nrow(tmp)) \\{\n",
       "        t.cv <- tmp{[}-i, {]}\n",
       "        coeff.lm <- coefficients(lm(SOC \\textasciitilde{} Biomasse, data = t.cv))\n",
       "        cvdf{[}i, 2{]} <- coeff.lm{[}2{]} * tmp\\$Biomasse{[}i{]} + coeff.lm{[}1{]}\n",
       "    \\}\n",
       "    r2 <- cor(cvdf{[}, 1{]}, cvdf{[}, 2{]}, use = \"complete.obs\")\\textasciicircum{}2\n",
       "    rmse <- sqrt(mean((cvdf{[}, 1{]} - cvdf{[}, 2{]})\\textasciicircum{}2, na.rm = T))\n",
       "    bias <- mean(abs(cvdf{[}, 1{]} - cvdf{[}, 2{]}))\n",
       "    resultats <- list(cvdata = cvdf, r2 = r2, RMSE = rmse, biais = bias)\n",
       "    return(resultats)\n",
       "\\}\n",
       "\\end{minted}"
      ],
      "text/markdown": [
       "```r\n",
       "function (tmp) \n",
       "{\n",
       "    cvdf <- tmp[, c(\"SOC\", \"Biomasse\")]\n",
       "    colnames(cvdf) <- c(\"SOC\", \"SOCpredict\")\n",
       "    cvdf$SOCpredict <- NA\n",
       "    for (i in 1:nrow(tmp)) {\n",
       "        t.cv <- tmp[-i, ]\n",
       "        coeff.lm <- coefficients(lm(SOC ~ Biomasse, data = t.cv))\n",
       "        cvdf[i, 2] <- coeff.lm[2] * tmp$Biomasse[i] + coeff.lm[1]\n",
       "    }\n",
       "    r2 <- cor(cvdf[, 1], cvdf[, 2], use = \"complete.obs\")^2\n",
       "    rmse <- sqrt(mean((cvdf[, 1] - cvdf[, 2])^2, na.rm = T))\n",
       "    bias <- mean(abs(cvdf[, 1] - cvdf[, 2]))\n",
       "    resultats <- list(cvdata = cvdf, r2 = r2, RMSE = rmse, biais = bias)\n",
       "    return(resultats)\n",
       "}\n",
       "```"
      ],
      "text/plain": [
       "function (tmp) \n",
       "{\n",
       "    cvdf <- tmp[, c(\"SOC\", \"Biomasse\")]\n",
       "    colnames(cvdf) <- c(\"SOC\", \"SOCpredict\")\n",
       "    cvdf$SOCpredict <- NA\n",
       "    for (i in 1:nrow(tmp)) {\n",
       "        t.cv <- tmp[-i, ]\n",
       "        coeff.lm <- coefficients(lm(SOC ~ Biomasse, data = t.cv))\n",
       "        cvdf[i, 2] <- coeff.lm[2] * tmp$Biomasse[i] + coeff.lm[1]\n",
       "    }\n",
       "    r2 <- cor(cvdf[, 1], cvdf[, 2], use = \"complete.obs\")^2\n",
       "    rmse <- sqrt(mean((cvdf[, 1] - cvdf[, 2])^2, na.rm = T))\n",
       "    bias <- mean(abs(cvdf[, 1] - cvdf[, 2]))\n",
       "    resultats <- list(cvdata = cvdf, r2 = r2, RMSE = rmse, biais = bias)\n",
       "    return(resultats)\n",
       "}"
      ]
     },
     "metadata": {},
     "output_type": "display_data"
    }
   ],
   "source": [
    "## Estimateur Jackknife\n",
    "## charge la function myjack qui est dans le fichier funjack.R\n",
    "source(\"/home/thierry/works/R4R2D2C_2022_2023/RCode/funjack.R\")\n",
    "## Visualisation de la function myjack\n",
    "myjack"
   ]
  },
  {
   "cell_type": "code",
   "execution_count": 24,
   "metadata": {},
   "outputs": [],
   "source": [
    "## Evaluation du modèle linéaire avec la méthode jackknife\n",
    "resujack <- myjack(mydf)"
   ]
  },
  {
   "cell_type": "code",
   "execution_count": 25,
   "metadata": {},
   "outputs": [
    {
     "name": "stdout",
     "output_type": "stream",
     "text": [
      "List of 4\n",
      " $ cvdata:'data.frame':\t269 obs. of  2 variables:\n",
      "  ..$ SOC       : num [1:269] 35 24.5 23 19.8 45.2 10.3 33.2 11 10.4 37.6 ...\n",
      "  ..$ SOCpredict: num [1:269] 49.2 27.2 22.1 11.7 25.5 ...\n",
      " $ r2    : num 0.496\n",
      " $ RMSE  : num 9.12\n",
      " $ biais : num 5.78\n"
     ]
    }
   ],
   "source": [
    "str(resujack)"
   ]
  },
  {
   "cell_type": "code",
   "execution_count": null,
   "metadata": {},
   "outputs": [
    {
     "name": "stderr",
     "output_type": "stream",
     "text": [
      "Le chargement a nécessité le package : MASS\n",
      "\n",
      "Le chargement a nécessité le package : boot\n",
      "\n",
      "Le chargement a nécessité le package : survey\n",
      "\n",
      "Le chargement a nécessité le package : grid\n",
      "\n",
      "Le chargement a nécessité le package : Matrix\n",
      "\n",
      "Le chargement a nécessité le package : survival\n",
      "\n",
      "\n",
      "Attachement du package : ‘survival’\n",
      "\n",
      "\n",
      "L'objet suivant est masqué depuis ‘package:boot’:\n",
      "\n",
      "    aml\n",
      "\n",
      "\n",
      "\n",
      "Attachement du package : ‘survey’\n",
      "\n",
      "\n",
      "L'objet suivant est masqué depuis ‘package:graphics’:\n",
      "\n",
      "    dotchart\n",
      "\n",
      "\n",
      "Le chargement a nécessité le package : mitools\n",
      "\n",
      "This is the global version of package relaimpo.\n",
      "\n",
      "\n",
      "If you are a non-US user, a version with the interesting additional metric pmvd is available\n",
      "\n",
      "\n",
      "from Ulrike Groempings web site at prof.beuth-hochschule.de/groemping.\n",
      "\n",
      "\n"
     ]
    }
   ],
   "source": [
    "##############################################################\n",
    "##\n",
    "## IV. Modèle multi-linéaire \n",
    "## - Sélection de variables (régresseurs) via des critères d'information d'Akaike (AIC), critère d'information bayésien (BIC)\n",
    "## - Contribution des variables\n",
    "###############################################################\n",
    "## chargement de la librairie pour la sélection\n",
    "library(leaps)\n",
    "## chargement de la librairie pour estimer l'importance relative des variables sélectionnées\n",
    "library(relaimpo)\n"
   ]
  },
  {
   "cell_type": "code",
   "execution_count": 27,
   "metadata": {},
   "outputs": [
    {
     "data": {
      "text/html": [
       "<table class=\"dataframe\">\n",
       "<caption>A data.frame: 6 × 16</caption>\n",
       "<thead>\n",
       "\t<tr><th></th><th scope=col>field_1</th><th scope=col>annee</th><th scope=col>SOC</th><th scope=col>TN</th><th scope=col>C_N</th><th scope=col>PH</th><th scope=col>Clay</th><th scope=col>Sand</th><th scope=col>XLB93</th><th scope=col>YLB93</th><th scope=col>cat_cultur</th><th scope=col>Categories</th><th scope=col>Shannon</th><th scope=col>Evenness</th><th scope=col>X1.Simpson</th><th scope=col>Biomasse</th></tr>\n",
       "\t<tr><th></th><th scope=col>&lt;chr&gt;</th><th scope=col>&lt;dbl&gt;</th><th scope=col>&lt;dbl&gt;</th><th scope=col>&lt;dbl&gt;</th><th scope=col>&lt;dbl&gt;</th><th scope=col>&lt;dbl&gt;</th><th scope=col>&lt;dbl&gt;</th><th scope=col>&lt;dbl&gt;</th><th scope=col>&lt;dbl&gt;</th><th scope=col>&lt;dbl&gt;</th><th scope=col>&lt;chr&gt;</th><th scope=col>&lt;chr&gt;</th><th scope=col>&lt;dbl&gt;</th><th scope=col>&lt;dbl&gt;</th><th scope=col>&lt;dbl&gt;</th><th scope=col>&lt;dbl&gt;</th></tr>\n",
       "</thead>\n",
       "<tbody>\n",
       "\t<tr><th scope=row>1</th><td>Py_1_2011  </td><td>2011</td><td>35.0</td><td>3.07</td><td>11.40</td><td>6.78</td><td>44.2</td><td> 4.5</td><td>857058.6</td><td>6684437</td><td>Foret</td><td>pas_de_travail       </td><td>4.810</td><td>0.697131</td><td>25.743</td><td>230.0</td></tr>\n",
       "\t<tr><th scope=row>2</th><td>Py_100_2011</td><td>2011</td><td>24.5</td><td>2.42</td><td>10.10</td><td>8.10</td><td>34.3</td><td>15.0</td><td>854842.7</td><td>6682797</td><td>Hiver</td><td>Travail_intermediaire</td><td>5.729</td><td>0.795924</td><td>94.530</td><td>100.0</td></tr>\n",
       "\t<tr><th scope=row>3</th><td>Py_101_2011</td><td>2011</td><td>23.0</td><td>2.43</td><td> 9.48</td><td>7.50</td><td>42.0</td><td> 8.0</td><td>858497.9</td><td>6682798</td><td>Ete  </td><td>Labour               </td><td>5.469</td><td>0.782461</td><td>86.932</td><td> 69.0</td></tr>\n",
       "\t<tr><th scope=row>4</th><td>Py_102_2011</td><td>2011</td><td>19.8</td><td>2.10</td><td> 9.44</td><td>7.51</td><td>40.3</td><td>11.6</td><td>858283.0</td><td>6682798</td><td>Ete  </td><td>Labour               </td><td>5.492</td><td>0.777978</td><td>75.408</td><td>  6.6</td></tr>\n",
       "\t<tr><th scope=row>5</th><td>Py_103_2011</td><td>2011</td><td>45.2</td><td>3.75</td><td>12.00</td><td>8.06</td><td>33.0</td><td>10.1</td><td>855273.1</td><td>6682798</td><td>Hiver</td><td>Travail_intermediaire</td><td>5.742</td><td>0.790177</td><td>77.682</td><td> 90.0</td></tr>\n",
       "\t<tr><th scope=row>6</th><td>Py_104_2011</td><td>2011</td><td>10.3</td><td>5.92</td><td> 1.74</td><td>8.25</td><td>31.0</td><td> 5.6</td><td>858068.2</td><td>6682798</td><td>Hiver</td><td>Travail_intermediaire</td><td>5.519</td><td>0.771110</td><td>73.336</td><td> 37.0</td></tr>\n",
       "</tbody>\n",
       "</table>\n"
      ],
      "text/latex": [
       "A data.frame: 6 × 16\n",
       "\\begin{tabular}{r|llllllllllllllll}\n",
       "  & field\\_1 & annee & SOC & TN & C\\_N & PH & Clay & Sand & XLB93 & YLB93 & cat\\_cultur & Categories & Shannon & Evenness & X1.Simpson & Biomasse\\\\\n",
       "  & <chr> & <dbl> & <dbl> & <dbl> & <dbl> & <dbl> & <dbl> & <dbl> & <dbl> & <dbl> & <chr> & <chr> & <dbl> & <dbl> & <dbl> & <dbl>\\\\\n",
       "\\hline\n",
       "\t1 & Py\\_1\\_2011   & 2011 & 35.0 & 3.07 & 11.40 & 6.78 & 44.2 &  4.5 & 857058.6 & 6684437 & Foret & pas\\_de\\_travail        & 4.810 & 0.697131 & 25.743 & 230.0\\\\\n",
       "\t2 & Py\\_100\\_2011 & 2011 & 24.5 & 2.42 & 10.10 & 8.10 & 34.3 & 15.0 & 854842.7 & 6682797 & Hiver & Travail\\_intermediaire & 5.729 & 0.795924 & 94.530 & 100.0\\\\\n",
       "\t3 & Py\\_101\\_2011 & 2011 & 23.0 & 2.43 &  9.48 & 7.50 & 42.0 &  8.0 & 858497.9 & 6682798 & Ete   & Labour                & 5.469 & 0.782461 & 86.932 &  69.0\\\\\n",
       "\t4 & Py\\_102\\_2011 & 2011 & 19.8 & 2.10 &  9.44 & 7.51 & 40.3 & 11.6 & 858283.0 & 6682798 & Ete   & Labour                & 5.492 & 0.777978 & 75.408 &   6.6\\\\\n",
       "\t5 & Py\\_103\\_2011 & 2011 & 45.2 & 3.75 & 12.00 & 8.06 & 33.0 & 10.1 & 855273.1 & 6682798 & Hiver & Travail\\_intermediaire & 5.742 & 0.790177 & 77.682 &  90.0\\\\\n",
       "\t6 & Py\\_104\\_2011 & 2011 & 10.3 & 5.92 &  1.74 & 8.25 & 31.0 &  5.6 & 858068.2 & 6682798 & Hiver & Travail\\_intermediaire & 5.519 & 0.771110 & 73.336 &  37.0\\\\\n",
       "\\end{tabular}\n"
      ],
      "text/markdown": [
       "\n",
       "A data.frame: 6 × 16\n",
       "\n",
       "| <!--/--> | field_1 &lt;chr&gt; | annee &lt;dbl&gt; | SOC &lt;dbl&gt; | TN &lt;dbl&gt; | C_N &lt;dbl&gt; | PH &lt;dbl&gt; | Clay &lt;dbl&gt; | Sand &lt;dbl&gt; | XLB93 &lt;dbl&gt; | YLB93 &lt;dbl&gt; | cat_cultur &lt;chr&gt; | Categories &lt;chr&gt; | Shannon &lt;dbl&gt; | Evenness &lt;dbl&gt; | X1.Simpson &lt;dbl&gt; | Biomasse &lt;dbl&gt; |\n",
       "|---|---|---|---|---|---|---|---|---|---|---|---|---|---|---|---|---|\n",
       "| 1 | Py_1_2011   | 2011 | 35.0 | 3.07 | 11.40 | 6.78 | 44.2 |  4.5 | 857058.6 | 6684437 | Foret | pas_de_travail        | 4.810 | 0.697131 | 25.743 | 230.0 |\n",
       "| 2 | Py_100_2011 | 2011 | 24.5 | 2.42 | 10.10 | 8.10 | 34.3 | 15.0 | 854842.7 | 6682797 | Hiver | Travail_intermediaire | 5.729 | 0.795924 | 94.530 | 100.0 |\n",
       "| 3 | Py_101_2011 | 2011 | 23.0 | 2.43 |  9.48 | 7.50 | 42.0 |  8.0 | 858497.9 | 6682798 | Ete   | Labour                | 5.469 | 0.782461 | 86.932 |  69.0 |\n",
       "| 4 | Py_102_2011 | 2011 | 19.8 | 2.10 |  9.44 | 7.51 | 40.3 | 11.6 | 858283.0 | 6682798 | Ete   | Labour                | 5.492 | 0.777978 | 75.408 |   6.6 |\n",
       "| 5 | Py_103_2011 | 2011 | 45.2 | 3.75 | 12.00 | 8.06 | 33.0 | 10.1 | 855273.1 | 6682798 | Hiver | Travail_intermediaire | 5.742 | 0.790177 | 77.682 |  90.0 |\n",
       "| 6 | Py_104_2011 | 2011 | 10.3 | 5.92 |  1.74 | 8.25 | 31.0 |  5.6 | 858068.2 | 6682798 | Hiver | Travail_intermediaire | 5.519 | 0.771110 | 73.336 |  37.0 |\n",
       "\n"
      ],
      "text/plain": [
       "  field_1     annee SOC  TN   C_N   PH   Clay Sand XLB93    YLB93   cat_cultur\n",
       "1 Py_1_2011   2011  35.0 3.07 11.40 6.78 44.2  4.5 857058.6 6684437 Foret     \n",
       "2 Py_100_2011 2011  24.5 2.42 10.10 8.10 34.3 15.0 854842.7 6682797 Hiver     \n",
       "3 Py_101_2011 2011  23.0 2.43  9.48 7.50 42.0  8.0 858497.9 6682798 Ete       \n",
       "4 Py_102_2011 2011  19.8 2.10  9.44 7.51 40.3 11.6 858283.0 6682798 Ete       \n",
       "5 Py_103_2011 2011  45.2 3.75 12.00 8.06 33.0 10.1 855273.1 6682798 Hiver     \n",
       "6 Py_104_2011 2011  10.3 5.92  1.74 8.25 31.0  5.6 858068.2 6682798 Hiver     \n",
       "  Categories            Shannon Evenness X1.Simpson Biomasse\n",
       "1 pas_de_travail        4.810   0.697131 25.743     230.0   \n",
       "2 Travail_intermediaire 5.729   0.795924 94.530     100.0   \n",
       "3 Labour                5.469   0.782461 86.932      69.0   \n",
       "4 Labour                5.492   0.777978 75.408       6.6   \n",
       "5 Travail_intermediaire 5.742   0.790177 77.682      90.0   \n",
       "6 Travail_intermediaire 5.519   0.771110 73.336      37.0   "
      ]
     },
     "metadata": {},
     "output_type": "display_data"
    }
   ],
   "source": [
    "head(training_mydf) ## utilise l'ensemble des variables numériques\n",
    "## la fonction \n",
    "choix_variables <- regsubsets(SOC ~ TN + C_N + PH + Clay + Shannon + Evenness + X1.Simpson + Biomasse, \n",
    "                              data = training_mydf)"
   ]
  },
  {
   "cell_type": "code",
   "execution_count": 28,
   "metadata": {},
   "outputs": [
    {
     "data": {
      "image/png": "[encoded data removed]",
      "text/plain": [
       "plot without title"
      ]
     },
     "metadata": {
      "image/png": {
       "height": 420,
       "width": 420
      }
     },
     "output_type": "display_data"
    },
    {
     "data": {
      "image/png": "[encoded data removed]",
      "text/plain": [
       "plot without title"
      ]
     },
     "metadata": {
      "image/png": {
       "height": 420,
       "width": 420
      }
     },
     "output_type": "display_data"
    }
   ],
   "source": [
    "## trace le critère d'information ici le BIC (équivalent du AIC)\n",
    "## pour ce critère on va retenir la combinaison des variables qui minimise la valeur du BIC\n",
    "## pour un autre critère come le R2 ajusté on va retenir la combinaison qui maximise la valeur\n",
    "plot(choix_variables, scale=c(\"bic\"))\n",
    "plot(choix_variables, scale=c(\"adjr2\"))\n",
    "\n",
    "#####################################################################################################################\n",
    "## Question : vue les résultats avec ces deux critères quelles sont les variables et donc le modèle sélectionnée ?\n",
    "#####################################################################################################################"
   ]
  },
  {
   "cell_type": "code",
   "execution_count": 29,
   "metadata": {},
   "outputs": [
    {
     "data": {
      "text/plain": [
       "\n",
       "Call:\n",
       "lm(formula = SOC ~ TN + C_N + PH + Biomasse, data = training_mydf)\n",
       "\n",
       "Residuals:\n",
       "    Min      1Q  Median      3Q     Max \n",
       "-54.836  -1.620   0.108   1.615  21.776 \n",
       "\n",
       "Coefficients:\n",
       "             Estimate Std. Error t value Pr(>|t|)    \n",
       "(Intercept) -59.53488    6.61539  -8.999 2.80e-16 ***\n",
       "TN            6.29045    0.51379  12.243  < 2e-16 ***\n",
       "C_N           4.24920    0.31259  13.594  < 2e-16 ***\n",
       "PH            2.65360    0.64653   4.104 6.09e-05 ***\n",
       "Biomasse      0.03805    0.01234   3.083  0.00237 ** \n",
       "---\n",
       "Signif. codes:  0 ‘***’ 0.001 ‘**’ 0.01 ‘*’ 0.05 ‘.’ 0.1 ‘ ’ 1\n",
       "\n",
       "Residual standard error: 6.132 on 184 degrees of freedom\n",
       "Multiple R-squared:  0.8017,\tAdjusted R-squared:  0.7973 \n",
       "F-statistic: 185.9 on 4 and 184 DF,  p-value: < 2.2e-16\n"
      ]
     },
     "metadata": {},
     "output_type": "display_data"
    }
   ],
   "source": [
    "## prenons par exemple le modèle SOC = fn(TN, C_N, PH, Biomasse)\n",
    "mydfmlm <- lm(SOC~TN+C_N+PH+Biomasse, data = training_mydf)\n",
    "summary(mydfmlm)"
   ]
  },
  {
   "cell_type": "code",
   "execution_count": 30,
   "metadata": {},
   "outputs": [
    {
     "data": {
      "text/html": [
       "<table class=\"dataframe\">\n",
       "<caption>A data.frame: 6 × 4</caption>\n",
       "<thead>\n",
       "\t<tr><th></th><th scope=col>TN</th><th scope=col>C_N</th><th scope=col>PH</th><th scope=col>Biomasse</th></tr>\n",
       "\t<tr><th></th><th scope=col>&lt;dbl&gt;</th><th scope=col>&lt;dbl&gt;</th><th scope=col>&lt;dbl&gt;</th><th scope=col>&lt;dbl&gt;</th></tr>\n",
       "</thead>\n",
       "<tbody>\n",
       "\t<tr><th scope=row>49</th><td>1.86</td><td>11.60</td><td>8.23</td><td>46</td></tr>\n",
       "\t<tr><th scope=row>119</th><td>1.40</td><td>10.20</td><td>7.27</td><td>41</td></tr>\n",
       "\t<tr><th scope=row>159</th><td>2.20</td><td> 9.47</td><td>7.66</td><td>58</td></tr>\n",
       "\t<tr><th scope=row>225</th><td>1.21</td><td>12.10</td><td>6.85</td><td>48</td></tr>\n",
       "\t<tr><th scope=row>199</th><td>1.78</td><td> 9.90</td><td>8.20</td><td>23</td></tr>\n",
       "\t<tr><th scope=row>154</th><td>2.37</td><td>11.10</td><td>7.99</td><td>69</td></tr>\n",
       "</tbody>\n",
       "</table>\n"
      ],
      "text/latex": [
       "A data.frame: 6 × 4\n",
       "\\begin{tabular}{r|llll}\n",
       "  & TN & C\\_N & PH & Biomasse\\\\\n",
       "  & <dbl> & <dbl> & <dbl> & <dbl>\\\\\n",
       "\\hline\n",
       "\t49 & 1.86 & 11.60 & 8.23 & 46\\\\\n",
       "\t119 & 1.40 & 10.20 & 7.27 & 41\\\\\n",
       "\t159 & 2.20 &  9.47 & 7.66 & 58\\\\\n",
       "\t225 & 1.21 & 12.10 & 6.85 & 48\\\\\n",
       "\t199 & 1.78 &  9.90 & 8.20 & 23\\\\\n",
       "\t154 & 2.37 & 11.10 & 7.99 & 69\\\\\n",
       "\\end{tabular}\n"
      ],
      "text/markdown": [
       "\n",
       "A data.frame: 6 × 4\n",
       "\n",
       "| <!--/--> | TN &lt;dbl&gt; | C_N &lt;dbl&gt; | PH &lt;dbl&gt; | Biomasse &lt;dbl&gt; |\n",
       "|---|---|---|---|---|\n",
       "| 49 | 1.86 | 11.60 | 8.23 | 46 |\n",
       "| 119 | 1.40 | 10.20 | 7.27 | 41 |\n",
       "| 159 | 2.20 |  9.47 | 7.66 | 58 |\n",
       "| 225 | 1.21 | 12.10 | 6.85 | 48 |\n",
       "| 199 | 1.78 |  9.90 | 8.20 | 23 |\n",
       "| 154 | 2.37 | 11.10 | 7.99 | 69 |\n",
       "\n"
      ],
      "text/plain": [
       "    TN   C_N   PH   Biomasse\n",
       "49  1.86 11.60 8.23 46      \n",
       "119 1.40 10.20 7.27 41      \n",
       "159 2.20  9.47 7.66 58      \n",
       "225 1.21 12.10 6.85 48      \n",
       "199 1.78  9.90 8.20 23      \n",
       "154 2.37 11.10 7.99 69      "
      ]
     },
     "metadata": {},
     "output_type": "display_data"
    }
   ],
   "source": [
    "## Qu'en déduisez vous quand au score du modèle multilinéaire comparativement au modèle linéaire simple ?\n",
    "## Evaluer la performance du modèle en vous appuyant sur l'échantillon de contrôle\n",
    "control_varselect <- control_mydf[,c(\"TN\", \"C_N\", \"PH\", \"Biomasse\")]\n",
    "head(control_varselect)\n",
    "control_mydf$SOCpredmlm <- predict.lm(mydfmlm, control_varselect)"
   ]
  },
  {
   "cell_type": "code",
   "execution_count": 31,
   "metadata": {},
   "outputs": [
    {
     "data": {
      "text/html": [
       "<table class=\"dataframe\">\n",
       "<caption>A data.frame: 6 × 18</caption>\n",
       "<thead>\n",
       "\t<tr><th></th><th scope=col>field_1</th><th scope=col>annee</th><th scope=col>SOC</th><th scope=col>TN</th><th scope=col>C_N</th><th scope=col>PH</th><th scope=col>Clay</th><th scope=col>Sand</th><th scope=col>XLB93</th><th scope=col>YLB93</th><th scope=col>cat_cultur</th><th scope=col>Categories</th><th scope=col>Shannon</th><th scope=col>Evenness</th><th scope=col>X1.Simpson</th><th scope=col>Biomasse</th><th scope=col>SOCpredict</th><th scope=col>SOCpredmlm</th></tr>\n",
       "\t<tr><th></th><th scope=col>&lt;chr&gt;</th><th scope=col>&lt;dbl&gt;</th><th scope=col>&lt;dbl&gt;</th><th scope=col>&lt;dbl&gt;</th><th scope=col>&lt;dbl&gt;</th><th scope=col>&lt;dbl&gt;</th><th scope=col>&lt;dbl&gt;</th><th scope=col>&lt;dbl&gt;</th><th scope=col>&lt;dbl&gt;</th><th scope=col>&lt;dbl&gt;</th><th scope=col>&lt;chr&gt;</th><th scope=col>&lt;chr&gt;</th><th scope=col>&lt;dbl&gt;</th><th scope=col>&lt;dbl&gt;</th><th scope=col>&lt;dbl&gt;</th><th scope=col>&lt;dbl&gt;</th><th scope=col>&lt;dbl&gt;</th><th scope=col>&lt;dbl&gt;</th></tr>\n",
       "</thead>\n",
       "<tbody>\n",
       "\t<tr><th scope=row>49</th><td>Py_146_2011</td><td>2011</td><td>21.6</td><td>1.86</td><td>11.60</td><td>8.23</td><td>32.7</td><td>21.1</td><td>855488.5</td><td>6683228</td><td>Hiver       </td><td>Labour               </td><td>5.732</td><td>0.793639</td><td>98.807</td><td>46</td><td>18.39928</td><td>25.04529</td></tr>\n",
       "\t<tr><th scope=row>119</th><td>Py_212_2011</td><td>2011</td><td>14.2</td><td>1.40</td><td>10.20</td><td>7.27</td><td>35.6</td><td> 6.6</td><td>856779.5</td><td>6683874</td><td>Printemps   </td><td>Labour               </td><td>5.500</td><td>0.782904</td><td>76.931</td><td>41</td><td>17.59847</td><td>13.46512</td></tr>\n",
       "\t<tr><th scope=row>159</th><td>Py_251_2011</td><td>2011</td><td>20.8</td><td>2.20</td><td> 9.47</td><td>7.66</td><td>43.7</td><td> 7.2</td><td>856779.0</td><td>6684304</td><td>Brassicacees</td><td>Labour               </td><td>5.530</td><td>0.779772</td><td>82.715</td><td>58</td><td>20.32123</td><td>17.07724</td></tr>\n",
       "\t<tr><th scope=row>225</th><td>Py_57_2011 </td><td>2011</td><td>14.7</td><td>1.21</td><td>12.10</td><td>6.85</td><td>25.1</td><td> 9.9</td><td>853766.6</td><td>6682367</td><td>Hiver       </td><td>Travail_intermediaire</td><td>5.487</td><td>0.781235</td><td>83.346</td><td>48</td><td>18.71961</td><td>19.49521</td></tr>\n",
       "\t<tr><th scope=row>199</th><td>Py_31_2011 </td><td>2011</td><td>17.6</td><td>1.78</td><td> 9.90</td><td>8.20</td><td>33.1</td><td> 5.0</td><td>857207.2</td><td>6681507</td><td>Hiver       </td><td>Labour               </td><td>5.664</td><td>0.787283</td><td>86.395</td><td>23</td><td>14.71556</td><td>16.36377</td></tr>\n",
       "\t<tr><th scope=row>154</th><td>Py_247_2011</td><td>2011</td><td>26.3</td><td>2.37</td><td>11.10</td><td>7.99</td><td>43.1</td><td> 4.9</td><td>857208.9</td><td>6684303</td><td>Brassicacees</td><td>Labour               </td><td>5.424</td><td>0.756649</td><td>62.344</td><td>69</td><td>22.08301</td><td>26.36699</td></tr>\n",
       "</tbody>\n",
       "</table>\n"
      ],
      "text/latex": [
       "A data.frame: 6 × 18\n",
       "\\begin{tabular}{r|llllllllllllllllll}\n",
       "  & field\\_1 & annee & SOC & TN & C\\_N & PH & Clay & Sand & XLB93 & YLB93 & cat\\_cultur & Categories & Shannon & Evenness & X1.Simpson & Biomasse & SOCpredict & SOCpredmlm\\\\\n",
       "  & <chr> & <dbl> & <dbl> & <dbl> & <dbl> & <dbl> & <dbl> & <dbl> & <dbl> & <dbl> & <chr> & <chr> & <dbl> & <dbl> & <dbl> & <dbl> & <dbl> & <dbl>\\\\\n",
       "\\hline\n",
       "\t49 & Py\\_146\\_2011 & 2011 & 21.6 & 1.86 & 11.60 & 8.23 & 32.7 & 21.1 & 855488.5 & 6683228 & Hiver        & Labour                & 5.732 & 0.793639 & 98.807 & 46 & 18.39928 & 25.04529\\\\\n",
       "\t119 & Py\\_212\\_2011 & 2011 & 14.2 & 1.40 & 10.20 & 7.27 & 35.6 &  6.6 & 856779.5 & 6683874 & Printemps    & Labour                & 5.500 & 0.782904 & 76.931 & 41 & 17.59847 & 13.46512\\\\\n",
       "\t159 & Py\\_251\\_2011 & 2011 & 20.8 & 2.20 &  9.47 & 7.66 & 43.7 &  7.2 & 856779.0 & 6684304 & Brassicacees & Labour                & 5.530 & 0.779772 & 82.715 & 58 & 20.32123 & 17.07724\\\\\n",
       "\t225 & Py\\_57\\_2011  & 2011 & 14.7 & 1.21 & 12.10 & 6.85 & 25.1 &  9.9 & 853766.6 & 6682367 & Hiver        & Travail\\_intermediaire & 5.487 & 0.781235 & 83.346 & 48 & 18.71961 & 19.49521\\\\\n",
       "\t199 & Py\\_31\\_2011  & 2011 & 17.6 & 1.78 &  9.90 & 8.20 & 33.1 &  5.0 & 857207.2 & 6681507 & Hiver        & Labour                & 5.664 & 0.787283 & 86.395 & 23 & 14.71556 & 16.36377\\\\\n",
       "\t154 & Py\\_247\\_2011 & 2011 & 26.3 & 2.37 & 11.10 & 7.99 & 43.1 &  4.9 & 857208.9 & 6684303 & Brassicacees & Labour                & 5.424 & 0.756649 & 62.344 & 69 & 22.08301 & 26.36699\\\\\n",
       "\\end{tabular}\n"
      ],
      "text/markdown": [
       "\n",
       "A data.frame: 6 × 18\n",
       "\n",
       "| <!--/--> | field_1 &lt;chr&gt; | annee &lt;dbl&gt; | SOC &lt;dbl&gt; | TN &lt;dbl&gt; | C_N &lt;dbl&gt; | PH &lt;dbl&gt; | Clay &lt;dbl&gt; | Sand &lt;dbl&gt; | XLB93 &lt;dbl&gt; | YLB93 &lt;dbl&gt; | cat_cultur &lt;chr&gt; | Categories &lt;chr&gt; | Shannon &lt;dbl&gt; | Evenness &lt;dbl&gt; | X1.Simpson &lt;dbl&gt; | Biomasse &lt;dbl&gt; | SOCpredict &lt;dbl&gt; | SOCpredmlm &lt;dbl&gt; |\n",
       "|---|---|---|---|---|---|---|---|---|---|---|---|---|---|---|---|---|---|---|\n",
       "| 49 | Py_146_2011 | 2011 | 21.6 | 1.86 | 11.60 | 8.23 | 32.7 | 21.1 | 855488.5 | 6683228 | Hiver        | Labour                | 5.732 | 0.793639 | 98.807 | 46 | 18.39928 | 25.04529 |\n",
       "| 119 | Py_212_2011 | 2011 | 14.2 | 1.40 | 10.20 | 7.27 | 35.6 |  6.6 | 856779.5 | 6683874 | Printemps    | Labour                | 5.500 | 0.782904 | 76.931 | 41 | 17.59847 | 13.46512 |\n",
       "| 159 | Py_251_2011 | 2011 | 20.8 | 2.20 |  9.47 | 7.66 | 43.7 |  7.2 | 856779.0 | 6684304 | Brassicacees | Labour                | 5.530 | 0.779772 | 82.715 | 58 | 20.32123 | 17.07724 |\n",
       "| 225 | Py_57_2011  | 2011 | 14.7 | 1.21 | 12.10 | 6.85 | 25.1 |  9.9 | 853766.6 | 6682367 | Hiver        | Travail_intermediaire | 5.487 | 0.781235 | 83.346 | 48 | 18.71961 | 19.49521 |\n",
       "| 199 | Py_31_2011  | 2011 | 17.6 | 1.78 |  9.90 | 8.20 | 33.1 |  5.0 | 857207.2 | 6681507 | Hiver        | Labour                | 5.664 | 0.787283 | 86.395 | 23 | 14.71556 | 16.36377 |\n",
       "| 154 | Py_247_2011 | 2011 | 26.3 | 2.37 | 11.10 | 7.99 | 43.1 |  4.9 | 857208.9 | 6684303 | Brassicacees | Labour                | 5.424 | 0.756649 | 62.344 | 69 | 22.08301 | 26.36699 |\n",
       "\n"
      ],
      "text/plain": [
       "    field_1     annee SOC  TN   C_N   PH   Clay Sand XLB93    YLB93  \n",
       "49  Py_146_2011 2011  21.6 1.86 11.60 8.23 32.7 21.1 855488.5 6683228\n",
       "119 Py_212_2011 2011  14.2 1.40 10.20 7.27 35.6  6.6 856779.5 6683874\n",
       "159 Py_251_2011 2011  20.8 2.20  9.47 7.66 43.7  7.2 856779.0 6684304\n",
       "225 Py_57_2011  2011  14.7 1.21 12.10 6.85 25.1  9.9 853766.6 6682367\n",
       "199 Py_31_2011  2011  17.6 1.78  9.90 8.20 33.1  5.0 857207.2 6681507\n",
       "154 Py_247_2011 2011  26.3 2.37 11.10 7.99 43.1  4.9 857208.9 6684303\n",
       "    cat_cultur   Categories            Shannon Evenness X1.Simpson Biomasse\n",
       "49  Hiver        Labour                5.732   0.793639 98.807     46      \n",
       "119 Printemps    Labour                5.500   0.782904 76.931     41      \n",
       "159 Brassicacees Labour                5.530   0.779772 82.715     58      \n",
       "225 Hiver        Travail_intermediaire 5.487   0.781235 83.346     48      \n",
       "199 Hiver        Labour                5.664   0.787283 86.395     23      \n",
       "154 Brassicacees Labour                5.424   0.756649 62.344     69      \n",
       "    SOCpredict SOCpredmlm\n",
       "49  18.39928   25.04529  \n",
       "119 17.59847   13.46512  \n",
       "159 20.32123   17.07724  \n",
       "225 18.71961   19.49521  \n",
       "199 14.71556   16.36377  \n",
       "154 22.08301   26.36699  "
      ]
     },
     "metadata": {},
     "output_type": "display_data"
    }
   ],
   "source": [
    "head(control_mydf)"
   ]
  },
  {
   "cell_type": "code",
   "execution_count": 32,
   "metadata": {},
   "outputs": [
    {
     "data": {
      "image/png": "[encoded data removed]",
      "text/plain": [
       "plot without title"
      ]
     },
     "metadata": {
      "image/png": {
       "height": 420,
       "width": 420
      }
     },
     "output_type": "display_data"
    }
   ],
   "source": [
    "## Trace SOC mesuré vs SOC prédit par le modèle multi-linéaire\n",
    "plot(control_mydf$SOC, control_mydf$SOCpredmlm) ## scatterplot\n",
    "abline(0,1) ## trace la droite 1:1"
   ]
  },
  {
   "cell_type": "code",
   "execution_count": 33,
   "metadata": {},
   "outputs": [
    {
     "data": {
      "text/html": [
       "0.91423069073959"
      ],
      "text/latex": [
       "0.91423069073959"
      ],
      "text/markdown": [
       "0.91423069073959"
      ],
      "text/plain": [
       "[1] 0.9142307"
      ]
     },
     "metadata": {},
     "output_type": "display_data"
    },
    {
     "data": {
      "text/html": [
       "0.835817755890188"
      ],
      "text/latex": [
       "0.835817755890188"
      ],
      "text/markdown": [
       "0.835817755890188"
      ],
      "text/plain": [
       "[1] 0.8358178"
      ]
     },
     "metadata": {},
     "output_type": "display_data"
    },
    {
     "data": {
      "text/html": [
       "4.35999155470651"
      ],
      "text/latex": [
       "4.35999155470651"
      ],
      "text/markdown": [
       "4.35999155470651"
      ],
      "text/plain": [
       "[1] 4.359992"
      ]
     },
     "metadata": {},
     "output_type": "display_data"
    }
   ],
   "source": [
    "## Evaluataion de la qualité du modèle multi-linéaire\n",
    "cor(control_mydf$SOC,control_mydf$SOCpredmlm) ## coef corrélation linéaire\n",
    "(cor(control_mydf$SOC,control_mydf$SOCpredmlm))^2 ## coef détermination\n",
    "RMSE <- sqrt(sum((control_mydf$SOC-control_mydf$SOCpredmlm)^2)/dim(control_mydf)[1])\n",
    "RMSE"
   ]
  },
  {
   "cell_type": "code",
   "execution_count": 34,
   "metadata": {},
   "outputs": [
    {
     "data": {
      "text/plain": [
       "\n",
       "Call:\n",
       "lm(formula = SOC ~ TN + C_N + PH + Biomasse, data = mydf)\n",
       "\n",
       "Residuals:\n",
       "    Min      1Q  Median      3Q     Max \n",
       "-62.831  -1.535   0.037   1.355  20.171 \n",
       "\n",
       "Coefficients:\n",
       "             Estimate Std. Error t value Pr(>|t|)    \n",
       "(Intercept) -53.43642    5.28792 -10.105  < 2e-16 ***\n",
       "TN            6.58933    0.41802  15.763  < 2e-16 ***\n",
       "C_N           3.75157    0.23589  15.904  < 2e-16 ***\n",
       "PH            2.46561    0.52440   4.702 4.16e-06 ***\n",
       "Biomasse      0.03705    0.01001   3.700 0.000262 ***\n",
       "---\n",
       "Signif. codes:  0 ‘***’ 0.001 ‘**’ 0.01 ‘*’ 0.05 ‘.’ 0.1 ‘ ’ 1\n",
       "\n",
       "Residual standard error: 5.581 on 264 degrees of freedom\n",
       "Multiple R-squared:  0.8144,\tAdjusted R-squared:  0.8116 \n",
       "F-statistic: 289.6 on 4 and 264 DF,  p-value: < 2.2e-16\n"
      ]
     },
     "metadata": {},
     "output_type": "display_data"
    }
   ],
   "source": [
    "###############################################\n",
    "##\n",
    "## Contribution des variables\n",
    "## utilisation de la fonction calc.relimp du package relaimpo\n",
    "###############################################\n",
    "reg.mlm <- lm(SOC ~ TN + C_N + PH + Biomasse, data = mydf)\n",
    "regrelimpo <- calc.relimp(reg.mlm, type = c(\"lmg\",\"pratt\", \"genizi\",\"car\"),\n",
    "                          rela = TRUE, rank = TRUE)\n",
    "summary(reg.mlm)"
   ]
  },
  {
   "cell_type": "code",
   "execution_count": 35,
   "metadata": {},
   "outputs": [
    {
     "data": {
      "image/png": "[encoded data removed]",
      "text/plain": [
       "Plot with title “Relative importances for SOC”"
      ]
     },
     "metadata": {
      "image/png": {
       "height": 420,
       "width": 420
      }
     },
     "output_type": "display_data"
    }
   ],
   "source": [
    "plot(regrelimpo)"
   ]
  },
  {
   "cell_type": "code",
   "execution_count": 36,
   "metadata": {},
   "outputs": [],
   "source": [
    "#############################################\n",
    "## Que dire de ces résultats ?\n",
    "############################################\n",
    "\n",
    "## Calcul du SOC prédit par le modèle\n",
    "mydata$SOCpredmlm <- predict.lm(reg.mlm, mydf[,c(\"TN\", \"C_N\", \"PH\", \"Biomasse\")])\n"
   ]
  },
  {
   "cell_type": "code",
   "execution_count": 37,
   "metadata": {},
   "outputs": [
    {
     "data": {
      "text/html": [
       "<style>\n",
       ".list-inline {list-style: none; margin:0; padding: 0}\n",
       ".list-inline>li {display: inline-block}\n",
       ".list-inline>li:not(:last-child)::after {content: \"\\00b7\"; padding: 0 .5ex}\n",
       "</style>\n",
       "<ol class=list-inline><li>'sf'</li><li>'data.frame'</li></ol>\n"
      ],
      "text/latex": [
       "\\begin{enumerate*}\n",
       "\\item 'sf'\n",
       "\\item 'data.frame'\n",
       "\\end{enumerate*}\n"
      ],
      "text/markdown": [
       "1. 'sf'\n",
       "2. 'data.frame'\n",
       "\n",
       "\n"
      ],
      "text/plain": [
       "[1] \"sf\"         \"data.frame\""
      ]
     },
     "metadata": {},
     "output_type": "display_data"
    },
    {
     "data": {
      "text/html": [
       "'/home/thierry/works/R4R2D2C_2022_2023/BData'"
      ],
      "text/latex": [
       "'/home/thierry/works/R4R2D2C\\_2022\\_2023/BData'"
      ],
      "text/markdown": [
       "'/home/thierry/works/R4R2D2C_2022_2023/BData'"
      ],
      "text/plain": [
       "[1] \"/home/thierry/works/R4R2D2C_2022_2023/BData\""
      ]
     },
     "metadata": {},
     "output_type": "display_data"
    }
   ],
   "source": [
    "class(mydata)\n",
    "getwd()"
   ]
  },
  {
   "cell_type": "code",
   "execution_count": 88,
   "metadata": {},
   "outputs": [
    {
     "name": "stdout",
     "output_type": "stream",
     "text": [
      "Deleting layer `newptsampleFenayL93' using driver `ESRI Shapefile'\n",
      "Writing layer `newptsampleFenayL93' to data source \n",
      "  `newptsampleFenayL93.shp' using driver `ESRI Shapefile'\n",
      "Writing 269 features with 17 fields and geometry type Point.\n"
     ]
    }
   ],
   "source": [
    "## exporte mydata qui est un objet sf dans R en un fichier SIG shapefile lisible par QGIS\n",
    "st_write(mydata, \"newptsampleFenayL93.shp\", delete_layer = TRUE)"
   ]
  },
  {
   "cell_type": "code",
   "execution_count": 89,
   "metadata": {},
   "outputs": [],
   "source": [
    "## Allez ouvrir cette nouvelle couche/carte avec QGIS\n",
    "## Faire la carte des différences entre SOC mesuré et SOC prédit par le modèle multi-linéaire"
   ]
  },
  {
   "cell_type": "code",
   "execution_count": null,
   "metadata": {},
   "outputs": [],
   "source": []
  }
 ],
 "metadata": {
  "kernelspec": {
   "display_name": "R",
   "language": "R",
   "name": "ir"
  },
  "language_info": {
   "codemirror_mode": "r",
   "file_extension": ".r",
   "mimetype": "text/x-r-source",
   "name": "R",
   "pygments_lexer": "r",
   "version": "4.2.1"
  }
 },
 "nbformat": 4,
 "nbformat_minor": 4
}
