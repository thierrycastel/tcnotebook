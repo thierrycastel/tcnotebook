{
 "cells": [
  {
   "cell_type": "code",
   "execution_count": 1,
   "metadata": {},
   "outputs": [
    {
     "data": {
      "text/html": [
       "<style>\n",
       ".list-inline {list-style: none; margin:0; padding: 0}\n",
       ".list-inline>li {display: inline-block}\n",
       ".list-inline>li:not(:last-child)::after {content: \"\\00b7\"; padding: 0 .5ex}\n",
       "</style>\n",
       "<ol class=list-inline><li>'ptsampleFenayL93.cpg'</li><li>'ptsampleFenayL93.dbf'</li><li>'ptsampleFenayL93.prj'</li><li>'ptsampleFenayL93.qpj'</li><li>'ptsampleFenayL93.shp'</li><li>'ptsampleFenayL93.shx'</li></ol>\n"
      ],
      "text/latex": [
       "\\begin{enumerate*}\n",
       "\\item 'ptsampleFenayL93.cpg'\n",
       "\\item 'ptsampleFenayL93.dbf'\n",
       "\\item 'ptsampleFenayL93.prj'\n",
       "\\item 'ptsampleFenayL93.qpj'\n",
       "\\item 'ptsampleFenayL93.shp'\n",
       "\\item 'ptsampleFenayL93.shx'\n",
       "\\end{enumerate*}\n"
      ],
      "text/markdown": [
       "1. 'ptsampleFenayL93.cpg'\n",
       "2. 'ptsampleFenayL93.dbf'\n",
       "3. 'ptsampleFenayL93.prj'\n",
       "4. 'ptsampleFenayL93.qpj'\n",
       "5. 'ptsampleFenayL93.shp'\n",
       "6. 'ptsampleFenayL93.shx'\n",
       "\n",
       "\n"
      ],
      "text/plain": [
       "[1] \"ptsampleFenayL93.cpg\" \"ptsampleFenayL93.dbf\" \"ptsampleFenayL93.prj\"\n",
       "[4] \"ptsampleFenayL93.qpj\" \"ptsampleFenayL93.shp\" \"ptsampleFenayL93.shx\""
      ]
     },
     "metadata": {},
     "output_type": "display_data"
    },
    {
     "name": "stderr",
     "output_type": "stream",
     "text": [
      "Linking to GEOS 3.10.2, GDAL 3.4.1, PROJ 8.2.1; sf_use_s2() is TRUE\n",
      "\n"
     ]
    }
   ],
   "source": [
    "## La remise à niveau R qui vous est proposée s'appuie sur un jeu de données \n",
    "## issues des travaux de recherche dont les références vous sont fournies dans le dossier Docpdf\n",
    "## en plus de supports introductif au langage R et à RStudio \n",
    "\n",
    "##################################################################\n",
    "##\n",
    "## I. définir le dossier de travail, import des librairies (packages)\n",
    "##                  lecture et chargement des données\n",
    "##\n",
    "##################################################################\n",
    "\n",
    "### Se positionner dans le répertoire des données ###\n",
    "## vous changer le 'work directory' dans RStudio via le menu\n",
    "\n",
    "setwd('../BData') ## A adapter en fonction de la localisation du dossier\n",
    "\n",
    "## Pour vérifier que R 'regarde' dans le bon répertoire on peut utiliser la fonction dir() \n",
    "\n",
    "dir()\n",
    "\n",
    "### chargement des paquets R pour lire et manipuler les données spatiales \n",
    "library(sf) ## lecture et écriture de données vecteurs \n",
    "## library(rgdal) ## lecture de données vecteurs"
   ]
  },
  {
   "cell_type": "code",
   "execution_count": 37,
   "metadata": {},
   "outputs": [
    {
     "name": "stdout",
     "output_type": "stream",
     "text": [
      "Reading layer `ptsampleFenayL93' from data source \n",
      "  `/home/thierry/works/R4R2D2C_2022_2023/BData/ptsampleFenayL93.shp' \n",
      "  using driver `ESRI Shapefile'\n",
      "Simple feature collection with 269 features and 16 fields\n",
      "Geometry type: POINT\n",
      "Dimension:     XY\n",
      "Bounding box:  xmin: 853766.6 ymin: 6681507 xmax: 858712.6 ymax: 6684948\n",
      "Projected CRS: RGF93 v1 / Lambert-93\n"
     ]
    }
   ],
   "source": [
    "##########################################################################\n",
    "## Charge l'ensemble des pts echantillonnés sur la zone atelier de Fenay\n",
    "## utilisation de la fonction st_read du package sf\n",
    "## pour lister l'ensemble des fonctions du package sf: help(package = \"sf\")\n",
    "\n",
    "## ?st_read ## pour afficher l'aide sur la function st_read\n",
    "\n",
    "mydata <- st_read(\"ptsampleFenayL93.shp\") ## Lecture et chargement des données\n",
    "\n",
    "\n",
    "## mydata <- readOGR(\"ptsampleFenayL93.shp\")\n",
    "## affiche le header des données"
   ]
  },
  {
   "cell_type": "code",
   "execution_count": 38,
   "metadata": {},
   "outputs": [
    {
     "data": {
      "text/html": [
       "<style>\n",
       ".list-inline {list-style: none; margin:0; padding: 0}\n",
       ".list-inline>li {display: inline-block}\n",
       ".list-inline>li:not(:last-child)::after {content: \"\\00b7\"; padding: 0 .5ex}\n",
       "</style>\n",
       "<ol class=list-inline><li>'sf'</li><li>'data.frame'</li></ol>\n"
      ],
      "text/latex": [
       "\\begin{enumerate*}\n",
       "\\item 'sf'\n",
       "\\item 'data.frame'\n",
       "\\end{enumerate*}\n"
      ],
      "text/markdown": [
       "1. 'sf'\n",
       "2. 'data.frame'\n",
       "\n",
       "\n"
      ],
      "text/plain": [
       "[1] \"sf\"         \"data.frame\""
      ]
     },
     "metadata": {},
     "output_type": "display_data"
    },
    {
     "name": "stdout",
     "output_type": "stream",
     "text": [
      "Classes ‘sf’ and 'data.frame':\t269 obs. of  17 variables:\n",
      " $ field_1   : chr  \"Py_1_2011\" \"Py_100_2011\" \"Py_101_2011\" \"Py_102_2011\" ...\n",
      " $ annee     : num  2011 2011 2011 2011 2011 ...\n",
      " $ SOC       : num  35 24.5 23 19.8 45.2 10.3 33.2 11 10.4 37.6 ...\n",
      " $ TN        : num  3.07 2.42 2.43 2.1 3.75 5.92 3.14 1.06 0.999 3.25 ...\n",
      " $ C_N       : num  11.4 10.1 9.48 9.44 12 1.74 10.6 10.4 10.4 11.6 ...\n",
      " $ PH        : num  6.78 8.1 7.5 7.51 8.06 8.25 8.2 6.78 7.75 8.13 ...\n",
      " $ Clay      : num  44.2 34.3 42 40.3 33 31 21.4 27.3 24.3 23.2 ...\n",
      " $ Sand      : num  4.5 15 8 11.6 10.1 5.6 14.4 7.9 6.5 11.8 ...\n",
      " $ XLB93     : num  857059 854843 858498 858283 855273 ...\n",
      " $ YLB93     : num  6684437 6682797 6682798 6682798 6682798 ...\n",
      " $ cat_cultur: chr  \"Foret\" \"Hiver\" \"Ete\" \"Ete\" ...\n",
      " $ Categories: chr  \"pas_de_travail\" \"Travail_intermediaire\" \"Labour\" \"Labour\" ...\n",
      " $ Shannon   : num  4.81 5.73 5.47 5.49 5.74 ...\n",
      " $ Evenness  : num  0.697 0.796 0.782 0.778 0.79 ...\n",
      " $ X1.Simpson: num  25.7 94.5 86.9 75.4 77.7 ...\n",
      " $ Biomasse  : num  230 100 69 6.6 90 37 87 23 31 6.6 ...\n",
      " $ geometry  :sfc_POINT of length 269; first list element:  'XY' num  857059 6684437\n",
      " - attr(*, \"sf_column\")= chr \"geometry\"\n",
      " - attr(*, \"agr\")= Factor w/ 3 levels \"constant\",\"aggregate\",..: NA NA NA NA NA NA NA NA NA NA ...\n",
      "  ..- attr(*, \"names\")= chr [1:16] \"field_1\" \"annee\" \"SOC\" \"TN\" ...\n"
     ]
    }
   ],
   "source": [
    "## type de l'objet mydata\n",
    "class(mydata)\n",
    "## structure de l'objet mydata\n",
    "str(mydata)"
   ]
  },
  {
   "cell_type": "code",
   "execution_count": 40,
   "metadata": {},
   "outputs": [
    {
     "data": {
      "image/png": "[encoded data removed]",
      "text/plain": [
       "Plot with title “Biomasse”"
      ]
     },
     "metadata": {
      "image/png": {
       "height": 420,
       "width": 420
      }
     },
     "output_type": "display_data"
    }
   ],
   "source": [
    "##################################################################\n",
    "##\n",
    "## II. Exploration des données :\n",
    "##       - graphe les données pour la variable SOC (matière organique)\n",
    "##       - trace l'histogramme pour la variable SOC\n",
    "##       - Calcul des moments d'ordre 1 : min, max, moyenne, écart-type\n",
    "##\n",
    "##################################################################\n",
    "\n",
    "## Graphe la variable Biomasse\n",
    "plot(mydata[\"Biomasse\"])"
   ]
  },
  {
   "cell_type": "code",
   "execution_count": 41,
   "metadata": {},
   "outputs": [
    {
     "data": {
      "image/png": "[encoded data removed]",
      "text/plain": [
       "Plot with title “Histogram of mydata$Biomasse”"
      ]
     },
     "metadata": {
      "image/png": {
       "height": 420,
       "width": 420
      }
     },
     "output_type": "display_data"
    }
   ],
   "source": [
    "## gamme et distribution des valeurs pour la variable Biomasse\n",
    "hist(mydata$Biomasse,breaks=15)"
   ]
  },
  {
   "cell_type": "code",
   "execution_count": 42,
   "metadata": {},
   "outputs": [
    {
     "data": {
      "text/html": [
       "2.3"
      ],
      "text/latex": [
       "2.3"
      ],
      "text/markdown": [
       "2.3"
      ],
      "text/plain": [
       "[1] 2.3"
      ]
     },
     "metadata": {},
     "output_type": "display_data"
    },
    {
     "data": {
      "text/html": [
       "370"
      ],
      "text/latex": [
       "370"
      ],
      "text/markdown": [
       "370"
      ],
      "text/plain": [
       "[1] 370"
      ]
     },
     "metadata": {},
     "output_type": "display_data"
    },
    {
     "data": {
      "text/html": [
       "<style>\n",
       ".list-inline {list-style: none; margin:0; padding: 0}\n",
       ".list-inline>li {display: inline-block}\n",
       ".list-inline>li:not(:last-child)::after {content: \"\\00b7\"; padding: 0 .5ex}\n",
       "</style>\n",
       "<ol class=list-inline><li>2.3</li><li>370</li></ol>\n"
      ],
      "text/latex": [
       "\\begin{enumerate*}\n",
       "\\item 2.3\n",
       "\\item 370\n",
       "\\end{enumerate*}\n"
      ],
      "text/markdown": [
       "1. 2.3\n",
       "2. 370\n",
       "\n",
       "\n"
      ],
      "text/plain": [
       "[1]   2.3 370.0"
      ]
     },
     "metadata": {},
     "output_type": "display_data"
    },
    {
     "data": {
      "text/html": [
       "64.8252788104089"
      ],
      "text/latex": [
       "64.8252788104089"
      ],
      "text/markdown": [
       "64.8252788104089"
      ],
      "text/plain": [
       "[1] 64.82528"
      ]
     },
     "metadata": {},
     "output_type": "display_data"
    },
    {
     "data": {
      "text/html": [
       "56.154892667849"
      ],
      "text/latex": [
       "56.154892667849"
      ],
      "text/markdown": [
       "56.154892667849"
      ],
      "text/plain": [
       "[1] 56.15489"
      ]
     },
     "metadata": {},
     "output_type": "display_data"
    }
   ],
   "source": [
    "min(mydata$Biomasse);max(mydata$Biomasse)\n",
    "range(mydata$Biomasse)\n",
    "mean(mydata$Biomasse);sd(mydata$Biomasse)"
   ]
  },
  {
   "cell_type": "code",
   "execution_count": 43,
   "metadata": {},
   "outputs": [
    {
     "data": {
      "image/png": "[encoded data removed]",
      "text/plain": [
       "plot without title"
      ]
     },
     "metadata": {
      "image/png": {
       "height": 420,
       "width": 420
      }
     },
     "output_type": "display_data"
    }
   ],
   "source": [
    "##################################################################\n",
    "##\n",
    "## III. Ajustement d'un modèle linéaire simple\n",
    "##      métrique de la qualité de l'ajustement du modèle : r et R2\n",
    "##      erreur quadratique moyenne associée à l'ajustement : RMSE\n",
    "##\n",
    "##################################################################\n",
    "\n",
    "## scatterplot de SOC vs. Biomasse\n",
    "plot(mydata$SOC,mydata$Biomasse)\n",
    "\n",
    "## Ajustement d'un modèle linéaire\n",
    "mylm <- lm(Biomasse~SOC, data = mydata)\n",
    "\n",
    "## Trace la modèle linéaire ajusté\n",
    "abline(mylm)\n"
   ]
  },
  {
   "cell_type": "code",
   "execution_count": 34,
   "metadata": {},
   "outputs": [
    {
     "data": {
      "text/plain": [
       "\n",
       "Call:\n",
       "lm(formula = Biomasse ~ SOC, data = mydata)\n",
       "\n",
       "Residuals:\n",
       "    Min      1Q  Median      3Q     Max \n",
       "-158.49  -16.24   -0.87   12.55  316.50 \n",
       "\n",
       "Coefficients:\n",
       "            Estimate Std. Error t value Pr(>|t|)    \n",
       "(Intercept)  -2.6863     4.6089  -0.583     0.56    \n",
       "SOC           3.1564     0.1848  17.082   <2e-16 ***\n",
       "---\n",
       "Signif. codes:  0 ‘***’ 0.001 ‘**’ 0.01 ‘*’ 0.05 ‘.’ 0.1 ‘ ’ 1\n",
       "\n",
       "Residual standard error: 38.89 on 267 degrees of freedom\n",
       "Multiple R-squared:  0.5222,\tAdjusted R-squared:  0.5204 \n",
       "F-statistic: 291.8 on 1 and 267 DF,  p-value: < 2.2e-16\n"
      ]
     },
     "metadata": {},
     "output_type": "display_data"
    },
    {
     "data": {
      "text/html": [
       "0.722622640747365"
      ],
      "text/latex": [
       "0.722622640747365"
      ],
      "text/markdown": [
       "0.722622640747365"
      ],
      "text/plain": [
       "[1] 0.7226226"
      ]
     },
     "metadata": {},
     "output_type": "display_data"
    }
   ],
   "source": [
    "## résumé des paramètres et de la qualité de l'ajustement\n",
    "summary(mylm)\n",
    "\n",
    "## corrélation linéaire entre les deux variables\n",
    "cor(mydata$Biomasse,mydata$SOC)\n",
    "\n",
    "###############################################\n",
    "###############################################\n",
    "## Que déduire de ces résultats ?\n",
    "## Commentaires ?"
   ]
  },
  {
   "cell_type": "code",
   "execution_count": 44,
   "metadata": {},
   "outputs": [
    {
     "data": {
      "text/html": [
       "38.7444444997565"
      ],
      "text/latex": [
       "38.7444444997565"
      ],
      "text/markdown": [
       "38.7444444997565"
      ],
      "text/plain": [
       "[1] 38.74444"
      ]
     },
     "metadata": {},
     "output_type": "display_data"
    }
   ],
   "source": [
    "## Calcule de la RMSE (Root Mean Squared Error) ou Erreur Quadratique Moyenne\n",
    "RMSE <- sqrt(sum(mylm$residuals^2)/length(mylm$residuals))\n",
    "RMSE"
   ]
  },
  {
   "cell_type": "code",
   "execution_count": 16,
   "metadata": {},
   "outputs": [
    {
     "data": {
      "text/html": [
       "<style>\n",
       ".list-inline {list-style: none; margin:0; padding: 0}\n",
       ".list-inline>li {display: inline-block}\n",
       ".list-inline>li:not(:last-child)::after {content: \"\\00b7\"; padding: 0 .5ex}\n",
       "</style>\n",
       "<ol class=list-inline><li>269</li><li>17</li></ol>\n"
      ],
      "text/latex": [
       "\\begin{enumerate*}\n",
       "\\item 269\n",
       "\\item 17\n",
       "\\end{enumerate*}\n"
      ],
      "text/markdown": [
       "1. 269\n",
       "2. 17\n",
       "\n",
       "\n"
      ],
      "text/plain": [
       "[1] 269  17"
      ]
     },
     "metadata": {},
     "output_type": "display_data"
    },
    {
     "data": {
      "text/html": [
       "80"
      ],
      "text/latex": [
       "80"
      ],
      "text/markdown": [
       "80"
      ],
      "text/plain": [
       "[1] 80"
      ]
     },
     "metadata": {},
     "output_type": "display_data"
    },
    {
     "data": {
      "text/html": [
       "189"
      ],
      "text/latex": [
       "189"
      ],
      "text/markdown": [
       "189"
      ],
      "text/plain": [
       "[1] 189"
      ]
     },
     "metadata": {},
     "output_type": "display_data"
    },
    {
     "data": {
      "text/html": [
       "'data.frame'"
      ],
      "text/latex": [
       "'data.frame'"
      ],
      "text/markdown": [
       "'data.frame'"
      ],
      "text/plain": [
       "[1] \"data.frame\""
      ]
     },
     "metadata": {},
     "output_type": "display_data"
    }
   ],
   "source": [
    "##############################################################\n",
    "##\n",
    "## IV. Evaluation de la robustesse du modèle linéaire ajusté\n",
    "##\n",
    "## 1- estimateur cross validation : 1 échantillon d'entraînement (training sample) ~70%\n",
    "##                                  1 échantillon de contrôle (control sample) ~30%\n",
    "##\n",
    "## 2- estimateur jackknife également appelée leave-one-out\n",
    "###############################################################\n",
    "dim(mydata) ## dimension de la table des données\n",
    "ctrlsize <- floor(dim(mydata)[1]*0.3)\n",
    "trainingsize <- dim(mydata)[1] - ctrlsize\n",
    "ctrlsize ## nombre des données dans l'échantillon de contrôle\n",
    "trainingsize ## nombre des données dans l'échanllion d'ajustement du modèle\n",
    "\n",
    "## tirage aléatoire des données pour le contrôle\n",
    "ctrl_sample <- sample(1:dim(mydata)[1], size=ctrlsize)\n",
    "\n",
    "## copie de mydata et transformation en un objet dataframe\n",
    "mydf <- mydata\n",
    "st_geometry(mydf) <- NULL ## supression de la partie spatiale\n",
    "class(mydf) ## mydf est maintenant un objet dataframe cela va simplifier le sous-échantillonnage"
   ]
  },
  {
   "cell_type": "code",
   "execution_count": 45,
   "metadata": {},
   "outputs": [
    {
     "data": {
      "text/html": [
       "<style>\n",
       ".list-inline {list-style: none; margin:0; padding: 0}\n",
       ".list-inline>li {display: inline-block}\n",
       ".list-inline>li:not(:last-child)::after {content: \"\\00b7\"; padding: 0 .5ex}\n",
       "</style>\n",
       "<ol class=list-inline><li>189</li><li>16</li></ol>\n"
      ],
      "text/latex": [
       "\\begin{enumerate*}\n",
       "\\item 189\n",
       "\\item 16\n",
       "\\end{enumerate*}\n"
      ],
      "text/markdown": [
       "1. 189\n",
       "2. 16\n",
       "\n",
       "\n"
      ],
      "text/plain": [
       "[1] 189  16"
      ]
     },
     "metadata": {},
     "output_type": "display_data"
    },
    {
     "data": {
      "text/html": [
       "<style>\n",
       ".list-inline {list-style: none; margin:0; padding: 0}\n",
       ".list-inline>li {display: inline-block}\n",
       ".list-inline>li:not(:last-child)::after {content: \"\\00b7\"; padding: 0 .5ex}\n",
       "</style>\n",
       "<ol class=list-inline><li>80</li><li>16</li></ol>\n"
      ],
      "text/latex": [
       "\\begin{enumerate*}\n",
       "\\item 80\n",
       "\\item 16\n",
       "\\end{enumerate*}\n"
      ],
      "text/markdown": [
       "1. 80\n",
       "2. 16\n",
       "\n",
       "\n"
      ],
      "text/plain": [
       "[1] 80 16"
      ]
     },
     "metadata": {},
     "output_type": "display_data"
    },
    {
     "data": {
      "text/html": [
       "0.607964924979813"
      ],
      "text/latex": [
       "0.607964924979813"
      ],
      "text/markdown": [
       "0.607964924979813"
      ],
      "text/plain": [
       "[1] 0.6079649"
      ]
     },
     "metadata": {},
     "output_type": "display_data"
    }
   ],
   "source": [
    "#########################################################################################\n",
    "##\n",
    "## Calcul du modèle d'entraînement\n",
    "##\n",
    "#########################################################################################\n",
    "## Sélection des données pour paramétrer le modèle d'entrainement\n",
    "training_mydf <- mydf[-ctrl_sample,]\n",
    "## Sélection des données pour évaluer/controler le modèle\n",
    "control_mydf <- mydf[ctrl_sample,]\n",
    "## dimension de l'échantillon\n",
    "dim(training_mydf)\n",
    "dim(control_mydf)\n",
    "## corrélation linéraire entre SOC vs Biomasse\n",
    "cor(training_mydf$Biomasse,training_mydf$SOC)\n",
    "## Ajustement du modèle linéraire à partie de l'échantillon d'entraînement\n",
    "mydflm <- lm(Biomasse~SOC, data = training_mydf)"
   ]
  },
  {
   "cell_type": "code",
   "execution_count": 46,
   "metadata": {},
   "outputs": [
    {
     "data": {
      "text/plain": [
       "\n",
       "Call:\n",
       "lm(formula = Biomasse ~ SOC, data = training_mydf)\n",
       "\n",
       "Residuals:\n",
       "     Min       1Q   Median       3Q      Max \n",
       "-135.777  -13.788   -1.261    9.636  316.227 \n",
       "\n",
       "Coefficients:\n",
       "            Estimate Std. Error t value Pr(>|t|)    \n",
       "(Intercept)    7.923      5.785    1.37    0.172    \n",
       "SOC            2.576      0.246   10.47   <2e-16 ***\n",
       "---\n",
       "Signif. codes:  0 ‘***’ 0.001 ‘**’ 0.01 ‘*’ 0.05 ‘.’ 0.1 ‘ ’ 1\n",
       "\n",
       "Residual standard error: 38.66 on 187 degrees of freedom\n",
       "Multiple R-squared:  0.3696,\tAdjusted R-squared:  0.3663 \n",
       "F-statistic: 109.6 on 1 and 187 DF,  p-value: < 2.2e-16\n"
      ]
     },
     "metadata": {},
     "output_type": "display_data"
    }
   ],
   "source": [
    "summary(mydflm) ## résumé de l'ajustement du modèle"
   ]
  },
  {
   "cell_type": "code",
   "execution_count": 47,
   "metadata": {},
   "outputs": [
    {
     "data": {
      "text/html": [
       "<style>\n",
       ".dl-inline {width: auto; margin:0; padding: 0}\n",
       ".dl-inline>dt, .dl-inline>dd {float: none; width: auto; display: inline-block}\n",
       ".dl-inline>dt::after {content: \":\\0020\"; padding-right: .5ex}\n",
       ".dl-inline>dt:not(:first-of-type) {padding-left: .5ex}\n",
       "</style><dl class=dl-inline><dt>(Intercept)</dt><dd>7.92290343527206</dd><dt>SOC</dt><dd>2.57585472029845</dd></dl>\n"
      ],
      "text/latex": [
       "\\begin{description*}\n",
       "\\item[(Intercept)] 7.92290343527206\n",
       "\\item[SOC] 2.57585472029845\n",
       "\\end{description*}\n"
      ],
      "text/markdown": [
       "(Intercept)\n",
       ":   7.92290343527206SOC\n",
       ":   2.57585472029845\n",
       "\n"
      ],
      "text/plain": [
       "(Intercept)         SOC \n",
       "   7.922903    2.575855 "
      ]
     },
     "metadata": {},
     "output_type": "display_data"
    }
   ],
   "source": [
    "coef(mydflm) ## Coefficient du modèle ajusté"
   ]
  },
  {
   "cell_type": "code",
   "execution_count": 48,
   "metadata": {},
   "outputs": [],
   "source": [
    "## Application du modèle ajusté sur les données de contrôle\n",
    "## Biomassepredict = a x SOC + b \n",
    "control_mydf$Biomassepredict <- coef(mydflm)[2]*control_mydf$SOC + coef(mydflm)[1]"
   ]
  },
  {
   "cell_type": "code",
   "execution_count": 49,
   "metadata": {},
   "outputs": [
    {
     "data": {
      "text/html": [
       "<table class=\"dataframe\">\n",
       "<caption>A data.frame: 6 × 17</caption>\n",
       "<thead>\n",
       "\t<tr><th></th><th scope=col>field_1</th><th scope=col>annee</th><th scope=col>SOC</th><th scope=col>TN</th><th scope=col>C_N</th><th scope=col>PH</th><th scope=col>Clay</th><th scope=col>Sand</th><th scope=col>XLB93</th><th scope=col>YLB93</th><th scope=col>cat_cultur</th><th scope=col>Categories</th><th scope=col>Shannon</th><th scope=col>Evenness</th><th scope=col>X1.Simpson</th><th scope=col>Biomasse</th><th scope=col>Biomassepredict</th></tr>\n",
       "\t<tr><th></th><th scope=col>&lt;chr&gt;</th><th scope=col>&lt;dbl&gt;</th><th scope=col>&lt;dbl&gt;</th><th scope=col>&lt;dbl&gt;</th><th scope=col>&lt;dbl&gt;</th><th scope=col>&lt;dbl&gt;</th><th scope=col>&lt;dbl&gt;</th><th scope=col>&lt;dbl&gt;</th><th scope=col>&lt;dbl&gt;</th><th scope=col>&lt;dbl&gt;</th><th scope=col>&lt;chr&gt;</th><th scope=col>&lt;chr&gt;</th><th scope=col>&lt;dbl&gt;</th><th scope=col>&lt;dbl&gt;</th><th scope=col>&lt;dbl&gt;</th><th scope=col>&lt;dbl&gt;</th><th scope=col>&lt;dbl&gt;</th></tr>\n",
       "</thead>\n",
       "<tbody>\n",
       "\t<tr><th scope=row>67</th><td>Py_162_2011</td><td>2011</td><td>21.3</td><td>2.12</td><td>10.10</td><td>8.09</td><td>36.0</td><td>11.9</td><td>855273.5</td><td>6683443</td><td>Hiver       </td><td>Decompactage         </td><td>5.827</td><td>0.797213</td><td>104.450</td><td>  2.7</td><td> 62.78861</td></tr>\n",
       "\t<tr><th scope=row>106</th><td>Py_200_2011</td><td>2011</td><td>33.6</td><td>1.59</td><td>21.20</td><td>8.40</td><td>35.3</td><td> 9.1</td><td>858068.6</td><td>6683873</td><td>Brassicacees</td><td>Travail_intermediaire</td><td>5.636</td><td>0.787162</td><td> 98.660</td><td> 62.0</td><td> 94.47162</td></tr>\n",
       "\t<tr><th scope=row>99</th><td>Py_193_2011</td><td>2011</td><td>57.4</td><td>5.03</td><td>11.40</td><td>7.91</td><td>46.4</td><td>11.4</td><td>853982.4</td><td>6683872</td><td>Foret       </td><td>pas_de_travail       </td><td>5.032</td><td>0.720297</td><td> 27.540</td><td>240.0</td><td>155.77696</td></tr>\n",
       "\t<tr><th scope=row>139</th><td>Py_231_2011</td><td>2011</td><td>21.4</td><td>2.02</td><td>10.60</td><td>8.27</td><td>20.2</td><td>11.3</td><td>856994.2</td><td>6684089</td><td>Ete         </td><td>Labour               </td><td>5.708</td><td>0.786646</td><td> 89.534</td><td> 49.0</td><td> 63.04619</td></tr>\n",
       "\t<tr><th scope=row>144</th><td>Py_236_2011</td><td>2011</td><td>20.3</td><td>1.44</td><td>14.10</td><td>5.09</td><td> 8.0</td><td> 5.8</td><td>854197.4</td><td>6684302</td><td>Foret       </td><td>pas_de_travail       </td><td>4.683</td><td>0.685990</td><td> 20.619</td><td> 88.0</td><td> 60.21275</td></tr>\n",
       "\t<tr><th scope=row>165</th><td>Py_257_2011</td><td>2011</td><td>15.3</td><td>1.62</td><td> 9.44</td><td>8.32</td><td>42.8</td><td> 7.2</td><td>855273.0</td><td>6684518</td><td>Brassicacees</td><td>Labour               </td><td>5.500</td><td>0.777977</td><td> 77.200</td><td> 26.0</td><td> 47.33348</td></tr>\n",
       "</tbody>\n",
       "</table>\n"
      ],
      "text/latex": [
       "A data.frame: 6 × 17\n",
       "\\begin{tabular}{r|lllllllllllllllll}\n",
       "  & field\\_1 & annee & SOC & TN & C\\_N & PH & Clay & Sand & XLB93 & YLB93 & cat\\_cultur & Categories & Shannon & Evenness & X1.Simpson & Biomasse & Biomassepredict\\\\\n",
       "  & <chr> & <dbl> & <dbl> & <dbl> & <dbl> & <dbl> & <dbl> & <dbl> & <dbl> & <dbl> & <chr> & <chr> & <dbl> & <dbl> & <dbl> & <dbl> & <dbl>\\\\\n",
       "\\hline\n",
       "\t67 & Py\\_162\\_2011 & 2011 & 21.3 & 2.12 & 10.10 & 8.09 & 36.0 & 11.9 & 855273.5 & 6683443 & Hiver        & Decompactage          & 5.827 & 0.797213 & 104.450 &   2.7 &  62.78861\\\\\n",
       "\t106 & Py\\_200\\_2011 & 2011 & 33.6 & 1.59 & 21.20 & 8.40 & 35.3 &  9.1 & 858068.6 & 6683873 & Brassicacees & Travail\\_intermediaire & 5.636 & 0.787162 &  98.660 &  62.0 &  94.47162\\\\\n",
       "\t99 & Py\\_193\\_2011 & 2011 & 57.4 & 5.03 & 11.40 & 7.91 & 46.4 & 11.4 & 853982.4 & 6683872 & Foret        & pas\\_de\\_travail        & 5.032 & 0.720297 &  27.540 & 240.0 & 155.77696\\\\\n",
       "\t139 & Py\\_231\\_2011 & 2011 & 21.4 & 2.02 & 10.60 & 8.27 & 20.2 & 11.3 & 856994.2 & 6684089 & Ete          & Labour                & 5.708 & 0.786646 &  89.534 &  49.0 &  63.04619\\\\\n",
       "\t144 & Py\\_236\\_2011 & 2011 & 20.3 & 1.44 & 14.10 & 5.09 &  8.0 &  5.8 & 854197.4 & 6684302 & Foret        & pas\\_de\\_travail        & 4.683 & 0.685990 &  20.619 &  88.0 &  60.21275\\\\\n",
       "\t165 & Py\\_257\\_2011 & 2011 & 15.3 & 1.62 &  9.44 & 8.32 & 42.8 &  7.2 & 855273.0 & 6684518 & Brassicacees & Labour                & 5.500 & 0.777977 &  77.200 &  26.0 &  47.33348\\\\\n",
       "\\end{tabular}\n"
      ],
      "text/markdown": [
       "\n",
       "A data.frame: 6 × 17\n",
       "\n",
       "| <!--/--> | field_1 &lt;chr&gt; | annee &lt;dbl&gt; | SOC &lt;dbl&gt; | TN &lt;dbl&gt; | C_N &lt;dbl&gt; | PH &lt;dbl&gt; | Clay &lt;dbl&gt; | Sand &lt;dbl&gt; | XLB93 &lt;dbl&gt; | YLB93 &lt;dbl&gt; | cat_cultur &lt;chr&gt; | Categories &lt;chr&gt; | Shannon &lt;dbl&gt; | Evenness &lt;dbl&gt; | X1.Simpson &lt;dbl&gt; | Biomasse &lt;dbl&gt; | Biomassepredict &lt;dbl&gt; |\n",
       "|---|---|---|---|---|---|---|---|---|---|---|---|---|---|---|---|---|---|\n",
       "| 67 | Py_162_2011 | 2011 | 21.3 | 2.12 | 10.10 | 8.09 | 36.0 | 11.9 | 855273.5 | 6683443 | Hiver        | Decompactage          | 5.827 | 0.797213 | 104.450 |   2.7 |  62.78861 |\n",
       "| 106 | Py_200_2011 | 2011 | 33.6 | 1.59 | 21.20 | 8.40 | 35.3 |  9.1 | 858068.6 | 6683873 | Brassicacees | Travail_intermediaire | 5.636 | 0.787162 |  98.660 |  62.0 |  94.47162 |\n",
       "| 99 | Py_193_2011 | 2011 | 57.4 | 5.03 | 11.40 | 7.91 | 46.4 | 11.4 | 853982.4 | 6683872 | Foret        | pas_de_travail        | 5.032 | 0.720297 |  27.540 | 240.0 | 155.77696 |\n",
       "| 139 | Py_231_2011 | 2011 | 21.4 | 2.02 | 10.60 | 8.27 | 20.2 | 11.3 | 856994.2 | 6684089 | Ete          | Labour                | 5.708 | 0.786646 |  89.534 |  49.0 |  63.04619 |\n",
       "| 144 | Py_236_2011 | 2011 | 20.3 | 1.44 | 14.10 | 5.09 |  8.0 |  5.8 | 854197.4 | 6684302 | Foret        | pas_de_travail        | 4.683 | 0.685990 |  20.619 |  88.0 |  60.21275 |\n",
       "| 165 | Py_257_2011 | 2011 | 15.3 | 1.62 |  9.44 | 8.32 | 42.8 |  7.2 | 855273.0 | 6684518 | Brassicacees | Labour                | 5.500 | 0.777977 |  77.200 |  26.0 |  47.33348 |\n",
       "\n"
      ],
      "text/plain": [
       "    field_1     annee SOC  TN   C_N   PH   Clay Sand XLB93    YLB93  \n",
       "67  Py_162_2011 2011  21.3 2.12 10.10 8.09 36.0 11.9 855273.5 6683443\n",
       "106 Py_200_2011 2011  33.6 1.59 21.20 8.40 35.3  9.1 858068.6 6683873\n",
       "99  Py_193_2011 2011  57.4 5.03 11.40 7.91 46.4 11.4 853982.4 6683872\n",
       "139 Py_231_2011 2011  21.4 2.02 10.60 8.27 20.2 11.3 856994.2 6684089\n",
       "144 Py_236_2011 2011  20.3 1.44 14.10 5.09  8.0  5.8 854197.4 6684302\n",
       "165 Py_257_2011 2011  15.3 1.62  9.44 8.32 42.8  7.2 855273.0 6684518\n",
       "    cat_cultur   Categories            Shannon Evenness X1.Simpson Biomasse\n",
       "67  Hiver        Decompactage          5.827   0.797213 104.450      2.7   \n",
       "106 Brassicacees Travail_intermediaire 5.636   0.787162  98.660     62.0   \n",
       "99  Foret        pas_de_travail        5.032   0.720297  27.540    240.0   \n",
       "139 Ete          Labour                5.708   0.786646  89.534     49.0   \n",
       "144 Foret        pas_de_travail        4.683   0.685990  20.619     88.0   \n",
       "165 Brassicacees Labour                5.500   0.777977  77.200     26.0   \n",
       "    Biomassepredict\n",
       "67   62.78861      \n",
       "106  94.47162      \n",
       "99  155.77696      \n",
       "139  63.04619      \n",
       "144  60.21275      \n",
       "165  47.33348      "
      ]
     },
     "metadata": {},
     "output_type": "display_data"
    },
    {
     "data": {
      "text/html": [
       "<table class=\"dataframe\">\n",
       "<caption>A data.frame: 6 × 17</caption>\n",
       "<thead>\n",
       "\t<tr><th></th><th scope=col>field_1</th><th scope=col>annee</th><th scope=col>SOC</th><th scope=col>TN</th><th scope=col>C_N</th><th scope=col>PH</th><th scope=col>Clay</th><th scope=col>Sand</th><th scope=col>XLB93</th><th scope=col>YLB93</th><th scope=col>cat_cultur</th><th scope=col>Categories</th><th scope=col>Shannon</th><th scope=col>Evenness</th><th scope=col>X1.Simpson</th><th scope=col>Biomasse</th><th scope=col>Biomassepredict</th></tr>\n",
       "\t<tr><th></th><th scope=col>&lt;chr&gt;</th><th scope=col>&lt;dbl&gt;</th><th scope=col>&lt;dbl&gt;</th><th scope=col>&lt;dbl&gt;</th><th scope=col>&lt;dbl&gt;</th><th scope=col>&lt;dbl&gt;</th><th scope=col>&lt;dbl&gt;</th><th scope=col>&lt;dbl&gt;</th><th scope=col>&lt;dbl&gt;</th><th scope=col>&lt;dbl&gt;</th><th scope=col>&lt;chr&gt;</th><th scope=col>&lt;chr&gt;</th><th scope=col>&lt;dbl&gt;</th><th scope=col>&lt;dbl&gt;</th><th scope=col>&lt;dbl&gt;</th><th scope=col>&lt;dbl&gt;</th><th scope=col>&lt;dbl&gt;</th></tr>\n",
       "</thead>\n",
       "<tbody>\n",
       "\t<tr><th scope=row>268</th><td>Py_98_2011 </td><td>2011</td><td>12.9</td><td>1.32</td><td> 9.85</td><td>7.35</td><td>33.1</td><td> 5.7</td><td>854412.4</td><td>6682797</td><td>Hiver       </td><td>Travail_intermediaire</td><td>5.589</td><td>0.781220</td><td> 71.529</td><td>55</td><td>41.15143</td></tr>\n",
       "\t<tr><th scope=row>18</th><td>Py_116_2011</td><td>2011</td><td>28.1</td><td>2.53</td><td>11.10</td><td>8.20</td><td>21.5</td><td>24.1</td><td>855259.8</td><td>6683004</td><td>Brassicacees</td><td>Labour               </td><td>6.016</td><td>0.814577</td><td>121.262</td><td>42</td><td>80.30442</td></tr>\n",
       "\t<tr><th scope=row>233</th><td>Py_65_2011 </td><td>2011</td><td>17.9</td><td>1.73</td><td>10.40</td><td>8.26</td><td>37.9</td><td>11.8</td><td>855272.7</td><td>6682367</td><td>Hiver       </td><td>Labour               </td><td>5.636</td><td>0.788730</td><td> 96.765</td><td>53</td><td>54.03070</td></tr>\n",
       "\t<tr><th scope=row>261</th><td>Py_91_2011 </td><td>2011</td><td>18.5</td><td>1.90</td><td> 9.72</td><td>8.22</td><td>44.1</td><td> 5.0</td><td>857208.4</td><td>6682583</td><td>Printemps   </td><td>Labour               </td><td>5.488</td><td>0.771082</td><td> 70.400</td><td>62</td><td>55.57622</td></tr>\n",
       "\t<tr><th scope=row>94</th><td>Py_189_2011</td><td>2011</td><td>27.5</td><td>2.83</td><td> 9.74</td><td>7.38</td><td>61.7</td><td> 2.0</td><td>856994.6</td><td>6683659</td><td>Hiver       </td><td>Decompactage         </td><td>5.367</td><td>0.764653</td><td> 56.715</td><td>59</td><td>78.75891</td></tr>\n",
       "\t<tr><th scope=row>254</th><td>Py_84_2011 </td><td>2011</td><td>20.2</td><td>1.91</td><td>10.60</td><td>8.19</td><td>33.2</td><td>14.5</td><td>855272.9</td><td>6682583</td><td>Hiver       </td><td>Travail_intermediaire</td><td>5.808</td><td>0.796029</td><td> 98.912</td><td>92</td><td>59.95517</td></tr>\n",
       "</tbody>\n",
       "</table>\n"
      ],
      "text/latex": [
       "A data.frame: 6 × 17\n",
       "\\begin{tabular}{r|lllllllllllllllll}\n",
       "  & field\\_1 & annee & SOC & TN & C\\_N & PH & Clay & Sand & XLB93 & YLB93 & cat\\_cultur & Categories & Shannon & Evenness & X1.Simpson & Biomasse & Biomassepredict\\\\\n",
       "  & <chr> & <dbl> & <dbl> & <dbl> & <dbl> & <dbl> & <dbl> & <dbl> & <dbl> & <dbl> & <chr> & <chr> & <dbl> & <dbl> & <dbl> & <dbl> & <dbl>\\\\\n",
       "\\hline\n",
       "\t268 & Py\\_98\\_2011  & 2011 & 12.9 & 1.32 &  9.85 & 7.35 & 33.1 &  5.7 & 854412.4 & 6682797 & Hiver        & Travail\\_intermediaire & 5.589 & 0.781220 &  71.529 & 55 & 41.15143\\\\\n",
       "\t18 & Py\\_116\\_2011 & 2011 & 28.1 & 2.53 & 11.10 & 8.20 & 21.5 & 24.1 & 855259.8 & 6683004 & Brassicacees & Labour                & 6.016 & 0.814577 & 121.262 & 42 & 80.30442\\\\\n",
       "\t233 & Py\\_65\\_2011  & 2011 & 17.9 & 1.73 & 10.40 & 8.26 & 37.9 & 11.8 & 855272.7 & 6682367 & Hiver        & Labour                & 5.636 & 0.788730 &  96.765 & 53 & 54.03070\\\\\n",
       "\t261 & Py\\_91\\_2011  & 2011 & 18.5 & 1.90 &  9.72 & 8.22 & 44.1 &  5.0 & 857208.4 & 6682583 & Printemps    & Labour                & 5.488 & 0.771082 &  70.400 & 62 & 55.57622\\\\\n",
       "\t94 & Py\\_189\\_2011 & 2011 & 27.5 & 2.83 &  9.74 & 7.38 & 61.7 &  2.0 & 856994.6 & 6683659 & Hiver        & Decompactage          & 5.367 & 0.764653 &  56.715 & 59 & 78.75891\\\\\n",
       "\t254 & Py\\_84\\_2011  & 2011 & 20.2 & 1.91 & 10.60 & 8.19 & 33.2 & 14.5 & 855272.9 & 6682583 & Hiver        & Travail\\_intermediaire & 5.808 & 0.796029 &  98.912 & 92 & 59.95517\\\\\n",
       "\\end{tabular}\n"
      ],
      "text/markdown": [
       "\n",
       "A data.frame: 6 × 17\n",
       "\n",
       "| <!--/--> | field_1 &lt;chr&gt; | annee &lt;dbl&gt; | SOC &lt;dbl&gt; | TN &lt;dbl&gt; | C_N &lt;dbl&gt; | PH &lt;dbl&gt; | Clay &lt;dbl&gt; | Sand &lt;dbl&gt; | XLB93 &lt;dbl&gt; | YLB93 &lt;dbl&gt; | cat_cultur &lt;chr&gt; | Categories &lt;chr&gt; | Shannon &lt;dbl&gt; | Evenness &lt;dbl&gt; | X1.Simpson &lt;dbl&gt; | Biomasse &lt;dbl&gt; | Biomassepredict &lt;dbl&gt; |\n",
       "|---|---|---|---|---|---|---|---|---|---|---|---|---|---|---|---|---|---|\n",
       "| 268 | Py_98_2011  | 2011 | 12.9 | 1.32 |  9.85 | 7.35 | 33.1 |  5.7 | 854412.4 | 6682797 | Hiver        | Travail_intermediaire | 5.589 | 0.781220 |  71.529 | 55 | 41.15143 |\n",
       "| 18 | Py_116_2011 | 2011 | 28.1 | 2.53 | 11.10 | 8.20 | 21.5 | 24.1 | 855259.8 | 6683004 | Brassicacees | Labour                | 6.016 | 0.814577 | 121.262 | 42 | 80.30442 |\n",
       "| 233 | Py_65_2011  | 2011 | 17.9 | 1.73 | 10.40 | 8.26 | 37.9 | 11.8 | 855272.7 | 6682367 | Hiver        | Labour                | 5.636 | 0.788730 |  96.765 | 53 | 54.03070 |\n",
       "| 261 | Py_91_2011  | 2011 | 18.5 | 1.90 |  9.72 | 8.22 | 44.1 |  5.0 | 857208.4 | 6682583 | Printemps    | Labour                | 5.488 | 0.771082 |  70.400 | 62 | 55.57622 |\n",
       "| 94 | Py_189_2011 | 2011 | 27.5 | 2.83 |  9.74 | 7.38 | 61.7 |  2.0 | 856994.6 | 6683659 | Hiver        | Decompactage          | 5.367 | 0.764653 |  56.715 | 59 | 78.75891 |\n",
       "| 254 | Py_84_2011  | 2011 | 20.2 | 1.91 | 10.60 | 8.19 | 33.2 | 14.5 | 855272.9 | 6682583 | Hiver        | Travail_intermediaire | 5.808 | 0.796029 |  98.912 | 92 | 59.95517 |\n",
       "\n"
      ],
      "text/plain": [
       "    field_1     annee SOC  TN   C_N   PH   Clay Sand XLB93    YLB93  \n",
       "268 Py_98_2011  2011  12.9 1.32  9.85 7.35 33.1  5.7 854412.4 6682797\n",
       "18  Py_116_2011 2011  28.1 2.53 11.10 8.20 21.5 24.1 855259.8 6683004\n",
       "233 Py_65_2011  2011  17.9 1.73 10.40 8.26 37.9 11.8 855272.7 6682367\n",
       "261 Py_91_2011  2011  18.5 1.90  9.72 8.22 44.1  5.0 857208.4 6682583\n",
       "94  Py_189_2011 2011  27.5 2.83  9.74 7.38 61.7  2.0 856994.6 6683659\n",
       "254 Py_84_2011  2011  20.2 1.91 10.60 8.19 33.2 14.5 855272.9 6682583\n",
       "    cat_cultur   Categories            Shannon Evenness X1.Simpson Biomasse\n",
       "268 Hiver        Travail_intermediaire 5.589   0.781220  71.529    55      \n",
       "18  Brassicacees Labour                6.016   0.814577 121.262    42      \n",
       "233 Hiver        Labour                5.636   0.788730  96.765    53      \n",
       "261 Printemps    Labour                5.488   0.771082  70.400    62      \n",
       "94  Hiver        Decompactage          5.367   0.764653  56.715    59      \n",
       "254 Hiver        Travail_intermediaire 5.808   0.796029  98.912    92      \n",
       "    Biomassepredict\n",
       "268 41.15143       \n",
       "18  80.30442       \n",
       "233 54.03070       \n",
       "261 55.57622       \n",
       "94  78.75891       \n",
       "254 59.95517       "
      ]
     },
     "metadata": {},
     "output_type": "display_data"
    }
   ],
   "source": [
    "head(control_mydf)\n",
    "tail(control_mydf)"
   ]
  },
  {
   "cell_type": "code",
   "execution_count": 50,
   "metadata": {},
   "outputs": [
    {
     "data": {
      "image/png": "[encoded data removed]",
      "text/plain": [
       "plot without title"
      ]
     },
     "metadata": {
      "image/png": {
       "height": 420,
       "width": 420
      }
     },
     "output_type": "display_data"
    }
   ],
   "source": [
    "## Trace Biomasse mesurée vs Biomasse prédite par le modèle linéaire\n",
    "plot(control_mydf$Biomasse, control_mydf$Biomassepredict) ## scatterplot\n",
    "abline(0,1) ## trace la droite 1:1"
   ]
  },
  {
   "cell_type": "code",
   "execution_count": 51,
   "metadata": {},
   "outputs": [
    {
     "data": {
      "text/html": [
       "0.855309846642974"
      ],
      "text/latex": [
       "0.855309846642974"
      ],
      "text/markdown": [
       "0.855309846642974"
      ],
      "text/plain": [
       "[1] 0.8553098"
      ]
     },
     "metadata": {},
     "output_type": "display_data"
    },
    {
     "data": {
      "text/html": [
       "0.731554933764427"
      ],
      "text/latex": [
       "0.731554933764427"
      ],
      "text/markdown": [
       "0.731554933764427"
      ],
      "text/plain": [
       "[1] 0.7315549"
      ]
     },
     "metadata": {},
     "output_type": "display_data"
    },
    {
     "data": {
      "text/html": [
       "41.8478299495865"
      ],
      "text/latex": [
       "41.8478299495865"
      ],
      "text/markdown": [
       "41.8478299495865"
      ],
      "text/plain": [
       "[1] 41.84783"
      ]
     },
     "metadata": {},
     "output_type": "display_data"
    }
   ],
   "source": [
    "## Evaluataion de la qualité du modèle\n",
    "cor(control_mydf$Biomasse,control_mydf$Biomassepredict) ## coef corrélation linéaire\n",
    "(cor(control_mydf$Biomasse,control_mydf$Biomassepredict))^2 ## coef détermination\n",
    "RMSE <- sqrt(sum((control_mydf$Biomasse-control_mydf$Biomassepredict)^2)/dim(control_mydf)[1])\n",
    "RMSE"
   ]
  },
  {
   "cell_type": "code",
   "execution_count": 68,
   "metadata": {},
   "outputs": [
    {
     "data": {
      "text/html": [
       "<pre class=language-r><code>function (tmp) \n",
       "{\n",
       "<span style=white-space:pre-wrap>    cvdf &lt;- tmp[, c(\"SOC\", \"Biomasse\")]</span>\n",
       "<span style=white-space:pre-wrap>    colnames(cvdf) &lt;- c(\"Biomasse\", \"Biomassepredict\")</span>\n",
       "<span style=white-space:pre-wrap>    cvdf$Biomassepredict &lt;- NA</span>\n",
       "<span style=white-space:pre-wrap>    for (i in 1:nrow(tmp)) {</span>\n",
       "<span style=white-space:pre-wrap>        t.cv &lt;- tmp[-i, ]</span>\n",
       "<span style=white-space:pre-wrap>        coeff.lm &lt;- coefficients(lm(Biomasse ~ SOC, data = t.cv))</span>\n",
       "<span style=white-space:pre-wrap>        cvdf[i, 2] &lt;- coeff.lm[2] * tmp$SOC[i] + coeff.lm[1]</span>\n",
       "<span style=white-space:pre-wrap>    }</span>\n",
       "<span style=white-space:pre-wrap>    r2 &lt;- cor(cvdf[, 1], cvdf[, 2], use = \"complete.obs\")^2</span>\n",
       "<span style=white-space:pre-wrap>    rmse &lt;- sqrt(mean((cvdf[, 1] - cvdf[, 2])^2, na.rm = T))</span>\n",
       "<span style=white-space:pre-wrap>    bias &lt;- mean(abs(cvdf[, 1] - cvdf[, 2]))</span>\n",
       "<span style=white-space:pre-wrap>    resultats &lt;- list(cvdata = cvdf, r2 = r2, RMSE = rmse, biais = bias)</span>\n",
       "<span style=white-space:pre-wrap>    return(resultats)</span>\n",
       "}</code></pre>"
      ],
      "text/latex": [
       "\\begin{minted}{r}\n",
       "function (tmp) \n",
       "\\{\n",
       "    cvdf <- tmp{[}, c(\"SOC\", \"Biomasse\"){]}\n",
       "    colnames(cvdf) <- c(\"Biomasse\", \"Biomassepredict\")\n",
       "    cvdf\\$Biomassepredict <- NA\n",
       "    for (i in 1:nrow(tmp)) \\{\n",
       "        t.cv <- tmp{[}-i, {]}\n",
       "        coeff.lm <- coefficients(lm(Biomasse \\textasciitilde{} SOC, data = t.cv))\n",
       "        cvdf{[}i, 2{]} <- coeff.lm{[}2{]} * tmp\\$SOC{[}i{]} + coeff.lm{[}1{]}\n",
       "    \\}\n",
       "    r2 <- cor(cvdf{[}, 1{]}, cvdf{[}, 2{]}, use = \"complete.obs\")\\textasciicircum{}2\n",
       "    rmse <- sqrt(mean((cvdf{[}, 1{]} - cvdf{[}, 2{]})\\textasciicircum{}2, na.rm = T))\n",
       "    bias <- mean(abs(cvdf{[}, 1{]} - cvdf{[}, 2{]}))\n",
       "    resultats <- list(cvdata = cvdf, r2 = r2, RMSE = rmse, biais = bias)\n",
       "    return(resultats)\n",
       "\\}\n",
       "\\end{minted}"
      ],
      "text/markdown": [
       "```r\n",
       "function (tmp) \n",
       "{\n",
       "    cvdf <- tmp[, c(\"SOC\", \"Biomasse\")]\n",
       "    colnames(cvdf) <- c(\"Biomasse\", \"Biomassepredict\")\n",
       "    cvdf$Biomassepredict <- NA\n",
       "    for (i in 1:nrow(tmp)) {\n",
       "        t.cv <- tmp[-i, ]\n",
       "        coeff.lm <- coefficients(lm(Biomasse ~ SOC, data = t.cv))\n",
       "        cvdf[i, 2] <- coeff.lm[2] * tmp$SOC[i] + coeff.lm[1]\n",
       "    }\n",
       "    r2 <- cor(cvdf[, 1], cvdf[, 2], use = \"complete.obs\")^2\n",
       "    rmse <- sqrt(mean((cvdf[, 1] - cvdf[, 2])^2, na.rm = T))\n",
       "    bias <- mean(abs(cvdf[, 1] - cvdf[, 2]))\n",
       "    resultats <- list(cvdata = cvdf, r2 = r2, RMSE = rmse, biais = bias)\n",
       "    return(resultats)\n",
       "}\n",
       "```"
      ],
      "text/plain": [
       "function (tmp) \n",
       "{\n",
       "    cvdf <- tmp[, c(\"SOC\", \"Biomasse\")]\n",
       "    colnames(cvdf) <- c(\"Biomasse\", \"Biomassepredict\")\n",
       "    cvdf$Biomassepredict <- NA\n",
       "    for (i in 1:nrow(tmp)) {\n",
       "        t.cv <- tmp[-i, ]\n",
       "        coeff.lm <- coefficients(lm(Biomasse ~ SOC, data = t.cv))\n",
       "        cvdf[i, 2] <- coeff.lm[2] * tmp$SOC[i] + coeff.lm[1]\n",
       "    }\n",
       "    r2 <- cor(cvdf[, 1], cvdf[, 2], use = \"complete.obs\")^2\n",
       "    rmse <- sqrt(mean((cvdf[, 1] - cvdf[, 2])^2, na.rm = T))\n",
       "    bias <- mean(abs(cvdf[, 1] - cvdf[, 2]))\n",
       "    resultats <- list(cvdata = cvdf, r2 = r2, RMSE = rmse, biais = bias)\n",
       "    return(resultats)\n",
       "}"
      ]
     },
     "metadata": {},
     "output_type": "display_data"
    }
   ],
   "source": [
    "## Estimateur Jackknife\n",
    "## charge la function myjack qui est dans le fichier funjack.R\n",
    "source(\"/home/thierry/works/R4R2D2C_2022_2023/RCode/funjack.R\")\n",
    "## Visualisation de la function myjack\n",
    "myjack\n"
   ]
  },
  {
   "cell_type": "code",
   "execution_count": 69,
   "metadata": {},
   "outputs": [],
   "source": [
    "## Evaluation du modèle linéaire avec la méthode jackknife\n",
    "resujack <- myjack(mydf)"
   ]
  },
  {
   "cell_type": "code",
   "execution_count": 70,
   "metadata": {},
   "outputs": [
    {
     "name": "stdout",
     "output_type": "stream",
     "text": [
      "List of 4\n",
      " $ cvdata:'data.frame':\t269 obs. of  2 variables:\n",
      "  ..$ Biomasse       : num [1:269] 35 24.5 23 19.8 45.2 10.3 33.2 11 10.4 37.6 ...\n",
      "  ..$ Biomassepredict: num [1:269] 106.8 74.5 69.9 60 140.8 ...\n",
      " $ r2    : num 0.999\n",
      " $ RMSE  : num 51.6\n",
      " $ biais : num 43.5\n"
     ]
    }
   ],
   "source": [
    "str(resujack)"
   ]
  },
  {
   "cell_type": "code",
   "execution_count": 91,
   "metadata": {},
   "outputs": [],
   "source": [
    "##############################################################\n",
    "##\n",
    "## IV. Modèle multi-linéaire \n",
    "## - Sélection de variables (régresseurs) via des critères d'information : Akaike (AIC), critère d'information bayésien (BIC) R2 ajusté\n",
    "## - Contribution des variables\n",
    "###############################################################\n",
    "## chargement de la librairie pour la sélection\n",
    "library(leaps)\n",
    "## chargement de la librairie pour estimer l'importance relative des variables sélectionnées\n",
    "library(relaimpo)\n"
   ]
  },
  {
   "cell_type": "code",
   "execution_count": 72,
   "metadata": {},
   "outputs": [
    {
     "data": {
      "text/html": [
       "<table class=\"dataframe\">\n",
       "<caption>A data.frame: 6 × 16</caption>\n",
       "<thead>\n",
       "\t<tr><th></th><th scope=col>field_1</th><th scope=col>annee</th><th scope=col>SOC</th><th scope=col>TN</th><th scope=col>C_N</th><th scope=col>PH</th><th scope=col>Clay</th><th scope=col>Sand</th><th scope=col>XLB93</th><th scope=col>YLB93</th><th scope=col>cat_cultur</th><th scope=col>Categories</th><th scope=col>Shannon</th><th scope=col>Evenness</th><th scope=col>X1.Simpson</th><th scope=col>Biomasse</th></tr>\n",
       "\t<tr><th></th><th scope=col>&lt;chr&gt;</th><th scope=col>&lt;dbl&gt;</th><th scope=col>&lt;dbl&gt;</th><th scope=col>&lt;dbl&gt;</th><th scope=col>&lt;dbl&gt;</th><th scope=col>&lt;dbl&gt;</th><th scope=col>&lt;dbl&gt;</th><th scope=col>&lt;dbl&gt;</th><th scope=col>&lt;dbl&gt;</th><th scope=col>&lt;dbl&gt;</th><th scope=col>&lt;chr&gt;</th><th scope=col>&lt;chr&gt;</th><th scope=col>&lt;dbl&gt;</th><th scope=col>&lt;dbl&gt;</th><th scope=col>&lt;dbl&gt;</th><th scope=col>&lt;dbl&gt;</th></tr>\n",
       "</thead>\n",
       "<tbody>\n",
       "\t<tr><th scope=row>1</th><td>Py_1_2011  </td><td>2011</td><td>35.0</td><td>3.070</td><td>11.40</td><td>6.78</td><td>44.2</td><td> 4.5</td><td>857058.6</td><td>6684437</td><td>Foret</td><td>pas_de_travail       </td><td>4.810</td><td>0.697131</td><td>25.743</td><td>230.0</td></tr>\n",
       "\t<tr><th scope=row>3</th><td>Py_101_2011</td><td>2011</td><td>23.0</td><td>2.430</td><td> 9.48</td><td>7.50</td><td>42.0</td><td> 8.0</td><td>858497.9</td><td>6682798</td><td>Ete  </td><td>Labour               </td><td>5.469</td><td>0.782461</td><td>86.932</td><td> 69.0</td></tr>\n",
       "\t<tr><th scope=row>4</th><td>Py_102_2011</td><td>2011</td><td>19.8</td><td>2.100</td><td> 9.44</td><td>7.51</td><td>40.3</td><td>11.6</td><td>858283.0</td><td>6682798</td><td>Ete  </td><td>Labour               </td><td>5.492</td><td>0.777978</td><td>75.408</td><td>  6.6</td></tr>\n",
       "\t<tr><th scope=row>7</th><td>Py_105_2011</td><td>2011</td><td>33.2</td><td>3.140</td><td>10.60</td><td>8.20</td><td>21.4</td><td>14.4</td><td>855488.2</td><td>6682798</td><td>Hiver</td><td>Travail_intermediaire</td><td>5.928</td><td>0.804411</td><td>90.926</td><td> 87.0</td></tr>\n",
       "\t<tr><th scope=row>8</th><td>Py_106_2011</td><td>2011</td><td>11.0</td><td>1.060</td><td>10.40</td><td>6.78</td><td>27.3</td><td> 7.9</td><td>857853.3</td><td>6682798</td><td>Hiver</td><td>Travail_intermediaire</td><td>5.660</td><td>0.787929</td><td>76.525</td><td> 23.0</td></tr>\n",
       "\t<tr><th scope=row>9</th><td>Py_108_2011</td><td>2011</td><td>10.4</td><td>0.999</td><td>10.40</td><td>7.75</td><td>24.3</td><td> 6.5</td><td>857638.5</td><td>6682798</td><td>Hiver</td><td>Travail_intermediaire</td><td>5.616</td><td>0.785689</td><td>81.258</td><td> 31.0</td></tr>\n",
       "</tbody>\n",
       "</table>\n"
      ],
      "text/latex": [
       "A data.frame: 6 × 16\n",
       "\\begin{tabular}{r|llllllllllllllll}\n",
       "  & field\\_1 & annee & SOC & TN & C\\_N & PH & Clay & Sand & XLB93 & YLB93 & cat\\_cultur & Categories & Shannon & Evenness & X1.Simpson & Biomasse\\\\\n",
       "  & <chr> & <dbl> & <dbl> & <dbl> & <dbl> & <dbl> & <dbl> & <dbl> & <dbl> & <dbl> & <chr> & <chr> & <dbl> & <dbl> & <dbl> & <dbl>\\\\\n",
       "\\hline\n",
       "\t1 & Py\\_1\\_2011   & 2011 & 35.0 & 3.070 & 11.40 & 6.78 & 44.2 &  4.5 & 857058.6 & 6684437 & Foret & pas\\_de\\_travail        & 4.810 & 0.697131 & 25.743 & 230.0\\\\\n",
       "\t3 & Py\\_101\\_2011 & 2011 & 23.0 & 2.430 &  9.48 & 7.50 & 42.0 &  8.0 & 858497.9 & 6682798 & Ete   & Labour                & 5.469 & 0.782461 & 86.932 &  69.0\\\\\n",
       "\t4 & Py\\_102\\_2011 & 2011 & 19.8 & 2.100 &  9.44 & 7.51 & 40.3 & 11.6 & 858283.0 & 6682798 & Ete   & Labour                & 5.492 & 0.777978 & 75.408 &   6.6\\\\\n",
       "\t7 & Py\\_105\\_2011 & 2011 & 33.2 & 3.140 & 10.60 & 8.20 & 21.4 & 14.4 & 855488.2 & 6682798 & Hiver & Travail\\_intermediaire & 5.928 & 0.804411 & 90.926 &  87.0\\\\\n",
       "\t8 & Py\\_106\\_2011 & 2011 & 11.0 & 1.060 & 10.40 & 6.78 & 27.3 &  7.9 & 857853.3 & 6682798 & Hiver & Travail\\_intermediaire & 5.660 & 0.787929 & 76.525 &  23.0\\\\\n",
       "\t9 & Py\\_108\\_2011 & 2011 & 10.4 & 0.999 & 10.40 & 7.75 & 24.3 &  6.5 & 857638.5 & 6682798 & Hiver & Travail\\_intermediaire & 5.616 & 0.785689 & 81.258 &  31.0\\\\\n",
       "\\end{tabular}\n"
      ],
      "text/markdown": [
       "\n",
       "A data.frame: 6 × 16\n",
       "\n",
       "| <!--/--> | field_1 &lt;chr&gt; | annee &lt;dbl&gt; | SOC &lt;dbl&gt; | TN &lt;dbl&gt; | C_N &lt;dbl&gt; | PH &lt;dbl&gt; | Clay &lt;dbl&gt; | Sand &lt;dbl&gt; | XLB93 &lt;dbl&gt; | YLB93 &lt;dbl&gt; | cat_cultur &lt;chr&gt; | Categories &lt;chr&gt; | Shannon &lt;dbl&gt; | Evenness &lt;dbl&gt; | X1.Simpson &lt;dbl&gt; | Biomasse &lt;dbl&gt; |\n",
       "|---|---|---|---|---|---|---|---|---|---|---|---|---|---|---|---|---|\n",
       "| 1 | Py_1_2011   | 2011 | 35.0 | 3.070 | 11.40 | 6.78 | 44.2 |  4.5 | 857058.6 | 6684437 | Foret | pas_de_travail        | 4.810 | 0.697131 | 25.743 | 230.0 |\n",
       "| 3 | Py_101_2011 | 2011 | 23.0 | 2.430 |  9.48 | 7.50 | 42.0 |  8.0 | 858497.9 | 6682798 | Ete   | Labour                | 5.469 | 0.782461 | 86.932 |  69.0 |\n",
       "| 4 | Py_102_2011 | 2011 | 19.8 | 2.100 |  9.44 | 7.51 | 40.3 | 11.6 | 858283.0 | 6682798 | Ete   | Labour                | 5.492 | 0.777978 | 75.408 |   6.6 |\n",
       "| 7 | Py_105_2011 | 2011 | 33.2 | 3.140 | 10.60 | 8.20 | 21.4 | 14.4 | 855488.2 | 6682798 | Hiver | Travail_intermediaire | 5.928 | 0.804411 | 90.926 |  87.0 |\n",
       "| 8 | Py_106_2011 | 2011 | 11.0 | 1.060 | 10.40 | 6.78 | 27.3 |  7.9 | 857853.3 | 6682798 | Hiver | Travail_intermediaire | 5.660 | 0.787929 | 76.525 |  23.0 |\n",
       "| 9 | Py_108_2011 | 2011 | 10.4 | 0.999 | 10.40 | 7.75 | 24.3 |  6.5 | 857638.5 | 6682798 | Hiver | Travail_intermediaire | 5.616 | 0.785689 | 81.258 |  31.0 |\n",
       "\n"
      ],
      "text/plain": [
       "  field_1     annee SOC  TN    C_N   PH   Clay Sand XLB93    YLB93   cat_cultur\n",
       "1 Py_1_2011   2011  35.0 3.070 11.40 6.78 44.2  4.5 857058.6 6684437 Foret     \n",
       "3 Py_101_2011 2011  23.0 2.430  9.48 7.50 42.0  8.0 858497.9 6682798 Ete       \n",
       "4 Py_102_2011 2011  19.8 2.100  9.44 7.51 40.3 11.6 858283.0 6682798 Ete       \n",
       "7 Py_105_2011 2011  33.2 3.140 10.60 8.20 21.4 14.4 855488.2 6682798 Hiver     \n",
       "8 Py_106_2011 2011  11.0 1.060 10.40 6.78 27.3  7.9 857853.3 6682798 Hiver     \n",
       "9 Py_108_2011 2011  10.4 0.999 10.40 7.75 24.3  6.5 857638.5 6682798 Hiver     \n",
       "  Categories            Shannon Evenness X1.Simpson Biomasse\n",
       "1 pas_de_travail        4.810   0.697131 25.743     230.0   \n",
       "3 Labour                5.469   0.782461 86.932      69.0   \n",
       "4 Labour                5.492   0.777978 75.408       6.6   \n",
       "7 Travail_intermediaire 5.928   0.804411 90.926      87.0   \n",
       "8 Travail_intermediaire 5.660   0.787929 76.525      23.0   \n",
       "9 Travail_intermediaire 5.616   0.785689 81.258      31.0   "
      ]
     },
     "metadata": {},
     "output_type": "display_data"
    }
   ],
   "source": [
    "head(training_mydf) ## utilise l'ensemble des variables numériques\n",
    "## la fonction \n",
    "choix_variables <- regsubsets(Biomasse ~ TN + C_N + PH + Clay + SOC + Sand, \n",
    "                              data = training_mydf)"
   ]
  },
  {
   "cell_type": "code",
   "execution_count": 92,
   "metadata": {},
   "outputs": [
    {
     "data": {
      "image/png": "[encoded data removed]",
      "text/plain": [
       "plot without title"
      ]
     },
     "metadata": {
      "image/png": {
       "height": 420,
       "width": 420
      }
     },
     "output_type": "display_data"
    },
    {
     "data": {
      "image/png": "[encoded data removed]",
      "text/plain": [
       "plot without title"
      ]
     },
     "metadata": {
      "image/png": {
       "height": 420,
       "width": 420
      }
     },
     "output_type": "display_data"
    }
   ],
   "source": [
    "## trace le critère d'information ici le BIC (équivalent du AIC)\n",
    "## pour ce critère on va retenir la combinaison des variables qui minimise la valeur du BIC\n",
    "## pour un autre critère come le R2 ajusté on va retenir la combinaison qui maximise la valeur\n",
    "plot(choix_variables, scale=c(\"bic\"))\n",
    "plot(choix_variables, scale=c(\"adjr2\"))\n",
    "\n",
    "#####################################################################################################################\n",
    "## Question : vue les résultats avec ces deux critères quelles sont les variables et donc le modèle sélectionné ?\n",
    "#####################################################################################################################"
   ]
  },
  {
   "cell_type": "code",
   "execution_count": 96,
   "metadata": {},
   "outputs": [
    {
     "data": {
      "text/plain": [
       "\n",
       "Call:\n",
       "lm(formula = Biomasse ~ TN + PH + Clay + SOC, data = training_mydf)\n",
       "\n",
       "Residuals:\n",
       "     Min       1Q   Median       3Q      Max \n",
       "-107.590  -13.185    0.748   13.081  119.459 \n",
       "\n",
       "Coefficients:\n",
       "            Estimate Std. Error t value Pr(>|t|)    \n",
       "(Intercept)  57.8375    24.7593   2.336 0.020569 *  \n",
       "TN           24.1477     2.2142  10.906  < 2e-16 ***\n",
       "PH          -11.6618     3.2119  -3.631 0.000366 ***\n",
       "Clay          1.0408     0.2265   4.595 8.01e-06 ***\n",
       "SOC           0.5162     0.2595   1.989 0.048173 *  \n",
       "---\n",
       "Signif. codes:  0 ‘***’ 0.001 ‘**’ 0.01 ‘*’ 0.05 ‘.’ 0.1 ‘ ’ 1\n",
       "\n",
       "Residual standard error: 29.01 on 184 degrees of freedom\n",
       "Multiple R-squared:  0.6508,\tAdjusted R-squared:  0.6432 \n",
       "F-statistic: 85.71 on 4 and 184 DF,  p-value: < 2.2e-16\n"
      ]
     },
     "metadata": {},
     "output_type": "display_data"
    }
   ],
   "source": [
    "## prenons par exemple le modèle Biomasse = fn(TN,PH,Clay,Biomasse)\n",
    "mydfmlm <- lm(Biomasse~TN+PH+Clay+SOC, data = training_mydf)\n",
    "summary(mydfmlm)"
   ]
  },
  {
   "cell_type": "code",
   "execution_count": 97,
   "metadata": {},
   "outputs": [
    {
     "data": {
      "text/html": [
       "<table class=\"dataframe\">\n",
       "<caption>A data.frame: 6 × 5</caption>\n",
       "<thead>\n",
       "\t<tr><th></th><th scope=col>TN</th><th scope=col>PH</th><th scope=col>Clay</th><th scope=col>SOC</th><th scope=col>Biomasse</th></tr>\n",
       "\t<tr><th></th><th scope=col>&lt;dbl&gt;</th><th scope=col>&lt;dbl&gt;</th><th scope=col>&lt;dbl&gt;</th><th scope=col>&lt;dbl&gt;</th><th scope=col>&lt;dbl&gt;</th></tr>\n",
       "</thead>\n",
       "<tbody>\n",
       "\t<tr><th scope=row>67</th><td>2.12</td><td>8.09</td><td>36.0</td><td>21.3</td><td>  2.7</td></tr>\n",
       "\t<tr><th scope=row>106</th><td>1.59</td><td>8.40</td><td>35.3</td><td>33.6</td><td> 62.0</td></tr>\n",
       "\t<tr><th scope=row>99</th><td>5.03</td><td>7.91</td><td>46.4</td><td>57.4</td><td>240.0</td></tr>\n",
       "\t<tr><th scope=row>139</th><td>2.02</td><td>8.27</td><td>20.2</td><td>21.4</td><td> 49.0</td></tr>\n",
       "\t<tr><th scope=row>144</th><td>1.44</td><td>5.09</td><td> 8.0</td><td>20.3</td><td> 88.0</td></tr>\n",
       "\t<tr><th scope=row>165</th><td>1.62</td><td>8.32</td><td>42.8</td><td>15.3</td><td> 26.0</td></tr>\n",
       "</tbody>\n",
       "</table>\n"
      ],
      "text/latex": [
       "A data.frame: 6 × 5\n",
       "\\begin{tabular}{r|lllll}\n",
       "  & TN & PH & Clay & SOC & Biomasse\\\\\n",
       "  & <dbl> & <dbl> & <dbl> & <dbl> & <dbl>\\\\\n",
       "\\hline\n",
       "\t67 & 2.12 & 8.09 & 36.0 & 21.3 &   2.7\\\\\n",
       "\t106 & 1.59 & 8.40 & 35.3 & 33.6 &  62.0\\\\\n",
       "\t99 & 5.03 & 7.91 & 46.4 & 57.4 & 240.0\\\\\n",
       "\t139 & 2.02 & 8.27 & 20.2 & 21.4 &  49.0\\\\\n",
       "\t144 & 1.44 & 5.09 &  8.0 & 20.3 &  88.0\\\\\n",
       "\t165 & 1.62 & 8.32 & 42.8 & 15.3 &  26.0\\\\\n",
       "\\end{tabular}\n"
      ],
      "text/markdown": [
       "\n",
       "A data.frame: 6 × 5\n",
       "\n",
       "| <!--/--> | TN &lt;dbl&gt; | PH &lt;dbl&gt; | Clay &lt;dbl&gt; | SOC &lt;dbl&gt; | Biomasse &lt;dbl&gt; |\n",
       "|---|---|---|---|---|---|\n",
       "| 67 | 2.12 | 8.09 | 36.0 | 21.3 |   2.7 |\n",
       "| 106 | 1.59 | 8.40 | 35.3 | 33.6 |  62.0 |\n",
       "| 99 | 5.03 | 7.91 | 46.4 | 57.4 | 240.0 |\n",
       "| 139 | 2.02 | 8.27 | 20.2 | 21.4 |  49.0 |\n",
       "| 144 | 1.44 | 5.09 |  8.0 | 20.3 |  88.0 |\n",
       "| 165 | 1.62 | 8.32 | 42.8 | 15.3 |  26.0 |\n",
       "\n"
      ],
      "text/plain": [
       "    TN   PH   Clay SOC  Biomasse\n",
       "67  2.12 8.09 36.0 21.3   2.7   \n",
       "106 1.59 8.40 35.3 33.6  62.0   \n",
       "99  5.03 7.91 46.4 57.4 240.0   \n",
       "139 2.02 8.27 20.2 21.4  49.0   \n",
       "144 1.44 5.09  8.0 20.3  88.0   \n",
       "165 1.62 8.32 42.8 15.3  26.0   "
      ]
     },
     "metadata": {},
     "output_type": "display_data"
    }
   ],
   "source": [
    "## Qu'en déduisez vous quand au score du modèle multilinéaire comparativement au modèle linéaire simple ?\n",
    "## Evaluer la performance du modèle en vous appuyant sur l'échantillon de contrôle\n",
    "\n",
    "control_varselect <- control_mydf[,c(\"TN\", \"PH\", \"Clay\", \"SOC\", \"Biomasse\")]\n",
    "head(control_varselect)\n",
    "control_mydf$Biomassepredmlm <- predict.lm(mydfmlm, control_varselect)"
   ]
  },
  {
   "cell_type": "code",
   "execution_count": 82,
   "metadata": {},
   "outputs": [
    {
     "data": {
      "text/html": [
       "<table class=\"dataframe\">\n",
       "<caption>A data.frame: 6 × 18</caption>\n",
       "<thead>\n",
       "\t<tr><th></th><th scope=col>field_1</th><th scope=col>annee</th><th scope=col>SOC</th><th scope=col>TN</th><th scope=col>C_N</th><th scope=col>PH</th><th scope=col>Clay</th><th scope=col>Sand</th><th scope=col>XLB93</th><th scope=col>YLB93</th><th scope=col>cat_cultur</th><th scope=col>Categories</th><th scope=col>Shannon</th><th scope=col>Evenness</th><th scope=col>X1.Simpson</th><th scope=col>Biomasse</th><th scope=col>Biomassepredict</th><th scope=col>Biomassepredmlm</th></tr>\n",
       "\t<tr><th></th><th scope=col>&lt;chr&gt;</th><th scope=col>&lt;dbl&gt;</th><th scope=col>&lt;dbl&gt;</th><th scope=col>&lt;dbl&gt;</th><th scope=col>&lt;dbl&gt;</th><th scope=col>&lt;dbl&gt;</th><th scope=col>&lt;dbl&gt;</th><th scope=col>&lt;dbl&gt;</th><th scope=col>&lt;dbl&gt;</th><th scope=col>&lt;dbl&gt;</th><th scope=col>&lt;chr&gt;</th><th scope=col>&lt;chr&gt;</th><th scope=col>&lt;dbl&gt;</th><th scope=col>&lt;dbl&gt;</th><th scope=col>&lt;dbl&gt;</th><th scope=col>&lt;dbl&gt;</th><th scope=col>&lt;dbl&gt;</th><th scope=col>&lt;dbl&gt;</th></tr>\n",
       "</thead>\n",
       "<tbody>\n",
       "\t<tr><th scope=row>67</th><td>Py_162_2011</td><td>2011</td><td>21.3</td><td>2.12</td><td>10.10</td><td>8.09</td><td>36.0</td><td>11.9</td><td>855273.5</td><td>6683443</td><td>Hiver       </td><td>Decompactage         </td><td>5.827</td><td>0.797213</td><td>104.450</td><td>  2.7</td><td> 62.78861</td><td> 61.11516</td></tr>\n",
       "\t<tr><th scope=row>106</th><td>Py_200_2011</td><td>2011</td><td>33.6</td><td>1.59</td><td>21.20</td><td>8.40</td><td>35.3</td><td> 9.1</td><td>858068.6</td><td>6683873</td><td>Brassicacees</td><td>Travail_intermediaire</td><td>5.636</td><td>0.787162</td><td> 98.660</td><td> 62.0</td><td> 94.47162</td><td> 52.31391</td></tr>\n",
       "\t<tr><th scope=row>99</th><td>Py_193_2011</td><td>2011</td><td>57.4</td><td>5.03</td><td>11.40</td><td>7.91</td><td>46.4</td><td>11.4</td><td>853982.4</td><td>6683872</td><td>Foret       </td><td>pas_de_travail       </td><td>5.032</td><td>0.720297</td><td> 27.540</td><td>240.0</td><td>155.77696</td><td>155.88990</td></tr>\n",
       "\t<tr><th scope=row>139</th><td>Py_231_2011</td><td>2011</td><td>21.4</td><td>2.02</td><td>10.60</td><td>8.27</td><td>20.2</td><td>11.3</td><td>856994.2</td><td>6684089</td><td>Ete         </td><td>Labour               </td><td>5.708</td><td>0.786646</td><td> 89.534</td><td> 49.0</td><td> 63.04619</td><td> 56.95756</td></tr>\n",
       "\t<tr><th scope=row>144</th><td>Py_236_2011</td><td>2011</td><td>20.3</td><td>1.44</td><td>14.10</td><td>5.09</td><td> 8.0</td><td> 5.8</td><td>854197.4</td><td>6684302</td><td>Foret       </td><td>pas_de_travail       </td><td>4.683</td><td>0.685990</td><td> 20.619</td><td> 88.0</td><td> 60.21275</td><td> 73.00306</td></tr>\n",
       "\t<tr><th scope=row>165</th><td>Py_257_2011</td><td>2011</td><td>15.3</td><td>1.62</td><td> 9.44</td><td>8.32</td><td>42.8</td><td> 7.2</td><td>855273.0</td><td>6684518</td><td>Brassicacees</td><td>Labour               </td><td>5.500</td><td>0.777977</td><td> 77.200</td><td> 26.0</td><td> 47.33348</td><td> 43.01124</td></tr>\n",
       "</tbody>\n",
       "</table>\n"
      ],
      "text/latex": [
       "A data.frame: 6 × 18\n",
       "\\begin{tabular}{r|llllllllllllllllll}\n",
       "  & field\\_1 & annee & SOC & TN & C\\_N & PH & Clay & Sand & XLB93 & YLB93 & cat\\_cultur & Categories & Shannon & Evenness & X1.Simpson & Biomasse & Biomassepredict & Biomassepredmlm\\\\\n",
       "  & <chr> & <dbl> & <dbl> & <dbl> & <dbl> & <dbl> & <dbl> & <dbl> & <dbl> & <dbl> & <chr> & <chr> & <dbl> & <dbl> & <dbl> & <dbl> & <dbl> & <dbl>\\\\\n",
       "\\hline\n",
       "\t67 & Py\\_162\\_2011 & 2011 & 21.3 & 2.12 & 10.10 & 8.09 & 36.0 & 11.9 & 855273.5 & 6683443 & Hiver        & Decompactage          & 5.827 & 0.797213 & 104.450 &   2.7 &  62.78861 &  61.11516\\\\\n",
       "\t106 & Py\\_200\\_2011 & 2011 & 33.6 & 1.59 & 21.20 & 8.40 & 35.3 &  9.1 & 858068.6 & 6683873 & Brassicacees & Travail\\_intermediaire & 5.636 & 0.787162 &  98.660 &  62.0 &  94.47162 &  52.31391\\\\\n",
       "\t99 & Py\\_193\\_2011 & 2011 & 57.4 & 5.03 & 11.40 & 7.91 & 46.4 & 11.4 & 853982.4 & 6683872 & Foret        & pas\\_de\\_travail        & 5.032 & 0.720297 &  27.540 & 240.0 & 155.77696 & 155.88990\\\\\n",
       "\t139 & Py\\_231\\_2011 & 2011 & 21.4 & 2.02 & 10.60 & 8.27 & 20.2 & 11.3 & 856994.2 & 6684089 & Ete          & Labour                & 5.708 & 0.786646 &  89.534 &  49.0 &  63.04619 &  56.95756\\\\\n",
       "\t144 & Py\\_236\\_2011 & 2011 & 20.3 & 1.44 & 14.10 & 5.09 &  8.0 &  5.8 & 854197.4 & 6684302 & Foret        & pas\\_de\\_travail        & 4.683 & 0.685990 &  20.619 &  88.0 &  60.21275 &  73.00306\\\\\n",
       "\t165 & Py\\_257\\_2011 & 2011 & 15.3 & 1.62 &  9.44 & 8.32 & 42.8 &  7.2 & 855273.0 & 6684518 & Brassicacees & Labour                & 5.500 & 0.777977 &  77.200 &  26.0 &  47.33348 &  43.01124\\\\\n",
       "\\end{tabular}\n"
      ],
      "text/markdown": [
       "\n",
       "A data.frame: 6 × 18\n",
       "\n",
       "| <!--/--> | field_1 &lt;chr&gt; | annee &lt;dbl&gt; | SOC &lt;dbl&gt; | TN &lt;dbl&gt; | C_N &lt;dbl&gt; | PH &lt;dbl&gt; | Clay &lt;dbl&gt; | Sand &lt;dbl&gt; | XLB93 &lt;dbl&gt; | YLB93 &lt;dbl&gt; | cat_cultur &lt;chr&gt; | Categories &lt;chr&gt; | Shannon &lt;dbl&gt; | Evenness &lt;dbl&gt; | X1.Simpson &lt;dbl&gt; | Biomasse &lt;dbl&gt; | Biomassepredict &lt;dbl&gt; | Biomassepredmlm &lt;dbl&gt; |\n",
       "|---|---|---|---|---|---|---|---|---|---|---|---|---|---|---|---|---|---|---|\n",
       "| 67 | Py_162_2011 | 2011 | 21.3 | 2.12 | 10.10 | 8.09 | 36.0 | 11.9 | 855273.5 | 6683443 | Hiver        | Decompactage          | 5.827 | 0.797213 | 104.450 |   2.7 |  62.78861 |  61.11516 |\n",
       "| 106 | Py_200_2011 | 2011 | 33.6 | 1.59 | 21.20 | 8.40 | 35.3 |  9.1 | 858068.6 | 6683873 | Brassicacees | Travail_intermediaire | 5.636 | 0.787162 |  98.660 |  62.0 |  94.47162 |  52.31391 |\n",
       "| 99 | Py_193_2011 | 2011 | 57.4 | 5.03 | 11.40 | 7.91 | 46.4 | 11.4 | 853982.4 | 6683872 | Foret        | pas_de_travail        | 5.032 | 0.720297 |  27.540 | 240.0 | 155.77696 | 155.88990 |\n",
       "| 139 | Py_231_2011 | 2011 | 21.4 | 2.02 | 10.60 | 8.27 | 20.2 | 11.3 | 856994.2 | 6684089 | Ete          | Labour                | 5.708 | 0.786646 |  89.534 |  49.0 |  63.04619 |  56.95756 |\n",
       "| 144 | Py_236_2011 | 2011 | 20.3 | 1.44 | 14.10 | 5.09 |  8.0 |  5.8 | 854197.4 | 6684302 | Foret        | pas_de_travail        | 4.683 | 0.685990 |  20.619 |  88.0 |  60.21275 |  73.00306 |\n",
       "| 165 | Py_257_2011 | 2011 | 15.3 | 1.62 |  9.44 | 8.32 | 42.8 |  7.2 | 855273.0 | 6684518 | Brassicacees | Labour                | 5.500 | 0.777977 |  77.200 |  26.0 |  47.33348 |  43.01124 |\n",
       "\n"
      ],
      "text/plain": [
       "    field_1     annee SOC  TN   C_N   PH   Clay Sand XLB93    YLB93  \n",
       "67  Py_162_2011 2011  21.3 2.12 10.10 8.09 36.0 11.9 855273.5 6683443\n",
       "106 Py_200_2011 2011  33.6 1.59 21.20 8.40 35.3  9.1 858068.6 6683873\n",
       "99  Py_193_2011 2011  57.4 5.03 11.40 7.91 46.4 11.4 853982.4 6683872\n",
       "139 Py_231_2011 2011  21.4 2.02 10.60 8.27 20.2 11.3 856994.2 6684089\n",
       "144 Py_236_2011 2011  20.3 1.44 14.10 5.09  8.0  5.8 854197.4 6684302\n",
       "165 Py_257_2011 2011  15.3 1.62  9.44 8.32 42.8  7.2 855273.0 6684518\n",
       "    cat_cultur   Categories            Shannon Evenness X1.Simpson Biomasse\n",
       "67  Hiver        Decompactage          5.827   0.797213 104.450      2.7   \n",
       "106 Brassicacees Travail_intermediaire 5.636   0.787162  98.660     62.0   \n",
       "99  Foret        pas_de_travail        5.032   0.720297  27.540    240.0   \n",
       "139 Ete          Labour                5.708   0.786646  89.534     49.0   \n",
       "144 Foret        pas_de_travail        4.683   0.685990  20.619     88.0   \n",
       "165 Brassicacees Labour                5.500   0.777977  77.200     26.0   \n",
       "    Biomassepredict Biomassepredmlm\n",
       "67   62.78861        61.11516      \n",
       "106  94.47162        52.31391      \n",
       "99  155.77696       155.88990      \n",
       "139  63.04619        56.95756      \n",
       "144  60.21275        73.00306      \n",
       "165  47.33348        43.01124      "
      ]
     },
     "metadata": {},
     "output_type": "display_data"
    }
   ],
   "source": [
    "head(control_mydf)"
   ]
  },
  {
   "cell_type": "code",
   "execution_count": 98,
   "metadata": {},
   "outputs": [
    {
     "data": {
      "image/png": "[encoded data removed]",
      "text/plain": [
       "plot without title"
      ]
     },
     "metadata": {
      "image/png": {
       "height": 420,
       "width": 420
      }
     },
     "output_type": "display_data"
    }
   ],
   "source": [
    "## Trace SOC mesuré vs SOC prédit par le modèle multi-linéaire\n",
    "plot(control_mydf$Biomasse, control_mydf$Biomassepredmlm) ## scatterplot\n",
    "abline(0,1) ## trace la droite 1:1"
   ]
  },
  {
   "cell_type": "code",
   "execution_count": 99,
   "metadata": {},
   "outputs": [
    {
     "data": {
      "text/html": [
       "0.828265554250283"
      ],
      "text/latex": [
       "0.828265554250283"
      ],
      "text/markdown": [
       "0.828265554250283"
      ],
      "text/plain": [
       "[1] 0.8282656"
      ]
     },
     "metadata": {},
     "output_type": "display_data"
    },
    {
     "data": {
      "text/html": [
       "0.686023828357528"
      ],
      "text/latex": [
       "0.686023828357528"
      ],
      "text/markdown": [
       "0.686023828357528"
      ],
      "text/plain": [
       "[1] 0.6860238"
      ]
     },
     "metadata": {},
     "output_type": "display_data"
    },
    {
     "data": {
      "text/html": [
       "42.9273484155858"
      ],
      "text/latex": [
       "42.9273484155858"
      ],
      "text/markdown": [
       "42.9273484155858"
      ],
      "text/plain": [
       "[1] 42.92735"
      ]
     },
     "metadata": {},
     "output_type": "display_data"
    }
   ],
   "source": [
    "## Evaluataion de la qualité du modèle multi-linéaire\n",
    "cor(control_mydf$Biomasse,control_mydf$Biomassepredmlm) ## coef corrélation linéaire\n",
    "(cor(control_mydf$Biomasse,control_mydf$Biomassepredmlm))^2 ## coef détermination\n",
    "RMSE <- sqrt(sum((control_mydf$Biomasse-control_mydf$Biomassepredmlm)^2)/dim(control_mydf)[1])\n",
    "RMSE"
   ]
  },
  {
   "cell_type": "code",
   "execution_count": 101,
   "metadata": {},
   "outputs": [
    {
     "data": {
      "text/plain": [
       "\n",
       "Call:\n",
       "lm(formula = Biomasse ~ TN + PH + Clay + SOC, data = mydf)\n",
       "\n",
       "Residuals:\n",
       "     Min       1Q   Median       3Q      Max \n",
       "-135.575  -15.192    0.731   14.740  122.472 \n",
       "\n",
       "Coefficients:\n",
       "            Estimate Std. Error t value Pr(>|t|)    \n",
       "(Intercept)  80.0664    22.0988   3.623 0.000349 ***\n",
       "TN           21.6055     2.3009   9.390  < 2e-16 ***\n",
       "PH          -15.2759     2.8978  -5.271 2.82e-07 ***\n",
       "Clay          0.8549     0.2124   4.025 7.46e-05 ***\n",
       "SOC           1.3916     0.2416   5.760 2.33e-08 ***\n",
       "---\n",
       "Signif. codes:  0 ‘***’ 0.001 ‘**’ 0.01 ‘*’ 0.05 ‘.’ 0.1 ‘ ’ 1\n",
       "\n",
       "Residual standard error: 32.47 on 264 degrees of freedom\n",
       "Multiple R-squared:  0.6707,\tAdjusted R-squared:  0.6657 \n",
       "F-statistic: 134.4 on 4 and 264 DF,  p-value: < 2.2e-16\n"
      ]
     },
     "metadata": {},
     "output_type": "display_data"
    }
   ],
   "source": [
    "###############################################\n",
    "##\n",
    "## Contribution des variables\n",
    "## utilisation de la fonction calc.relimp du package relaimpo\n",
    "###############################################\n",
    "reg.mlm <- lm(Biomasse ~ TN + PH + Clay + SOC, data = mydf)\n",
    "regrelimpo <- calc.relimp(reg.mlm, type = c(\"lmg\",\"pratt\", \"genizi\",\"car\"),\n",
    "                          rela = TRUE, rank = TRUE)\n",
    "summary(reg.mlm)"
   ]
  },
  {
   "cell_type": "code",
   "execution_count": 102,
   "metadata": {},
   "outputs": [
    {
     "data": {
      "image/png": "[encoded data removed]",
      "text/plain": [
       "Plot with title “Relative importances for Biomasse”"
      ]
     },
     "metadata": {
      "image/png": {
       "height": 420,
       "width": 420
      }
     },
     "output_type": "display_data"
    }
   ],
   "source": [
    "plot(regrelimpo)"
   ]
  },
  {
   "cell_type": "code",
   "execution_count": 105,
   "metadata": {},
   "outputs": [],
   "source": [
    "#############################################\n",
    "## Que dire de ces résultats ?\n",
    "############################################\n",
    "\n",
    "## Calcul de la Biomasse prédit par le modèle\n",
    "mydata$Biomassepredmlm <- predict.lm(reg.mlm, mydf[,c(\"TN\", \"PH\", \"Clay\", \"SOC\")])\n"
   ]
  },
  {
   "cell_type": "code",
   "execution_count": 106,
   "metadata": {},
   "outputs": [
    {
     "data": {
      "text/html": [
       "<style>\n",
       ".list-inline {list-style: none; margin:0; padding: 0}\n",
       ".list-inline>li {display: inline-block}\n",
       ".list-inline>li:not(:last-child)::after {content: \"\\00b7\"; padding: 0 .5ex}\n",
       "</style>\n",
       "<ol class=list-inline><li>'sf'</li><li>'data.frame'</li></ol>\n"
      ],
      "text/latex": [
       "\\begin{enumerate*}\n",
       "\\item 'sf'\n",
       "\\item 'data.frame'\n",
       "\\end{enumerate*}\n"
      ],
      "text/markdown": [
       "1. 'sf'\n",
       "2. 'data.frame'\n",
       "\n",
       "\n"
      ],
      "text/plain": [
       "[1] \"sf\"         \"data.frame\""
      ]
     },
     "metadata": {},
     "output_type": "display_data"
    },
    {
     "data": {
      "text/html": [
       "'/home/thierry/works/R4R2D2C_2022_2023/BData'"
      ],
      "text/latex": [
       "'/home/thierry/works/R4R2D2C\\_2022\\_2023/BData'"
      ],
      "text/markdown": [
       "'/home/thierry/works/R4R2D2C_2022_2023/BData'"
      ],
      "text/plain": [
       "[1] \"/home/thierry/works/R4R2D2C_2022_2023/BData\""
      ]
     },
     "metadata": {},
     "output_type": "display_data"
    }
   ],
   "source": [
    "class(mydata)\n",
    "getwd()"
   ]
  },
  {
   "cell_type": "code",
   "execution_count": 107,
   "metadata": {},
   "outputs": [
    {
     "name": "stderr",
     "output_type": "stream",
     "text": [
      "Warning message in abbreviate_shapefile_names(obj):\n",
      "“Field names abbreviated for ESRI Shapefile driver”\n"
     ]
    },
    {
     "name": "stdout",
     "output_type": "stream",
     "text": [
      "Deleting layer `newptsampleFenayL93' using driver `ESRI Shapefile'\n",
      "Writing layer `newptsampleFenayL93' to data source \n",
      "  `newptsampleFenayL93.shp' using driver `ESRI Shapefile'\n",
      "Writing 269 features with 17 fields and geometry type Point.\n"
     ]
    }
   ],
   "source": [
    "## exporte mydata qui est un objet sf dans R en un fichier SIG shapefile lisible par QGIS\n",
    "st_write(mydata, \"newptsampleFenayL93.shp\", delete_layer = TRUE)"
   ]
  },
  {
   "cell_type": "code",
   "execution_count": 108,
   "metadata": {},
   "outputs": [],
   "source": [
    "## Allez ouvrir cette nouvelle couche/carte avec QGIS\n",
    "## Faire la carte des différences entre Biomasse mesurée et Biomasse prédite par le modèle multi-linéaire"
   ]
  },
  {
   "cell_type": "code",
   "execution_count": null,
   "metadata": {},
   "outputs": [],
   "source": []
  }
 ],
 "metadata": {
  "kernelspec": {
   "display_name": "R",
   "language": "R",
   "name": "ir"
  },
  "language_info": {
   "codemirror_mode": "r",
   "file_extension": ".r",
   "mimetype": "text/x-r-source",
   "name": "R",
   "pygments_lexer": "r",
   "version": "4.2.1"
  }
 },
 "nbformat": 4,
 "nbformat_minor": 4
}
