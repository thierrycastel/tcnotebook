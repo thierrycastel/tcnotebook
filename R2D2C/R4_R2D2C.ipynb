{
 "cells": [
  {
   "cell_type": "code",
   "execution_count": 57,
   "metadata": {},
   "outputs": [],
   "source": [
    "##################################################################\n",
    "##\n",
    "## I. définir le dossier de travail, import des librairies (packages)\n",
    "##                  lecture et chargement des données\n",
    "##\n",
    "##################################################################\n",
    "\n",
    "### Se positionner dans le répertoire des données ###\n",
    "## vous changer le 'work directory' dans RStudio via le menu\n",
    "\n",
    "setwd('../BData') ## A adapter en fonction de la localisation du dossier\n",
    "\n",
    "### chargement des paquets R pour lire et manipuler les données spatiales \n",
    "library(sf) ## lecture et écriture de données vecteurs \n",
    "##library(rgdal) ## lecture de données vecteurs"
   ]
  },
  {
   "cell_type": "code",
   "execution_count": 58,
   "metadata": {},
   "outputs": [
    {
     "name": "stdout",
     "output_type": "stream",
     "text": [
      "Reading layer `ptsampleFenayL93' from data source \n",
      "  `/home/thierry/works/R4R2D2C/BData/ptsampleFenayL93.shp' using driver `ESRI Shapefile'\n",
      "Simple feature collection with 269 features and 16 fields\n",
      "Geometry type: POINT\n",
      "Dimension:     XY\n",
      "Bounding box:  xmin: 853766.6 ymin: 6681507 xmax: 858712.6 ymax: 6684948\n",
      "Projected CRS: RGF93 / Lambert-93\n"
     ]
    }
   ],
   "source": [
    "##########################################################################\n",
    "## Charge l'ensemble des pts echantillonnes sur la zone atelier de Fenay\n",
    "## utilisation de la fonction st_read du package sf\n",
    "## pour lister l'ensemble des fonctions du package sf: help(package = \"sf\")\n",
    "\n",
    "## ?st_read ## pour afficher l'aide sur la function supprimer le commentaire ##\n",
    "\n",
    "mydata <- st_read(\"ptsampleFenayL93.shp\") ## Lecture et chargement des données\n",
    "\n",
    "\n",
    "## mydata <- readOGR(\"ptsampleFenayL93.shp\")\n",
    "## affiche le header des données"
   ]
  },
  {
   "cell_type": "code",
   "execution_count": 59,
   "metadata": {},
   "outputs": [
    {
     "data": {
      "text/html": [
       "<style>\n",
       ".list-inline {list-style: none; margin:0; padding: 0}\n",
       ".list-inline>li {display: inline-block}\n",
       ".list-inline>li:not(:last-child)::after {content: \"\\00b7\"; padding: 0 .5ex}\n",
       "</style>\n",
       "<ol class=list-inline><li>'sf'</li><li>'data.frame'</li></ol>\n"
      ],
      "text/latex": [
       "\\begin{enumerate*}\n",
       "\\item 'sf'\n",
       "\\item 'data.frame'\n",
       "\\end{enumerate*}\n"
      ],
      "text/markdown": [
       "1. 'sf'\n",
       "2. 'data.frame'\n",
       "\n",
       "\n"
      ],
      "text/plain": [
       "[1] \"sf\"         \"data.frame\""
      ]
     },
     "metadata": {},
     "output_type": "display_data"
    },
    {
     "name": "stdout",
     "output_type": "stream",
     "text": [
      "Classes ‘sf’ and 'data.frame':\t269 obs. of  17 variables:\n",
      " $ field_1   : chr  \"Py_1_2011\" \"Py_100_2011\" \"Py_101_2011\" \"Py_102_2011\" ...\n",
      " $ annee     : num  2011 2011 2011 2011 2011 ...\n",
      " $ SOC       : num  35 24.5 23 19.8 45.2 10.3 33.2 11 10.4 37.6 ...\n",
      " $ TN        : num  3.07 2.42 2.43 2.1 3.75 5.92 3.14 1.06 0.999 3.25 ...\n",
      " $ C_N       : num  11.4 10.1 9.48 9.44 12 1.74 10.6 10.4 10.4 11.6 ...\n",
      " $ PH        : num  6.78 8.1 7.5 7.51 8.06 8.25 8.2 6.78 7.75 8.13 ...\n",
      " $ Clay      : num  44.2 34.3 42 40.3 33 31 21.4 27.3 24.3 23.2 ...\n",
      " $ Sand      : num  4.5 15 8 11.6 10.1 5.6 14.4 7.9 6.5 11.8 ...\n",
      " $ XLB93     : num  857059 854843 858498 858283 855273 ...\n",
      " $ YLB93     : num  6684437 6682797 6682798 6682798 6682798 ...\n",
      " $ cat_cultur: chr  \"Foret\" \"Hiver\" \"Ete\" \"Ete\" ...\n",
      " $ Categories: chr  \"pas_de_travail\" \"Travail_intermediaire\" \"Labour\" \"Labour\" ...\n",
      " $ Shannon   : num  4.81 5.73 5.47 5.49 5.74 ...\n",
      " $ Evenness  : num  0.697 0.796 0.782 0.778 0.79 ...\n",
      " $ X1.Simpson: num  25.7 94.5 86.9 75.4 77.7 ...\n",
      " $ Biomasse  : num  230 100 69 6.6 90 37 87 23 31 6.6 ...\n",
      " $ geometry  :sfc_POINT of length 269; first list element:  'XY' num  857059 6684437\n",
      " - attr(*, \"sf_column\")= chr \"geometry\"\n",
      " - attr(*, \"agr\")= Factor w/ 3 levels \"constant\",\"aggregate\",..: NA NA NA NA NA NA NA NA NA NA ...\n",
      "  ..- attr(*, \"names\")= chr [1:16] \"field_1\" \"annee\" \"SOC\" \"TN\" ...\n"
     ]
    }
   ],
   "source": [
    "## type de l'objet mydata\n",
    "class(mydata)\n",
    "## structure de l'objet mydata\n",
    "str(mydata)"
   ]
  },
  {
   "cell_type": "code",
   "execution_count": 60,
   "metadata": {},
   "outputs": [
    {
     "data": {
      "image/png": "[encoded data removed]",
      "text/plain": [
       "Plot with title “SOC”"
      ]
     },
     "metadata": {
      "image/png": {
       "height": 420,
       "width": 420
      }
     },
     "output_type": "display_data"
    }
   ],
   "source": [
    "##################################################################\n",
    "##\n",
    "## II. Exploration des données :\n",
    "##       - graphe les données pour la variable SOC (matière organique)\n",
    "##       - trace l'histogramme pour la variable SOC\n",
    "##       - Calcul des moments d'ordre 1 : min, max, moyenne, écart-type\n",
    "##\n",
    "##################################################################\n",
    "\n",
    "## Graphe la variable SOC \n",
    "plot(mydata[\"SOC\"])"
   ]
  },
  {
   "cell_type": "code",
   "execution_count": 61,
   "metadata": {},
   "outputs": [
    {
     "data": {
      "image/png": "[encoded data removed]",
      "text/plain": [
       "Plot with title “Histogram of mydata$SOC”"
      ]
     },
     "metadata": {
      "image/png": {
       "height": 420,
       "width": 420
      }
     },
     "output_type": "display_data"
    }
   ],
   "source": [
    "## gamme et distribution des valeurs pour la variable SOC\n",
    "hist(mydata$SOC,breaks=15)"
   ]
  },
  {
   "cell_type": "code",
   "execution_count": 62,
   "metadata": {},
   "outputs": [
    {
     "data": {
      "text/html": [
       "9.5"
      ],
      "text/latex": [
       "9.5"
      ],
      "text/markdown": [
       "9.5"
      ],
      "text/plain": [
       "[1] 9.5"
      ]
     },
     "metadata": {},
     "output_type": "display_data"
    },
    {
     "data": {
      "text/html": [
       "88.6"
      ],
      "text/latex": [
       "88.6"
      ],
      "text/markdown": [
       "88.6"
      ],
      "text/plain": [
       "[1] 88.6"
      ]
     },
     "metadata": {},
     "output_type": "display_data"
    },
    {
     "data": {
      "text/html": [
       "<style>\n",
       ".list-inline {list-style: none; margin:0; padding: 0}\n",
       ".list-inline>li {display: inline-block}\n",
       ".list-inline>li:not(:last-child)::after {content: \"\\00b7\"; padding: 0 .5ex}\n",
       "</style>\n",
       "<ol class=list-inline><li>9.5</li><li>88.6</li></ol>\n"
      ],
      "text/latex": [
       "\\begin{enumerate*}\n",
       "\\item 9.5\n",
       "\\item 88.6\n",
       "\\end{enumerate*}\n"
      ],
      "text/markdown": [
       "1. 9.5\n",
       "2. 88.6\n",
       "\n",
       "\n"
      ],
      "text/plain": [
       "[1]  9.5 88.6"
      ]
     },
     "metadata": {},
     "output_type": "display_data"
    },
    {
     "data": {
      "text/html": [
       "21.3889219330855"
      ],
      "text/latex": [
       "21.3889219330855"
      ],
      "text/markdown": [
       "21.3889219330855"
      ],
      "text/plain": [
       "[1] 21.38892"
      ]
     },
     "metadata": {},
     "output_type": "display_data"
    },
    {
     "data": {
      "text/html": [
       "12.8561248814627"
      ],
      "text/latex": [
       "12.8561248814627"
      ],
      "text/markdown": [
       "12.8561248814627"
      ],
      "text/plain": [
       "[1] 12.85612"
      ]
     },
     "metadata": {},
     "output_type": "display_data"
    }
   ],
   "source": [
    "min(mydata$SOC);max(mydata$SOC)\n",
    "range(mydata$SOC)\n",
    "mean(mydata$SOC);sd(mydata$SOC)"
   ]
  },
  {
   "cell_type": "code",
   "execution_count": 63,
   "metadata": {},
   "outputs": [
    {
     "data": {
      "text/html": [
       "0.722622640747365"
      ],
      "text/latex": [
       "0.722622640747365"
      ],
      "text/markdown": [
       "0.722622640747365"
      ],
      "text/plain": [
       "[1] 0.7226226"
      ]
     },
     "metadata": {},
     "output_type": "display_data"
    },
    {
     "data": {
      "text/plain": [
       "\n",
       "Call:\n",
       "lm(formula = SOC ~ Biomasse, data = mydata)\n",
       "\n",
       "Residuals:\n",
       "    Min      1Q  Median      3Q     Max \n",
       "-54.076  -4.497  -2.043   2.393  44.848 \n",
       "\n",
       "Coefficients:\n",
       "             Estimate Std. Error t value Pr(>|t|)    \n",
       "(Intercept) 10.664388   0.829971   12.85   <2e-16 ***\n",
       "Biomasse     0.165438   0.009685   17.08   <2e-16 ***\n",
       "---\n",
       "Signif. codes:  0 ‘***’ 0.001 ‘**’ 0.01 ‘*’ 0.05 ‘.’ 0.1 ‘ ’ 1\n",
       "\n",
       "Residual standard error: 8.903 on 267 degrees of freedom\n",
       "Multiple R-squared:  0.5222,\tAdjusted R-squared:  0.5204 \n",
       "F-statistic: 291.8 on 1 and 267 DF,  p-value: < 2.2e-16\n"
      ]
     },
     "metadata": {},
     "output_type": "display_data"
    },
    {
     "data": {
      "image/png": "[encoded data removed]",
      "text/plain": [
       "plot without title"
      ]
     },
     "metadata": {
      "image/png": {
       "height": 420,
       "width": 420
      }
     },
     "output_type": "display_data"
    }
   ],
   "source": [
    "##################################################################\n",
    "##\n",
    "## III. Ajustement d'un modèle linéaire simple\n",
    "##      métrique de la qualité de l'ajustement du modèle : r et R2\n",
    "##      erreur quadratique moyenne associée à l'ajustement : RMSE\n",
    "##\n",
    "##################################################################\n",
    "\n",
    "## scatterplot de SOC vs. Biomasse\n",
    "plot(mydata$Biomasse,mydata$SOC)\n",
    "\n",
    "## Ajustement d'un modèle linéaire\n",
    "mylm <- lm(SOC~Biomasse, data = mydata)\n",
    "\n",
    "## corrélation linéaire entre les deux variables\n",
    "cor(mydata$Biomasse,mydata$SOC)\n",
    "\n",
    "## résumé des paramètres et de la qualité de l'ajustement\n",
    "summary(mylm)\n",
    "\n",
    "## Trace la modèle linéaire ajusté\n",
    "abline(mylm)\n",
    "\n",
    "###############################################\n",
    "## Que déduire de ces résultats ?\n",
    "## Commentaires ?"
   ]
  },
  {
   "cell_type": "code",
   "execution_count": 64,
   "metadata": {},
   "outputs": [
    {
     "data": {
      "text/html": [
       "8.8701695130646"
      ],
      "text/latex": [
       "8.8701695130646"
      ],
      "text/markdown": [
       "8.8701695130646"
      ],
      "text/plain": [
       "[1] 8.87017"
      ]
     },
     "metadata": {},
     "output_type": "display_data"
    }
   ],
   "source": [
    "## Calcule de la RMSE (Root Mean Squared Error) ou Erreur Quadratique Moyenne\n",
    "RMSE <- sqrt(sum(mylm$residuals^2)/length(mylm$residuals))\n",
    "RMSE"
   ]
  },
  {
   "cell_type": "code",
   "execution_count": 65,
   "metadata": {},
   "outputs": [
    {
     "data": {
      "text/html": [
       "<style>\n",
       ".list-inline {list-style: none; margin:0; padding: 0}\n",
       ".list-inline>li {display: inline-block}\n",
       ".list-inline>li:not(:last-child)::after {content: \"\\00b7\"; padding: 0 .5ex}\n",
       "</style>\n",
       "<ol class=list-inline><li>269</li><li>17</li></ol>\n"
      ],
      "text/latex": [
       "\\begin{enumerate*}\n",
       "\\item 269\n",
       "\\item 17\n",
       "\\end{enumerate*}\n"
      ],
      "text/markdown": [
       "1. 269\n",
       "2. 17\n",
       "\n",
       "\n"
      ],
      "text/plain": [
       "[1] 269  17"
      ]
     },
     "metadata": {},
     "output_type": "display_data"
    },
    {
     "data": {
      "text/html": [
       "80"
      ],
      "text/latex": [
       "80"
      ],
      "text/markdown": [
       "80"
      ],
      "text/plain": [
       "[1] 80"
      ]
     },
     "metadata": {},
     "output_type": "display_data"
    },
    {
     "data": {
      "text/html": [
       "189"
      ],
      "text/latex": [
       "189"
      ],
      "text/markdown": [
       "189"
      ],
      "text/plain": [
       "[1] 189"
      ]
     },
     "metadata": {},
     "output_type": "display_data"
    },
    {
     "data": {
      "text/html": [
       "'data.frame'"
      ],
      "text/latex": [
       "'data.frame'"
      ],
      "text/markdown": [
       "'data.frame'"
      ],
      "text/plain": [
       "[1] \"data.frame\""
      ]
     },
     "metadata": {},
     "output_type": "display_data"
    }
   ],
   "source": [
    "##############################################################\n",
    "##\n",
    "## IV. Evaluation de la robustesse du modèle linéaire ajusté\n",
    "##\n",
    "## 1- estimateur cross validation : 1 échantillon d'entraînement (training sample) ~70%\n",
    "##                                  1 échantillon de contrôle (control sample) ~30%\n",
    "##\n",
    "## 2- estimateur jackknife également appelée leave-one-out\n",
    "###############################################################\n",
    "dim(mydata) ## dimension de la table des données\n",
    "ctrlsize <- floor(dim(mydata)[1]*0.3)\n",
    "trainingsize <- dim(mydata)[1] - ctrlsize\n",
    "ctrlsize ## nombre des données dans l'échantillon de contrôle\n",
    "trainingsize ## nombre des données dans l'échanllion d'ajustement du modèle\n",
    "\n",
    "## tirage aléatoire des données pour le contrôle\n",
    "ctrl_sample <- sample(1:dim(mydata)[1], size=ctrlsize)\n",
    "\n",
    "## copie de mydata et transformation en un objet dataframe\n",
    "mydf <- mydata\n",
    "st_geometry(mydf) <- NULL ## supression de la partie spatiale\n",
    "class(mydf) ## mydf est maintenant un  objet dataframe cela va simplifier le sous-échantillonnage"
   ]
  },
  {
   "cell_type": "code",
   "execution_count": 66,
   "metadata": {},
   "outputs": [
    {
     "data": {
      "text/html": [
       "<style>\n",
       ".list-inline {list-style: none; margin:0; padding: 0}\n",
       ".list-inline>li {display: inline-block}\n",
       ".list-inline>li:not(:last-child)::after {content: \"\\00b7\"; padding: 0 .5ex}\n",
       "</style>\n",
       "<ol class=list-inline><li>189</li><li>16</li></ol>\n"
      ],
      "text/latex": [
       "\\begin{enumerate*}\n",
       "\\item 189\n",
       "\\item 16\n",
       "\\end{enumerate*}\n"
      ],
      "text/markdown": [
       "1. 189\n",
       "2. 16\n",
       "\n",
       "\n"
      ],
      "text/plain": [
       "[1] 189  16"
      ]
     },
     "metadata": {},
     "output_type": "display_data"
    },
    {
     "data": {
      "text/html": [
       "<style>\n",
       ".list-inline {list-style: none; margin:0; padding: 0}\n",
       ".list-inline>li {display: inline-block}\n",
       ".list-inline>li:not(:last-child)::after {content: \"\\00b7\"; padding: 0 .5ex}\n",
       "</style>\n",
       "<ol class=list-inline><li>80</li><li>16</li></ol>\n"
      ],
      "text/latex": [
       "\\begin{enumerate*}\n",
       "\\item 80\n",
       "\\item 16\n",
       "\\end{enumerate*}\n"
      ],
      "text/markdown": [
       "1. 80\n",
       "2. 16\n",
       "\n",
       "\n"
      ],
      "text/plain": [
       "[1] 80 16"
      ]
     },
     "metadata": {},
     "output_type": "display_data"
    },
    {
     "data": {
      "text/html": [
       "0.728458458547954"
      ],
      "text/latex": [
       "0.728458458547954"
      ],
      "text/markdown": [
       "0.728458458547954"
      ],
      "text/plain": [
       "[1] 0.7284585"
      ]
     },
     "metadata": {},
     "output_type": "display_data"
    }
   ],
   "source": [
    "#########################################################################################\n",
    "##\n",
    "## Calcul modèle d'entrainement\n",
    "##\n",
    "#########################################################################################\n",
    "## Sélection des données pour paramétrer le modèle d'entrainement\n",
    "training_mydf <- mydf[-ctrl_sample,]\n",
    "## Sélection des données pour évaluer/controler le modèle\n",
    "control_mydf <- mydf[ctrl_sample,]\n",
    "## dimension de l'échantillon\n",
    "dim(training_mydf)\n",
    "dim(control_mydf)\n",
    "## corrélation linéraire entre SOC vs Biomasse\n",
    "cor(training_mydf$Biomasse,training_mydf$SOC)\n",
    "## Ajustement du modèle linéraire à partie de l'échantillon d'entraînement\n",
    "mydflm <- lm(SOC~Biomasse, data = training_mydf)"
   ]
  },
  {
   "cell_type": "code",
   "execution_count": 67,
   "metadata": {},
   "outputs": [
    {
     "data": {
      "text/plain": [
       "\n",
       "Call:\n",
       "lm(formula = SOC ~ Biomasse, data = training_mydf)\n",
       "\n",
       "Residuals:\n",
       "    Min      1Q  Median      3Q     Max \n",
       "-48.832  -4.382  -1.832   2.268  43.168 \n",
       "\n",
       "Coefficients:\n",
       "            Estimate Std. Error t value Pr(>|t|)    \n",
       "(Intercept) 11.13245    0.91666   12.14   <2e-16 ***\n",
       "Biomasse     0.15000    0.01032   14.54   <2e-16 ***\n",
       "---\n",
       "Signif. codes:  0 ‘***’ 0.001 ‘**’ 0.01 ‘*’ 0.05 ‘.’ 0.1 ‘ ’ 1\n",
       "\n",
       "Residual standard error: 8.367 on 187 degrees of freedom\n",
       "Multiple R-squared:  0.5307,\tAdjusted R-squared:  0.5281 \n",
       "F-statistic: 211.4 on 1 and 187 DF,  p-value: < 2.2e-16\n"
      ]
     },
     "metadata": {},
     "output_type": "display_data"
    }
   ],
   "source": [
    "summary(mydflm)"
   ]
  },
  {
   "cell_type": "code",
   "execution_count": 68,
   "metadata": {},
   "outputs": [
    {
     "data": {
      "text/html": [
       "<style>\n",
       ".dl-inline {width: auto; margin:0; padding: 0}\n",
       ".dl-inline>dt, .dl-inline>dd {float: none; width: auto; display: inline-block}\n",
       ".dl-inline>dt::after {content: \":\\0020\"; padding-right: .5ex}\n",
       ".dl-inline>dt:not(:first-of-type) {padding-left: .5ex}\n",
       "</style><dl class=dl-inline><dt>(Intercept)</dt><dd>11.1324481334466</dd><dt>Biomasse</dt><dd>0.149997794473574</dd></dl>\n"
      ],
      "text/latex": [
       "\\begin{description*}\n",
       "\\item[(Intercept)] 11.1324481334466\n",
       "\\item[Biomasse] 0.149997794473574\n",
       "\\end{description*}\n"
      ],
      "text/markdown": [
       "(Intercept)\n",
       ":   11.1324481334466Biomasse\n",
       ":   0.149997794473574\n",
       "\n"
      ],
      "text/plain": [
       "(Intercept)    Biomasse \n",
       " 11.1324481   0.1499978 "
      ]
     },
     "metadata": {},
     "output_type": "display_data"
    }
   ],
   "source": [
    "coef(mydflm)"
   ]
  },
  {
   "cell_type": "code",
   "execution_count": 69,
   "metadata": {},
   "outputs": [],
   "source": [
    "## Application du modèle ajusté sur les données de controle\n",
    "## SOCpredict = a x Biomasse + b \n",
    "control_mydf$SOCpredict <- coef(mydflm)[2]*control_mydf$Biomasse + coef(mydflm)[1]"
   ]
  },
  {
   "cell_type": "code",
   "execution_count": 70,
   "metadata": {},
   "outputs": [
    {
     "data": {
      "text/html": [
       "<table class=\"dataframe\">\n",
       "<caption>A data.frame: 6 × 17</caption>\n",
       "<thead>\n",
       "\t<tr><th></th><th scope=col>field_1</th><th scope=col>annee</th><th scope=col>SOC</th><th scope=col>TN</th><th scope=col>C_N</th><th scope=col>PH</th><th scope=col>Clay</th><th scope=col>Sand</th><th scope=col>XLB93</th><th scope=col>YLB93</th><th scope=col>cat_cultur</th><th scope=col>Categories</th><th scope=col>Shannon</th><th scope=col>Evenness</th><th scope=col>X1.Simpson</th><th scope=col>Biomasse</th><th scope=col>SOCpredict</th></tr>\n",
       "\t<tr><th></th><th scope=col>&lt;chr&gt;</th><th scope=col>&lt;dbl&gt;</th><th scope=col>&lt;dbl&gt;</th><th scope=col>&lt;dbl&gt;</th><th scope=col>&lt;dbl&gt;</th><th scope=col>&lt;dbl&gt;</th><th scope=col>&lt;dbl&gt;</th><th scope=col>&lt;dbl&gt;</th><th scope=col>&lt;dbl&gt;</th><th scope=col>&lt;dbl&gt;</th><th scope=col>&lt;chr&gt;</th><th scope=col>&lt;chr&gt;</th><th scope=col>&lt;dbl&gt;</th><th scope=col>&lt;dbl&gt;</th><th scope=col>&lt;dbl&gt;</th><th scope=col>&lt;dbl&gt;</th><th scope=col>&lt;dbl&gt;</th></tr>\n",
       "</thead>\n",
       "<tbody>\n",
       "\t<tr><th scope=row>232</th><td>Py_64_2011 </td><td>2011</td><td>10.2</td><td>1.000</td><td>10.20</td><td>6.90</td><td>29.8</td><td>7.4</td><td>858282.7</td><td>6682367</td><td>Hiver       </td><td>Labour               </td><td>5.548</td><td>0.776101</td><td>64.648</td><td> 34</td><td>16.23237</td></tr>\n",
       "\t<tr><th scope=row>6</th><td>Py_104_2011</td><td>2011</td><td>10.3</td><td>5.920</td><td> 1.74</td><td>8.25</td><td>31.0</td><td>5.6</td><td>858068.2</td><td>6682798</td><td>Hiver       </td><td>Travail_intermediaire</td><td>5.519</td><td>0.771110</td><td>73.336</td><td> 37</td><td>16.68237</td></tr>\n",
       "\t<tr><th scope=row>191</th><td>Py_284_2011</td><td>2011</td><td>25.6</td><td>1.840</td><td>13.90</td><td>5.17</td><td>23.5</td><td>7.6</td><td>853982.2</td><td>6683012</td><td>Foret       </td><td>pas_de_travail       </td><td>4.788</td><td>0.691480</td><td>21.834</td><td>130</td><td>30.63216</td></tr>\n",
       "\t<tr><th scope=row>19</th><td>Py_117_2011</td><td>2011</td><td>11.2</td><td>1.080</td><td>10.30</td><td>6.31</td><td>30.6</td><td>8.1</td><td>854197.4</td><td>6683012</td><td>Brassicacees</td><td>Travail_intermediaire</td><td>5.656</td><td>0.796540</td><td>97.848</td><td> 14</td><td>13.23242</td></tr>\n",
       "\t<tr><th scope=row>69</th><td>Py_164_2011</td><td>2011</td><td>15.5</td><td>1.480</td><td>10.50</td><td>7.54</td><td>36.0</td><td>7.6</td><td>855488.6</td><td>6683443</td><td>Hiver       </td><td>Labour               </td><td>5.539</td><td>0.785992</td><td>78.993</td><td> 42</td><td>17.43236</td></tr>\n",
       "\t<tr><th scope=row>189</th><td>Py_281_2011</td><td>2011</td><td>10.5</td><td>0.924</td><td>11.40</td><td>5.96</td><td>12.5</td><td>7.4</td><td>856994.5</td><td>6683444</td><td>Foret       </td><td>pas_de_travail       </td><td>5.365</td><td>0.753554</td><td>48.157</td><td> 47</td><td>18.18234</td></tr>\n",
       "</tbody>\n",
       "</table>\n"
      ],
      "text/latex": [
       "A data.frame: 6 × 17\n",
       "\\begin{tabular}{r|lllllllllllllllll}\n",
       "  & field\\_1 & annee & SOC & TN & C\\_N & PH & Clay & Sand & XLB93 & YLB93 & cat\\_cultur & Categories & Shannon & Evenness & X1.Simpson & Biomasse & SOCpredict\\\\\n",
       "  & <chr> & <dbl> & <dbl> & <dbl> & <dbl> & <dbl> & <dbl> & <dbl> & <dbl> & <dbl> & <chr> & <chr> & <dbl> & <dbl> & <dbl> & <dbl> & <dbl>\\\\\n",
       "\\hline\n",
       "\t232 & Py\\_64\\_2011  & 2011 & 10.2 & 1.000 & 10.20 & 6.90 & 29.8 & 7.4 & 858282.7 & 6682367 & Hiver        & Labour                & 5.548 & 0.776101 & 64.648 &  34 & 16.23237\\\\\n",
       "\t6 & Py\\_104\\_2011 & 2011 & 10.3 & 5.920 &  1.74 & 8.25 & 31.0 & 5.6 & 858068.2 & 6682798 & Hiver        & Travail\\_intermediaire & 5.519 & 0.771110 & 73.336 &  37 & 16.68237\\\\\n",
       "\t191 & Py\\_284\\_2011 & 2011 & 25.6 & 1.840 & 13.90 & 5.17 & 23.5 & 7.6 & 853982.2 & 6683012 & Foret        & pas\\_de\\_travail        & 4.788 & 0.691480 & 21.834 & 130 & 30.63216\\\\\n",
       "\t19 & Py\\_117\\_2011 & 2011 & 11.2 & 1.080 & 10.30 & 6.31 & 30.6 & 8.1 & 854197.4 & 6683012 & Brassicacees & Travail\\_intermediaire & 5.656 & 0.796540 & 97.848 &  14 & 13.23242\\\\\n",
       "\t69 & Py\\_164\\_2011 & 2011 & 15.5 & 1.480 & 10.50 & 7.54 & 36.0 & 7.6 & 855488.6 & 6683443 & Hiver        & Labour                & 5.539 & 0.785992 & 78.993 &  42 & 17.43236\\\\\n",
       "\t189 & Py\\_281\\_2011 & 2011 & 10.5 & 0.924 & 11.40 & 5.96 & 12.5 & 7.4 & 856994.5 & 6683444 & Foret        & pas\\_de\\_travail        & 5.365 & 0.753554 & 48.157 &  47 & 18.18234\\\\\n",
       "\\end{tabular}\n"
      ],
      "text/markdown": [
       "\n",
       "A data.frame: 6 × 17\n",
       "\n",
       "| <!--/--> | field_1 &lt;chr&gt; | annee &lt;dbl&gt; | SOC &lt;dbl&gt; | TN &lt;dbl&gt; | C_N &lt;dbl&gt; | PH &lt;dbl&gt; | Clay &lt;dbl&gt; | Sand &lt;dbl&gt; | XLB93 &lt;dbl&gt; | YLB93 &lt;dbl&gt; | cat_cultur &lt;chr&gt; | Categories &lt;chr&gt; | Shannon &lt;dbl&gt; | Evenness &lt;dbl&gt; | X1.Simpson &lt;dbl&gt; | Biomasse &lt;dbl&gt; | SOCpredict &lt;dbl&gt; |\n",
       "|---|---|---|---|---|---|---|---|---|---|---|---|---|---|---|---|---|---|\n",
       "| 232 | Py_64_2011  | 2011 | 10.2 | 1.000 | 10.20 | 6.90 | 29.8 | 7.4 | 858282.7 | 6682367 | Hiver        | Labour                | 5.548 | 0.776101 | 64.648 |  34 | 16.23237 |\n",
       "| 6 | Py_104_2011 | 2011 | 10.3 | 5.920 |  1.74 | 8.25 | 31.0 | 5.6 | 858068.2 | 6682798 | Hiver        | Travail_intermediaire | 5.519 | 0.771110 | 73.336 |  37 | 16.68237 |\n",
       "| 191 | Py_284_2011 | 2011 | 25.6 | 1.840 | 13.90 | 5.17 | 23.5 | 7.6 | 853982.2 | 6683012 | Foret        | pas_de_travail        | 4.788 | 0.691480 | 21.834 | 130 | 30.63216 |\n",
       "| 19 | Py_117_2011 | 2011 | 11.2 | 1.080 | 10.30 | 6.31 | 30.6 | 8.1 | 854197.4 | 6683012 | Brassicacees | Travail_intermediaire | 5.656 | 0.796540 | 97.848 |  14 | 13.23242 |\n",
       "| 69 | Py_164_2011 | 2011 | 15.5 | 1.480 | 10.50 | 7.54 | 36.0 | 7.6 | 855488.6 | 6683443 | Hiver        | Labour                | 5.539 | 0.785992 | 78.993 |  42 | 17.43236 |\n",
       "| 189 | Py_281_2011 | 2011 | 10.5 | 0.924 | 11.40 | 5.96 | 12.5 | 7.4 | 856994.5 | 6683444 | Foret        | pas_de_travail        | 5.365 | 0.753554 | 48.157 |  47 | 18.18234 |\n",
       "\n"
      ],
      "text/plain": [
       "    field_1     annee SOC  TN    C_N   PH   Clay Sand XLB93    YLB93  \n",
       "232 Py_64_2011  2011  10.2 1.000 10.20 6.90 29.8 7.4  858282.7 6682367\n",
       "6   Py_104_2011 2011  10.3 5.920  1.74 8.25 31.0 5.6  858068.2 6682798\n",
       "191 Py_284_2011 2011  25.6 1.840 13.90 5.17 23.5 7.6  853982.2 6683012\n",
       "19  Py_117_2011 2011  11.2 1.080 10.30 6.31 30.6 8.1  854197.4 6683012\n",
       "69  Py_164_2011 2011  15.5 1.480 10.50 7.54 36.0 7.6  855488.6 6683443\n",
       "189 Py_281_2011 2011  10.5 0.924 11.40 5.96 12.5 7.4  856994.5 6683444\n",
       "    cat_cultur   Categories            Shannon Evenness X1.Simpson Biomasse\n",
       "232 Hiver        Labour                5.548   0.776101 64.648      34     \n",
       "6   Hiver        Travail_intermediaire 5.519   0.771110 73.336      37     \n",
       "191 Foret        pas_de_travail        4.788   0.691480 21.834     130     \n",
       "19  Brassicacees Travail_intermediaire 5.656   0.796540 97.848      14     \n",
       "69  Hiver        Labour                5.539   0.785992 78.993      42     \n",
       "189 Foret        pas_de_travail        5.365   0.753554 48.157      47     \n",
       "    SOCpredict\n",
       "232 16.23237  \n",
       "6   16.68237  \n",
       "191 30.63216  \n",
       "19  13.23242  \n",
       "69  17.43236  \n",
       "189 18.18234  "
      ]
     },
     "metadata": {},
     "output_type": "display_data"
    },
    {
     "data": {
      "text/html": [
       "<table class=\"dataframe\">\n",
       "<caption>A data.frame: 6 × 17</caption>\n",
       "<thead>\n",
       "\t<tr><th></th><th scope=col>field_1</th><th scope=col>annee</th><th scope=col>SOC</th><th scope=col>TN</th><th scope=col>C_N</th><th scope=col>PH</th><th scope=col>Clay</th><th scope=col>Sand</th><th scope=col>XLB93</th><th scope=col>YLB93</th><th scope=col>cat_cultur</th><th scope=col>Categories</th><th scope=col>Shannon</th><th scope=col>Evenness</th><th scope=col>X1.Simpson</th><th scope=col>Biomasse</th><th scope=col>SOCpredict</th></tr>\n",
       "\t<tr><th></th><th scope=col>&lt;chr&gt;</th><th scope=col>&lt;dbl&gt;</th><th scope=col>&lt;dbl&gt;</th><th scope=col>&lt;dbl&gt;</th><th scope=col>&lt;dbl&gt;</th><th scope=col>&lt;dbl&gt;</th><th scope=col>&lt;dbl&gt;</th><th scope=col>&lt;dbl&gt;</th><th scope=col>&lt;dbl&gt;</th><th scope=col>&lt;dbl&gt;</th><th scope=col>&lt;chr&gt;</th><th scope=col>&lt;chr&gt;</th><th scope=col>&lt;dbl&gt;</th><th scope=col>&lt;dbl&gt;</th><th scope=col>&lt;dbl&gt;</th><th scope=col>&lt;dbl&gt;</th><th scope=col>&lt;dbl&gt;</th></tr>\n",
       "</thead>\n",
       "<tbody>\n",
       "\t<tr><th scope=row>77</th><td>Py_172_2011</td><td>2011</td><td>26.7</td><td>2.48</td><td>10.80</td><td>7.80</td><td>46.3</td><td> 5.0</td><td>857657.4</td><td>6683475</td><td>Autres   </td><td>pas_de_travail</td><td>5.335</td><td>0.760389</td><td>45.190</td><td>110.0</td><td>27.63221</td></tr>\n",
       "\t<tr><th scope=row>182</th><td>Py_273_2011</td><td>2011</td><td>51.1</td><td>4.22</td><td>12.10</td><td>7.84</td><td>34.5</td><td> 5.3</td><td>856563.4</td><td>6684733</td><td>Foret    </td><td>pas_de_travail</td><td>5.278</td><td>0.741859</td><td>53.599</td><td>200.0</td><td>41.13201</td></tr>\n",
       "\t<tr><th scope=row>66</th><td>Py_161_2011</td><td>2011</td><td>88.6</td><td>8.33</td><td>10.60</td><td>8.03</td><td>16.5</td><td>10.0</td><td>855058.3</td><td>6683443</td><td>Foret    </td><td>pas_de_travail</td><td>5.639</td><td>0.765180</td><td>45.540</td><td>200.0</td><td>41.13201</td></tr>\n",
       "\t<tr><th scope=row>3</th><td>Py_101_2011</td><td>2011</td><td>23.0</td><td>2.43</td><td> 9.48</td><td>7.50</td><td>42.0</td><td> 8.0</td><td>858497.9</td><td>6682798</td><td>Ete      </td><td>Labour        </td><td>5.469</td><td>0.782461</td><td>86.932</td><td> 69.0</td><td>21.48230</td></tr>\n",
       "\t<tr><th scope=row>221</th><td>Py_53_2011 </td><td>2011</td><td>16.7</td><td>1.71</td><td> 9.77</td><td>8.28</td><td>32.8</td><td>11.9</td><td>857422.9</td><td>6682153</td><td>Printemps</td><td>Decompactage  </td><td>5.657</td><td>0.792811</td><td>89.443</td><td> 46.0</td><td>18.03235</td></tr>\n",
       "\t<tr><th scope=row>4</th><td>Py_102_2011</td><td>2011</td><td>19.8</td><td>2.10</td><td> 9.44</td><td>7.51</td><td>40.3</td><td>11.6</td><td>858283.0</td><td>6682798</td><td>Ete      </td><td>Labour        </td><td>5.492</td><td>0.777978</td><td>75.408</td><td>  6.6</td><td>12.12243</td></tr>\n",
       "</tbody>\n",
       "</table>\n"
      ],
      "text/latex": [
       "A data.frame: 6 × 17\n",
       "\\begin{tabular}{r|lllllllllllllllll}\n",
       "  & field\\_1 & annee & SOC & TN & C\\_N & PH & Clay & Sand & XLB93 & YLB93 & cat\\_cultur & Categories & Shannon & Evenness & X1.Simpson & Biomasse & SOCpredict\\\\\n",
       "  & <chr> & <dbl> & <dbl> & <dbl> & <dbl> & <dbl> & <dbl> & <dbl> & <dbl> & <dbl> & <chr> & <chr> & <dbl> & <dbl> & <dbl> & <dbl> & <dbl>\\\\\n",
       "\\hline\n",
       "\t77 & Py\\_172\\_2011 & 2011 & 26.7 & 2.48 & 10.80 & 7.80 & 46.3 &  5.0 & 857657.4 & 6683475 & Autres    & pas\\_de\\_travail & 5.335 & 0.760389 & 45.190 & 110.0 & 27.63221\\\\\n",
       "\t182 & Py\\_273\\_2011 & 2011 & 51.1 & 4.22 & 12.10 & 7.84 & 34.5 &  5.3 & 856563.4 & 6684733 & Foret     & pas\\_de\\_travail & 5.278 & 0.741859 & 53.599 & 200.0 & 41.13201\\\\\n",
       "\t66 & Py\\_161\\_2011 & 2011 & 88.6 & 8.33 & 10.60 & 8.03 & 16.5 & 10.0 & 855058.3 & 6683443 & Foret     & pas\\_de\\_travail & 5.639 & 0.765180 & 45.540 & 200.0 & 41.13201\\\\\n",
       "\t3 & Py\\_101\\_2011 & 2011 & 23.0 & 2.43 &  9.48 & 7.50 & 42.0 &  8.0 & 858497.9 & 6682798 & Ete       & Labour         & 5.469 & 0.782461 & 86.932 &  69.0 & 21.48230\\\\\n",
       "\t221 & Py\\_53\\_2011  & 2011 & 16.7 & 1.71 &  9.77 & 8.28 & 32.8 & 11.9 & 857422.9 & 6682153 & Printemps & Decompactage   & 5.657 & 0.792811 & 89.443 &  46.0 & 18.03235\\\\\n",
       "\t4 & Py\\_102\\_2011 & 2011 & 19.8 & 2.10 &  9.44 & 7.51 & 40.3 & 11.6 & 858283.0 & 6682798 & Ete       & Labour         & 5.492 & 0.777978 & 75.408 &   6.6 & 12.12243\\\\\n",
       "\\end{tabular}\n"
      ],
      "text/markdown": [
       "\n",
       "A data.frame: 6 × 17\n",
       "\n",
       "| <!--/--> | field_1 &lt;chr&gt; | annee &lt;dbl&gt; | SOC &lt;dbl&gt; | TN &lt;dbl&gt; | C_N &lt;dbl&gt; | PH &lt;dbl&gt; | Clay &lt;dbl&gt; | Sand &lt;dbl&gt; | XLB93 &lt;dbl&gt; | YLB93 &lt;dbl&gt; | cat_cultur &lt;chr&gt; | Categories &lt;chr&gt; | Shannon &lt;dbl&gt; | Evenness &lt;dbl&gt; | X1.Simpson &lt;dbl&gt; | Biomasse &lt;dbl&gt; | SOCpredict &lt;dbl&gt; |\n",
       "|---|---|---|---|---|---|---|---|---|---|---|---|---|---|---|---|---|---|\n",
       "| 77 | Py_172_2011 | 2011 | 26.7 | 2.48 | 10.80 | 7.80 | 46.3 |  5.0 | 857657.4 | 6683475 | Autres    | pas_de_travail | 5.335 | 0.760389 | 45.190 | 110.0 | 27.63221 |\n",
       "| 182 | Py_273_2011 | 2011 | 51.1 | 4.22 | 12.10 | 7.84 | 34.5 |  5.3 | 856563.4 | 6684733 | Foret     | pas_de_travail | 5.278 | 0.741859 | 53.599 | 200.0 | 41.13201 |\n",
       "| 66 | Py_161_2011 | 2011 | 88.6 | 8.33 | 10.60 | 8.03 | 16.5 | 10.0 | 855058.3 | 6683443 | Foret     | pas_de_travail | 5.639 | 0.765180 | 45.540 | 200.0 | 41.13201 |\n",
       "| 3 | Py_101_2011 | 2011 | 23.0 | 2.43 |  9.48 | 7.50 | 42.0 |  8.0 | 858497.9 | 6682798 | Ete       | Labour         | 5.469 | 0.782461 | 86.932 |  69.0 | 21.48230 |\n",
       "| 221 | Py_53_2011  | 2011 | 16.7 | 1.71 |  9.77 | 8.28 | 32.8 | 11.9 | 857422.9 | 6682153 | Printemps | Decompactage   | 5.657 | 0.792811 | 89.443 |  46.0 | 18.03235 |\n",
       "| 4 | Py_102_2011 | 2011 | 19.8 | 2.10 |  9.44 | 7.51 | 40.3 | 11.6 | 858283.0 | 6682798 | Ete       | Labour         | 5.492 | 0.777978 | 75.408 |   6.6 | 12.12243 |\n",
       "\n"
      ],
      "text/plain": [
       "    field_1     annee SOC  TN   C_N   PH   Clay Sand XLB93    YLB93  \n",
       "77  Py_172_2011 2011  26.7 2.48 10.80 7.80 46.3  5.0 857657.4 6683475\n",
       "182 Py_273_2011 2011  51.1 4.22 12.10 7.84 34.5  5.3 856563.4 6684733\n",
       "66  Py_161_2011 2011  88.6 8.33 10.60 8.03 16.5 10.0 855058.3 6683443\n",
       "3   Py_101_2011 2011  23.0 2.43  9.48 7.50 42.0  8.0 858497.9 6682798\n",
       "221 Py_53_2011  2011  16.7 1.71  9.77 8.28 32.8 11.9 857422.9 6682153\n",
       "4   Py_102_2011 2011  19.8 2.10  9.44 7.51 40.3 11.6 858283.0 6682798\n",
       "    cat_cultur Categories     Shannon Evenness X1.Simpson Biomasse SOCpredict\n",
       "77  Autres     pas_de_travail 5.335   0.760389 45.190     110.0    27.63221  \n",
       "182 Foret      pas_de_travail 5.278   0.741859 53.599     200.0    41.13201  \n",
       "66  Foret      pas_de_travail 5.639   0.765180 45.540     200.0    41.13201  \n",
       "3   Ete        Labour         5.469   0.782461 86.932      69.0    21.48230  \n",
       "221 Printemps  Decompactage   5.657   0.792811 89.443      46.0    18.03235  \n",
       "4   Ete        Labour         5.492   0.777978 75.408       6.6    12.12243  "
      ]
     },
     "metadata": {},
     "output_type": "display_data"
    }
   ],
   "source": [
    "head(control_mydf)\n",
    "tail(control_mydf)"
   ]
  },
  {
   "cell_type": "code",
   "execution_count": 71,
   "metadata": {},
   "outputs": [
    {
     "data": {
      "image/png": "[encoded data removed]",
      "text/plain": [
       "plot without title"
      ]
     },
     "metadata": {
      "image/png": {
       "height": 420,
       "width": 420
      }
     },
     "output_type": "display_data"
    }
   ],
   "source": [
    "## Trace SOC mesuré vs SOC prédit par le modèle linéaire\n",
    "plot(control_mydf$SOC, control_mydf$SOCpredict) ## scatterplot\n",
    "abline(0,1) ## trace la droite 1:1"
   ]
  },
  {
   "cell_type": "code",
   "execution_count": 72,
   "metadata": {},
   "outputs": [
    {
     "data": {
      "text/html": [
       "0.752228368437674"
      ],
      "text/latex": [
       "0.752228368437674"
      ],
      "text/markdown": [
       "0.752228368437674"
      ],
      "text/plain": [
       "[1] 0.7522284"
      ]
     },
     "metadata": {},
     "output_type": "display_data"
    },
    {
     "data": {
      "text/html": [
       "0.565847518282406"
      ],
      "text/latex": [
       "0.565847518282406"
      ],
      "text/markdown": [
       "0.565847518282406"
      ],
      "text/plain": [
       "[1] 0.5658475"
      ]
     },
     "metadata": {},
     "output_type": "display_data"
    },
    {
     "data": {
      "text/html": [
       "10.2164178564761"
      ],
      "text/latex": [
       "10.2164178564761"
      ],
      "text/markdown": [
       "10.2164178564761"
      ],
      "text/plain": [
       "[1] 10.21642"
      ]
     },
     "metadata": {},
     "output_type": "display_data"
    }
   ],
   "source": [
    "## Evaluataion de la qualité du modèle\n",
    "cor(control_mydf$SOC,control_mydf$SOCpredict) ## coef corrélation linéaire\n",
    "(cor(control_mydf$SOC,control_mydf$SOCpredict))^2 ## coef détermination\n",
    "RMSE <- sqrt(sum((control_mydf$SOC-control_mydf$SOCpredict)^2)/dim(control_mydf)[1])\n",
    "RMSE"
   ]
  },
  {
   "cell_type": "code",
   "execution_count": 73,
   "metadata": {},
   "outputs": [
    {
     "data": {
      "text/html": [
       "<pre class=language-r><code>function (tmp) \n",
       "{\n",
       "<span style=white-space:pre-wrap>    cvdf &lt;- tmp[, c(\"SOC\", \"Biomasse\")]</span>\n",
       "<span style=white-space:pre-wrap>    colnames(cvdf) &lt;- c(\"SOC\", \"SOCpredict\")</span>\n",
       "<span style=white-space:pre-wrap>    cvdf$SOCpredict &lt;- NA</span>\n",
       "<span style=white-space:pre-wrap>    for (i in 1:nrow(tmp)) {</span>\n",
       "<span style=white-space:pre-wrap>        t.cv &lt;- tmp[-i, ]</span>\n",
       "<span style=white-space:pre-wrap>        coeff.lm &lt;- coefficients(lm(SOC ~ Biomasse, data = t.cv))</span>\n",
       "<span style=white-space:pre-wrap>        cvdf[i, 2] &lt;- coeff.lm[2] * tmp$Biomasse[i] + coeff.lm[1]</span>\n",
       "<span style=white-space:pre-wrap>    }</span>\n",
       "<span style=white-space:pre-wrap>    r2 &lt;- cor(cvdf[, 1], cvdf[, 2], use = \"complete.obs\")^2</span>\n",
       "<span style=white-space:pre-wrap>    rmse &lt;- sqrt(mean((cvdf[, 1] - cvdf[, 2])^2, na.rm = T))</span>\n",
       "<span style=white-space:pre-wrap>    bias &lt;- mean(abs(cvdf[, 1] - cvdf[, 2]))</span>\n",
       "<span style=white-space:pre-wrap>    resultats &lt;- list(cvdata = cvdf, r2 = r2, RMSE = rmse, biais = bias)</span>\n",
       "<span style=white-space:pre-wrap>    return(resultats)</span>\n",
       "}</code></pre>"
      ],
      "text/latex": [
       "\\begin{minted}{r}\n",
       "function (tmp) \n",
       "\\{\n",
       "    cvdf <- tmp{[}, c(\"SOC\", \"Biomasse\"){]}\n",
       "    colnames(cvdf) <- c(\"SOC\", \"SOCpredict\")\n",
       "    cvdf\\$SOCpredict <- NA\n",
       "    for (i in 1:nrow(tmp)) \\{\n",
       "        t.cv <- tmp{[}-i, {]}\n",
       "        coeff.lm <- coefficients(lm(SOC \\textasciitilde{} Biomasse, data = t.cv))\n",
       "        cvdf{[}i, 2{]} <- coeff.lm{[}2{]} * tmp\\$Biomasse{[}i{]} + coeff.lm{[}1{]}\n",
       "    \\}\n",
       "    r2 <- cor(cvdf{[}, 1{]}, cvdf{[}, 2{]}, use = \"complete.obs\")\\textasciicircum{}2\n",
       "    rmse <- sqrt(mean((cvdf{[}, 1{]} - cvdf{[}, 2{]})\\textasciicircum{}2, na.rm = T))\n",
       "    bias <- mean(abs(cvdf{[}, 1{]} - cvdf{[}, 2{]}))\n",
       "    resultats <- list(cvdata = cvdf, r2 = r2, RMSE = rmse, biais = bias)\n",
       "    return(resultats)\n",
       "\\}\n",
       "\\end{minted}"
      ],
      "text/markdown": [
       "```r\n",
       "function (tmp) \n",
       "{\n",
       "    cvdf <- tmp[, c(\"SOC\", \"Biomasse\")]\n",
       "    colnames(cvdf) <- c(\"SOC\", \"SOCpredict\")\n",
       "    cvdf$SOCpredict <- NA\n",
       "    for (i in 1:nrow(tmp)) {\n",
       "        t.cv <- tmp[-i, ]\n",
       "        coeff.lm <- coefficients(lm(SOC ~ Biomasse, data = t.cv))\n",
       "        cvdf[i, 2] <- coeff.lm[2] * tmp$Biomasse[i] + coeff.lm[1]\n",
       "    }\n",
       "    r2 <- cor(cvdf[, 1], cvdf[, 2], use = \"complete.obs\")^2\n",
       "    rmse <- sqrt(mean((cvdf[, 1] - cvdf[, 2])^2, na.rm = T))\n",
       "    bias <- mean(abs(cvdf[, 1] - cvdf[, 2]))\n",
       "    resultats <- list(cvdata = cvdf, r2 = r2, RMSE = rmse, biais = bias)\n",
       "    return(resultats)\n",
       "}\n",
       "```"
      ],
      "text/plain": [
       "function (tmp) \n",
       "{\n",
       "    cvdf <- tmp[, c(\"SOC\", \"Biomasse\")]\n",
       "    colnames(cvdf) <- c(\"SOC\", \"SOCpredict\")\n",
       "    cvdf$SOCpredict <- NA\n",
       "    for (i in 1:nrow(tmp)) {\n",
       "        t.cv <- tmp[-i, ]\n",
       "        coeff.lm <- coefficients(lm(SOC ~ Biomasse, data = t.cv))\n",
       "        cvdf[i, 2] <- coeff.lm[2] * tmp$Biomasse[i] + coeff.lm[1]\n",
       "    }\n",
       "    r2 <- cor(cvdf[, 1], cvdf[, 2], use = \"complete.obs\")^2\n",
       "    rmse <- sqrt(mean((cvdf[, 1] - cvdf[, 2])^2, na.rm = T))\n",
       "    bias <- mean(abs(cvdf[, 1] - cvdf[, 2]))\n",
       "    resultats <- list(cvdata = cvdf, r2 = r2, RMSE = rmse, biais = bias)\n",
       "    return(resultats)\n",
       "}"
      ]
     },
     "metadata": {},
     "output_type": "display_data"
    }
   ],
   "source": [
    "## Estimateur Jackknife\n",
    "## charge la function myjack qui est dans le fichier funjack.R\n",
    "source(\"/home/thierry/works/R4R2D2C/RCode/funjack.R\")\n",
    "## Visualisation de la function myjack\n",
    "myjack"
   ]
  },
  {
   "cell_type": "code",
   "execution_count": 74,
   "metadata": {},
   "outputs": [],
   "source": [
    "## Evaluation du modèle linéaire avec la méthode jackknife\n",
    "resujack <- myjack(mydf)"
   ]
  },
  {
   "cell_type": "code",
   "execution_count": 75,
   "metadata": {},
   "outputs": [
    {
     "name": "stdout",
     "output_type": "stream",
     "text": [
      "List of 4\n",
      " $ cvdata:'data.frame':\t269 obs. of  2 variables:\n",
      "  ..$ SOC       : num [1:269] 35 24.5 23 19.8 45.2 10.3 33.2 11 10.4 37.6 ...\n",
      "  ..$ SOCpredict: num [1:269] 49.2 27.2 22.1 11.7 25.5 ...\n",
      " $ r2    : num 0.496\n",
      " $ RMSE  : num 9.12\n",
      " $ biais : num 5.78\n"
     ]
    }
   ],
   "source": [
    "str(resujack)"
   ]
  },
  {
   "cell_type": "code",
   "execution_count": 76,
   "metadata": {},
   "outputs": [],
   "source": [
    "##############################################################\n",
    "##\n",
    "## IV. Modèle multi-linéaire \n",
    "## - Sélection de variables (régresseurs) via des critères d'information d'Akaike (AIC), critère d'information bayésien (BIC)\n",
    "## - Contribution des variables\n",
    "###############################################################\n",
    "## chargement de la librairie pour la sélection\n",
    "library(leaps)\n",
    "## chargement de la librairie pour estimer l'importance relative des variables sélectionnées\n",
    "library(relaimpo)\n"
   ]
  },
  {
   "cell_type": "code",
   "execution_count": 77,
   "metadata": {},
   "outputs": [
    {
     "data": {
      "text/html": [
       "<table class=\"dataframe\">\n",
       "<caption>A data.frame: 6 × 16</caption>\n",
       "<thead>\n",
       "\t<tr><th></th><th scope=col>field_1</th><th scope=col>annee</th><th scope=col>SOC</th><th scope=col>TN</th><th scope=col>C_N</th><th scope=col>PH</th><th scope=col>Clay</th><th scope=col>Sand</th><th scope=col>XLB93</th><th scope=col>YLB93</th><th scope=col>cat_cultur</th><th scope=col>Categories</th><th scope=col>Shannon</th><th scope=col>Evenness</th><th scope=col>X1.Simpson</th><th scope=col>Biomasse</th></tr>\n",
       "\t<tr><th></th><th scope=col>&lt;chr&gt;</th><th scope=col>&lt;dbl&gt;</th><th scope=col>&lt;dbl&gt;</th><th scope=col>&lt;dbl&gt;</th><th scope=col>&lt;dbl&gt;</th><th scope=col>&lt;dbl&gt;</th><th scope=col>&lt;dbl&gt;</th><th scope=col>&lt;dbl&gt;</th><th scope=col>&lt;dbl&gt;</th><th scope=col>&lt;dbl&gt;</th><th scope=col>&lt;chr&gt;</th><th scope=col>&lt;chr&gt;</th><th scope=col>&lt;dbl&gt;</th><th scope=col>&lt;dbl&gt;</th><th scope=col>&lt;dbl&gt;</th><th scope=col>&lt;dbl&gt;</th></tr>\n",
       "</thead>\n",
       "<tbody>\n",
       "\t<tr><th scope=row>1</th><td>Py_1_2011  </td><td>2011</td><td>35.0</td><td>3.070</td><td>11.4</td><td>6.78</td><td>44.2</td><td>4.5</td><td>857058.6</td><td>6684437</td><td>Foret</td><td>pas_de_travail       </td><td>4.810</td><td>0.697131</td><td> 25.743</td><td>230</td></tr>\n",
       "\t<tr><th scope=row>9</th><td>Py_108_2011</td><td>2011</td><td>10.4</td><td>0.999</td><td>10.4</td><td>7.75</td><td>24.3</td><td>6.5</td><td>857638.5</td><td>6682798</td><td>Hiver</td><td>Travail_intermediaire</td><td>5.616</td><td>0.785689</td><td> 81.258</td><td> 31</td></tr>\n",
       "\t<tr><th scope=row>11</th><td>Py_11_2011 </td><td>2011</td><td>10.8</td><td>1.060</td><td>10.1</td><td>7.16</td><td>22.0</td><td>9.3</td><td>856375.5</td><td>6684113</td><td>Hiver</td><td>Labour               </td><td>5.519</td><td>0.775484</td><td> 68.460</td><td> 28</td></tr>\n",
       "\t<tr><th scope=row>12</th><td>Py_110_2011</td><td>2011</td><td>11.6</td><td>1.140</td><td>10.2</td><td>7.93</td><td>39.0</td><td>5.6</td><td>857423.6</td><td>6682798</td><td>Ete  </td><td>Labour               </td><td>5.411</td><td>0.764693</td><td> 52.544</td><td> 42</td></tr>\n",
       "\t<tr><th scope=row>13</th><td>Py_111_2011</td><td>2011</td><td>14.0</td><td>1.380</td><td>10.2</td><td>8.29</td><td>40.0</td><td>9.5</td><td>857208.7</td><td>6682798</td><td>Hiver</td><td>Travail_intermediaire</td><td>5.705</td><td>0.800515</td><td>101.021</td><td> 16</td></tr>\n",
       "\t<tr><th scope=row>14</th><td>Py_112_2011</td><td>2011</td><td>38.7</td><td>3.110</td><td>12.4</td><td>7.23</td><td>44.5</td><td>7.2</td><td>856348.7</td><td>6682798</td><td>Foret</td><td>pas_de_travail       </td><td>5.210</td><td>0.742701</td><td> 41.946</td><td>180</td></tr>\n",
       "</tbody>\n",
       "</table>\n"
      ],
      "text/latex": [
       "A data.frame: 6 × 16\n",
       "\\begin{tabular}{r|llllllllllllllll}\n",
       "  & field\\_1 & annee & SOC & TN & C\\_N & PH & Clay & Sand & XLB93 & YLB93 & cat\\_cultur & Categories & Shannon & Evenness & X1.Simpson & Biomasse\\\\\n",
       "  & <chr> & <dbl> & <dbl> & <dbl> & <dbl> & <dbl> & <dbl> & <dbl> & <dbl> & <dbl> & <chr> & <chr> & <dbl> & <dbl> & <dbl> & <dbl>\\\\\n",
       "\\hline\n",
       "\t1 & Py\\_1\\_2011   & 2011 & 35.0 & 3.070 & 11.4 & 6.78 & 44.2 & 4.5 & 857058.6 & 6684437 & Foret & pas\\_de\\_travail        & 4.810 & 0.697131 &  25.743 & 230\\\\\n",
       "\t9 & Py\\_108\\_2011 & 2011 & 10.4 & 0.999 & 10.4 & 7.75 & 24.3 & 6.5 & 857638.5 & 6682798 & Hiver & Travail\\_intermediaire & 5.616 & 0.785689 &  81.258 &  31\\\\\n",
       "\t11 & Py\\_11\\_2011  & 2011 & 10.8 & 1.060 & 10.1 & 7.16 & 22.0 & 9.3 & 856375.5 & 6684113 & Hiver & Labour                & 5.519 & 0.775484 &  68.460 &  28\\\\\n",
       "\t12 & Py\\_110\\_2011 & 2011 & 11.6 & 1.140 & 10.2 & 7.93 & 39.0 & 5.6 & 857423.6 & 6682798 & Ete   & Labour                & 5.411 & 0.764693 &  52.544 &  42\\\\\n",
       "\t13 & Py\\_111\\_2011 & 2011 & 14.0 & 1.380 & 10.2 & 8.29 & 40.0 & 9.5 & 857208.7 & 6682798 & Hiver & Travail\\_intermediaire & 5.705 & 0.800515 & 101.021 &  16\\\\\n",
       "\t14 & Py\\_112\\_2011 & 2011 & 38.7 & 3.110 & 12.4 & 7.23 & 44.5 & 7.2 & 856348.7 & 6682798 & Foret & pas\\_de\\_travail        & 5.210 & 0.742701 &  41.946 & 180\\\\\n",
       "\\end{tabular}\n"
      ],
      "text/markdown": [
       "\n",
       "A data.frame: 6 × 16\n",
       "\n",
       "| <!--/--> | field_1 &lt;chr&gt; | annee &lt;dbl&gt; | SOC &lt;dbl&gt; | TN &lt;dbl&gt; | C_N &lt;dbl&gt; | PH &lt;dbl&gt; | Clay &lt;dbl&gt; | Sand &lt;dbl&gt; | XLB93 &lt;dbl&gt; | YLB93 &lt;dbl&gt; | cat_cultur &lt;chr&gt; | Categories &lt;chr&gt; | Shannon &lt;dbl&gt; | Evenness &lt;dbl&gt; | X1.Simpson &lt;dbl&gt; | Biomasse &lt;dbl&gt; |\n",
       "|---|---|---|---|---|---|---|---|---|---|---|---|---|---|---|---|---|\n",
       "| 1 | Py_1_2011   | 2011 | 35.0 | 3.070 | 11.4 | 6.78 | 44.2 | 4.5 | 857058.6 | 6684437 | Foret | pas_de_travail        | 4.810 | 0.697131 |  25.743 | 230 |\n",
       "| 9 | Py_108_2011 | 2011 | 10.4 | 0.999 | 10.4 | 7.75 | 24.3 | 6.5 | 857638.5 | 6682798 | Hiver | Travail_intermediaire | 5.616 | 0.785689 |  81.258 |  31 |\n",
       "| 11 | Py_11_2011  | 2011 | 10.8 | 1.060 | 10.1 | 7.16 | 22.0 | 9.3 | 856375.5 | 6684113 | Hiver | Labour                | 5.519 | 0.775484 |  68.460 |  28 |\n",
       "| 12 | Py_110_2011 | 2011 | 11.6 | 1.140 | 10.2 | 7.93 | 39.0 | 5.6 | 857423.6 | 6682798 | Ete   | Labour                | 5.411 | 0.764693 |  52.544 |  42 |\n",
       "| 13 | Py_111_2011 | 2011 | 14.0 | 1.380 | 10.2 | 8.29 | 40.0 | 9.5 | 857208.7 | 6682798 | Hiver | Travail_intermediaire | 5.705 | 0.800515 | 101.021 |  16 |\n",
       "| 14 | Py_112_2011 | 2011 | 38.7 | 3.110 | 12.4 | 7.23 | 44.5 | 7.2 | 856348.7 | 6682798 | Foret | pas_de_travail        | 5.210 | 0.742701 |  41.946 | 180 |\n",
       "\n"
      ],
      "text/plain": [
       "   field_1     annee SOC  TN    C_N  PH   Clay Sand XLB93    YLB93   cat_cultur\n",
       "1  Py_1_2011   2011  35.0 3.070 11.4 6.78 44.2 4.5  857058.6 6684437 Foret     \n",
       "9  Py_108_2011 2011  10.4 0.999 10.4 7.75 24.3 6.5  857638.5 6682798 Hiver     \n",
       "11 Py_11_2011  2011  10.8 1.060 10.1 7.16 22.0 9.3  856375.5 6684113 Hiver     \n",
       "12 Py_110_2011 2011  11.6 1.140 10.2 7.93 39.0 5.6  857423.6 6682798 Ete       \n",
       "13 Py_111_2011 2011  14.0 1.380 10.2 8.29 40.0 9.5  857208.7 6682798 Hiver     \n",
       "14 Py_112_2011 2011  38.7 3.110 12.4 7.23 44.5 7.2  856348.7 6682798 Foret     \n",
       "   Categories            Shannon Evenness X1.Simpson Biomasse\n",
       "1  pas_de_travail        4.810   0.697131  25.743    230     \n",
       "9  Travail_intermediaire 5.616   0.785689  81.258     31     \n",
       "11 Labour                5.519   0.775484  68.460     28     \n",
       "12 Labour                5.411   0.764693  52.544     42     \n",
       "13 Travail_intermediaire 5.705   0.800515 101.021     16     \n",
       "14 pas_de_travail        5.210   0.742701  41.946    180     "
      ]
     },
     "metadata": {},
     "output_type": "display_data"
    }
   ],
   "source": [
    "head(training_mydf) ## utilise l'ensemble des variables numériques\n",
    "## la fonction \n",
    "choix_variables <- regsubsets(SOC ~ TN + C_N + PH + Clay + Shannon + Evenness + X1.Simpson + Biomasse, \n",
    "                              data = training_mydf)"
   ]
  },
  {
   "cell_type": "code",
   "execution_count": 78,
   "metadata": {},
   "outputs": [
    {
     "data": {
      "image/png": "[encoded data removed]",
      "text/plain": [
       "plot without title"
      ]
     },
     "metadata": {
      "image/png": {
       "height": 420,
       "width": 420
      }
     },
     "output_type": "display_data"
    },
    {
     "data": {
      "image/png": "[encoded data removed]",
      "text/plain": [
       "plot without title"
      ]
     },
     "metadata": {
      "image/png": {
       "height": 420,
       "width": 420
      }
     },
     "output_type": "display_data"
    }
   ],
   "source": [
    "## trace le critère d'information ici le BIC (équivalent du AIC)\n",
    "## pour ce critère on va retenir la combinaison des variables qui minimise la valeur du BIC\n",
    "## pour un autre critère come le R2 ajusté on va retenir la combinaison qui maximise la valeur\n",
    "plot(choix_variables, scale=c(\"bic\"))\n",
    "plot(choix_variables, scale=c(\"adjr2\"))\n",
    "\n",
    "#####################################################################################################################\n",
    "## Question : vue les résultats avec ces deux critères quelles sont les variables et donc le modèle sélectionnée ?\n",
    "#####################################################################################################################"
   ]
  },
  {
   "cell_type": "code",
   "execution_count": 79,
   "metadata": {},
   "outputs": [
    {
     "data": {
      "text/plain": [
       "\n",
       "Call:\n",
       "lm(formula = SOC ~ TN + C_N + PH + Biomasse, data = training_mydf)\n",
       "\n",
       "Residuals:\n",
       "    Min      1Q  Median      3Q     Max \n",
       "-50.018  -2.097  -0.128   1.568  23.790 \n",
       "\n",
       "Coefficients:\n",
       "             Estimate Std. Error t value Pr(>|t|)    \n",
       "(Intercept) -54.54680    7.32250  -7.449 3.53e-12 ***\n",
       "TN            4.79134    0.55577   8.621 3.01e-15 ***\n",
       "C_N           3.49255    0.28618  12.204  < 2e-16 ***\n",
       "PH            3.19538    0.76782   4.162 4.85e-05 ***\n",
       "Biomasse      0.06156    0.01289   4.778 3.61e-06 ***\n",
       "---\n",
       "Signif. codes:  0 ‘***’ 0.001 ‘**’ 0.01 ‘*’ 0.05 ‘.’ 0.1 ‘ ’ 1\n",
       "\n",
       "Residual standard error: 5.901 on 184 degrees of freedom\n",
       "Multiple R-squared:  0.7703,\tAdjusted R-squared:  0.7653 \n",
       "F-statistic: 154.3 on 4 and 184 DF,  p-value: < 2.2e-16\n"
      ]
     },
     "metadata": {},
     "output_type": "display_data"
    }
   ],
   "source": [
    "## prenons par exemple le modèle SOC = fn(TN, C_N, PH, Biomasse)\n",
    "mydfmlm <- lm(SOC~TN+C_N+PH+Biomasse, data = training_mydf)\n",
    "summary(mydfmlm)"
   ]
  },
  {
   "cell_type": "code",
   "execution_count": 80,
   "metadata": {},
   "outputs": [
    {
     "data": {
      "text/html": [
       "<table class=\"dataframe\">\n",
       "<caption>A data.frame: 6 × 4</caption>\n",
       "<thead>\n",
       "\t<tr><th></th><th scope=col>TN</th><th scope=col>C_N</th><th scope=col>PH</th><th scope=col>Biomasse</th></tr>\n",
       "\t<tr><th></th><th scope=col>&lt;dbl&gt;</th><th scope=col>&lt;dbl&gt;</th><th scope=col>&lt;dbl&gt;</th><th scope=col>&lt;dbl&gt;</th></tr>\n",
       "</thead>\n",
       "<tbody>\n",
       "\t<tr><th scope=row>232</th><td>1.000</td><td>10.20</td><td>6.90</td><td> 34</td></tr>\n",
       "\t<tr><th scope=row>6</th><td>5.920</td><td> 1.74</td><td>8.25</td><td> 37</td></tr>\n",
       "\t<tr><th scope=row>191</th><td>1.840</td><td>13.90</td><td>5.17</td><td>130</td></tr>\n",
       "\t<tr><th scope=row>19</th><td>1.080</td><td>10.30</td><td>6.31</td><td> 14</td></tr>\n",
       "\t<tr><th scope=row>69</th><td>1.480</td><td>10.50</td><td>7.54</td><td> 42</td></tr>\n",
       "\t<tr><th scope=row>189</th><td>0.924</td><td>11.40</td><td>5.96</td><td> 47</td></tr>\n",
       "</tbody>\n",
       "</table>\n"
      ],
      "text/latex": [
       "A data.frame: 6 × 4\n",
       "\\begin{tabular}{r|llll}\n",
       "  & TN & C\\_N & PH & Biomasse\\\\\n",
       "  & <dbl> & <dbl> & <dbl> & <dbl>\\\\\n",
       "\\hline\n",
       "\t232 & 1.000 & 10.20 & 6.90 &  34\\\\\n",
       "\t6 & 5.920 &  1.74 & 8.25 &  37\\\\\n",
       "\t191 & 1.840 & 13.90 & 5.17 & 130\\\\\n",
       "\t19 & 1.080 & 10.30 & 6.31 &  14\\\\\n",
       "\t69 & 1.480 & 10.50 & 7.54 &  42\\\\\n",
       "\t189 & 0.924 & 11.40 & 5.96 &  47\\\\\n",
       "\\end{tabular}\n"
      ],
      "text/markdown": [
       "\n",
       "A data.frame: 6 × 4\n",
       "\n",
       "| <!--/--> | TN &lt;dbl&gt; | C_N &lt;dbl&gt; | PH &lt;dbl&gt; | Biomasse &lt;dbl&gt; |\n",
       "|---|---|---|---|---|\n",
       "| 232 | 1.000 | 10.20 | 6.90 |  34 |\n",
       "| 6 | 5.920 |  1.74 | 8.25 |  37 |\n",
       "| 191 | 1.840 | 13.90 | 5.17 | 130 |\n",
       "| 19 | 1.080 | 10.30 | 6.31 |  14 |\n",
       "| 69 | 1.480 | 10.50 | 7.54 |  42 |\n",
       "| 189 | 0.924 | 11.40 | 5.96 |  47 |\n",
       "\n"
      ],
      "text/plain": [
       "    TN    C_N   PH   Biomasse\n",
       "232 1.000 10.20 6.90  34     \n",
       "6   5.920  1.74 8.25  37     \n",
       "191 1.840 13.90 5.17 130     \n",
       "19  1.080 10.30 6.31  14     \n",
       "69  1.480 10.50 7.54  42     \n",
       "189 0.924 11.40 5.96  47     "
      ]
     },
     "metadata": {},
     "output_type": "display_data"
    }
   ],
   "source": [
    "## Qu'en déduisez vous quand au score du modèle multilinéaire comparativement au modèle linéaire simple ?\n",
    "## Evaluer la performance du modèle en vous appuyant sur l'échantillon de contrôle\n",
    "control_varselect <- control_mydf[,c(\"TN\", \"C_N\", \"PH\", \"Biomasse\")]\n",
    "head(control_varselect)\n",
    "control_mydf$SOCpredmlm <- predict.lm(mydfmlm, control_varselect)"
   ]
  },
  {
   "cell_type": "code",
   "execution_count": 81,
   "metadata": {},
   "outputs": [
    {
     "data": {
      "text/html": [
       "<table class=\"dataframe\">\n",
       "<caption>A data.frame: 6 × 18</caption>\n",
       "<thead>\n",
       "\t<tr><th></th><th scope=col>field_1</th><th scope=col>annee</th><th scope=col>SOC</th><th scope=col>TN</th><th scope=col>C_N</th><th scope=col>PH</th><th scope=col>Clay</th><th scope=col>Sand</th><th scope=col>XLB93</th><th scope=col>YLB93</th><th scope=col>cat_cultur</th><th scope=col>Categories</th><th scope=col>Shannon</th><th scope=col>Evenness</th><th scope=col>X1.Simpson</th><th scope=col>Biomasse</th><th scope=col>SOCpredict</th><th scope=col>SOCpredmlm</th></tr>\n",
       "\t<tr><th></th><th scope=col>&lt;chr&gt;</th><th scope=col>&lt;dbl&gt;</th><th scope=col>&lt;dbl&gt;</th><th scope=col>&lt;dbl&gt;</th><th scope=col>&lt;dbl&gt;</th><th scope=col>&lt;dbl&gt;</th><th scope=col>&lt;dbl&gt;</th><th scope=col>&lt;dbl&gt;</th><th scope=col>&lt;dbl&gt;</th><th scope=col>&lt;dbl&gt;</th><th scope=col>&lt;chr&gt;</th><th scope=col>&lt;chr&gt;</th><th scope=col>&lt;dbl&gt;</th><th scope=col>&lt;dbl&gt;</th><th scope=col>&lt;dbl&gt;</th><th scope=col>&lt;dbl&gt;</th><th scope=col>&lt;dbl&gt;</th><th scope=col>&lt;dbl&gt;</th></tr>\n",
       "</thead>\n",
       "<tbody>\n",
       "\t<tr><th scope=row>232</th><td>Py_64_2011 </td><td>2011</td><td>10.2</td><td>1.000</td><td>10.20</td><td>6.90</td><td>29.8</td><td>7.4</td><td>858282.7</td><td>6682367</td><td>Hiver       </td><td>Labour               </td><td>5.548</td><td>0.776101</td><td>64.648</td><td> 34</td><td>16.23237</td><td>10.009851</td></tr>\n",
       "\t<tr><th scope=row>6</th><td>Py_104_2011</td><td>2011</td><td>10.3</td><td>5.920</td><td> 1.74</td><td>8.25</td><td>31.0</td><td>5.6</td><td>858068.2</td><td>6682798</td><td>Hiver       </td><td>Travail_intermediaire</td><td>5.519</td><td>0.771110</td><td>73.336</td><td> 37</td><td>16.68237</td><td> 8.534674</td></tr>\n",
       "\t<tr><th scope=row>191</th><td>Py_284_2011</td><td>2011</td><td>25.6</td><td>1.840</td><td>13.90</td><td>5.17</td><td>23.5</td><td>7.6</td><td>853982.2</td><td>6683012</td><td>Foret       </td><td>pas_de_travail       </td><td>4.788</td><td>0.691480</td><td>21.834</td><td>130</td><td>30.63216</td><td>27.339152</td></tr>\n",
       "\t<tr><th scope=row>19</th><td>Py_117_2011</td><td>2011</td><td>11.2</td><td>1.080</td><td>10.30</td><td>6.31</td><td>30.6</td><td>8.1</td><td>854197.4</td><td>6683012</td><td>Brassicacees</td><td>Travail_intermediaire</td><td>5.656</td><td>0.796540</td><td>97.848</td><td> 14</td><td>13.23242</td><td> 7.625865</td></tr>\n",
       "\t<tr><th scope=row>69</th><td>Py_164_2011</td><td>2011</td><td>15.5</td><td>1.480</td><td>10.50</td><td>7.54</td><td>36.0</td><td>7.6</td><td>855488.6</td><td>6683443</td><td>Hiver       </td><td>Labour               </td><td>5.539</td><td>0.785992</td><td>78.993</td><td> 42</td><td>17.43236</td><td>15.895011</td></tr>\n",
       "\t<tr><th scope=row>189</th><td>Py_281_2011</td><td>2011</td><td>10.5</td><td>0.924</td><td>11.40</td><td>5.96</td><td>12.5</td><td>7.4</td><td>856994.5</td><td>6683444</td><td>Foret       </td><td>pas_de_travail       </td><td>5.365</td><td>0.753554</td><td>48.157</td><td> 47</td><td>18.18234</td><td>11.633451</td></tr>\n",
       "</tbody>\n",
       "</table>\n"
      ],
      "text/latex": [
       "A data.frame: 6 × 18\n",
       "\\begin{tabular}{r|llllllllllllllllll}\n",
       "  & field\\_1 & annee & SOC & TN & C\\_N & PH & Clay & Sand & XLB93 & YLB93 & cat\\_cultur & Categories & Shannon & Evenness & X1.Simpson & Biomasse & SOCpredict & SOCpredmlm\\\\\n",
       "  & <chr> & <dbl> & <dbl> & <dbl> & <dbl> & <dbl> & <dbl> & <dbl> & <dbl> & <dbl> & <chr> & <chr> & <dbl> & <dbl> & <dbl> & <dbl> & <dbl> & <dbl>\\\\\n",
       "\\hline\n",
       "\t232 & Py\\_64\\_2011  & 2011 & 10.2 & 1.000 & 10.20 & 6.90 & 29.8 & 7.4 & 858282.7 & 6682367 & Hiver        & Labour                & 5.548 & 0.776101 & 64.648 &  34 & 16.23237 & 10.009851\\\\\n",
       "\t6 & Py\\_104\\_2011 & 2011 & 10.3 & 5.920 &  1.74 & 8.25 & 31.0 & 5.6 & 858068.2 & 6682798 & Hiver        & Travail\\_intermediaire & 5.519 & 0.771110 & 73.336 &  37 & 16.68237 &  8.534674\\\\\n",
       "\t191 & Py\\_284\\_2011 & 2011 & 25.6 & 1.840 & 13.90 & 5.17 & 23.5 & 7.6 & 853982.2 & 6683012 & Foret        & pas\\_de\\_travail        & 4.788 & 0.691480 & 21.834 & 130 & 30.63216 & 27.339152\\\\\n",
       "\t19 & Py\\_117\\_2011 & 2011 & 11.2 & 1.080 & 10.30 & 6.31 & 30.6 & 8.1 & 854197.4 & 6683012 & Brassicacees & Travail\\_intermediaire & 5.656 & 0.796540 & 97.848 &  14 & 13.23242 &  7.625865\\\\\n",
       "\t69 & Py\\_164\\_2011 & 2011 & 15.5 & 1.480 & 10.50 & 7.54 & 36.0 & 7.6 & 855488.6 & 6683443 & Hiver        & Labour                & 5.539 & 0.785992 & 78.993 &  42 & 17.43236 & 15.895011\\\\\n",
       "\t189 & Py\\_281\\_2011 & 2011 & 10.5 & 0.924 & 11.40 & 5.96 & 12.5 & 7.4 & 856994.5 & 6683444 & Foret        & pas\\_de\\_travail        & 5.365 & 0.753554 & 48.157 &  47 & 18.18234 & 11.633451\\\\\n",
       "\\end{tabular}\n"
      ],
      "text/markdown": [
       "\n",
       "A data.frame: 6 × 18\n",
       "\n",
       "| <!--/--> | field_1 &lt;chr&gt; | annee &lt;dbl&gt; | SOC &lt;dbl&gt; | TN &lt;dbl&gt; | C_N &lt;dbl&gt; | PH &lt;dbl&gt; | Clay &lt;dbl&gt; | Sand &lt;dbl&gt; | XLB93 &lt;dbl&gt; | YLB93 &lt;dbl&gt; | cat_cultur &lt;chr&gt; | Categories &lt;chr&gt; | Shannon &lt;dbl&gt; | Evenness &lt;dbl&gt; | X1.Simpson &lt;dbl&gt; | Biomasse &lt;dbl&gt; | SOCpredict &lt;dbl&gt; | SOCpredmlm &lt;dbl&gt; |\n",
       "|---|---|---|---|---|---|---|---|---|---|---|---|---|---|---|---|---|---|---|\n",
       "| 232 | Py_64_2011  | 2011 | 10.2 | 1.000 | 10.20 | 6.90 | 29.8 | 7.4 | 858282.7 | 6682367 | Hiver        | Labour                | 5.548 | 0.776101 | 64.648 |  34 | 16.23237 | 10.009851 |\n",
       "| 6 | Py_104_2011 | 2011 | 10.3 | 5.920 |  1.74 | 8.25 | 31.0 | 5.6 | 858068.2 | 6682798 | Hiver        | Travail_intermediaire | 5.519 | 0.771110 | 73.336 |  37 | 16.68237 |  8.534674 |\n",
       "| 191 | Py_284_2011 | 2011 | 25.6 | 1.840 | 13.90 | 5.17 | 23.5 | 7.6 | 853982.2 | 6683012 | Foret        | pas_de_travail        | 4.788 | 0.691480 | 21.834 | 130 | 30.63216 | 27.339152 |\n",
       "| 19 | Py_117_2011 | 2011 | 11.2 | 1.080 | 10.30 | 6.31 | 30.6 | 8.1 | 854197.4 | 6683012 | Brassicacees | Travail_intermediaire | 5.656 | 0.796540 | 97.848 |  14 | 13.23242 |  7.625865 |\n",
       "| 69 | Py_164_2011 | 2011 | 15.5 | 1.480 | 10.50 | 7.54 | 36.0 | 7.6 | 855488.6 | 6683443 | Hiver        | Labour                | 5.539 | 0.785992 | 78.993 |  42 | 17.43236 | 15.895011 |\n",
       "| 189 | Py_281_2011 | 2011 | 10.5 | 0.924 | 11.40 | 5.96 | 12.5 | 7.4 | 856994.5 | 6683444 | Foret        | pas_de_travail        | 5.365 | 0.753554 | 48.157 |  47 | 18.18234 | 11.633451 |\n",
       "\n"
      ],
      "text/plain": [
       "    field_1     annee SOC  TN    C_N   PH   Clay Sand XLB93    YLB93  \n",
       "232 Py_64_2011  2011  10.2 1.000 10.20 6.90 29.8 7.4  858282.7 6682367\n",
       "6   Py_104_2011 2011  10.3 5.920  1.74 8.25 31.0 5.6  858068.2 6682798\n",
       "191 Py_284_2011 2011  25.6 1.840 13.90 5.17 23.5 7.6  853982.2 6683012\n",
       "19  Py_117_2011 2011  11.2 1.080 10.30 6.31 30.6 8.1  854197.4 6683012\n",
       "69  Py_164_2011 2011  15.5 1.480 10.50 7.54 36.0 7.6  855488.6 6683443\n",
       "189 Py_281_2011 2011  10.5 0.924 11.40 5.96 12.5 7.4  856994.5 6683444\n",
       "    cat_cultur   Categories            Shannon Evenness X1.Simpson Biomasse\n",
       "232 Hiver        Labour                5.548   0.776101 64.648      34     \n",
       "6   Hiver        Travail_intermediaire 5.519   0.771110 73.336      37     \n",
       "191 Foret        pas_de_travail        4.788   0.691480 21.834     130     \n",
       "19  Brassicacees Travail_intermediaire 5.656   0.796540 97.848      14     \n",
       "69  Hiver        Labour                5.539   0.785992 78.993      42     \n",
       "189 Foret        pas_de_travail        5.365   0.753554 48.157      47     \n",
       "    SOCpredict SOCpredmlm\n",
       "232 16.23237   10.009851 \n",
       "6   16.68237    8.534674 \n",
       "191 30.63216   27.339152 \n",
       "19  13.23242    7.625865 \n",
       "69  17.43236   15.895011 \n",
       "189 18.18234   11.633451 "
      ]
     },
     "metadata": {},
     "output_type": "display_data"
    }
   ],
   "source": [
    "head(control_mydf)"
   ]
  },
  {
   "cell_type": "code",
   "execution_count": 82,
   "metadata": {},
   "outputs": [
    {
     "data": {
      "image/png": "[encoded data removed]",
      "text/plain": [
       "plot without title"
      ]
     },
     "metadata": {
      "image/png": {
       "height": 420,
       "width": 420
      }
     },
     "output_type": "display_data"
    }
   ],
   "source": [
    "## Trace SOC mesuré vs SOC prédit par le modèle multi-linéaire\n",
    "plot(control_mydf$SOC, control_mydf$SOCpredmlm) ## scatterplot\n",
    "abline(0,1) ## trace la droite 1:1"
   ]
  },
  {
   "cell_type": "code",
   "execution_count": 83,
   "metadata": {},
   "outputs": [
    {
     "data": {
      "text/html": [
       "0.952270963097303"
      ],
      "text/latex": [
       "0.952270963097303"
      ],
      "text/markdown": [
       "0.952270963097303"
      ],
      "text/plain": [
       "[1] 0.952271"
      ]
     },
     "metadata": {},
     "output_type": "display_data"
    },
    {
     "data": {
      "text/html": [
       "0.906819987158265"
      ],
      "text/latex": [
       "0.906819987158265"
      ],
      "text/markdown": [
       "0.906819987158265"
      ],
      "text/plain": [
       "[1] 0.90682"
      ]
     },
     "metadata": {},
     "output_type": "display_data"
    },
    {
     "data": {
      "text/html": [
       "5.60386537557736"
      ],
      "text/latex": [
       "5.60386537557736"
      ],
      "text/markdown": [
       "5.60386537557736"
      ],
      "text/plain": [
       "[1] 5.603865"
      ]
     },
     "metadata": {},
     "output_type": "display_data"
    }
   ],
   "source": [
    "## Evaluataion de la qualité du modèle multi-linéaire\n",
    "cor(control_mydf$SOC,control_mydf$SOCpredmlm) ## coef corrélation linéaire\n",
    "(cor(control_mydf$SOC,control_mydf$SOCpredmlm))^2 ## coef détermination\n",
    "RMSE <- sqrt(sum((control_mydf$SOC-control_mydf$SOCpredmlm)^2)/dim(control_mydf)[1])\n",
    "RMSE"
   ]
  },
  {
   "cell_type": "code",
   "execution_count": 84,
   "metadata": {},
   "outputs": [
    {
     "data": {
      "text/plain": [
       "\n",
       "Call:\n",
       "lm(formula = SOC ~ TN + C_N + PH + Biomasse, data = mydf)\n",
       "\n",
       "Residuals:\n",
       "    Min      1Q  Median      3Q     Max \n",
       "-62.831  -1.535   0.037   1.355  20.171 \n",
       "\n",
       "Coefficients:\n",
       "             Estimate Std. Error t value Pr(>|t|)    \n",
       "(Intercept) -53.43642    5.28792 -10.105  < 2e-16 ***\n",
       "TN            6.58933    0.41802  15.763  < 2e-16 ***\n",
       "C_N           3.75157    0.23589  15.904  < 2e-16 ***\n",
       "PH            2.46561    0.52440   4.702 4.16e-06 ***\n",
       "Biomasse      0.03705    0.01001   3.700 0.000262 ***\n",
       "---\n",
       "Signif. codes:  0 ‘***’ 0.001 ‘**’ 0.01 ‘*’ 0.05 ‘.’ 0.1 ‘ ’ 1\n",
       "\n",
       "Residual standard error: 5.581 on 264 degrees of freedom\n",
       "Multiple R-squared:  0.8144,\tAdjusted R-squared:  0.8116 \n",
       "F-statistic: 289.6 on 4 and 264 DF,  p-value: < 2.2e-16\n"
      ]
     },
     "metadata": {},
     "output_type": "display_data"
    }
   ],
   "source": [
    "###############################################\n",
    "##\n",
    "## Contribution des variables\n",
    "## utilisation de la fonction calc.relimp du package relaimpo\n",
    "###############################################\n",
    "reg.mlm <- lm(SOC ~ TN + C_N + PH + Biomasse, data = mydf)\n",
    "regrelimpo <- calc.relimp(reg.mlm, type = c(\"lmg\",\"pratt\", \"genizi\",\"car\"),\n",
    "                          rela = TRUE, rank = TRUE)\n",
    "summary(reg.mlm)"
   ]
  },
  {
   "cell_type": "code",
   "execution_count": 85,
   "metadata": {},
   "outputs": [
    {
     "data": {
      "image/png": "[encoded data removed]",
      "text/plain": [
       "Plot with title “Relative importances for SOC”"
      ]
     },
     "metadata": {
      "image/png": {
       "height": 420,
       "width": 420
      }
     },
     "output_type": "display_data"
    }
   ],
   "source": [
    "plot(regrelimpo)"
   ]
  },
  {
   "cell_type": "code",
   "execution_count": 86,
   "metadata": {},
   "outputs": [],
   "source": [
    "#############################################\n",
    "## Que dire de ces résultats ?\n",
    "############################################\n",
    "\n",
    "## Calcul du SOC prédit par le modèle\n",
    "mydata$SOCpredmlm <- predict.lm(reg.mlm, mydf[,c(\"TN\", \"C_N\", \"PH\", \"Biomasse\")])\n"
   ]
  },
  {
   "cell_type": "code",
   "execution_count": 87,
   "metadata": {},
   "outputs": [
    {
     "data": {
      "text/html": [
       "<style>\n",
       ".list-inline {list-style: none; margin:0; padding: 0}\n",
       ".list-inline>li {display: inline-block}\n",
       ".list-inline>li:not(:last-child)::after {content: \"\\00b7\"; padding: 0 .5ex}\n",
       "</style>\n",
       "<ol class=list-inline><li>'sf'</li><li>'data.frame'</li></ol>\n"
      ],
      "text/latex": [
       "\\begin{enumerate*}\n",
       "\\item 'sf'\n",
       "\\item 'data.frame'\n",
       "\\end{enumerate*}\n"
      ],
      "text/markdown": [
       "1. 'sf'\n",
       "2. 'data.frame'\n",
       "\n",
       "\n"
      ],
      "text/plain": [
       "[1] \"sf\"         \"data.frame\""
      ]
     },
     "metadata": {},
     "output_type": "display_data"
    },
    {
     "data": {
      "text/html": [
       "'/home/thierry/works/R4R2D2C/BData'"
      ],
      "text/latex": [
       "'/home/thierry/works/R4R2D2C/BData'"
      ],
      "text/markdown": [
       "'/home/thierry/works/R4R2D2C/BData'"
      ],
      "text/plain": [
       "[1] \"/home/thierry/works/R4R2D2C/BData\""
      ]
     },
     "metadata": {},
     "output_type": "display_data"
    }
   ],
   "source": [
    "class(mydata)\n",
    "getwd()"
   ]
  },
  {
   "cell_type": "code",
   "execution_count": 88,
   "metadata": {},
   "outputs": [
    {
     "name": "stdout",
     "output_type": "stream",
     "text": [
      "Deleting layer `newptsampleFenayL93' using driver `ESRI Shapefile'\n",
      "Writing layer `newptsampleFenayL93' to data source \n",
      "  `newptsampleFenayL93.shp' using driver `ESRI Shapefile'\n",
      "Writing 269 features with 17 fields and geometry type Point.\n"
     ]
    }
   ],
   "source": [
    "## exporte mydata qui est un objet sf dans R en un fichier SIG shapefile lisible par QGIS\n",
    "st_write(mydata, \"newptsampleFenayL93.shp\", delete_layer = TRUE)"
   ]
  },
  {
   "cell_type": "code",
   "execution_count": 89,
   "metadata": {},
   "outputs": [],
   "source": [
    "## Allez ouvrir cette nouvelle couche/carte avec QGIS\n",
    "## Faire la carte des différences entre SOC mesuré et SOC prédit par le modèle multi-linéaire"
   ]
  },
  {
   "cell_type": "code",
   "execution_count": null,
   "metadata": {},
   "outputs": [],
   "source": []
  }
 ],
 "metadata": {
  "kernelspec": {
   "display_name": "R",
   "language": "R",
   "name": "ir"
  },
  "language_info": {
   "codemirror_mode": "r",
   "file_extension": ".r",
   "mimetype": "text/x-r-source",
   "name": "R",
   "pygments_lexer": "r",
   "version": "4.0.4"
  }
 },
 "nbformat": 4,
 "nbformat_minor": 4
}
