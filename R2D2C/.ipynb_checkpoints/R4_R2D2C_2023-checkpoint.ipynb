{
 "cells": [
  {
   "cell_type": "code",
   "execution_count": 2,
   "id": "9a67378c-ddba-418e-9a5b-9a7f6a5931a5",
   "metadata": {},
   "outputs": [
    {
     "data": {
      "text/html": [
       "'/home/thierry/works/R4R2D2C_2023_2024/R4R2D2C_2023_2024/RCode'"
      ],
      "text/latex": [
       "'/home/thierry/works/R4R2D2C\\_2023\\_2024/R4R2D2C\\_2023\\_2024/RCode'"
      ],
      "text/markdown": [
       "'/home/thierry/works/R4R2D2C_2023_2024/R4R2D2C_2023_2024/RCode'"
      ],
      "text/plain": [
       "[1] \"/home/thierry/works/R4R2D2C_2023_2024/R4R2D2C_2023_2024/RCode\""
      ]
     },
     "metadata": {},
     "output_type": "display_data"
    },
    {
     "name": "stderr",
     "output_type": "stream",
     "text": [
      "Linking to GEOS 3.12.0, GDAL 3.7.1, PROJ 9.3.0; sf_use_s2() is TRUE\n",
      "\n"
     ]
    }
   ],
   "source": [
    "##################################################################\n",
    "##\n",
    "## I. définir le dossier de travail, import des librairies (packages)\n",
    "##                  lecture et chargement des données\n",
    "##\n",
    "##################################################################\n",
    "\n",
    "### Se positionner dans le répertoire des données ###\n",
    "## vous changer le 'work directory' dans RStudio via le menu\n",
    "getwd()\n",
    "setwd('../BData') ## A adapter en fonction de la localisation du dossier\n",
    "### chargement des paquets R pour lire et manipuler les données spatiales \n",
    "library(sf) ## lecture et écriture de données vecteurs \n",
    "##library(rgdal) ## lecture de données vecteurs"
   ]
  },
  {
   "cell_type": "code",
   "execution_count": 3,
   "id": "34ce9c14-024f-4aa0-97eb-f8908b173e8f",
   "metadata": {},
   "outputs": [
    {
     "data": {
      "text/html": [
       "<style>\n",
       ".list-inline {list-style: none; margin:0; padding: 0}\n",
       ".list-inline>li {display: inline-block}\n",
       ".list-inline>li:not(:last-child)::after {content: \"\\00b7\"; padding: 0 .5ex}\n",
       "</style>\n",
       "<ol class=list-inline><li>'ptsampleFenayL93_Practices_&amp;_Microbes.cpg'</li><li>'ptsampleFenayL93_Practices_&amp;_Microbes.dbf'</li><li>'ptsampleFenayL93_Practices_&amp;_Microbes.prj'</li><li>'ptsampleFenayL93_Practices_&amp;_Microbes.qmd'</li><li>'ptsampleFenayL93_Practices_&amp;_Microbes.shp'</li><li>'ptsampleFenayL93_Practices_&amp;_Microbes.shx'</li><li>'ptsampleFenayL93_Soil_NG.cpg'</li><li>'ptsampleFenayL93_Soil_NG.dbf'</li><li>'ptsampleFenayL93_Soil_NG.prj'</li><li>'ptsampleFenayL93_Soil.cpg'</li><li>'ptsampleFenayL93_Soil.dbf'</li><li>'ptsampleFenayL93_Soil.prj'</li><li>'ptsampleFenayL93_Soil.qmd'</li><li>'ptsampleFenayL93_Soil.shp'</li><li>'ptsampleFenayL93_Soil.shx'</li></ol>\n"
      ],
      "text/latex": [
       "\\begin{enumerate*}\n",
       "\\item 'ptsampleFenayL93\\_Practices\\_\\&\\_Microbes.cpg'\n",
       "\\item 'ptsampleFenayL93\\_Practices\\_\\&\\_Microbes.dbf'\n",
       "\\item 'ptsampleFenayL93\\_Practices\\_\\&\\_Microbes.prj'\n",
       "\\item 'ptsampleFenayL93\\_Practices\\_\\&\\_Microbes.qmd'\n",
       "\\item 'ptsampleFenayL93\\_Practices\\_\\&\\_Microbes.shp'\n",
       "\\item 'ptsampleFenayL93\\_Practices\\_\\&\\_Microbes.shx'\n",
       "\\item 'ptsampleFenayL93\\_Soil\\_NG.cpg'\n",
       "\\item 'ptsampleFenayL93\\_Soil\\_NG.dbf'\n",
       "\\item 'ptsampleFenayL93\\_Soil\\_NG.prj'\n",
       "\\item 'ptsampleFenayL93\\_Soil.cpg'\n",
       "\\item 'ptsampleFenayL93\\_Soil.dbf'\n",
       "\\item 'ptsampleFenayL93\\_Soil.prj'\n",
       "\\item 'ptsampleFenayL93\\_Soil.qmd'\n",
       "\\item 'ptsampleFenayL93\\_Soil.shp'\n",
       "\\item 'ptsampleFenayL93\\_Soil.shx'\n",
       "\\end{enumerate*}\n"
      ],
      "text/markdown": [
       "1. 'ptsampleFenayL93_Practices_&amp;_Microbes.cpg'\n",
       "2. 'ptsampleFenayL93_Practices_&amp;_Microbes.dbf'\n",
       "3. 'ptsampleFenayL93_Practices_&amp;_Microbes.prj'\n",
       "4. 'ptsampleFenayL93_Practices_&amp;_Microbes.qmd'\n",
       "5. 'ptsampleFenayL93_Practices_&amp;_Microbes.shp'\n",
       "6. 'ptsampleFenayL93_Practices_&amp;_Microbes.shx'\n",
       "7. 'ptsampleFenayL93_Soil_NG.cpg'\n",
       "8. 'ptsampleFenayL93_Soil_NG.dbf'\n",
       "9. 'ptsampleFenayL93_Soil_NG.prj'\n",
       "10. 'ptsampleFenayL93_Soil.cpg'\n",
       "11. 'ptsampleFenayL93_Soil.dbf'\n",
       "12. 'ptsampleFenayL93_Soil.prj'\n",
       "13. 'ptsampleFenayL93_Soil.qmd'\n",
       "14. 'ptsampleFenayL93_Soil.shp'\n",
       "15. 'ptsampleFenayL93_Soil.shx'\n",
       "\n",
       "\n"
      ],
      "text/plain": [
       " [1] \"ptsampleFenayL93_Practices_&_Microbes.cpg\"\n",
       " [2] \"ptsampleFenayL93_Practices_&_Microbes.dbf\"\n",
       " [3] \"ptsampleFenayL93_Practices_&_Microbes.prj\"\n",
       " [4] \"ptsampleFenayL93_Practices_&_Microbes.qmd\"\n",
       " [5] \"ptsampleFenayL93_Practices_&_Microbes.shp\"\n",
       " [6] \"ptsampleFenayL93_Practices_&_Microbes.shx\"\n",
       " [7] \"ptsampleFenayL93_Soil_NG.cpg\"             \n",
       " [8] \"ptsampleFenayL93_Soil_NG.dbf\"             \n",
       " [9] \"ptsampleFenayL93_Soil_NG.prj\"             \n",
       "[10] \"ptsampleFenayL93_Soil.cpg\"                \n",
       "[11] \"ptsampleFenayL93_Soil.dbf\"                \n",
       "[12] \"ptsampleFenayL93_Soil.prj\"                \n",
       "[13] \"ptsampleFenayL93_Soil.qmd\"                \n",
       "[14] \"ptsampleFenayL93_Soil.shp\"                \n",
       "[15] \"ptsampleFenayL93_Soil.shx\"                "
      ]
     },
     "metadata": {},
     "output_type": "display_data"
    }
   ],
   "source": [
    "dir() ## affiche le contenu du dossier de travail ici la dossier BData"
   ]
  },
  {
   "cell_type": "code",
   "execution_count": 4,
   "id": "34f1948b-a91c-4886-952c-a86560af5785",
   "metadata": {},
   "outputs": [
    {
     "name": "stdout",
     "output_type": "stream",
     "text": [
      "Reading layer `ptsampleFenayL93_Soil' from data source \n",
      "  `/home/thierry/works/R4R2D2C_2023_2024/R4R2D2C_2023_2024/BData/ptsampleFenayL93_Soil.shp' \n",
      "  using driver `ESRI Shapefile'\n",
      "Simple feature collection with 269 features and 10 fields\n",
      "Geometry type: POINT\n",
      "Dimension:     XY\n",
      "Bounding box:  xmin: 853766.6 ymin: 6681507 xmax: 858712.6 ymax: 6684948\n",
      "Projected CRS: RGF93 v1 / Lambert-93\n",
      "Reading layer `ptsampleFenayL93_Practices_&_Microbes' from data source \n",
      "  `/home/thierry/works/R4R2D2C_2023_2024/R4R2D2C_2023_2024/BData/ptsampleFenayL93_Practices_&_Microbes.shp' \n",
      "  using driver `ESRI Shapefile'\n",
      "Simple feature collection with 269 features and 16 fields\n",
      "Geometry type: POINT\n",
      "Dimension:     XY\n",
      "Bounding box:  xmin: 853766.6 ymin: 6681507 xmax: 858712.6 ymax: 6684948\n",
      "Projected CRS: RGF93 v1 / Lambert-93\n"
     ]
    },
    {
     "data": {
      "text/html": [
       "<style>\n",
       ".list-inline {list-style: none; margin:0; padding: 0}\n",
       ".list-inline>li {display: inline-block}\n",
       ".list-inline>li:not(:last-child)::after {content: \"\\00b7\"; padding: 0 .5ex}\n",
       "</style>\n",
       "<ol class=list-inline><li>'mydata'</li><li>'mydata_microbes'</li></ol>\n"
      ],
      "text/latex": [
       "\\begin{enumerate*}\n",
       "\\item 'mydata'\n",
       "\\item 'mydata\\_microbes'\n",
       "\\end{enumerate*}\n"
      ],
      "text/markdown": [
       "1. 'mydata'\n",
       "2. 'mydata_microbes'\n",
       "\n",
       "\n"
      ],
      "text/plain": [
       "[1] \"mydata\"          \"mydata_microbes\""
      ]
     },
     "metadata": {},
     "output_type": "display_data"
    }
   ],
   "source": [
    "##########################################################################\n",
    "## Charge l'ensemble des pts echantillonnes sur la zone atelier de Fenay\n",
    "## utilisation de la fonction st_read du package sf\n",
    "## pour lister l'ensemble des fonctions du package sf: help(package = \"sf\")\n",
    "\n",
    "## ?st_read ## pour afficher l'aide sur la function supprimer le commentaire ##\n",
    "\n",
    "mydata <- st_read(\"ptsampleFenayL93_Soil.shp\") ## Lecture et chargement des données\n",
    "mydata_microbes <- st_read(\"ptsampleFenayL93_Practices_&_Microbes.shp\") ## Lecture et chargement des données\n",
    "ls()\n",
    "## mydata <- readOGR(\"ptsampleFenayL93.shp\")\n",
    "## affiche le header des données"
   ]
  },
  {
   "cell_type": "code",
   "execution_count": 5,
   "id": "c543a580-3bf8-4070-b227-81199cd93ab0",
   "metadata": {},
   "outputs": [
    {
     "data": {
      "text/html": [
       "<style>\n",
       ".list-inline {list-style: none; margin:0; padding: 0}\n",
       ".list-inline>li {display: inline-block}\n",
       ".list-inline>li:not(:last-child)::after {content: \"\\00b7\"; padding: 0 .5ex}\n",
       "</style>\n",
       "<ol class=list-inline><li>'sf'</li><li>'data.frame'</li></ol>\n"
      ],
      "text/latex": [
       "\\begin{enumerate*}\n",
       "\\item 'sf'\n",
       "\\item 'data.frame'\n",
       "\\end{enumerate*}\n"
      ],
      "text/markdown": [
       "1. 'sf'\n",
       "2. 'data.frame'\n",
       "\n",
       "\n"
      ],
      "text/plain": [
       "[1] \"sf\"         \"data.frame\""
      ]
     },
     "metadata": {},
     "output_type": "display_data"
    },
    {
     "data": {
      "text/html": [
       "<style>\n",
       ".list-inline {list-style: none; margin:0; padding: 0}\n",
       ".list-inline>li {display: inline-block}\n",
       ".list-inline>li:not(:last-child)::after {content: \"\\00b7\"; padding: 0 .5ex}\n",
       "</style>\n",
       "<ol class=list-inline><li>269</li><li>11</li></ol>\n"
      ],
      "text/latex": [
       "\\begin{enumerate*}\n",
       "\\item 269\n",
       "\\item 11\n",
       "\\end{enumerate*}\n"
      ],
      "text/markdown": [
       "1. 269\n",
       "2. 11\n",
       "\n",
       "\n"
      ],
      "text/plain": [
       "[1] 269  11"
      ]
     },
     "metadata": {},
     "output_type": "display_data"
    }
   ],
   "source": [
    "###################################################################\n",
    "## Type (i.e. classe), dimension et structure des données\n",
    "##################################################################\n",
    "\n",
    "## type de l'objet mydata\n",
    "class(mydata)\n",
    "dim(mydata)"
   ]
  },
  {
   "cell_type": "code",
   "execution_count": 6,
   "id": "d69bad66-9b78-44df-9557-ca27d3e934b4",
   "metadata": {},
   "outputs": [
    {
     "name": "stdout",
     "output_type": "stream",
     "text": [
      "Classes ‘sf’ and 'data.frame':\t269 obs. of  11 variables:\n",
      " $ field_1 : chr  \"Py_1_2011\" \"Py_100_2011\" \"Py_101_2011\" \"Py_102_2011\" ...\n",
      " $ annee   : num  2011 2011 2011 2011 2011 ...\n",
      " $ SOC     : num  35 24.5 23 19.8 45.2 10.3 33.2 11 10.4 37.6 ...\n",
      " $ TN      : num  3.07 2.42 2.43 2.1 3.75 5.92 3.14 1.06 0.999 3.25 ...\n",
      " $ C_N     : num  11.4 10.1 9.48 9.44 12 1.74 10.6 10.4 10.4 11.6 ...\n",
      " $ PH      : num  6.78 8.1 7.5 7.51 8.06 8.25 8.2 6.78 7.75 8.13 ...\n",
      " $ Clay    : num  44.2 34.3 42 40.3 33 31 21.4 27.3 24.3 23.2 ...\n",
      " $ Sand    : num  4.5 15 8 11.6 10.1 5.6 14.4 7.9 6.5 11.8 ...\n",
      " $ XLB93   : num  857059 854843 858498 858283 855273 ...\n",
      " $ YLB93   : num  6684437 6682797 6682798 6682798 6682798 ...\n",
      " $ geometry:sfc_POINT of length 269; first list element:  'XY' num  857059 6684437\n",
      " - attr(*, \"sf_column\")= chr \"geometry\"\n",
      " - attr(*, \"agr\")= Factor w/ 3 levels \"constant\",\"aggregate\",..: NA NA NA NA NA NA NA NA NA NA\n",
      "  ..- attr(*, \"names\")= chr [1:10] \"field_1\" \"annee\" \"SOC\" \"TN\" ...\n"
     ]
    }
   ],
   "source": [
    "## structure de l'objet mydata\n",
    "str(mydata)"
   ]
  },
  {
   "cell_type": "code",
   "execution_count": 7,
   "id": "201db27d-7fb9-4889-aefb-ea175fd0392e",
   "metadata": {},
   "outputs": [
    {
     "data": {
      "text/plain": [
       "   field_1              annee           SOC              TN        \n",
       " Length:269         Min.   :2011   Min.   : 9.50   Min.   : 0.835  \n",
       " Class :character   1st Qu.:2011   1st Qu.:13.60   1st Qu.: 1.320  \n",
       " Mode  :character   Median :2011   Median :17.10   Median : 1.610  \n",
       "                    Mean   :2011   Mean   :21.39   Mean   : 2.034  \n",
       "                    3rd Qu.:2011   3rd Qu.:23.00   3rd Qu.: 2.220  \n",
       "                    Max.   :2011   Max.   :88.60   Max.   :14.600  \n",
       "      C_N              PH             Clay           Sand       \n",
       " Min.   : 1.22   Min.   :4.740   Min.   : 8.0   Min.   : 2.000  \n",
       " 1st Qu.:10.00   1st Qu.:7.370   1st Qu.:27.2   1st Qu.: 5.800  \n",
       " Median :10.40   Median :7.960   Median :34.3   Median : 7.400  \n",
       " Mean   :10.68   Mean   :7.687   Mean   :33.3   Mean   : 8.817  \n",
       " 3rd Qu.:11.00   3rd Qu.:8.200   3rd Qu.:39.8   3rd Qu.:10.000  \n",
       " Max.   :22.20   Max.   :8.420   Max.   :61.7   Max.   :29.300  \n",
       "     XLB93            YLB93                  geometry  \n",
       " Min.   :853767   Min.   :6681507   POINT        :269  \n",
       " 1st Qu.:855031   1st Qu.:6682593   epsg:2154    :  0  \n",
       " Median :856349   Median :6683394   +proj=lcc ...:  0  \n",
       " Mean   :856179   Mean   :6683342                      \n",
       " 3rd Qu.:857209   3rd Qu.:6684088                      \n",
       " Max.   :858713   Max.   :6684948                      "
      ]
     },
     "metadata": {},
     "output_type": "display_data"
    }
   ],
   "source": [
    "## résumé des différents champs\n",
    "summary(mydata)"
   ]
  },
  {
   "cell_type": "code",
   "execution_count": 8,
   "id": "c4d5654e-cd91-466a-a15b-75566ffeb8f7",
   "metadata": {},
   "outputs": [
    {
     "data": {
      "image/png": "[encoded data removed]",
      "text/plain": [
       "Plot with title “SOC”"
      ]
     },
     "metadata": {
      "image/png": {
       "height": 420,
       "width": 420
      }
     },
     "output_type": "display_data"
    }
   ],
   "source": [
    "##################################################################\n",
    "##\n",
    "## II. Exploration des données :\n",
    "##       - graphe les données pour la variable SOC (matière organique)\n",
    "##       - trace l'histogramme pour la variable SOC\n",
    "##       - Calcul des moments d'ordre 1 : min, max, moyenne, écart-type\n",
    "##\n",
    "##################################################################\n",
    "\n",
    "## Graphe de la variable SOC \n",
    "plot(mydata[\"SOC\"])"
   ]
  },
  {
   "cell_type": "code",
   "execution_count": 9,
   "id": "cb903db8-7d94-4a13-b2ed-84f56db05eeb",
   "metadata": {},
   "outputs": [
    {
     "data": {
      "text/html": [
       "9.5"
      ],
      "text/latex": [
       "9.5"
      ],
      "text/markdown": [
       "9.5"
      ],
      "text/plain": [
       "[1] 9.5"
      ]
     },
     "metadata": {},
     "output_type": "display_data"
    },
    {
     "data": {
      "text/html": [
       "88.6"
      ],
      "text/latex": [
       "88.6"
      ],
      "text/markdown": [
       "88.6"
      ],
      "text/plain": [
       "[1] 88.6"
      ]
     },
     "metadata": {},
     "output_type": "display_data"
    },
    {
     "data": {
      "text/html": [
       "<style>\n",
       ".list-inline {list-style: none; margin:0; padding: 0}\n",
       ".list-inline>li {display: inline-block}\n",
       ".list-inline>li:not(:last-child)::after {content: \"\\00b7\"; padding: 0 .5ex}\n",
       "</style>\n",
       "<ol class=list-inline><li>9.5</li><li>88.6</li></ol>\n"
      ],
      "text/latex": [
       "\\begin{enumerate*}\n",
       "\\item 9.5\n",
       "\\item 88.6\n",
       "\\end{enumerate*}\n"
      ],
      "text/markdown": [
       "1. 9.5\n",
       "2. 88.6\n",
       "\n",
       "\n"
      ],
      "text/plain": [
       "[1]  9.5 88.6"
      ]
     },
     "metadata": {},
     "output_type": "display_data"
    },
    {
     "data": {
      "text/html": [
       "21.3889219330855"
      ],
      "text/latex": [
       "21.3889219330855"
      ],
      "text/markdown": [
       "21.3889219330855"
      ],
      "text/plain": [
       "[1] 21.38892"
      ]
     },
     "metadata": {},
     "output_type": "display_data"
    },
    {
     "data": {
      "text/html": [
       "12.8561248814627"
      ],
      "text/latex": [
       "12.8561248814627"
      ],
      "text/markdown": [
       "12.8561248814627"
      ],
      "text/plain": [
       "[1] 12.85612"
      ]
     },
     "metadata": {},
     "output_type": "display_data"
    },
    {
     "data": {
      "image/png": "[encoded data removed]",
      "text/plain": [
       "Plot with title “Histogram of mydata$SOC”"
      ]
     },
     "metadata": {
      "image/png": {
       "height": 420,
       "width": 420
      }
     },
     "output_type": "display_data"
    }
   ],
   "source": [
    "## Histogramme de la variable SOC\n",
    "hist(mydata$SOC,breaks=20)\n",
    "\n",
    "## Calcul des moments d'ordre 1 pour la variable SOC: min, max, moyenne, écart-type\n",
    "min(mydata$SOC);max(mydata$SOC)\n",
    "range(mydata$SOC)\n",
    "mean(mydata$SOC);sd(mydata$SOC)\n"
   ]
  },
  {
   "cell_type": "code",
   "execution_count": 10,
   "id": "baef6d29-00d3-42f0-b5c6-6837949bb6c2",
   "metadata": {},
   "outputs": [
    {
     "name": "stderr",
     "output_type": "stream",
     "text": [
      "── \u001b[1mAttaching core tidyverse packages\u001b[22m ──────────────────────── tidyverse 2.0.0 ──\n",
      "\u001b[32m✔\u001b[39m \u001b[34mdplyr    \u001b[39m 1.1.3     \u001b[32m✔\u001b[39m \u001b[34mreadr    \u001b[39m 2.1.4\n",
      "\u001b[32m✔\u001b[39m \u001b[34mforcats  \u001b[39m 1.0.0     \u001b[32m✔\u001b[39m \u001b[34mstringr  \u001b[39m 1.5.0\n",
      "\u001b[32m✔\u001b[39m \u001b[34mggplot2  \u001b[39m 3.4.3     \u001b[32m✔\u001b[39m \u001b[34mtibble   \u001b[39m 3.2.1\n",
      "\u001b[32m✔\u001b[39m \u001b[34mlubridate\u001b[39m 1.9.2     \u001b[32m✔\u001b[39m \u001b[34mtidyr    \u001b[39m 1.3.0\n",
      "\u001b[32m✔\u001b[39m \u001b[34mpurrr    \u001b[39m 1.0.2     \n",
      "── \u001b[1mConflicts\u001b[22m ────────────────────────────────────────── tidyverse_conflicts() ──\n",
      "\u001b[31m✖\u001b[39m \u001b[34mdplyr\u001b[39m::\u001b[32mfilter()\u001b[39m masks \u001b[34mstats\u001b[39m::filter()\n",
      "\u001b[31m✖\u001b[39m \u001b[34mdplyr\u001b[39m::\u001b[32mlag()\u001b[39m    masks \u001b[34mstats\u001b[39m::lag()\n",
      "\u001b[36mℹ\u001b[39m Use the conflicted package (\u001b[3m\u001b[34m<http://conflicted.r-lib.org/>\u001b[39m\u001b[23m) to force all conflicts to become errors\n",
      "\n",
      "Attachement du package : ‘rstatix’\n",
      "\n",
      "\n",
      "L'objet suivant est masqué depuis ‘package:stats’:\n",
      "\n",
      "    filter\n",
      "\n",
      "\n"
     ]
    }
   ],
   "source": [
    "##################################################################\n",
    "##\n",
    "## II.BIS Manipulation de tableaux :\n",
    "##       - Recherche d'expression régulière et remplacement\n",
    "##       - Jointure de tableaux\n",
    "##       - Sous-selection de colonnes\n",
    "##\n",
    "##       - Filtrage des données (lignes)\n",
    "##       - Calcul des moments d'ordre 1 : min, max, moyenne, écart-type \n",
    "##         et test de comparaison de moyenne\n",
    "##\n",
    "##################################################################\n",
    "\n",
    "library(tidyverse)\n",
    "library(dplyr)\n",
    "library(rstatix)## permet de faire l'interface entre tidyverse et certaines fonctions de tests statistiques de base dans R\n",
    "## aide en ligne: https://rstudio-education.github.io/tidyverse-cookbook/how-to-use-this-book.html"
   ]
  },
  {
   "cell_type": "code",
   "execution_count": 11,
   "id": "e411dbf9-71bc-44da-be6b-7860a6592681",
   "metadata": {},
   "outputs": [
    {
     "data": {
      "text/html": [
       "<style>\n",
       ".list-inline {list-style: none; margin:0; padding: 0}\n",
       ".list-inline>li {display: inline-block}\n",
       ".list-inline>li:not(:last-child)::after {content: \"\\00b7\"; padding: 0 .5ex}\n",
       "</style>\n",
       "<ol class=list-inline><li>'mydata'</li><li>'mydata_microbes'</li></ol>\n"
      ],
      "text/latex": [
       "\\begin{enumerate*}\n",
       "\\item 'mydata'\n",
       "\\item 'mydata\\_microbes'\n",
       "\\end{enumerate*}\n"
      ],
      "text/markdown": [
       "1. 'mydata'\n",
       "2. 'mydata_microbes'\n",
       "\n",
       "\n"
      ],
      "text/plain": [
       "[1] \"mydata\"          \"mydata_microbes\""
      ]
     },
     "metadata": {},
     "output_type": "display_data"
    },
    {
     "name": "stderr",
     "output_type": "stream",
     "text": [
      "The legacy packages maptools, rgdal, and rgeos, underpinning the sp package,\n",
      "which was just loaded, will retire in October 2023.\n",
      "Please refer to R-spatial evolution reports for details, especially\n",
      "https://r-spatial.org/r/2023/05/15/evolution4.html.\n",
      "It may be desirable to make the sf package available;\n",
      "package maintainers should consider adding sf to Suggests:.\n",
      "The sp package is now running under evolution status 2\n",
      "     (status 2 uses the sf package in place of rgdal)\n",
      "\n",
      "Registered S3 method overwritten by 'geojsonsf':\n",
      "  method        from   \n",
      "  print.geojson geojson\n",
      "\n"
     ]
    },
    {
     "data": {
      "application/geo+json": {
       "features": [
        {
         "geometry": {
          "coordinates": [
           857058.6219,
           6684436.696
          ],
          "type": "Point"
         },
         "properties": {
          "Biomasse": 230,
          "Categories": "pas_de_travail",
          "Evenness": 0.6971,
          "K": 0,
          "Mg_total": 0,
          "NB_OTUs_BE": 1549,
          "N_mineral": 0,
          "P": 0,
          "Parcelle_c": "Foret",
          "Profondeur": 0,
          "S_total": 0,
          "Shannon": 4.81,
          "X1.Simpson": 25.743,
          "XLB93": "NA",
          "YLB93": 6684436.696,
          "field_1": "Py_1_2011"
         },
         "type": "Feature"
        },
        {
         "geometry": {
          "coordinates": [
           854842.7434,
           6682797.483
          ],
          "type": "Point"
         },
         "properties": {
          "Biomasse": 100,
          "Categories": "Travail_intermediaire",
          "Evenness": 0.7959,
          "K": 27.25,
          "Mg_total": 0,
          "NB_OTUs_BE": 2002,
          "N_mineral": 126,
          "P": 55.25,
          "Parcelle_c": "Ble_tendre_hiver",
          "Profondeur": 25,
          "S_total": 23.25,
          "Shannon": 5.729,
          "X1.Simpson": 94.53,
          "XLB93": "NA",
          "YLB93": 6682797.483,
          "field_1": "Py_100_2011"
         },
         "type": "Feature"
        },
        {
         "geometry": {
          "coordinates": [
           858497.8804,
           6682797.599
          ],
          "type": "Point"
         },
         "properties": {
          "Biomasse": 69,
          "Categories": "Labour",
          "Evenness": 0.7825,
          "K": 50.5,
          "Mg_total": 1.75,
          "NB_OTUs_BE": 1723,
          "N_mineral": 57,
          "P": 27,
          "Parcelle_c": "Tournesol",
          "Profondeur": 40,
          "S_total": 51,
          "Shannon": 5.469,
          "X1.Simpson": 86.932,
          "XLB93": "NA",
          "YLB93": 6682797.599,
          "field_1": "Py_101_2011"
         },
         "type": "Feature"
        },
        {
         "geometry": {
          "coordinates": [
           858283.0373,
           6682797.731
          ],
          "type": "Point"
         },
         "properties": {
          "Biomasse": 6.6,
          "Categories": "Labour",
          "Evenness": 0.778,
          "K": 50.5,
          "Mg_total": 1.75,
          "NB_OTUs_BE": 1865,
          "N_mineral": 57,
          "P": 27,
          "Parcelle_c": "Tournesol",
          "Profondeur": 40,
          "S_total": 51,
          "Shannon": 5.492,
          "X1.Simpson": 75.408,
          "XLB93": "NA",
          "YLB93": 6682797.731,
          "field_1": "Py_102_2011"
         },
         "type": "Feature"
        },
        {
         "geometry": {
          "coordinates": [
           855273.053,
           6682797.745
          ],
          "type": "Point"
         },
         "properties": {
          "Biomasse": 90,
          "Categories": "Travail_intermediaire",
          "Evenness": 0.7902,
          "K": 29,
          "Mg_total": 0,
          "NB_OTUs_BE": 2205,
          "N_mineral": 91,
          "P": 39.75,
          "Parcelle_c": "Orge_hiver",
          "Profondeur": 25,
          "S_total": 9.25,
          "Shannon": 5.742,
          "X1.Simpson": 77.682,
          "XLB93": "NA",
          "YLB93": 6682797.745,
          "field_1": "Py_103_2011"
         },
         "type": "Feature"
        },
        {
         "geometry": {
          "coordinates": [
           858068.1882,
           6682797.859
          ],
          "type": "Point"
         },
         "properties": {
          "Biomasse": 37,
          "Categories": "Travail_intermediaire",
          "Evenness": 0.7711,
          "K": 0,
          "Mg_total": 5,
          "NB_OTUs_BE": 2018,
          "N_mineral": 209,
          "P": 35.75,
          "Parcelle_c": "Ble_tendre_hiver",
          "Profondeur": 25,
          "S_total": 9.75,
          "Shannon": 5.519,
          "X1.Simpson": 73.336,
          "XLB93": "NA",
          "YLB93": 6682797.859,
          "field_1": "Py_104_2011"
         },
         "type": "Feature"
        }
       ],
       "type": "FeatureCollection"
      },
      "text/html": [
       "<table class=\"dataframe\">\n",
       "<caption>A sf: 6 × 17</caption>\n",
       "<thead>\n",
       "\t<tr><th></th><th scope=col>field_1</th><th scope=col>XLB93</th><th scope=col>YLB93</th><th scope=col>N_mineral</th><th scope=col>P</th><th scope=col>K</th><th scope=col>Mg_total</th><th scope=col>S_total</th><th scope=col>Parcelle_c</th><th scope=col>Profondeur</th><th scope=col>Categories</th><th scope=col>Shannon</th><th scope=col>Evenness</th><th scope=col>X1.Simpson</th><th scope=col>Biomasse</th><th scope=col>NB_OTUs_BE</th><th scope=col>geometry</th></tr>\n",
       "\t<tr><th></th><th scope=col>&lt;chr&gt;</th><th scope=col>&lt;dbl&gt;</th><th scope=col>&lt;dbl&gt;</th><th scope=col>&lt;dbl&gt;</th><th scope=col>&lt;dbl&gt;</th><th scope=col>&lt;dbl&gt;</th><th scope=col>&lt;dbl&gt;</th><th scope=col>&lt;dbl&gt;</th><th scope=col>&lt;chr&gt;</th><th scope=col>&lt;dbl&gt;</th><th scope=col>&lt;chr&gt;</th><th scope=col>&lt;dbl&gt;</th><th scope=col>&lt;dbl&gt;</th><th scope=col>&lt;dbl&gt;</th><th scope=col>&lt;dbl&gt;</th><th scope=col>&lt;dbl&gt;</th><th scope=col>&lt;POINT [m]&gt;</th></tr>\n",
       "</thead>\n",
       "<tbody>\n",
       "\t<tr><th scope=row>1</th><td>Py_1_2011  </td><td>NA</td><td>6684437</td><td>  0</td><td> 0.00</td><td> 0.00</td><td>0.00</td><td> 0.00</td><td>Foret           </td><td> 0</td><td>pas_de_travail       </td><td>4.810</td><td>0.697131</td><td>25.743</td><td>230.0</td><td>1549</td><td>POINT (857058.6 6684437)</td></tr>\n",
       "\t<tr><th scope=row>2</th><td>Py_100_2011</td><td>NA</td><td>6682797</td><td>126</td><td>55.25</td><td>27.25</td><td>0.00</td><td>23.25</td><td>Ble_tendre_hiver</td><td>25</td><td>Travail_intermediaire</td><td>5.729</td><td>0.795924</td><td>94.530</td><td>100.0</td><td>2002</td><td>POINT (854842.7 6682797)</td></tr>\n",
       "\t<tr><th scope=row>3</th><td>Py_101_2011</td><td>NA</td><td>6682798</td><td> 57</td><td>27.00</td><td>50.50</td><td>1.75</td><td>51.00</td><td>Tournesol       </td><td>40</td><td>Labour               </td><td>5.469</td><td>0.782461</td><td>86.932</td><td> 69.0</td><td>1723</td><td>POINT (858497.9 6682798)</td></tr>\n",
       "\t<tr><th scope=row>4</th><td>Py_102_2011</td><td>NA</td><td>6682798</td><td> 57</td><td>27.00</td><td>50.50</td><td>1.75</td><td>51.00</td><td>Tournesol       </td><td>40</td><td>Labour               </td><td>5.492</td><td>0.777978</td><td>75.408</td><td>  6.6</td><td>1865</td><td>POINT (858283 6682798)</td></tr>\n",
       "\t<tr><th scope=row>5</th><td>Py_103_2011</td><td>NA</td><td>6682798</td><td> 91</td><td>39.75</td><td>29.00</td><td>0.00</td><td> 9.25</td><td>Orge_hiver      </td><td>25</td><td>Travail_intermediaire</td><td>5.742</td><td>0.790177</td><td>77.682</td><td> 90.0</td><td>2205</td><td>POINT (855273.1 6682798)</td></tr>\n",
       "\t<tr><th scope=row>6</th><td>Py_104_2011</td><td>NA</td><td>6682798</td><td>209</td><td>35.75</td><td> 0.00</td><td>5.00</td><td> 9.75</td><td>Ble_tendre_hiver</td><td>25</td><td>Travail_intermediaire</td><td>5.519</td><td>0.771110</td><td>73.336</td><td> 37.0</td><td>2018</td><td>POINT (858068.2 6682798)</td></tr>\n",
       "</tbody>\n",
       "</table>\n"
      ],
      "text/latex": [
       "A sf: 6 × 17\n",
       "\\begin{tabular}{r|lllllllllllllllll}\n",
       "  & field\\_1 & XLB93 & YLB93 & N\\_mineral & P & K & Mg\\_total & S\\_total & Parcelle\\_c & Profondeur & Categories & Shannon & Evenness & X1.Simpson & Biomasse & NB\\_OTUs\\_BE & geometry\\\\\n",
       "  & <chr> & <dbl> & <dbl> & <dbl> & <dbl> & <dbl> & <dbl> & <dbl> & <chr> & <dbl> & <chr> & <dbl> & <dbl> & <dbl> & <dbl> & <dbl> & <POINT {[}m{]}>\\\\\n",
       "\\hline\n",
       "\t1 & Py\\_1\\_2011   & NA & 6684437 &   0 &  0.00 &  0.00 & 0.00 &  0.00 & Foret            &  0 & pas\\_de\\_travail        & 4.810 & 0.697131 & 25.743 & 230.0 & 1549 & POINT (857058.6 6684437)\\\\\n",
       "\t2 & Py\\_100\\_2011 & NA & 6682797 & 126 & 55.25 & 27.25 & 0.00 & 23.25 & Ble\\_tendre\\_hiver & 25 & Travail\\_intermediaire & 5.729 & 0.795924 & 94.530 & 100.0 & 2002 & POINT (854842.7 6682797)\\\\\n",
       "\t3 & Py\\_101\\_2011 & NA & 6682798 &  57 & 27.00 & 50.50 & 1.75 & 51.00 & Tournesol        & 40 & Labour                & 5.469 & 0.782461 & 86.932 &  69.0 & 1723 & POINT (858497.9 6682798)\\\\\n",
       "\t4 & Py\\_102\\_2011 & NA & 6682798 &  57 & 27.00 & 50.50 & 1.75 & 51.00 & Tournesol        & 40 & Labour                & 5.492 & 0.777978 & 75.408 &   6.6 & 1865 & POINT (858283 6682798)\\\\\n",
       "\t5 & Py\\_103\\_2011 & NA & 6682798 &  91 & 39.75 & 29.00 & 0.00 &  9.25 & Orge\\_hiver       & 25 & Travail\\_intermediaire & 5.742 & 0.790177 & 77.682 &  90.0 & 2205 & POINT (855273.1 6682798)\\\\\n",
       "\t6 & Py\\_104\\_2011 & NA & 6682798 & 209 & 35.75 &  0.00 & 5.00 &  9.75 & Ble\\_tendre\\_hiver & 25 & Travail\\_intermediaire & 5.519 & 0.771110 & 73.336 &  37.0 & 2018 & POINT (858068.2 6682798)\\\\\n",
       "\\end{tabular}\n"
      ],
      "text/markdown": [
       "\n",
       "A sf: 6 × 17\n",
       "\n",
       "| <!--/--> | field_1 &lt;chr&gt; | XLB93 &lt;dbl&gt; | YLB93 &lt;dbl&gt; | N_mineral &lt;dbl&gt; | P &lt;dbl&gt; | K &lt;dbl&gt; | Mg_total &lt;dbl&gt; | S_total &lt;dbl&gt; | Parcelle_c &lt;chr&gt; | Profondeur &lt;dbl&gt; | Categories &lt;chr&gt; | Shannon &lt;dbl&gt; | Evenness &lt;dbl&gt; | X1.Simpson &lt;dbl&gt; | Biomasse &lt;dbl&gt; | NB_OTUs_BE &lt;dbl&gt; | geometry &lt;POINT [m]&gt; |\n",
       "|---|---|---|---|---|---|---|---|---|---|---|---|---|---|---|---|---|---|\n",
       "| 1 | Py_1_2011   | NA | 6684437 |   0 |  0.00 |  0.00 | 0.00 |  0.00 | Foret            |  0 | pas_de_travail        | 4.810 | 0.697131 | 25.743 | 230.0 | 1549 | POINT (857058.6 6684437) |\n",
       "| 2 | Py_100_2011 | NA | 6682797 | 126 | 55.25 | 27.25 | 0.00 | 23.25 | Ble_tendre_hiver | 25 | Travail_intermediaire | 5.729 | 0.795924 | 94.530 | 100.0 | 2002 | POINT (854842.7 6682797) |\n",
       "| 3 | Py_101_2011 | NA | 6682798 |  57 | 27.00 | 50.50 | 1.75 | 51.00 | Tournesol        | 40 | Labour                | 5.469 | 0.782461 | 86.932 |  69.0 | 1723 | POINT (858497.9 6682798) |\n",
       "| 4 | Py_102_2011 | NA | 6682798 |  57 | 27.00 | 50.50 | 1.75 | 51.00 | Tournesol        | 40 | Labour                | 5.492 | 0.777978 | 75.408 |   6.6 | 1865 | POINT (858283 6682798) |\n",
       "| 5 | Py_103_2011 | NA | 6682798 |  91 | 39.75 | 29.00 | 0.00 |  9.25 | Orge_hiver       | 25 | Travail_intermediaire | 5.742 | 0.790177 | 77.682 |  90.0 | 2205 | POINT (855273.1 6682798) |\n",
       "| 6 | Py_104_2011 | NA | 6682798 | 209 | 35.75 |  0.00 | 5.00 |  9.75 | Ble_tendre_hiver | 25 | Travail_intermediaire | 5.519 | 0.771110 | 73.336 |  37.0 | 2018 | POINT (858068.2 6682798) |\n",
       "\n"
      ],
      "text/plain": [
       "  field_1     XLB93 YLB93   N_mineral P     K     Mg_total S_total\n",
       "1 Py_1_2011   NA    6684437   0        0.00  0.00 0.00      0.00  \n",
       "2 Py_100_2011 NA    6682797 126       55.25 27.25 0.00     23.25  \n",
       "3 Py_101_2011 NA    6682798  57       27.00 50.50 1.75     51.00  \n",
       "4 Py_102_2011 NA    6682798  57       27.00 50.50 1.75     51.00  \n",
       "5 Py_103_2011 NA    6682798  91       39.75 29.00 0.00      9.25  \n",
       "6 Py_104_2011 NA    6682798 209       35.75  0.00 5.00      9.75  \n",
       "  Parcelle_c       Profondeur Categories            Shannon Evenness X1.Simpson\n",
       "1 Foret             0         pas_de_travail        4.810   0.697131 25.743    \n",
       "2 Ble_tendre_hiver 25         Travail_intermediaire 5.729   0.795924 94.530    \n",
       "3 Tournesol        40         Labour                5.469   0.782461 86.932    \n",
       "4 Tournesol        40         Labour                5.492   0.777978 75.408    \n",
       "5 Orge_hiver       25         Travail_intermediaire 5.742   0.790177 77.682    \n",
       "6 Ble_tendre_hiver 25         Travail_intermediaire 5.519   0.771110 73.336    \n",
       "  Biomasse NB_OTUs_BE geometry                \n",
       "1 230.0    1549       POINT (857058.6 6684437)\n",
       "2 100.0    2002       POINT (854842.7 6682797)\n",
       "3  69.0    1723       POINT (858497.9 6682798)\n",
       "4   6.6    1865       POINT (858283 6682798)  \n",
       "5  90.0    2205       POINT (855273.1 6682798)\n",
       "6  37.0    2018       POINT (858068.2 6682798)"
      ]
     },
     "metadata": {},
     "output_type": "display_data"
    }
   ],
   "source": [
    "ls() ## liste les objets existants dans la session de travail\n",
    "head(mydata_microbes)"
   ]
  },
  {
   "cell_type": "code",
   "execution_count": 12,
   "id": "b207c559-9a1f-4a85-9a04-e1c12b560d36",
   "metadata": {},
   "outputs": [
    {
     "data": {
      "text/html": [
       "<style>\n",
       ".list-inline {list-style: none; margin:0; padding: 0}\n",
       ".list-inline>li {display: inline-block}\n",
       ".list-inline>li:not(:last-child)::after {content: \"\\00b7\"; padding: 0 .5ex}\n",
       "</style>\n",
       "<ol class=list-inline><li>'Foret'</li><li>'Ble_tendre_hiver'</li><li>'Tournesol'</li><li>'Orge_hiver'</li><li>'Colza_hiver'</li><li>'Moutarde'</li><li>'Soja'</li><li>'Bandes_enherbees'</li><li>'Moutarde_brune'</li><li>'Pois_prot._printemps'</li><li>'Moutarde_hiver'</li><li>'Cassis'</li><li>'Pomme_de_terre'</li><li>'Haricots_verts'</li><li>'Orge_printemps'</li><li>'Miscanthus'</li></ol>\n"
      ],
      "text/latex": [
       "\\begin{enumerate*}\n",
       "\\item 'Foret'\n",
       "\\item 'Ble\\_tendre\\_hiver'\n",
       "\\item 'Tournesol'\n",
       "\\item 'Orge\\_hiver'\n",
       "\\item 'Colza\\_hiver'\n",
       "\\item 'Moutarde'\n",
       "\\item 'Soja'\n",
       "\\item 'Bandes\\_enherbees'\n",
       "\\item 'Moutarde\\_brune'\n",
       "\\item 'Pois\\_prot.\\_printemps'\n",
       "\\item 'Moutarde\\_hiver'\n",
       "\\item 'Cassis'\n",
       "\\item 'Pomme\\_de\\_terre'\n",
       "\\item 'Haricots\\_verts'\n",
       "\\item 'Orge\\_printemps'\n",
       "\\item 'Miscanthus'\n",
       "\\end{enumerate*}\n"
      ],
      "text/markdown": [
       "1. 'Foret'\n",
       "2. 'Ble_tendre_hiver'\n",
       "3. 'Tournesol'\n",
       "4. 'Orge_hiver'\n",
       "5. 'Colza_hiver'\n",
       "6. 'Moutarde'\n",
       "7. 'Soja'\n",
       "8. 'Bandes_enherbees'\n",
       "9. 'Moutarde_brune'\n",
       "10. 'Pois_prot._printemps'\n",
       "11. 'Moutarde_hiver'\n",
       "12. 'Cassis'\n",
       "13. 'Pomme_de_terre'\n",
       "14. 'Haricots_verts'\n",
       "15. 'Orge_printemps'\n",
       "16. 'Miscanthus'\n",
       "\n",
       "\n"
      ],
      "text/plain": [
       " [1] \"Foret\"                \"Ble_tendre_hiver\"     \"Tournesol\"           \n",
       " [4] \"Orge_hiver\"           \"Colza_hiver\"          \"Moutarde\"            \n",
       " [7] \"Soja\"                 \"Bandes_enherbees\"     \"Moutarde_brune\"      \n",
       "[10] \"Pois_prot._printemps\" \"Moutarde_hiver\"       \"Cassis\"              \n",
       "[13] \"Pomme_de_terre\"       \"Haricots_verts\"       \"Orge_printemps\"      \n",
       "[16] \"Miscanthus\"          "
      ]
     },
     "metadata": {},
     "output_type": "display_data"
    }
   ],
   "source": [
    "## Description et application de l'opérateur %>% ##\n",
    "## Cet opérateur est associé au package tidyverse\n",
    "\n",
    "## Recherche d'expression régulière et remplacement/correction d'erreurs de casse\n",
    "### Objectif: remplacement des détails des cultures par une catégorie plus large dans la cariable Parcelle_c\n",
    "\n",
    "# Identification du nombre de catégories\n",
    "  mydata_microbes$Parcelle_c%>%unique()"
   ]
  },
  {
   "cell_type": "code",
   "execution_count": 13,
   "id": "e1ad826d-88ec-428b-83ba-f8c157ee9b7e",
   "metadata": {},
   "outputs": [
    {
     "data": {
      "text/html": [
       "<style>\n",
       ".list-inline {list-style: none; margin:0; padding: 0}\n",
       ".list-inline>li {display: inline-block}\n",
       ".list-inline>li:not(:last-child)::after {content: \"\\00b7\"; padding: 0 .5ex}\n",
       "</style>\n",
       "<ol class=list-inline><li>'Foret'</li><li>'Cereale'</li><li>'Oleagineux'</li><li>'Proteagineux'</li><li>'Bandes_enherbees'</li><li>'Oleagineux_brune'</li><li>'Oleagineux_hiver'</li><li>'Petits_fruits'</li><li>'Maraîchage'</li><li>'Cult_perenne'</li></ol>\n"
      ],
      "text/latex": [
       "\\begin{enumerate*}\n",
       "\\item 'Foret'\n",
       "\\item 'Cereale'\n",
       "\\item 'Oleagineux'\n",
       "\\item 'Proteagineux'\n",
       "\\item 'Bandes\\_enherbees'\n",
       "\\item 'Oleagineux\\_brune'\n",
       "\\item 'Oleagineux\\_hiver'\n",
       "\\item 'Petits\\_fruits'\n",
       "\\item 'Maraîchage'\n",
       "\\item 'Cult\\_perenne'\n",
       "\\end{enumerate*}\n"
      ],
      "text/markdown": [
       "1. 'Foret'\n",
       "2. 'Cereale'\n",
       "3. 'Oleagineux'\n",
       "4. 'Proteagineux'\n",
       "5. 'Bandes_enherbees'\n",
       "6. 'Oleagineux_brune'\n",
       "7. 'Oleagineux_hiver'\n",
       "8. 'Petits_fruits'\n",
       "9. 'Maraîchage'\n",
       "10. 'Cult_perenne'\n",
       "\n",
       "\n"
      ],
      "text/plain": [
       " [1] \"Foret\"            \"Cereale\"          \"Oleagineux\"       \"Proteagineux\"    \n",
       " [5] \"Bandes_enherbees\" \"Oleagineux_brune\" \"Oleagineux_hiver\" \"Petits_fruits\"   \n",
       " [9] \"Maraîchage\"       \"Cult_perenne\"    "
      ]
     },
     "metadata": {},
     "output_type": "display_data"
    }
   ],
   "source": [
    "mydata_microbes<-mydata_microbes %>%\n",
    "                          mutate_at(\"Parcelle_c\", str_replace, \"Ble_tendre_hiver\", \"Cereale\")%>%\n",
    "                          mutate_at(\"Parcelle_c\", str_replace, \"Tournesol\", \"Oleagineux\")%>%\n",
    "                          mutate_at(\"Parcelle_c\", str_replace, \"Orge_hiver\", \"Cereale\")%>%\n",
    "                          mutate_at(\"Parcelle_c\", str_replace, \"Colza_hiver\", \"Oleagineux\")%>%\n",
    "                          mutate_at(\"Parcelle_c\", str_replace, \"Moutarde\", \"Oleagineux\")%>%\n",
    "                          mutate_at(\"Parcelle_c\", str_replace, \"Soja\", \"Proteagineux\")%>%\n",
    "                          mutate_at(\"Parcelle_c\", str_replace, \"Bande_enherbees\", \"Cult_perenne\")%>%\n",
    "                          mutate_at(\"Parcelle_c\", str_replace, \"Moutarde_brune\", \"Oleagineux\")%>%\n",
    "                          mutate_at(\"Parcelle_c\", str_replace, \"Pois_prot._printemps\", \"Proteagineux\")%>%\n",
    "                          mutate_at(\"Parcelle_c\", str_replace, \"Moutarde_hiver\", \"Oleagineux\")%>%\n",
    "                          mutate_at(\"Parcelle_c\", str_replace, \"Cassis\", \"Petits_fruits\")%>%\n",
    "                          mutate_at(\"Parcelle_c\", str_replace, \"Pomme_de_terre\", \"Maraîchage\")%>%\n",
    "                          mutate_at(\"Parcelle_c\", str_replace, \"Haricots_verts\", \"Maraîchage\")%>%\n",
    "                          mutate_at(\"Parcelle_c\", str_replace, \"Orge_printemps\", \"Cereale\")%>%\n",
    "                          mutate_at(\"Parcelle_c\", str_replace, \"Miscanthus\", \"Cult_perenne\")\n",
    "\n",
    "  mydata_microbes$Parcelle_c%>%unique()"
   ]
  },
  {
   "cell_type": "code",
   "execution_count": 14,
   "id": "976afaf0-0c93-4b90-9511-d74e0ed88623",
   "metadata": {},
   "outputs": [
    {
     "data": {
      "text/html": [
       "<style>\n",
       ".list-inline {list-style: none; margin:0; padding: 0}\n",
       ".list-inline>li {display: inline-block}\n",
       ".list-inline>li:not(:last-child)::after {content: \"\\00b7\"; padding: 0 .5ex}\n",
       "</style>\n",
       "<ol class=list-inline><li>'field_1'</li><li>'annee'</li><li>'SOC'</li><li>'TN'</li><li>'C_N'</li><li>'PH'</li><li>'Clay'</li><li>'Sand'</li><li>'XLB93'</li><li>'YLB93'</li><li>'geometry'</li></ol>\n"
      ],
      "text/latex": [
       "\\begin{enumerate*}\n",
       "\\item 'field\\_1'\n",
       "\\item 'annee'\n",
       "\\item 'SOC'\n",
       "\\item 'TN'\n",
       "\\item 'C\\_N'\n",
       "\\item 'PH'\n",
       "\\item 'Clay'\n",
       "\\item 'Sand'\n",
       "\\item 'XLB93'\n",
       "\\item 'YLB93'\n",
       "\\item 'geometry'\n",
       "\\end{enumerate*}\n"
      ],
      "text/markdown": [
       "1. 'field_1'\n",
       "2. 'annee'\n",
       "3. 'SOC'\n",
       "4. 'TN'\n",
       "5. 'C_N'\n",
       "6. 'PH'\n",
       "7. 'Clay'\n",
       "8. 'Sand'\n",
       "9. 'XLB93'\n",
       "10. 'YLB93'\n",
       "11. 'geometry'\n",
       "\n",
       "\n"
      ],
      "text/plain": [
       " [1] \"field_1\"  \"annee\"    \"SOC\"      \"TN\"       \"C_N\"      \"PH\"      \n",
       " [7] \"Clay\"     \"Sand\"     \"XLB93\"    \"YLB93\"    \"geometry\""
      ]
     },
     "metadata": {},
     "output_type": "display_data"
    },
    {
     "data": {
      "text/html": [
       "<style>\n",
       ".list-inline {list-style: none; margin:0; padding: 0}\n",
       ".list-inline>li {display: inline-block}\n",
       ".list-inline>li:not(:last-child)::after {content: \"\\00b7\"; padding: 0 .5ex}\n",
       "</style>\n",
       "<ol class=list-inline><li>'field_1'</li><li>'XLB93'</li><li>'YLB93'</li><li>'N_mineral'</li><li>'P'</li><li>'K'</li><li>'Mg_total'</li><li>'S_total'</li><li>'Parcelle_c'</li><li>'Profondeur'</li><li>'Categories'</li><li>'Shannon'</li><li>'Evenness'</li><li>'X1.Simpson'</li><li>'Biomasse'</li><li>'NB_OTUs_BE'</li><li>'geometry'</li></ol>\n"
      ],
      "text/latex": [
       "\\begin{enumerate*}\n",
       "\\item 'field\\_1'\n",
       "\\item 'XLB93'\n",
       "\\item 'YLB93'\n",
       "\\item 'N\\_mineral'\n",
       "\\item 'P'\n",
       "\\item 'K'\n",
       "\\item 'Mg\\_total'\n",
       "\\item 'S\\_total'\n",
       "\\item 'Parcelle\\_c'\n",
       "\\item 'Profondeur'\n",
       "\\item 'Categories'\n",
       "\\item 'Shannon'\n",
       "\\item 'Evenness'\n",
       "\\item 'X1.Simpson'\n",
       "\\item 'Biomasse'\n",
       "\\item 'NB\\_OTUs\\_BE'\n",
       "\\item 'geometry'\n",
       "\\end{enumerate*}\n"
      ],
      "text/markdown": [
       "1. 'field_1'\n",
       "2. 'XLB93'\n",
       "3. 'YLB93'\n",
       "4. 'N_mineral'\n",
       "5. 'P'\n",
       "6. 'K'\n",
       "7. 'Mg_total'\n",
       "8. 'S_total'\n",
       "9. 'Parcelle_c'\n",
       "10. 'Profondeur'\n",
       "11. 'Categories'\n",
       "12. 'Shannon'\n",
       "13. 'Evenness'\n",
       "14. 'X1.Simpson'\n",
       "15. 'Biomasse'\n",
       "16. 'NB_OTUs_BE'\n",
       "17. 'geometry'\n",
       "\n",
       "\n"
      ],
      "text/plain": [
       " [1] \"field_1\"    \"XLB93\"      \"YLB93\"      \"N_mineral\"  \"P\"         \n",
       " [6] \"K\"          \"Mg_total\"   \"S_total\"    \"Parcelle_c\" \"Profondeur\"\n",
       "[11] \"Categories\" \"Shannon\"    \"Evenness\"   \"X1.Simpson\" \"Biomasse\"  \n",
       "[16] \"NB_OTUs_BE\" \"geometry\"  "
      ]
     },
     "metadata": {},
     "output_type": "display_data"
    }
   ],
   "source": [
    "## Sous-selection de colonnes\n",
    "### l'objectif est de pouvoir réduire la taille d'un tableau ou ne faire des opérations que sur les colonnes d'intérêt.\n",
    "### Ici, on va sous-sélectionner les colonnes uniques du tableau mydata_microbes par rapport au tableau mydata avant \n",
    "## de faire une jointure entre les deux tableaux de données.\n",
    "### Pour cela, on va procéder en excluant les colonnes en double.\n",
    "\n",
    "    ## Lister les colonnes de mydata et de mydata_microbes\n",
    "    mydata%>%colnames()  \n",
    "    mydata_microbes%>%colnames()\n",
    "    mydata_microbes<- mydata_microbes%>%select(!c(\"XLB93\",  \"YLB93\", \"geometry\"))"
   ]
  },
  {
   "cell_type": "code",
   "execution_count": 15,
   "id": "40b780d5-e56d-4e4c-95d0-68246be1a9d6",
   "metadata": {},
   "outputs": [
    {
     "name": "stderr",
     "output_type": "stream",
     "text": [
      "\u001b[1m\u001b[22mJoining with `by = join_by(field_1, geometry)`\n"
     ]
    }
   ],
   "source": [
    "## Jointure de tableaux\n",
    "### l'objectif est de pouvoir associer deux tableaux sur la base d'une colonne d'identifiants\n",
    "    \n",
    "    ### Dans le cas d'un tableau de données simple\n",
    "    ## Passage des objets de la classe sf et data.frame à la seule classe data.frame\n",
    "    mydata_df<-mydata%>%as.data.frame()\n",
    "    mydata_microbes_df<-mydata_microbes%>%as.data.frame()\n",
    "    \n",
    "    mydata_df<-inner_join(x = mydata_df, y = mydata_microbes_df)\n"
   ]
  },
  {
   "cell_type": "code",
   "execution_count": 16,
   "id": "a3a47bbf-8030-4645-9d05-100883b795c8",
   "metadata": {},
   "outputs": [
    {
     "data": {
      "text/html": [
       "'data.frame'"
      ],
      "text/latex": [
       "'data.frame'"
      ],
      "text/markdown": [
       "'data.frame'"
      ],
      "text/plain": [
       "[1] \"data.frame\""
      ]
     },
     "metadata": {},
     "output_type": "display_data"
    },
    {
     "data": {
      "text/html": [
       "<style>\n",
       ".list-inline {list-style: none; margin:0; padding: 0}\n",
       ".list-inline>li {display: inline-block}\n",
       ".list-inline>li:not(:last-child)::after {content: \"\\00b7\"; padding: 0 .5ex}\n",
       "</style>\n",
       "<ol class=list-inline><li>269</li><li>24</li></ol>\n"
      ],
      "text/latex": [
       "\\begin{enumerate*}\n",
       "\\item 269\n",
       "\\item 24\n",
       "\\end{enumerate*}\n"
      ],
      "text/markdown": [
       "1. 269\n",
       "2. 24\n",
       "\n",
       "\n"
      ],
      "text/plain": [
       "[1] 269  24"
      ]
     },
     "metadata": {},
     "output_type": "display_data"
    }
   ],
   "source": [
    "class(mydata_df)\n",
    "##head(mydata_df)\n",
    "dim(mydata_df)"
   ]
  },
  {
   "cell_type": "code",
   "execution_count": 17,
   "id": "52f3c05e-cea3-4789-a42d-1d8d58dc126f",
   "metadata": {},
   "outputs": [],
   "source": [
    "### Dans le cas d'un objet spatial\n",
    "mydata<-st_join(x = mydata, y = mydata_microbes, by=\"field_1\")"
   ]
  },
  {
   "cell_type": "code",
   "execution_count": 18,
   "id": "6278c4dd-988b-454a-a07f-2a32e457b613",
   "metadata": {},
   "outputs": [
    {
     "data": {
      "application/geo+json": {
       "features": [
        {
         "geometry": {
          "coordinates": [
           857058.6219,
           6684436.696
          ],
          "type": "Point"
         },
         "properties": {
          "Biomasse": 230,
          "C_N": 11.4,
          "Categories": "pas_de_travail",
          "Clay": 44.2,
          "Evenness": 0.6971,
          "K": 0,
          "Mg_total": 0,
          "NB_OTUs_BE": 1549,
          "N_mineral": 0,
          "P": 0,
          "PH": 6.78,
          "Parcelle_c": "Foret",
          "Profondeur": 0,
          "SOC": 35,
          "S_total": 0,
          "Sand": 4.5,
          "Shannon": 4.81,
          "TN": 3.07,
          "X1.Simpson": 25.743,
          "XLB93": 857058.6219,
          "YLB93": 6684436.696,
          "annee": 2011,
          "field_1.x": "Py_1_2011",
          "field_1.y": "Py_1_2011"
         },
         "type": "Feature"
        },
        {
         "geometry": {
          "coordinates": [
           854842.7434,
           6682797.483
          ],
          "type": "Point"
         },
         "properties": {
          "Biomasse": 100,
          "C_N": 10.1,
          "Categories": "Travail_intermediaire",
          "Clay": 34.3,
          "Evenness": 0.7959,
          "K": 27.25,
          "Mg_total": 0,
          "NB_OTUs_BE": 2002,
          "N_mineral": 126,
          "P": 55.25,
          "PH": 8.1,
          "Parcelle_c": "Cereale",
          "Profondeur": 25,
          "SOC": 24.5,
          "S_total": 23.25,
          "Sand": 15,
          "Shannon": 5.729,
          "TN": 2.42,
          "X1.Simpson": 94.53,
          "XLB93": 854842.7434,
          "YLB93": 6682797.483,
          "annee": 2011,
          "field_1.x": "Py_100_2011",
          "field_1.y": "Py_100_2011"
         },
         "type": "Feature"
        },
        {
         "geometry": {
          "coordinates": [
           858497.8804,
           6682797.599
          ],
          "type": "Point"
         },
         "properties": {
          "Biomasse": 69,
          "C_N": 9.48,
          "Categories": "Labour",
          "Clay": 42,
          "Evenness": 0.7825,
          "K": 50.5,
          "Mg_total": 1.75,
          "NB_OTUs_BE": 1723,
          "N_mineral": 57,
          "P": 27,
          "PH": 7.5,
          "Parcelle_c": "Oleagineux",
          "Profondeur": 40,
          "SOC": 23,
          "S_total": 51,
          "Sand": 8,
          "Shannon": 5.469,
          "TN": 2.43,
          "X1.Simpson": 86.932,
          "XLB93": 858497.8804,
          "YLB93": 6682797.599,
          "annee": 2011,
          "field_1.x": "Py_101_2011",
          "field_1.y": "Py_101_2011"
         },
         "type": "Feature"
        },
        {
         "geometry": {
          "coordinates": [
           858283.0373,
           6682797.731
          ],
          "type": "Point"
         },
         "properties": {
          "Biomasse": 6.6,
          "C_N": 9.44,
          "Categories": "Labour",
          "Clay": 40.3,
          "Evenness": 0.778,
          "K": 50.5,
          "Mg_total": 1.75,
          "NB_OTUs_BE": 1865,
          "N_mineral": 57,
          "P": 27,
          "PH": 7.51,
          "Parcelle_c": "Oleagineux",
          "Profondeur": 40,
          "SOC": 19.8,
          "S_total": 51,
          "Sand": 11.6,
          "Shannon": 5.492,
          "TN": 2.1,
          "X1.Simpson": 75.408,
          "XLB93": 858283.0373,
          "YLB93": 6682797.731,
          "annee": 2011,
          "field_1.x": "Py_102_2011",
          "field_1.y": "Py_102_2011"
         },
         "type": "Feature"
        },
        {
         "geometry": {
          "coordinates": [
           855273.053,
           6682797.745
          ],
          "type": "Point"
         },
         "properties": {
          "Biomasse": 90,
          "C_N": 12,
          "Categories": "Travail_intermediaire",
          "Clay": 33,
          "Evenness": 0.7902,
          "K": 29,
          "Mg_total": 0,
          "NB_OTUs_BE": 2205,
          "N_mineral": 91,
          "P": 39.75,
          "PH": 8.06,
          "Parcelle_c": "Cereale",
          "Profondeur": 25,
          "SOC": 45.2,
          "S_total": 9.25,
          "Sand": 10.1,
          "Shannon": 5.742,
          "TN": 3.75,
          "X1.Simpson": 77.682,
          "XLB93": 855273.053,
          "YLB93": 6682797.745,
          "annee": 2011,
          "field_1.x": "Py_103_2011",
          "field_1.y": "Py_103_2011"
         },
         "type": "Feature"
        },
        {
         "geometry": {
          "coordinates": [
           858068.1882,
           6682797.859
          ],
          "type": "Point"
         },
         "properties": {
          "Biomasse": 37,
          "C_N": 1.74,
          "Categories": "Travail_intermediaire",
          "Clay": 31,
          "Evenness": 0.7711,
          "K": 0,
          "Mg_total": 5,
          "NB_OTUs_BE": 2018,
          "N_mineral": 209,
          "P": 35.75,
          "PH": 8.25,
          "Parcelle_c": "Cereale",
          "Profondeur": 25,
          "SOC": 10.3,
          "S_total": 9.75,
          "Sand": 5.6,
          "Shannon": 5.519,
          "TN": 5.92,
          "X1.Simpson": 73.336,
          "XLB93": 858068.1882,
          "YLB93": 6682797.859,
          "annee": 2011,
          "field_1.x": "Py_104_2011",
          "field_1.y": "Py_104_2011"
         },
         "type": "Feature"
        }
       ],
       "type": "FeatureCollection"
      },
      "text/html": [
       "<table class=\"dataframe\">\n",
       "<caption>A sf: 6 × 25</caption>\n",
       "<thead>\n",
       "\t<tr><th></th><th scope=col>field_1.x</th><th scope=col>annee</th><th scope=col>SOC</th><th scope=col>TN</th><th scope=col>C_N</th><th scope=col>PH</th><th scope=col>Clay</th><th scope=col>Sand</th><th scope=col>XLB93</th><th scope=col>YLB93</th><th scope=col>geometry</th><th scope=col>⋯</th><th scope=col>S_total</th><th scope=col>Parcelle_c</th><th scope=col>Profondeur</th><th scope=col>Categories</th><th scope=col>Shannon</th><th scope=col>Evenness</th><th scope=col>X1.Simpson</th><th scope=col>Biomasse</th><th scope=col>NB_OTUs_BE</th><th scope=col>geometry</th></tr>\n",
       "\t<tr><th></th><th scope=col>&lt;chr&gt;</th><th scope=col>&lt;dbl&gt;</th><th scope=col>&lt;dbl&gt;</th><th scope=col>&lt;dbl&gt;</th><th scope=col>&lt;dbl&gt;</th><th scope=col>&lt;dbl&gt;</th><th scope=col>&lt;dbl&gt;</th><th scope=col>&lt;dbl&gt;</th><th scope=col>&lt;dbl&gt;</th><th scope=col>&lt;dbl&gt;</th><th scope=col>⋯</th><th scope=col>&lt;dbl&gt;</th><th scope=col>&lt;chr&gt;</th><th scope=col>&lt;dbl&gt;</th><th scope=col>&lt;chr&gt;</th><th scope=col>&lt;dbl&gt;</th><th scope=col>&lt;dbl&gt;</th><th scope=col>&lt;dbl&gt;</th><th scope=col>&lt;dbl&gt;</th><th scope=col>&lt;dbl&gt;</th><th scope=col>&lt;POINT [m]&gt;</th></tr>\n",
       "</thead>\n",
       "<tbody>\n",
       "\t<tr><th scope=row>1</th><td>Py_1_2011  </td><td>2011</td><td>35.0</td><td>3.07</td><td>11.40</td><td>6.78</td><td>44.2</td><td> 4.5</td><td>857058.6</td><td>6684437</td><td>POINT (857058.6 6684437)</td><td>⋯</td><td> 0.00</td><td>Foret     </td><td> 0</td><td>pas_de_travail       </td><td>4.810</td><td>0.697131</td><td>25.743</td><td>230.0</td><td>1549</td><td>POINT (857058.6 6684437)</td></tr>\n",
       "\t<tr><th scope=row>2</th><td>Py_100_2011</td><td>2011</td><td>24.5</td><td>2.42</td><td>10.10</td><td>8.10</td><td>34.3</td><td>15.0</td><td>854842.7</td><td>6682797</td><td>POINT (854842.7 6682797)</td><td>⋯</td><td>23.25</td><td>Cereale   </td><td>25</td><td>Travail_intermediaire</td><td>5.729</td><td>0.795924</td><td>94.530</td><td>100.0</td><td>2002</td><td>POINT (854842.7 6682797)</td></tr>\n",
       "\t<tr><th scope=row>3</th><td>Py_101_2011</td><td>2011</td><td>23.0</td><td>2.43</td><td> 9.48</td><td>7.50</td><td>42.0</td><td> 8.0</td><td>858497.9</td><td>6682798</td><td>POINT (858497.9 6682798)</td><td>⋯</td><td>51.00</td><td>Oleagineux</td><td>40</td><td>Labour               </td><td>5.469</td><td>0.782461</td><td>86.932</td><td> 69.0</td><td>1723</td><td>POINT (858497.9 6682798)</td></tr>\n",
       "\t<tr><th scope=row>4</th><td>Py_102_2011</td><td>2011</td><td>19.8</td><td>2.10</td><td> 9.44</td><td>7.51</td><td>40.3</td><td>11.6</td><td>858283.0</td><td>6682798</td><td>POINT (858283 6682798)</td><td>⋯</td><td>51.00</td><td>Oleagineux</td><td>40</td><td>Labour               </td><td>5.492</td><td>0.777978</td><td>75.408</td><td>  6.6</td><td>1865</td><td>POINT (858283 6682798)</td></tr>\n",
       "\t<tr><th scope=row>5</th><td>Py_103_2011</td><td>2011</td><td>45.2</td><td>3.75</td><td>12.00</td><td>8.06</td><td>33.0</td><td>10.1</td><td>855273.1</td><td>6682798</td><td>POINT (855273.1 6682798)</td><td>⋯</td><td> 9.25</td><td>Cereale   </td><td>25</td><td>Travail_intermediaire</td><td>5.742</td><td>0.790177</td><td>77.682</td><td> 90.0</td><td>2205</td><td>POINT (855273.1 6682798)</td></tr>\n",
       "\t<tr><th scope=row>6</th><td>Py_104_2011</td><td>2011</td><td>10.3</td><td>5.92</td><td> 1.74</td><td>8.25</td><td>31.0</td><td> 5.6</td><td>858068.2</td><td>6682798</td><td>POINT (858068.2 6682798)</td><td>⋯</td><td> 9.75</td><td>Cereale   </td><td>25</td><td>Travail_intermediaire</td><td>5.519</td><td>0.771110</td><td>73.336</td><td> 37.0</td><td>2018</td><td>POINT (858068.2 6682798)</td></tr>\n",
       "</tbody>\n",
       "</table>\n"
      ],
      "text/latex": [
       "A sf: 6 × 25\n",
       "\\begin{tabular}{r|lllllllllllllllllllll}\n",
       "  & field\\_1.x & annee & SOC & TN & C\\_N & PH & Clay & Sand & XLB93 & YLB93 & geometry & ⋯ & S\\_total & Parcelle\\_c & Profondeur & Categories & Shannon & Evenness & X1.Simpson & Biomasse & NB\\_OTUs\\_BE & geometry\\\\\n",
       "  & <chr> & <dbl> & <dbl> & <dbl> & <dbl> & <dbl> & <dbl> & <dbl> & <dbl> & <dbl> & ⋯ & <dbl> & <chr> & <dbl> & <chr> & <dbl> & <dbl> & <dbl> & <dbl> & <dbl> & <POINT {[}m{]}>\\\\\n",
       "\\hline\n",
       "\t1 & Py\\_1\\_2011   & 2011 & 35.0 & 3.07 & 11.40 & 6.78 & 44.2 &  4.5 & 857058.6 & 6684437 & POINT (857058.6 6684437) & ⋯ &  0.00 & Foret      &  0 & pas\\_de\\_travail        & 4.810 & 0.697131 & 25.743 & 230.0 & 1549 & POINT (857058.6 6684437)\\\\\n",
       "\t2 & Py\\_100\\_2011 & 2011 & 24.5 & 2.42 & 10.10 & 8.10 & 34.3 & 15.0 & 854842.7 & 6682797 & POINT (854842.7 6682797) & ⋯ & 23.25 & Cereale    & 25 & Travail\\_intermediaire & 5.729 & 0.795924 & 94.530 & 100.0 & 2002 & POINT (854842.7 6682797)\\\\\n",
       "\t3 & Py\\_101\\_2011 & 2011 & 23.0 & 2.43 &  9.48 & 7.50 & 42.0 &  8.0 & 858497.9 & 6682798 & POINT (858497.9 6682798) & ⋯ & 51.00 & Oleagineux & 40 & Labour                & 5.469 & 0.782461 & 86.932 &  69.0 & 1723 & POINT (858497.9 6682798)\\\\\n",
       "\t4 & Py\\_102\\_2011 & 2011 & 19.8 & 2.10 &  9.44 & 7.51 & 40.3 & 11.6 & 858283.0 & 6682798 & POINT (858283 6682798) & ⋯ & 51.00 & Oleagineux & 40 & Labour                & 5.492 & 0.777978 & 75.408 &   6.6 & 1865 & POINT (858283 6682798)\\\\\n",
       "\t5 & Py\\_103\\_2011 & 2011 & 45.2 & 3.75 & 12.00 & 8.06 & 33.0 & 10.1 & 855273.1 & 6682798 & POINT (855273.1 6682798) & ⋯ &  9.25 & Cereale    & 25 & Travail\\_intermediaire & 5.742 & 0.790177 & 77.682 &  90.0 & 2205 & POINT (855273.1 6682798)\\\\\n",
       "\t6 & Py\\_104\\_2011 & 2011 & 10.3 & 5.92 &  1.74 & 8.25 & 31.0 &  5.6 & 858068.2 & 6682798 & POINT (858068.2 6682798) & ⋯ &  9.75 & Cereale    & 25 & Travail\\_intermediaire & 5.519 & 0.771110 & 73.336 &  37.0 & 2018 & POINT (858068.2 6682798)\\\\\n",
       "\\end{tabular}\n"
      ],
      "text/markdown": [
       "\n",
       "A sf: 6 × 25\n",
       "\n",
       "| <!--/--> | field_1.x &lt;chr&gt; | annee &lt;dbl&gt; | SOC &lt;dbl&gt; | TN &lt;dbl&gt; | C_N &lt;dbl&gt; | PH &lt;dbl&gt; | Clay &lt;dbl&gt; | Sand &lt;dbl&gt; | XLB93 &lt;dbl&gt; | YLB93 &lt;dbl&gt; | geometry ⋯ | ⋯ &lt;dbl&gt; | S_total &lt;chr&gt; | Parcelle_c &lt;dbl&gt; | Profondeur &lt;chr&gt; | Categories &lt;dbl&gt; | Shannon &lt;dbl&gt; | Evenness &lt;dbl&gt; | X1.Simpson &lt;dbl&gt; | Biomasse &lt;dbl&gt; | NB_OTUs_BE &lt;POINT [m]&gt; | geometry &lt;chr&gt; |\n",
       "|---|---|---|---|---|---|---|---|---|---|---|---|---|---|---|---|---|---|---|---|---|---|\n",
       "| 1 | Py_1_2011   | 2011 | 35.0 | 3.07 | 11.40 | 6.78 | 44.2 |  4.5 | 857058.6 | 6684437 | POINT (857058.6 6684437) | ⋯ |  0.00 | Foret      |  0 | pas_de_travail        | 4.810 | 0.697131 | 25.743 | 230.0 | 1549 | POINT (857058.6 6684437) |\n",
       "| 2 | Py_100_2011 | 2011 | 24.5 | 2.42 | 10.10 | 8.10 | 34.3 | 15.0 | 854842.7 | 6682797 | POINT (854842.7 6682797) | ⋯ | 23.25 | Cereale    | 25 | Travail_intermediaire | 5.729 | 0.795924 | 94.530 | 100.0 | 2002 | POINT (854842.7 6682797) |\n",
       "| 3 | Py_101_2011 | 2011 | 23.0 | 2.43 |  9.48 | 7.50 | 42.0 |  8.0 | 858497.9 | 6682798 | POINT (858497.9 6682798) | ⋯ | 51.00 | Oleagineux | 40 | Labour                | 5.469 | 0.782461 | 86.932 |  69.0 | 1723 | POINT (858497.9 6682798) |\n",
       "| 4 | Py_102_2011 | 2011 | 19.8 | 2.10 |  9.44 | 7.51 | 40.3 | 11.6 | 858283.0 | 6682798 | POINT (858283 6682798) | ⋯ | 51.00 | Oleagineux | 40 | Labour                | 5.492 | 0.777978 | 75.408 |   6.6 | 1865 | POINT (858283 6682798) |\n",
       "| 5 | Py_103_2011 | 2011 | 45.2 | 3.75 | 12.00 | 8.06 | 33.0 | 10.1 | 855273.1 | 6682798 | POINT (855273.1 6682798) | ⋯ |  9.25 | Cereale    | 25 | Travail_intermediaire | 5.742 | 0.790177 | 77.682 |  90.0 | 2205 | POINT (855273.1 6682798) |\n",
       "| 6 | Py_104_2011 | 2011 | 10.3 | 5.92 |  1.74 | 8.25 | 31.0 |  5.6 | 858068.2 | 6682798 | POINT (858068.2 6682798) | ⋯ |  9.75 | Cereale    | 25 | Travail_intermediaire | 5.519 | 0.771110 | 73.336 |  37.0 | 2018 | POINT (858068.2 6682798) |\n",
       "\n"
      ],
      "text/plain": [
       "  field_1.x   annee SOC  TN   C_N   PH   Clay Sand XLB93    YLB93  \n",
       "1 Py_1_2011   2011  35.0 3.07 11.40 6.78 44.2  4.5 857058.6 6684437\n",
       "2 Py_100_2011 2011  24.5 2.42 10.10 8.10 34.3 15.0 854842.7 6682797\n",
       "3 Py_101_2011 2011  23.0 2.43  9.48 7.50 42.0  8.0 858497.9 6682798\n",
       "4 Py_102_2011 2011  19.8 2.10  9.44 7.51 40.3 11.6 858283.0 6682798\n",
       "5 Py_103_2011 2011  45.2 3.75 12.00 8.06 33.0 10.1 855273.1 6682798\n",
       "6 Py_104_2011 2011  10.3 5.92  1.74 8.25 31.0  5.6 858068.2 6682798\n",
       "  geometry                 ⋯ S_total Parcelle_c Profondeur\n",
       "1 POINT (857058.6 6684437) ⋯  0.00   Foret       0        \n",
       "2 POINT (854842.7 6682797) ⋯ 23.25   Cereale    25        \n",
       "3 POINT (858497.9 6682798) ⋯ 51.00   Oleagineux 40        \n",
       "4 POINT (858283 6682798)   ⋯ 51.00   Oleagineux 40        \n",
       "5 POINT (855273.1 6682798) ⋯  9.25   Cereale    25        \n",
       "6 POINT (858068.2 6682798) ⋯  9.75   Cereale    25        \n",
       "  Categories            Shannon Evenness X1.Simpson Biomasse NB_OTUs_BE\n",
       "1 pas_de_travail        4.810   0.697131 25.743     230.0    1549      \n",
       "2 Travail_intermediaire 5.729   0.795924 94.530     100.0    2002      \n",
       "3 Labour                5.469   0.782461 86.932      69.0    1723      \n",
       "4 Labour                5.492   0.777978 75.408       6.6    1865      \n",
       "5 Travail_intermediaire 5.742   0.790177 77.682      90.0    2205      \n",
       "6 Travail_intermediaire 5.519   0.771110 73.336      37.0    2018      \n",
       "  geometry                \n",
       "1 POINT (857058.6 6684437)\n",
       "2 POINT (854842.7 6682797)\n",
       "3 POINT (858497.9 6682798)\n",
       "4 POINT (858283 6682798)  \n",
       "5 POINT (855273.1 6682798)\n",
       "6 POINT (858068.2 6682798)"
      ]
     },
     "metadata": {},
     "output_type": "display_data"
    }
   ],
   "source": [
    "head(mydata)"
   ]
  },
  {
   "cell_type": "code",
   "execution_count": 19,
   "id": "fb5f55c0-84ab-434a-b29d-7d5536057b73",
   "metadata": {},
   "outputs": [
    {
     "name": "stdout",
     "output_type": "stream",
     "text": [
      "'data.frame':\t194 obs. of  24 variables:\n",
      " $ field_1   : chr  \"Py_1_2011\" \"Py_100_2011\" \"Py_103_2011\" \"Py_104_2011\" ...\n",
      " $ annee     : num  2011 2011 2011 2011 2011 ...\n",
      " $ SOC       : num  35 24.5 45.2 10.3 33.2 11 10.4 10.8 14 38.7 ...\n",
      " $ TN        : num  3.07 2.42 3.75 5.92 3.14 1.06 0.999 1.06 1.38 3.11 ...\n",
      " $ C_N       : num  11.4 10.1 12 1.74 10.6 10.4 10.4 10.1 10.2 12.4 ...\n",
      " $ PH        : num  6.78 8.1 8.06 8.25 8.2 6.78 7.75 7.16 8.29 7.23 ...\n",
      " $ Clay      : num  44.2 34.3 33 31 21.4 27.3 24.3 22 40 44.5 ...\n",
      " $ Sand      : num  4.5 15 10.1 5.6 14.4 7.9 6.5 9.3 9.5 7.2 ...\n",
      " $ XLB93     : num  857059 854843 855273 858068 855488 ...\n",
      " $ YLB93     : num  6684437 6682797 6682798 6682798 6682798 ...\n",
      " $ geometry  :sfc_POINT of length 194; first list element:  'XY' num  857059 6684437\n",
      " $ N_mineral : num  0 126 91 209 91 209 209 144 133 0 ...\n",
      " $ P         : num  0 55.2 39.8 35.8 39.8 ...\n",
      " $ K         : num  0 27.2 29 0 29 ...\n",
      " $ Mg_total  : num  0 0 0 5 0 5 5 2.5 0 0 ...\n",
      " $ S_total   : num  0 23.25 9.25 9.75 9.25 ...\n",
      " $ Parcelle_c: chr  \"Foret\" \"Cereale\" \"Cereale\" \"Cereale\" ...\n",
      " $ Profondeur: num  0 25 25 25 25 25 25 40 25 0 ...\n",
      " $ Categories: chr  \"pas_de_travail\" \"Travail_intermediaire\" \"Travail_intermediaire\" \"Travail_intermediaire\" ...\n",
      " $ Shannon   : num  4.81 5.73 5.74 5.52 5.93 ...\n",
      " $ Evenness  : num  0.697 0.796 0.79 0.771 0.804 ...\n",
      " $ X1.Simpson: num  25.7 94.5 77.7 73.3 90.9 ...\n",
      " $ Biomasse  : num  230 100 90 37 87 23 31 28 16 180 ...\n",
      " $ NB_OTUs_BE: num  1549 2002 2205 2018 2293 ...\n",
      " - attr(*, \"sf_column\")= chr \"geometry\"\n",
      " - attr(*, \"agr\")= Factor w/ 3 levels \"constant\",\"aggregate\",..: NA NA NA NA NA NA NA NA NA NA\n",
      "  ..- attr(*, \"names\")= chr [1:10] \"field_1\" \"annee\" \"SOC\" \"TN\" ...\n"
     ]
    }
   ],
   "source": [
    "## Sous-échantillonnage des données\n",
    "### e.g. On souhaite ne sélectionner que les sites de forets et de cereales\n",
    "TEMP<-mydata_df%>%filter(Parcelle_c %in% c(\"Foret\",\"Cereale\"))\n",
    "str(TEMP)"
   ]
  },
  {
   "cell_type": "code",
   "execution_count": 20,
   "id": "c6fed531-63a1-4e3d-8a38-8f1fceed27cd",
   "metadata": {},
   "outputs": [
    {
     "data": {
      "text/plain": [
       "      SOC                 geometry  \n",
       " Min.   : 9.50   POINT        :194  \n",
       " 1st Qu.:13.60   epsg:2154    :  0  \n",
       " Median :17.10   +proj=lcc ...:  0  \n",
       " Mean   :22.65                      \n",
       " 3rd Qu.:25.55                      \n",
       " Max.   :88.60                      "
      ]
     },
     "metadata": {},
     "output_type": "display_data"
    },
    {
     "data": {
      "text/html": [
       "<table class=\"dataframe\">\n",
       "<caption>A rstatix_test: 1 × 6</caption>\n",
       "<thead>\n",
       "\t<tr><th></th><th scope=col>.y.</th><th scope=col>n</th><th scope=col>statistic</th><th scope=col>df</th><th scope=col>p</th><th scope=col>method</th></tr>\n",
       "\t<tr><th></th><th scope=col>&lt;chr&gt;</th><th scope=col>&lt;int&gt;</th><th scope=col>&lt;dbl&gt;</th><th scope=col>&lt;int&gt;</th><th scope=col>&lt;dbl&gt;</th><th scope=col>&lt;chr&gt;</th></tr>\n",
       "</thead>\n",
       "<tbody>\n",
       "\t<tr><th scope=row>1</th><td>SOC</td><td>194</td><td>65.71541</td><td>1</td><td>5.21e-16</td><td>Kruskal-Wallis</td></tr>\n",
       "</tbody>\n",
       "</table>\n"
      ],
      "text/latex": [
       "A rstatix\\_test: 1 × 6\n",
       "\\begin{tabular}{r|llllll}\n",
       "  & .y. & n & statistic & df & p & method\\\\\n",
       "  & <chr> & <int> & <dbl> & <int> & <dbl> & <chr>\\\\\n",
       "\\hline\n",
       "\t1 & SOC & 194 & 65.71541 & 1 & 5.21e-16 & Kruskal-Wallis\\\\\n",
       "\\end{tabular}\n"
      ],
      "text/markdown": [
       "\n",
       "A rstatix_test: 1 × 6\n",
       "\n",
       "| <!--/--> | .y. &lt;chr&gt; | n &lt;int&gt; | statistic &lt;dbl&gt; | df &lt;int&gt; | p &lt;dbl&gt; | method &lt;chr&gt; |\n",
       "|---|---|---|---|---|---|---|\n",
       "| 1 | SOC | 194 | 65.71541 | 1 | 5.21e-16 | Kruskal-Wallis |\n",
       "\n"
      ],
      "text/plain": [
       "  .y. n   statistic df p        method        \n",
       "1 SOC 194 65.71541  1  5.21e-16 Kruskal-Wallis"
      ]
     },
     "metadata": {},
     "output_type": "display_data"
    }
   ],
   "source": [
    "## Calcul des moments d'ordre 1 sur le sous-échantillonnage: min, max, moyenne, écart-type \n",
    "## et test de comparaison de moyenne\n",
    "## Calcul des moments d'ordre 1 pour la variable SOC: min, max, moyenne, écart-type\n",
    "mydata%>%filter(Parcelle_c %in% c(\"Foret\",\"Cereale\"))%>%select(SOC)%>%summary()\n",
    "    \n",
    "mydata%>%filter(Parcelle_c %in% c(\"Foret\",\"Cereale\"))%>%kruskal_test(SOC~Parcelle_c)\n"
   ]
  },
  {
   "cell_type": "code",
   "execution_count": 21,
   "id": "c5613536-ac3a-49ed-9333-cc4ee00f3a0d",
   "metadata": {},
   "outputs": [
    {
     "data": {
      "image/png": "[encoded data removed]",
      "text/plain": [
       "plot without title"
      ]
     },
     "metadata": {
      "image/png": {
       "height": 420,
       "width": 420
      }
     },
     "output_type": "display_data"
    }
   ],
   "source": [
    "##################################################################\n",
    "##\n",
    "## III. Ajustement d'un modèle linéaire simple\n",
    "##      métrique de la qualité de l'ajustement du modèle : r et R2\n",
    "##      erreur quadratique moyenne associée à l'ajustement : RMSE\n",
    "##\n",
    "##################################################################\n",
    "\n",
    "## scatterplot de SOC vs. Biomasse\n",
    "plot(mydata$Biomasse,mydata$SOC)\n",
    "#plot(mydata[,23],mydata[,3])\n",
    "## Ajustement d'un modèle linéaire\n",
    "mylm <- lm(Biomasse~SOC, data = mydata)"
   ]
  },
  {
   "cell_type": "code",
   "execution_count": 22,
   "id": "86c4cd64-6737-4fb2-94d4-8ad5efa9502e",
   "metadata": {},
   "outputs": [
    {
     "data": {
      "text/plain": [
       "\n",
       "Call:\n",
       "lm(formula = Biomasse ~ SOC, data = mydata)\n",
       "\n",
       "Residuals:\n",
       "    Min      1Q  Median      3Q     Max \n",
       "-158.49  -16.24   -0.87   12.55  316.50 \n",
       "\n",
       "Coefficients:\n",
       "            Estimate Std. Error t value Pr(>|t|)    \n",
       "(Intercept)  -2.6863     4.6089  -0.583     0.56    \n",
       "SOC           3.1564     0.1848  17.082   <2e-16 ***\n",
       "---\n",
       "Signif. codes:  0 ‘***’ 0.001 ‘**’ 0.01 ‘*’ 0.05 ‘.’ 0.1 ‘ ’ 1\n",
       "\n",
       "Residual standard error: 38.89 on 267 degrees of freedom\n",
       "Multiple R-squared:  0.5222,\tAdjusted R-squared:  0.5204 \n",
       "F-statistic: 291.8 on 1 and 267 DF,  p-value: < 2.2e-16\n"
      ]
     },
     "metadata": {},
     "output_type": "display_data"
    }
   ],
   "source": [
    "## résumé des paramètres et de la qualité de l'ajustement\n",
    "summary(mylm)\n",
    "\n",
    "###############################################\n",
    "## Que déduire de ces résultats ?\n",
    "## Commentaires ?\n",
    "###############################################"
   ]
  },
  {
   "cell_type": "code",
   "execution_count": 26,
   "id": "55f7fb43-03a7-4274-b0b3-4d6a3dca6ce9",
   "metadata": {},
   "outputs": [
    {
     "data": {
      "text/html": [
       "38.7444444997565"
      ],
      "text/latex": [
       "38.7444444997565"
      ],
      "text/markdown": [
       "38.7444444997565"
      ],
      "text/plain": [
       "[1] 38.74444"
      ]
     },
     "metadata": {},
     "output_type": "display_data"
    }
   ],
   "source": [
    "## Calcule de la RMSE (Root Mean Squared Error) ou Erreur Quadratique Moyenne\n",
    "RMSE <- sqrt(sum(mylm$residuals^2)/length(mylm$residuals))\n",
    "RMSE"
   ]
  },
  {
   "cell_type": "code",
   "execution_count": 29,
   "id": "84356487-c379-453f-94e5-565d458de32d",
   "metadata": {},
   "outputs": [
    {
     "data": {
      "text/plain": [
       "\n",
       "Call:\n",
       "lm(formula = Biomasse ~ PH + SOC + TN, data = mydata)\n",
       "\n",
       "Residuals:\n",
       "     Min       1Q   Median       3Q      Max \n",
       "-151.799  -15.309   -0.833   13.811  114.901 \n",
       "\n",
       "Coefficients:\n",
       "            Estimate Std. Error t value Pr(>|t|)    \n",
       "(Intercept)  90.8279    22.5567   4.027 7.39e-05 ***\n",
       "PH          -13.1439     2.9296  -4.487 1.08e-05 ***\n",
       "SOC           1.4159     0.2483   5.702 3.16e-08 ***\n",
       "TN           21.9996     2.3638   9.307  < 2e-16 ***\n",
       "---\n",
       "Signif. codes:  0 ‘***’ 0.001 ‘**’ 0.01 ‘*’ 0.05 ‘.’ 0.1 ‘ ’ 1\n",
       "\n",
       "Residual standard error: 33.39 on 265 degrees of freedom\n",
       "Multiple R-squared:  0.6505,\tAdjusted R-squared:  0.6465 \n",
       "F-statistic: 164.4 on 3 and 265 DF,  p-value: < 2.2e-16\n"
      ]
     },
     "metadata": {},
     "output_type": "display_data"
    }
   ],
   "source": [
    "##################################################################\n",
    "##\n",
    "## IIIb. Ajustement d'un modèle linéaire multiple\n",
    "##      métrique de la qualité de l'ajustement du modèle : r et R2\n",
    "##      erreur quadratique moyenne associée à l'ajustement : RMSE\n",
    "##\n",
    "##################################################################\n",
    "\n",
    "## prenons par exemple le modèle Biomasse = fn(TN, PH, SOC)\n",
    "mydfmlm <- lm(Biomasse~PH+SOC+TN, data = mydata)\n",
    "summary(mydfmlm)"
   ]
  },
  {
   "cell_type": "code",
   "execution_count": 30,
   "id": "c4878f58-1df5-4719-8b74-4dc534ee076b",
   "metadata": {},
   "outputs": [
    {
     "data": {
      "text/html": [
       "33.1366122146943"
      ],
      "text/latex": [
       "33.1366122146943"
      ],
      "text/markdown": [
       "33.1366122146943"
      ],
      "text/plain": [
       "[1] 33.13661"
      ]
     },
     "metadata": {},
     "output_type": "display_data"
    }
   ],
   "source": [
    "## Calcule de la RMSE (Root Mean Squared Error) ou Erreur Quadratique Moyenne\n",
    "RMSE <- sqrt(sum(mydfmlm$residuals^2)/length(mydfmlm$residuals))\n",
    "RMSE"
   ]
  },
  {
   "cell_type": "code",
   "execution_count": 33,
   "id": "81585dda-7941-4ad6-8ec1-ae3e280c7c70",
   "metadata": {},
   "outputs": [],
   "source": [
    "## Qu'en déduisez vous quand au score du modèle multilinéaire comparativement au modèle linéaire simple ?"
   ]
  },
  {
   "cell_type": "code",
   "execution_count": 36,
   "id": "179b1512-6a27-409b-9729-d2119110710f",
   "metadata": {},
   "outputs": [],
   "source": [
    "mydf <- mydata[,c(\"TN\", \"PH\", \"SOC\",\"Biomasse\")]\n",
    "mydf$SOCpredmlm <- predict.lm(mydfmlm, mydf)"
   ]
  },
  {
   "cell_type": "code",
   "execution_count": 37,
   "id": "2b3aae14-819b-48fe-acc0-e6c11721a0ca",
   "metadata": {},
   "outputs": [
    {
     "data": {
      "application/geo+json": {
       "features": [
        {
         "geometry": {
          "coordinates": [
           857058.6219,
           6684436.696
          ],
          "type": "Point"
         },
         "properties": {
          "Biomasse": 230,
          "PH": 6.78,
          "SOC": 35,
          "SOCpredmlm": 118.806,
          "TN": 3.07
         },
         "type": "Feature"
        },
        {
         "geometry": {
          "coordinates": [
           854842.7434,
           6682797.483
          ],
          "type": "Point"
         },
         "properties": {
          "Biomasse": 100,
          "PH": 8.1,
          "SOC": 24.5,
          "SOCpredmlm": 72.2899,
          "TN": 2.42
         },
         "type": "Feature"
        },
        {
         "geometry": {
          "coordinates": [
           858497.8804,
           6682797.599
          ],
          "type": "Point"
         },
         "properties": {
          "Biomasse": 69,
          "PH": 7.5,
          "SOC": 23,
          "SOCpredmlm": 78.2725,
          "TN": 2.43
         },
         "type": "Feature"
        },
        {
         "geometry": {
          "coordinates": [
           858283.0373,
           6682797.731
          ],
          "type": "Point"
         },
         "properties": {
          "Biomasse": 6.6,
          "PH": 7.51,
          "SOC": 19.8,
          "SOCpredmlm": 66.3504,
          "TN": 2.1
         },
         "type": "Feature"
        },
        {
         "geometry": {
          "coordinates": [
           855273.053,
           6682797.745
          ],
          "type": "Point"
         },
         "properties": {
          "Biomasse": 90,
          "PH": 8.06,
          "SOC": 45.2,
          "SOCpredmlm": 131.3833,
          "TN": 3.75
         },
         "type": "Feature"
        },
        {
         "geometry": {
          "coordinates": [
           858068.1882,
           6682797.859
          ],
          "type": "Point"
         },
         "properties": {
          "Biomasse": 37,
          "PH": 8.25,
          "SOC": 10.3,
          "SOCpredmlm": 127.2117,
          "TN": 5.92
         },
         "type": "Feature"
        }
       ],
       "type": "FeatureCollection"
      },
      "text/html": [
       "<table class=\"dataframe\">\n",
       "<caption>A sf: 6 × 6</caption>\n",
       "<thead>\n",
       "\t<tr><th></th><th scope=col>TN</th><th scope=col>PH</th><th scope=col>SOC</th><th scope=col>Biomasse</th><th scope=col>geometry</th><th scope=col>SOCpredmlm</th></tr>\n",
       "\t<tr><th></th><th scope=col>&lt;dbl&gt;</th><th scope=col>&lt;dbl&gt;</th><th scope=col>&lt;dbl&gt;</th><th scope=col>&lt;dbl&gt;</th><th scope=col>&lt;POINT [m]&gt;</th><th scope=col>&lt;dbl&gt;</th></tr>\n",
       "</thead>\n",
       "<tbody>\n",
       "\t<tr><th scope=row>1</th><td>3.07</td><td>6.78</td><td>35.0</td><td>230.0</td><td>POINT (857058.6 6684437)</td><td>118.80603</td></tr>\n",
       "\t<tr><th scope=row>2</th><td>2.42</td><td>8.10</td><td>24.5</td><td>100.0</td><td>POINT (854842.7 6682797)</td><td> 72.28993</td></tr>\n",
       "\t<tr><th scope=row>3</th><td>2.43</td><td>7.50</td><td>23.0</td><td> 69.0</td><td>POINT (858497.9 6682798)</td><td> 78.27247</td></tr>\n",
       "\t<tr><th scope=row>4</th><td>2.10</td><td>7.51</td><td>19.8</td><td>  6.6</td><td>POINT (858283 6682798)</td><td> 66.35044</td></tr>\n",
       "\t<tr><th scope=row>5</th><td>3.75</td><td>8.06</td><td>45.2</td><td> 90.0</td><td>POINT (855273.1 6682798)</td><td>131.38331</td></tr>\n",
       "\t<tr><th scope=row>6</th><td>5.92</td><td>8.25</td><td>10.3</td><td> 37.0</td><td>POINT (858068.2 6682798)</td><td>127.21168</td></tr>\n",
       "</tbody>\n",
       "</table>\n"
      ],
      "text/latex": [
       "A sf: 6 × 6\n",
       "\\begin{tabular}{r|llllll}\n",
       "  & TN & PH & SOC & Biomasse & geometry & SOCpredmlm\\\\\n",
       "  & <dbl> & <dbl> & <dbl> & <dbl> & <POINT {[}m{]}> & <dbl>\\\\\n",
       "\\hline\n",
       "\t1 & 3.07 & 6.78 & 35.0 & 230.0 & POINT (857058.6 6684437) & 118.80603\\\\\n",
       "\t2 & 2.42 & 8.10 & 24.5 & 100.0 & POINT (854842.7 6682797) &  72.28993\\\\\n",
       "\t3 & 2.43 & 7.50 & 23.0 &  69.0 & POINT (858497.9 6682798) &  78.27247\\\\\n",
       "\t4 & 2.10 & 7.51 & 19.8 &   6.6 & POINT (858283 6682798) &  66.35044\\\\\n",
       "\t5 & 3.75 & 8.06 & 45.2 &  90.0 & POINT (855273.1 6682798) & 131.38331\\\\\n",
       "\t6 & 5.92 & 8.25 & 10.3 &  37.0 & POINT (858068.2 6682798) & 127.21168\\\\\n",
       "\\end{tabular}\n"
      ],
      "text/markdown": [
       "\n",
       "A sf: 6 × 6\n",
       "\n",
       "| <!--/--> | TN &lt;dbl&gt; | PH &lt;dbl&gt; | SOC &lt;dbl&gt; | Biomasse &lt;dbl&gt; | geometry &lt;POINT [m]&gt; | SOCpredmlm &lt;dbl&gt; |\n",
       "|---|---|---|---|---|---|---|\n",
       "| 1 | 3.07 | 6.78 | 35.0 | 230.0 | POINT (857058.6 6684437) | 118.80603 |\n",
       "| 2 | 2.42 | 8.10 | 24.5 | 100.0 | POINT (854842.7 6682797) |  72.28993 |\n",
       "| 3 | 2.43 | 7.50 | 23.0 |  69.0 | POINT (858497.9 6682798) |  78.27247 |\n",
       "| 4 | 2.10 | 7.51 | 19.8 |   6.6 | POINT (858283 6682798) |  66.35044 |\n",
       "| 5 | 3.75 | 8.06 | 45.2 |  90.0 | POINT (855273.1 6682798) | 131.38331 |\n",
       "| 6 | 5.92 | 8.25 | 10.3 |  37.0 | POINT (858068.2 6682798) | 127.21168 |\n",
       "\n"
      ],
      "text/plain": [
       "  TN   PH   SOC  Biomasse geometry                 SOCpredmlm\n",
       "1 3.07 6.78 35.0 230.0    POINT (857058.6 6684437) 118.80603 \n",
       "2 2.42 8.10 24.5 100.0    POINT (854842.7 6682797)  72.28993 \n",
       "3 2.43 7.50 23.0  69.0    POINT (858497.9 6682798)  78.27247 \n",
       "4 2.10 7.51 19.8   6.6    POINT (858283 6682798)    66.35044 \n",
       "5 3.75 8.06 45.2  90.0    POINT (855273.1 6682798) 131.38331 \n",
       "6 5.92 8.25 10.3  37.0    POINT (858068.2 6682798) 127.21168 "
      ]
     },
     "metadata": {},
     "output_type": "display_data"
    }
   ],
   "source": [
    "head(mydf)"
   ]
  },
  {
   "cell_type": "code",
   "execution_count": 39,
   "id": "e5b72c08-dbce-4065-a275-8e039264003c",
   "metadata": {},
   "outputs": [
    {
     "data": {
      "image/png": "[encoded data removed]",
      "text/plain": [
       "plot without title"
      ]
     },
     "metadata": {
      "image/png": {
       "height": 420,
       "width": 420
      }
     },
     "output_type": "display_data"
    }
   ],
   "source": [
    "plot(mydf$SOC,mydf$SOCpredmlm)"
   ]
  },
  {
   "cell_type": "code",
   "execution_count": 40,
   "id": "c22467ae-fe90-48f8-bbad-0fb106414d77",
   "metadata": {},
   "outputs": [
    {
     "name": "stdout",
     "output_type": "stream",
     "text": [
      "Writing layer `newptsampleFenayL93' to data source \n",
      "  `newptsampleFenayL93.shp' using driver `ESRI Shapefile'\n",
      "Writing 269 features with 5 fields and geometry type Point.\n"
     ]
    }
   ],
   "source": [
    "## exporte mydata qui est un objet sf dans R en une fichier SIG shapefile lisible par QGIS\n",
    "st_write(mydf, \"newptsampleFenayL93.shp\", delete_layer = TRUE)\n",
    "\n",
    "## Allez ouvrir cette nouvelle couche/carte avec QGIS\n",
    "## Faire la carte des différences entre SOC mesuré et SOC prédit par le modèle multi-linéaire"
   ]
  },
  {
   "cell_type": "code",
   "execution_count": null,
   "id": "034925d5-5697-4a8f-adda-131e39fdfd7d",
   "metadata": {},
   "outputs": [],
   "source": []
  }
 ],
 "metadata": {
  "kernelspec": {
   "display_name": "R",
   "language": "R",
   "name": "ir"
  },
  "language_info": {
   "codemirror_mode": "r",
   "file_extension": ".r",
   "mimetype": "text/x-r-source",
   "name": "R",
   "pygments_lexer": "r",
   "version": "4.3.1"
  }
 },
 "nbformat": 4,
 "nbformat_minor": 5
}
