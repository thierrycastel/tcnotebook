{
 "cells": [
  {
   "cell_type": "code",
   "execution_count": 2,
   "metadata": {},
   "outputs": [],
   "source": [
    "###################################################\n",
    "##\n",
    "##                 Partie I\n",
    "##   Analyse Empirique et Exploratoire  des Données\n",
    "##\n",
    "## 1- Lecture des données\n",
    "## 2- Exploration des données\n",
    "## 3- Extraction des données pour la première station\n",
    "## 4- Trace les données pour cette station\n",
    "##\n",
    "####################################################\n",
    "\n",
    "##### Lecture des données brutes #########\n",
    "mydata <- read.csv(\"MFdata.csv\")\n",
    "postesMF <- read.csv(\"MFpostes.csv\")"
   ]
  },
  {
   "cell_type": "code",
   "execution_count": 3,
   "metadata": {},
   "outputs": [
    {
     "data": {
      "text/html": [
       "<table>\n",
       "<caption>A data.frame: 6 × 8</caption>\n",
       "<thead>\n",
       "\t<tr><th></th><th scope=col>X</th><th scope=col>NumPoste</th><th scope=col>Year</th><th scope=col>Month</th><th scope=col>Day</th><th scope=col>Tn</th><th scope=col>Tx</th><th scope=col>RR</th></tr>\n",
       "\t<tr><th></th><th scope=col>&lt;int&gt;</th><th scope=col>&lt;int&gt;</th><th scope=col>&lt;int&gt;</th><th scope=col>&lt;int&gt;</th><th scope=col>&lt;int&gt;</th><th scope=col>&lt;dbl&gt;</th><th scope=col>&lt;dbl&gt;</th><th scope=col>&lt;dbl&gt;</th></tr>\n",
       "</thead>\n",
       "<tbody>\n",
       "\t<tr><th scope=row>1</th><td>1</td><td>21473001</td><td>1961</td><td>1</td><td>1</td><td> 2.4</td><td>4.8</td><td> 3.1</td></tr>\n",
       "\t<tr><th scope=row>2</th><td>2</td><td>21473001</td><td>1961</td><td>1</td><td>2</td><td>-1.2</td><td>7.8</td><td>15.2</td></tr>\n",
       "\t<tr><th scope=row>3</th><td>3</td><td>21473001</td><td>1961</td><td>1</td><td>3</td><td> 4.2</td><td>8.0</td><td> 3.7</td></tr>\n",
       "\t<tr><th scope=row>4</th><td>4</td><td>21473001</td><td>1961</td><td>1</td><td>4</td><td> 2.2</td><td>7.3</td><td> 5.6</td></tr>\n",
       "\t<tr><th scope=row>5</th><td>5</td><td>21473001</td><td>1961</td><td>1</td><td>5</td><td> 2.0</td><td>5.8</td><td> 0.0</td></tr>\n",
       "\t<tr><th scope=row>6</th><td>6</td><td>21473001</td><td>1961</td><td>1</td><td>6</td><td>-0.4</td><td>3.0</td><td> 4.5</td></tr>\n",
       "</tbody>\n",
       "</table>\n"
      ],
      "text/latex": [
       "A data.frame: 6 × 8\n",
       "\\begin{tabular}{r|llllllll}\n",
       "  & X & NumPoste & Year & Month & Day & Tn & Tx & RR\\\\\n",
       "  & <int> & <int> & <int> & <int> & <int> & <dbl> & <dbl> & <dbl>\\\\\n",
       "\\hline\n",
       "\t1 & 1 & 21473001 & 1961 & 1 & 1 &  2.4 & 4.8 &  3.1\\\\\n",
       "\t2 & 2 & 21473001 & 1961 & 1 & 2 & -1.2 & 7.8 & 15.2\\\\\n",
       "\t3 & 3 & 21473001 & 1961 & 1 & 3 &  4.2 & 8.0 &  3.7\\\\\n",
       "\t4 & 4 & 21473001 & 1961 & 1 & 4 &  2.2 & 7.3 &  5.6\\\\\n",
       "\t5 & 5 & 21473001 & 1961 & 1 & 5 &  2.0 & 5.8 &  0.0\\\\\n",
       "\t6 & 6 & 21473001 & 1961 & 1 & 6 & -0.4 & 3.0 &  4.5\\\\\n",
       "\\end{tabular}\n"
      ],
      "text/markdown": [
       "\n",
       "A data.frame: 6 × 8\n",
       "\n",
       "| <!--/--> | X &lt;int&gt; | NumPoste &lt;int&gt; | Year &lt;int&gt; | Month &lt;int&gt; | Day &lt;int&gt; | Tn &lt;dbl&gt; | Tx &lt;dbl&gt; | RR &lt;dbl&gt; |\n",
       "|---|---|---|---|---|---|---|---|---|\n",
       "| 1 | 1 | 21473001 | 1961 | 1 | 1 |  2.4 | 4.8 |  3.1 |\n",
       "| 2 | 2 | 21473001 | 1961 | 1 | 2 | -1.2 | 7.8 | 15.2 |\n",
       "| 3 | 3 | 21473001 | 1961 | 1 | 3 |  4.2 | 8.0 |  3.7 |\n",
       "| 4 | 4 | 21473001 | 1961 | 1 | 4 |  2.2 | 7.3 |  5.6 |\n",
       "| 5 | 5 | 21473001 | 1961 | 1 | 5 |  2.0 | 5.8 |  0.0 |\n",
       "| 6 | 6 | 21473001 | 1961 | 1 | 6 | -0.4 | 3.0 |  4.5 |\n",
       "\n"
      ],
      "text/plain": [
       "  X NumPoste Year Month Day Tn   Tx  RR  \n",
       "1 1 21473001 1961 1     1    2.4 4.8  3.1\n",
       "2 2 21473001 1961 1     2   -1.2 7.8 15.2\n",
       "3 3 21473001 1961 1     3    4.2 8.0  3.7\n",
       "4 4 21473001 1961 1     4    2.2 7.3  5.6\n",
       "5 5 21473001 1961 1     5    2.0 5.8  0.0\n",
       "6 6 21473001 1961 1     6   -0.4 3.0  4.5"
      ]
     },
     "metadata": {},
     "output_type": "display_data"
    }
   ],
   "source": [
    "head(mydata)"
   ]
  },
  {
   "cell_type": "code",
   "execution_count": null,
   "metadata": {},
   "outputs": [],
   "source": []
  }
 ],
 "metadata": {
  "kernelspec": {
   "display_name": "R",
   "language": "R",
   "name": "ir"
  },
  "language_info": {
   "codemirror_mode": "r",
   "file_extension": ".r",
   "mimetype": "text/x-r-source",
   "name": "R",
   "pygments_lexer": "r",
   "version": "4.0.2"
  }
 },
 "nbformat": 4,
 "nbformat_minor": 4
}
