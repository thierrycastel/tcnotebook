##################################################################################################
##
##                  Partie I : lien sur les données CMIP via protocole OpenDAP
##               OpenDAP : Open-source Project for a Network Data Access Protocol
#################################################################################################

library(ncdf4)

######################################################################################################
## URL des données climatiques simulées CMIP6 par les Earth System Models (ESM) également appelés GCM
## URL récupéré à partir du portail de service climatique Européen https://climate4impact.eu
######################################################################################################

#### Modèle -> CNRM-CM6.1 (Météo-France)
##### Variable : tmin
####### Période : Historique
url_thredds <- "http://esg1.umr-cnrm.fr/thredds/dodsC/CMIP6_CNRM/CMIP/CNRM-CERFACS/CNRM-CM6-1/historical/r1i1p1f2/day/tasmin/gr/v20180917/tasmin_day_CNRM-CM6-1_historical_r1i1p1f2_gr_18500101-20141231.nc"


## Ouverture du lien sur les données
nc <- nc_open(url_thredds)

## Récupération des coordonnées lat, lon et temps
## 
xlat <- ncvar_get(nc, varid="lat")
xlon <- ncvar_get(nc, varid="lon")
xtime <- ncvar_get(nc, varid="time")


nc


## Transformation du temps en data
## cela va dépendre de l'information 'calendar: gregorian' et de la date d'origine de la
## simulation
## ces méta-données sont présentes dans l'objet nc précédemment créé
mydates <- as.POSIXlt((trunc(xtime))*86400, origin="1850-01-01",tz="GMT", format="%Y-%m-%d")
mydates <- as.Date(mydates)


mydates


## récupération des données pour la première date et l'ensemble de la grille
offset <- c(1, 1, 1) ## fixe l'origine de l'extraction
mycount <- c(length(xlon),length(xlat),1) ## nombre d'éléments à extraires à partir de l'origine
cmip6 <- ncvar_get(nc,varid="tasmin", start=offset, count=mycount) ## extration des données
dim(cmip6) ## dimension de la grille


length(xlon)


## transforme la grille de données en un vecteur
vcmip6 <- as.vector(cmip6) 

xlonlat <- expand.grid(xlon,xlat) 
colnames(xlonlat) <- c("xlon","xlat")
xlonlat$vcmip6 <- vcmip6

## copie de l'objet xlonlat pour afficher la carte
mapxlatlon  <- xlonlat
## transform l'objet dataframe en un objet spatial
library(sp)
coordinates(mapxlatlon) <- ~xlon+xlat
cols = bpy.colors(30)
spplot(mapxlatlon,scales = list(draw = TRUE), cuts=20, col=cols)


## passage de 0-360E à -180W-180E
lon  <-  ifelse(xlon > 180, -360 + xlon, xlon)
lonlat <- expand.grid(lon,xlat)
colnames(lonlat) <- c("lon","lat")
xlonlat <- cbind(xlonlat,lonlat)

### copie de l'objet xlonlat pour afficher la carte avec longitudes transformées
maplonlat <- xlonlat
coordinates(maplonlat) <- ~lon+lat
cols = bpy.colors(30)
spplot(maplonlat["vcmip6"],scales = list(draw = TRUE), cuts=20)


## Exemple d'extraction d'une zone d'intérêt avec longitudes transformées

ind <- which((xlonlat$lon > -10 & xlonlat$lon < 20) & (xlonlat$xlat > 30 & xlonlat$xlat < 60))
zoi <- xlonlat[ind,]

coordinates(zoi) <- ~lon+lat
cols = bpy.colors(30)
spplot(zoi["vcmip6"],scales = list(draw = TRUE), cuts=20)
str(xlonlat)


######################################################################################
##
##  Partie III :Récupération des données simulées correspondantes aux stations Météo-France de BFC
##
######################################################################################

## Récupération des coordonnées des stations
MF <- read.csv("/home/thierry/works/M2SEME_UE62DownScaling/Data/MFpostes.csv",
                     header = TRUE)
MF ## Affiche les stations MF

MFdata <- read.csv("/home/thierry/works/M2SEME_UE62DownScaling/Data/MFdata.csv",
                   header=TRUE)
##MFdata <- dr29MF(MFdata) ## suprime le 29 février

## Recherche par plus proche voisin les points de grille les plus proches des stations MF
library(spatstat)
MF.ppp <- ppp(MF$lon,MF$lat,
              c(min(MF$lon),max(MF$lon)),
              c(min(MF$lat),max(MF$lat)), marks=MF$alti)

cmip6.ppp <- ppp(xlonlat$lon,xlonlat$lat,
                 c(min(xlonlat$lon),max(xlonlat$lon)),
                 c(min(xlonlat$lat),max(xlonlat$lat)),
                 marks=xlonlat$vcmip6-273.15)

ind <- nncross(MF.ppp,cmip6.ppp)$which
cind <- xlonlat[ind,c("xlon","xlat")]


cind


## indice des longitudes et des latitudes CMPI6 plus proche de la station

cindex <- as.integer(row.names(cind))
cindex
grind <- matrix(as.integer(rownames(xlonlat)),
                nrow=nrow(cmip6),ncol=ncol(cmip6))
indate <- which(mydates==as.Date("1975-01-01")) ## repère l'index de la date du 1er Janvier 1975
indate

####### création du vecteur temps pour les données cmip
st <- as.Date("1975-01-01")
en <- as.Date("2014-12-31")
ll <- seq(st, en, by = "1 day")
##ll <- dr29F(ll) 



## Boucle sur les points de grille du modèle à récupérer
## l'extraction des données sur la zone d'intèrêt peut prendre un peu de temps
mycmip6 <- c() ## Objet qui contiendra les données simulées pour les points de grille sélectionnés
for(i in 1:length(cindex)){
  gr.id <- which(grind==cindex[i],arr.ind = TRUE)
  offset <- c(gr.id[1], gr.id[2], indate) ## fixe l'origine de l'extraction
  mycount <- c(1,1,(length(xtime)-indate)+1) ## nombre d'éléments à extraires à partir de l'origine
  tmp <- ncvar_get(nc,varid="tasmin", start=offset, count=mycount) ## extration des données
  mycmip6 <- cbind(mycmip6,tmp)
}

mycmip6 <- as.data.frame(mycmip6-273.15)
colnames(mycmip6) <- as.character(MF$NumStation)


dim(mycmip6)
head(mycmip6)


#######################################################################################
##
## Partie IV : Création des séries temporelles pour appariement données MF vs modèle
##
#######################################################################################
library(xts)
## création de séries temporelles pour chaque station de Météo-France
listMF <- split(MFdata,f=as.factor(MFdata$NumPoste))
myfunxts <- function(x){
  xdates <- as.Date(paste(x$Year,"-",x$Month,"-",x$Day, sep=""),"%Y-%m-%d")
  myxts <- xts(x[,c("Tn","Tx","RR")], order.by=xdates)
}


listMF.xts <- lapply(listMF, FUN = myfunxts)
MF.xts <- do.call('cbind',listMF.xts)
## si le modèle simule sur un calendrier no-leap i.e sans 29 février il faudra
## dé-commenter la ligne suivante pour enlever les 29 février
##MF.xts <- dr29MF(MF.xts)


dim(MF.xts)
tail(MF.xts)


length(ll)
dim(mycmip6)


## création de séries temporelles pour les données du modèle
CMIP6.xts <- xts(mycmip6, order.by = ll)


head(CMIP6.xts)


###############################################################
##  La correction par Quantile Mapping sera faite par mois
## pour cela :
## 1- on identifie à quel mois appartient chacun des jours
## 2- on initialise une liste de 12 éléments i.e. 12 mois
## 3- on rassemble tous les jours de janvier dans le 1er élément de la liste puis tous les jours de février
## dans le 2ème élément de la liste and so on...
###############################################################

## sélectionne la période d'intérêt ici 1975/2014
MF.xts <- MF.xts["1975/2014"]

MFMonth <- vector("list",12)
CMIP6Month <- vector("list",12)
for(i in 0:11){
  MFMonth[[i+1]] <- as.data.frame(MF.xts[.indexmon(MF.xts) %in% i])
  CMIP6Month[[i+1]] <- as.data.frame(CMIP6.xts[.indexmon(CMIP6.xts) %in% i])
}


## compare les distributions CMIP6 vs MF
plot(density(CMIP6Month[[6]][,1]),col="blue")
lines(density(MFMonth[[6]][,1]),col="red")

plot.ecdf(CMIP6Month[[6]][,1], col="blue")
plot.ecdf(MFMonth[[6]][,1],add=T,col="red")

mean(CMIP6Month[[6]][,1])
mean(MFMonth[[6]][,1])

sd(CMIP6Month[[6]][,1])
sd(MFMonth[[6]][,1])


getwd()
setwd('../Data')

#####################################################################
##
##  Mise en forme des données pour le Quantile Mapping et sauvegarde 
##
##
#####################################################################

lMFMonth.Tn <- lapply(MFMonth, FUN = function(x) x[,seq(1,27,by=3)])
##lMFMonth.Tx <- lapply(MFMonth, FUN = function(x) x[,seq(2,27,by=3)])
##lMFMonth.RR <- lapply(MFMonth, FUN = function(x) x[,seq(3,27,by=3)])

MFTn.xts <- MF.xts[, seq(1,27,by=3)]

save(MFTn.xts,lMFMonth.Tn, file="lMFMonthTn.RData")

## sauve les listes des données CMIP6 
save(CMIP6.xts,CMIP6Month, file='lCMIP6MonthTn.RData')



class(MF.xts[,c(1,4)])
