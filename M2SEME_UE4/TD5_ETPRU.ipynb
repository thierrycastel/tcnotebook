{
 "cells": [
  {
   "cell_type": "code",
   "execution_count": 1,
   "metadata": {},
   "outputs": [
    {
     "data": {
      "text/html": [
       "<table class=\"dataframe\">\n",
       "<caption>A data.frame: 6 × 9</caption>\n",
       "<thead>\n",
       "\t<tr><th></th><th scope=col>idpt</th><th scope=col>lat</th><th scope=col>lon</th><th scope=col>alti</th><th scope=col>date</th><th scope=col>Tn</th><th scope=col>Tx</th><th scope=col>RR</th><th scope=col>ETP</th></tr>\n",
       "\t<tr><th></th><th scope=col>&lt;int&gt;</th><th scope=col>&lt;dbl&gt;</th><th scope=col>&lt;dbl&gt;</th><th scope=col>&lt;int&gt;</th><th scope=col>&lt;chr&gt;</th><th scope=col>&lt;dbl&gt;</th><th scope=col>&lt;dbl&gt;</th><th scope=col>&lt;dbl&gt;</th><th scope=col>&lt;dbl&gt;</th></tr>\n",
       "</thead>\n",
       "<tbody>\n",
       "\t<tr><th scope=row>1</th><td>9378</td><td>46.2218</td><td>3.94455</td><td>307</td><td>01/01/2004</td><td>7.21</td><td>15.04</td><td>0.781</td><td>0.919</td></tr>\n",
       "\t<tr><th scope=row>2</th><td>9378</td><td>46.2218</td><td>3.94455</td><td>307</td><td>01/02/2004</td><td>6.15</td><td>14.89</td><td>0.000</td><td>0.662</td></tr>\n",
       "\t<tr><th scope=row>3</th><td>9378</td><td>46.2218</td><td>3.94455</td><td>307</td><td>01/03/2004</td><td>5.08</td><td> 5.96</td><td>0.000</td><td>0.483</td></tr>\n",
       "\t<tr><th scope=row>4</th><td>9378</td><td>46.2218</td><td>3.94455</td><td>307</td><td>01/04/2004</td><td>0.08</td><td> 8.51</td><td>0.000</td><td>0.407</td></tr>\n",
       "\t<tr><th scope=row>5</th><td>9378</td><td>46.2218</td><td>3.94455</td><td>307</td><td>01/05/2004</td><td>1.39</td><td> 8.90</td><td>0.000</td><td>0.948</td></tr>\n",
       "\t<tr><th scope=row>6</th><td>9378</td><td>46.2218</td><td>3.94455</td><td>307</td><td>01/06/2004</td><td>1.05</td><td>10.28</td><td>0.000</td><td>0.296</td></tr>\n",
       "</tbody>\n",
       "</table>\n"
      ],
      "text/latex": [
       "A data.frame: 6 × 9\n",
       "\\begin{tabular}{r|lllllllll}\n",
       "  & idpt & lat & lon & alti & date & Tn & Tx & RR & ETP\\\\\n",
       "  & <int> & <dbl> & <dbl> & <int> & <chr> & <dbl> & <dbl> & <dbl> & <dbl>\\\\\n",
       "\\hline\n",
       "\t1 & 9378 & 46.2218 & 3.94455 & 307 & 01/01/2004 & 7.21 & 15.04 & 0.781 & 0.919\\\\\n",
       "\t2 & 9378 & 46.2218 & 3.94455 & 307 & 01/02/2004 & 6.15 & 14.89 & 0.000 & 0.662\\\\\n",
       "\t3 & 9378 & 46.2218 & 3.94455 & 307 & 01/03/2004 & 5.08 &  5.96 & 0.000 & 0.483\\\\\n",
       "\t4 & 9378 & 46.2218 & 3.94455 & 307 & 01/04/2004 & 0.08 &  8.51 & 0.000 & 0.407\\\\\n",
       "\t5 & 9378 & 46.2218 & 3.94455 & 307 & 01/05/2004 & 1.39 &  8.90 & 0.000 & 0.948\\\\\n",
       "\t6 & 9378 & 46.2218 & 3.94455 & 307 & 01/06/2004 & 1.05 & 10.28 & 0.000 & 0.296\\\\\n",
       "\\end{tabular}\n"
      ],
      "text/markdown": [
       "\n",
       "A data.frame: 6 × 9\n",
       "\n",
       "| <!--/--> | idpt &lt;int&gt; | lat &lt;dbl&gt; | lon &lt;dbl&gt; | alti &lt;int&gt; | date &lt;chr&gt; | Tn &lt;dbl&gt; | Tx &lt;dbl&gt; | RR &lt;dbl&gt; | ETP &lt;dbl&gt; |\n",
       "|---|---|---|---|---|---|---|---|---|---|\n",
       "| 1 | 9378 | 46.2218 | 3.94455 | 307 | 01/01/2004 | 7.21 | 15.04 | 0.781 | 0.919 |\n",
       "| 2 | 9378 | 46.2218 | 3.94455 | 307 | 01/02/2004 | 6.15 | 14.89 | 0.000 | 0.662 |\n",
       "| 3 | 9378 | 46.2218 | 3.94455 | 307 | 01/03/2004 | 5.08 |  5.96 | 0.000 | 0.483 |\n",
       "| 4 | 9378 | 46.2218 | 3.94455 | 307 | 01/04/2004 | 0.08 |  8.51 | 0.000 | 0.407 |\n",
       "| 5 | 9378 | 46.2218 | 3.94455 | 307 | 01/05/2004 | 1.39 |  8.90 | 0.000 | 0.948 |\n",
       "| 6 | 9378 | 46.2218 | 3.94455 | 307 | 01/06/2004 | 1.05 | 10.28 | 0.000 | 0.296 |\n",
       "\n"
      ],
      "text/plain": [
       "  idpt lat     lon     alti date       Tn   Tx    RR    ETP  \n",
       "1 9378 46.2218 3.94455 307  01/01/2004 7.21 15.04 0.781 0.919\n",
       "2 9378 46.2218 3.94455 307  01/02/2004 6.15 14.89 0.000 0.662\n",
       "3 9378 46.2218 3.94455 307  01/03/2004 5.08  5.96 0.000 0.483\n",
       "4 9378 46.2218 3.94455 307  01/04/2004 0.08  8.51 0.000 0.407\n",
       "5 9378 46.2218 3.94455 307  01/05/2004 1.39  8.90 0.000 0.948\n",
       "6 9378 46.2218 3.94455 307  01/06/2004 1.05 10.28 0.000 0.296"
      ]
     },
     "metadata": {},
     "output_type": "display_data"
    },
    {
     "data": {
      "text/html": [
       "<style>\n",
       ".list-inline {list-style: none; margin:0; padding: 0}\n",
       ".list-inline>li {display: inline-block}\n",
       ".list-inline>li:not(:last-child)::after {content: \"\\00b7\"; padding: 0 .5ex}\n",
       "</style>\n",
       "<ol class=list-inline><li>181902</li><li>9</li></ol>\n"
      ],
      "text/latex": [
       "\\begin{enumerate*}\n",
       "\\item 181902\n",
       "\\item 9\n",
       "\\end{enumerate*}\n"
      ],
      "text/markdown": [
       "1. 181902\n",
       "2. 9\n",
       "\n",
       "\n"
      ],
      "text/plain": [
       "[1] 181902      9"
      ]
     },
     "metadata": {},
     "output_type": "display_data"
    }
   ],
   "source": [
    "setwd(\"../Data\")\n",
    "load(\"mydrias.RData\")\n",
    "head(mydrias)\n",
    "dim(mydrias)"
   ]
  },
  {
   "cell_type": "code",
   "execution_count": 2,
   "metadata": {},
   "outputs": [
    {
     "name": "stdout",
     "output_type": "stream",
     "text": [
      "'data.frame':\t181902 obs. of  9 variables:\n",
      " $ idpt: int  9378 9378 9378 9378 9378 9378 9378 9378 9378 9378 ...\n",
      " $ lat : num  46.2 46.2 46.2 46.2 46.2 ...\n",
      " $ lon : num  3.94 3.94 3.94 3.94 3.94 ...\n",
      " $ alti: int  307 307 307 307 307 307 307 307 307 307 ...\n",
      " $ date: chr  \"01/01/2004\" \"01/02/2004\" \"01/03/2004\" \"01/04/2004\" ...\n",
      " $ Tn  : num  7.21 6.15 5.08 0.08 1.39 1.05 3.71 5.4 2.72 0.93 ...\n",
      " $ Tx  : num  15.04 14.89 5.96 8.51 8.9 ...\n",
      " $ RR  : num  0.781 0 0 0 0 ...\n",
      " $ ETP : num  0.919 0.662 0.483 0.407 0.948 0.296 0.388 0.308 0.266 0.625 ...\n"
     ]
    }
   ],
   "source": [
    "str(mydrias)"
   ]
  },
  {
   "cell_type": "code",
   "execution_count": 3,
   "metadata": {},
   "outputs": [],
   "source": [
    "## ajout des jours juliens au dataframe mydrias qui contient les données climat\n",
    "## attention ici de bien vérifier comment vos dates sont organisées\n",
    "mydrias$date <- as.Date(mydrias$date,\"%m/%d/%Y\")\n",
    "mydrias$doi <- as.integer(format(mydrias$date,\"%j\"))"
   ]
  },
  {
   "cell_type": "code",
   "execution_count": 4,
   "metadata": {},
   "outputs": [
    {
     "data": {
      "text/html": [
       "<table class=\"dataframe\">\n",
       "<caption>A data.frame: 6 × 10</caption>\n",
       "<thead>\n",
       "\t<tr><th></th><th scope=col>idpt</th><th scope=col>lat</th><th scope=col>lon</th><th scope=col>alti</th><th scope=col>date</th><th scope=col>Tn</th><th scope=col>Tx</th><th scope=col>RR</th><th scope=col>ETP</th><th scope=col>doi</th></tr>\n",
       "\t<tr><th></th><th scope=col>&lt;int&gt;</th><th scope=col>&lt;dbl&gt;</th><th scope=col>&lt;dbl&gt;</th><th scope=col>&lt;int&gt;</th><th scope=col>&lt;date&gt;</th><th scope=col>&lt;dbl&gt;</th><th scope=col>&lt;dbl&gt;</th><th scope=col>&lt;dbl&gt;</th><th scope=col>&lt;dbl&gt;</th><th scope=col>&lt;int&gt;</th></tr>\n",
       "</thead>\n",
       "<tbody>\n",
       "\t<tr><th scope=row>181897</th><td>13520</td><td>48.3146</td><td>3.46945</td><td>169</td><td>2004-12-26</td><td>5.34</td><td>10.58</td><td>0.000</td><td>0.390</td><td>361</td></tr>\n",
       "\t<tr><th scope=row>181898</th><td>13520</td><td>48.3146</td><td>3.46945</td><td>169</td><td>2004-12-27</td><td>3.94</td><td>10.28</td><td>3.640</td><td>0.357</td><td>362</td></tr>\n",
       "\t<tr><th scope=row>181899</th><td>13520</td><td>48.3146</td><td>3.46945</td><td>169</td><td>2004-12-28</td><td>5.15</td><td> 5.92</td><td>0.974</td><td>0.359</td><td>363</td></tr>\n",
       "\t<tr><th scope=row>181900</th><td>13520</td><td>48.3146</td><td>3.46945</td><td>169</td><td>2004-12-29</td><td>2.48</td><td> 8.95</td><td>0.565</td><td>0.477</td><td>364</td></tr>\n",
       "\t<tr><th scope=row>181901</th><td>13520</td><td>48.3146</td><td>3.46945</td><td>169</td><td>2004-12-30</td><td>4.57</td><td> 7.11</td><td>0.283</td><td>0.278</td><td>365</td></tr>\n",
       "\t<tr><th scope=row>181902</th><td>13520</td><td>48.3146</td><td>3.46945</td><td>169</td><td>2004-12-31</td><td>4.21</td><td> 8.82</td><td>0.000</td><td>0.517</td><td>366</td></tr>\n",
       "</tbody>\n",
       "</table>\n"
      ],
      "text/latex": [
       "A data.frame: 6 × 10\n",
       "\\begin{tabular}{r|llllllllll}\n",
       "  & idpt & lat & lon & alti & date & Tn & Tx & RR & ETP & doi\\\\\n",
       "  & <int> & <dbl> & <dbl> & <int> & <date> & <dbl> & <dbl> & <dbl> & <dbl> & <int>\\\\\n",
       "\\hline\n",
       "\t181897 & 13520 & 48.3146 & 3.46945 & 169 & 2004-12-26 & 5.34 & 10.58 & 0.000 & 0.390 & 361\\\\\n",
       "\t181898 & 13520 & 48.3146 & 3.46945 & 169 & 2004-12-27 & 3.94 & 10.28 & 3.640 & 0.357 & 362\\\\\n",
       "\t181899 & 13520 & 48.3146 & 3.46945 & 169 & 2004-12-28 & 5.15 &  5.92 & 0.974 & 0.359 & 363\\\\\n",
       "\t181900 & 13520 & 48.3146 & 3.46945 & 169 & 2004-12-29 & 2.48 &  8.95 & 0.565 & 0.477 & 364\\\\\n",
       "\t181901 & 13520 & 48.3146 & 3.46945 & 169 & 2004-12-30 & 4.57 &  7.11 & 0.283 & 0.278 & 365\\\\\n",
       "\t181902 & 13520 & 48.3146 & 3.46945 & 169 & 2004-12-31 & 4.21 &  8.82 & 0.000 & 0.517 & 366\\\\\n",
       "\\end{tabular}\n"
      ],
      "text/markdown": [
       "\n",
       "A data.frame: 6 × 10\n",
       "\n",
       "| <!--/--> | idpt &lt;int&gt; | lat &lt;dbl&gt; | lon &lt;dbl&gt; | alti &lt;int&gt; | date &lt;date&gt; | Tn &lt;dbl&gt; | Tx &lt;dbl&gt; | RR &lt;dbl&gt; | ETP &lt;dbl&gt; | doi &lt;int&gt; |\n",
       "|---|---|---|---|---|---|---|---|---|---|---|\n",
       "| 181897 | 13520 | 48.3146 | 3.46945 | 169 | 2004-12-26 | 5.34 | 10.58 | 0.000 | 0.390 | 361 |\n",
       "| 181898 | 13520 | 48.3146 | 3.46945 | 169 | 2004-12-27 | 3.94 | 10.28 | 3.640 | 0.357 | 362 |\n",
       "| 181899 | 13520 | 48.3146 | 3.46945 | 169 | 2004-12-28 | 5.15 |  5.92 | 0.974 | 0.359 | 363 |\n",
       "| 181900 | 13520 | 48.3146 | 3.46945 | 169 | 2004-12-29 | 2.48 |  8.95 | 0.565 | 0.477 | 364 |\n",
       "| 181901 | 13520 | 48.3146 | 3.46945 | 169 | 2004-12-30 | 4.57 |  7.11 | 0.283 | 0.278 | 365 |\n",
       "| 181902 | 13520 | 48.3146 | 3.46945 | 169 | 2004-12-31 | 4.21 |  8.82 | 0.000 | 0.517 | 366 |\n",
       "\n"
      ],
      "text/plain": [
       "       idpt  lat     lon     alti date       Tn   Tx    RR    ETP   doi\n",
       "181897 13520 48.3146 3.46945 169  2004-12-26 5.34 10.58 0.000 0.390 361\n",
       "181898 13520 48.3146 3.46945 169  2004-12-27 3.94 10.28 3.640 0.357 362\n",
       "181899 13520 48.3146 3.46945 169  2004-12-28 5.15  5.92 0.974 0.359 363\n",
       "181900 13520 48.3146 3.46945 169  2004-12-29 2.48  8.95 0.565 0.477 364\n",
       "181901 13520 48.3146 3.46945 169  2004-12-30 4.57  7.11 0.283 0.278 365\n",
       "181902 13520 48.3146 3.46945 169  2004-12-31 4.21  8.82 0.000 0.517 366"
      ]
     },
     "metadata": {},
     "output_type": "display_data"
    },
    {
     "name": "stdout",
     "output_type": "stream",
     "text": [
      "'data.frame':\t181902 obs. of  10 variables:\n",
      " $ idpt: int  9378 9378 9378 9378 9378 9378 9378 9378 9378 9378 ...\n",
      " $ lat : num  46.2 46.2 46.2 46.2 46.2 ...\n",
      " $ lon : num  3.94 3.94 3.94 3.94 3.94 ...\n",
      " $ alti: int  307 307 307 307 307 307 307 307 307 307 ...\n",
      " $ date: Date, format: \"2004-01-01\" \"2004-01-02\" ...\n",
      " $ Tn  : num  7.21 6.15 5.08 0.08 1.39 1.05 3.71 5.4 2.72 0.93 ...\n",
      " $ Tx  : num  15.04 14.89 5.96 8.51 8.9 ...\n",
      " $ RR  : num  0.781 0 0 0 0 ...\n",
      " $ ETP : num  0.919 0.662 0.483 0.407 0.948 0.296 0.388 0.308 0.266 0.625 ...\n",
      " $ doi : int  1 2 3 4 5 6 7 8 9 10 ...\n"
     ]
    }
   ],
   "source": [
    "tail(mydrias)\n",
    "str(mydrias)"
   ]
  },
  {
   "cell_type": "code",
   "execution_count": 5,
   "metadata": {},
   "outputs": [],
   "source": [
    "### Pour eviter d'avoir à chaque fois à lancer les lignes précendentes\n",
    "### nous allons sauvegarder l'objet mydrias dand le format des fichiers R\n",
    "save(mydrias, file = \"mydrias.RData\")"
   ]
  },
  {
   "cell_type": "code",
   "execution_count": 7,
   "metadata": {},
   "outputs": [
    {
     "data": {
      "text/html": [
       "0"
      ],
      "text/latex": [
       "0"
      ],
      "text/markdown": [
       "0"
      ],
      "text/plain": [
       "[1] 0"
      ]
     },
     "metadata": {},
     "output_type": "display_data"
    }
   ],
   "source": [
    "## Vérification que Tx > Tn\n",
    "indn <- which(mydrias$Tn>mydrias$Tx)\n",
    "length(mydrias$Tx[indn])\n",
    "## si length(mydrias$Tx[indn]) > 0 donc il y a des jours pour lesquels\n",
    "## Tn > Tx ce qui est bien évidemment un problème et pose question\n",
    "## A votre avis à quoi cela peut-il être du ?"
   ]
  },
  {
   "cell_type": "code",
   "execution_count": 8,
   "metadata": {},
   "outputs": [],
   "source": [
    "## Charge la fonction de calcul de l'ETP Hargreaves\n",
    "source(\"../FonctionsR/ETPHargreaves.R\")"
   ]
  },
  {
   "cell_type": "code",
   "execution_count": 9,
   "metadata": {},
   "outputs": [
    {
     "data": {
      "text/html": [
       "<style>\n",
       ".list-inline {list-style: none; margin:0; padding: 0}\n",
       ".list-inline>li {display: inline-block}\n",
       ".list-inline>li:not(:last-child)::after {content: \"\\00b7\"; padding: 0 .5ex}\n",
       "</style>\n",
       "<ol class=list-inline><li>'etht'</li><li>'etmh'</li><li>'indn'</li><li>'mydrias'</li></ol>\n"
      ],
      "text/latex": [
       "\\begin{enumerate*}\n",
       "\\item 'etht'\n",
       "\\item 'etmh'\n",
       "\\item 'indn'\n",
       "\\item 'mydrias'\n",
       "\\end{enumerate*}\n"
      ],
      "text/markdown": [
       "1. 'etht'\n",
       "2. 'etmh'\n",
       "3. 'indn'\n",
       "4. 'mydrias'\n",
       "\n",
       "\n"
      ],
      "text/plain": [
       "[1] \"etht\"    \"etmh\"    \"indn\"    \"mydrias\""
      ]
     },
     "metadata": {},
     "output_type": "display_data"
    }
   ],
   "source": [
    "ls() ## liste des objets chargés dans "
   ]
  },
  {
   "cell_type": "code",
   "execution_count": 10,
   "metadata": {},
   "outputs": [
    {
     "data": {
      "text/html": [
       "<pre class=language-r><code>function (tn, tx, latdeg, doy, a = 0.0023) \n",
       "{\n",
       "<span style=white-space:pre-wrap>    lat = latdeg * pi/180</span>\n",
       "<span style=white-space:pre-wrap>    gsc = 0.082</span>\n",
       "<span style=white-space:pre-wrap>    t_m = (tn + tx)/2</span>\n",
       "<span style=white-space:pre-wrap>    d_r = 1 + 0.033 * cos(2 * pi * doy/365)</span>\n",
       "<span style=white-space:pre-wrap>    del = 0.409 * sin(2 * pi * doy/365 - 1.39)</span>\n",
       "<span style=white-space:pre-wrap>    om = acos(-tan(lat) * tan(del))</span>\n",
       "<span style=white-space:pre-wrap>    om[is.nan(om)] &lt;- c(pi - 10^-9, 10^-9)[((latdeg[is.nan(om)] * </span>\n",
       "<span style=white-space:pre-wrap>        del) &lt; 0) + 1]</span>\n",
       "<span style=white-space:pre-wrap>    Ga = ((24 * 60)/pi) * gsc * d_r * (om * sin(lat) * sin(del) + </span>\n",
       "<span style=white-space:pre-wrap>        cos(lat) * cos(del) * sin(om))</span>\n",
       "<span style=white-space:pre-wrap>    Ga[Ga &lt; 0] &lt;- 0</span>\n",
       "<span style=white-space:pre-wrap>    et0 = a * Ga/2.45 * (t_m + 17.8) * sqrt(tx - tn)</span>\n",
       "<span style=white-space:pre-wrap>    et0 = pmax(et0, 0)</span>\n",
       "<span style=white-space:pre-wrap>    return(et0)</span>\n",
       "}</code></pre>"
      ],
      "text/latex": [
       "\\begin{minted}{r}\n",
       "function (tn, tx, latdeg, doy, a = 0.0023) \n",
       "\\{\n",
       "    lat = latdeg * pi/180\n",
       "    gsc = 0.082\n",
       "    t\\_m = (tn + tx)/2\n",
       "    d\\_r = 1 + 0.033 * cos(2 * pi * doy/365)\n",
       "    del = 0.409 * sin(2 * pi * doy/365 - 1.39)\n",
       "    om = acos(-tan(lat) * tan(del))\n",
       "    om{[}is.nan(om){]} <- c(pi - 10\\textasciicircum{}-9, 10\\textasciicircum{}-9){[}((latdeg{[}is.nan(om){]} * \n",
       "        del) < 0) + 1{]}\n",
       "    Ga = ((24 * 60)/pi) * gsc * d\\_r * (om * sin(lat) * sin(del) + \n",
       "        cos(lat) * cos(del) * sin(om))\n",
       "    Ga{[}Ga < 0{]} <- 0\n",
       "    et0 = a * Ga/2.45 * (t\\_m + 17.8) * sqrt(tx - tn)\n",
       "    et0 = pmax(et0, 0)\n",
       "    return(et0)\n",
       "\\}\n",
       "\\end{minted}"
      ],
      "text/markdown": [
       "```r\n",
       "function (tn, tx, latdeg, doy, a = 0.0023) \n",
       "{\n",
       "    lat = latdeg * pi/180\n",
       "    gsc = 0.082\n",
       "    t_m = (tn + tx)/2\n",
       "    d_r = 1 + 0.033 * cos(2 * pi * doy/365)\n",
       "    del = 0.409 * sin(2 * pi * doy/365 - 1.39)\n",
       "    om = acos(-tan(lat) * tan(del))\n",
       "    om[is.nan(om)] <- c(pi - 10^-9, 10^-9)[((latdeg[is.nan(om)] * \n",
       "        del) < 0) + 1]\n",
       "    Ga = ((24 * 60)/pi) * gsc * d_r * (om * sin(lat) * sin(del) + \n",
       "        cos(lat) * cos(del) * sin(om))\n",
       "    Ga[Ga < 0] <- 0\n",
       "    et0 = a * Ga/2.45 * (t_m + 17.8) * sqrt(tx - tn)\n",
       "    et0 = pmax(et0, 0)\n",
       "    return(et0)\n",
       "}\n",
       "```"
      ],
      "text/plain": [
       "function (tn, tx, latdeg, doy, a = 0.0023) \n",
       "{\n",
       "    lat = latdeg * pi/180\n",
       "    gsc = 0.082\n",
       "    t_m = (tn + tx)/2\n",
       "    d_r = 1 + 0.033 * cos(2 * pi * doy/365)\n",
       "    del = 0.409 * sin(2 * pi * doy/365 - 1.39)\n",
       "    om = acos(-tan(lat) * tan(del))\n",
       "    om[is.nan(om)] <- c(pi - 10^-9, 10^-9)[((latdeg[is.nan(om)] * \n",
       "        del) < 0) + 1]\n",
       "    Ga = ((24 * 60)/pi) * gsc * d_r * (om * sin(lat) * sin(del) + \n",
       "        cos(lat) * cos(del) * sin(om))\n",
       "    Ga[Ga < 0] <- 0\n",
       "    et0 = a * Ga/2.45 * (t_m + 17.8) * sqrt(tx - tn)\n",
       "    et0 = pmax(et0, 0)\n",
       "    return(et0)\n",
       "}"
      ]
     },
     "metadata": {},
     "output_type": "display_data"
    }
   ],
   "source": [
    "etht ## détail sur la fonction de calcul de l'ETP\n",
    "## La fonction etht calcule l'ETP au pas de temps journalier\n",
    "## les arguments de la fonction sont : tn, tx, latitude en degré décimal et jour de l'année\n",
    "## Nous utiliserons ici la fonction de R mapply qui permet d'appliquer itérativement une fontion\n",
    "## nécessitant plusieurs argument. Cette fonction évite donc l'utilisation de boucle for moins efficace \n",
    "## en particulier pour des gros dataframes"
   ]
  },
  {
   "cell_type": "code",
   "execution_count": 36,
   "metadata": {},
   "outputs": [
    {
     "data": {
      "text/html": [
       "0.760256920242926"
      ],
      "text/latex": [
       "0.760256920242926"
      ],
      "text/markdown": [
       "0.760256920242926"
      ],
      "text/plain": [
       "[1] 0.7602569"
      ]
     },
     "metadata": {},
     "output_type": "display_data"
    },
    {
     "data": {
      "text/html": [
       "<table class=\"dataframe\">\n",
       "<caption>A data.frame: 6 × 10</caption>\n",
       "<thead>\n",
       "\t<tr><th></th><th scope=col>idpt</th><th scope=col>lat</th><th scope=col>lon</th><th scope=col>alti</th><th scope=col>date</th><th scope=col>Tn</th><th scope=col>Tx</th><th scope=col>RR</th><th scope=col>ETP</th><th scope=col>doi</th></tr>\n",
       "\t<tr><th></th><th scope=col>&lt;int&gt;</th><th scope=col>&lt;dbl&gt;</th><th scope=col>&lt;dbl&gt;</th><th scope=col>&lt;int&gt;</th><th scope=col>&lt;date&gt;</th><th scope=col>&lt;dbl&gt;</th><th scope=col>&lt;dbl&gt;</th><th scope=col>&lt;dbl&gt;</th><th scope=col>&lt;dbl&gt;</th><th scope=col>&lt;int&gt;</th></tr>\n",
       "</thead>\n",
       "<tbody>\n",
       "\t<tr><th scope=row>1</th><td>9378</td><td>46.2218</td><td>3.94455</td><td>307</td><td>2004-01-01</td><td>7.21</td><td>15.04</td><td>0.781</td><td>0.919</td><td>1</td></tr>\n",
       "\t<tr><th scope=row>2</th><td>9378</td><td>46.2218</td><td>3.94455</td><td>307</td><td>2004-01-02</td><td>6.15</td><td>14.89</td><td>0.000</td><td>0.662</td><td>2</td></tr>\n",
       "\t<tr><th scope=row>3</th><td>9378</td><td>46.2218</td><td>3.94455</td><td>307</td><td>2004-01-03</td><td>5.08</td><td> 5.96</td><td>0.000</td><td>0.483</td><td>3</td></tr>\n",
       "\t<tr><th scope=row>4</th><td>9378</td><td>46.2218</td><td>3.94455</td><td>307</td><td>2004-01-04</td><td>0.08</td><td> 8.51</td><td>0.000</td><td>0.407</td><td>4</td></tr>\n",
       "\t<tr><th scope=row>5</th><td>9378</td><td>46.2218</td><td>3.94455</td><td>307</td><td>2004-01-05</td><td>1.39</td><td> 8.90</td><td>0.000</td><td>0.948</td><td>5</td></tr>\n",
       "\t<tr><th scope=row>6</th><td>9378</td><td>46.2218</td><td>3.94455</td><td>307</td><td>2004-01-06</td><td>1.05</td><td>10.28</td><td>0.000</td><td>0.296</td><td>6</td></tr>\n",
       "</tbody>\n",
       "</table>\n"
      ],
      "text/latex": [
       "A data.frame: 6 × 10\n",
       "\\begin{tabular}{r|llllllllll}\n",
       "  & idpt & lat & lon & alti & date & Tn & Tx & RR & ETP & doi\\\\\n",
       "  & <int> & <dbl> & <dbl> & <int> & <date> & <dbl> & <dbl> & <dbl> & <dbl> & <int>\\\\\n",
       "\\hline\n",
       "\t1 & 9378 & 46.2218 & 3.94455 & 307 & 2004-01-01 & 7.21 & 15.04 & 0.781 & 0.919 & 1\\\\\n",
       "\t2 & 9378 & 46.2218 & 3.94455 & 307 & 2004-01-02 & 6.15 & 14.89 & 0.000 & 0.662 & 2\\\\\n",
       "\t3 & 9378 & 46.2218 & 3.94455 & 307 & 2004-01-03 & 5.08 &  5.96 & 0.000 & 0.483 & 3\\\\\n",
       "\t4 & 9378 & 46.2218 & 3.94455 & 307 & 2004-01-04 & 0.08 &  8.51 & 0.000 & 0.407 & 4\\\\\n",
       "\t5 & 9378 & 46.2218 & 3.94455 & 307 & 2004-01-05 & 1.39 &  8.90 & 0.000 & 0.948 & 5\\\\\n",
       "\t6 & 9378 & 46.2218 & 3.94455 & 307 & 2004-01-06 & 1.05 & 10.28 & 0.000 & 0.296 & 6\\\\\n",
       "\\end{tabular}\n"
      ],
      "text/markdown": [
       "\n",
       "A data.frame: 6 × 10\n",
       "\n",
       "| <!--/--> | idpt &lt;int&gt; | lat &lt;dbl&gt; | lon &lt;dbl&gt; | alti &lt;int&gt; | date &lt;date&gt; | Tn &lt;dbl&gt; | Tx &lt;dbl&gt; | RR &lt;dbl&gt; | ETP &lt;dbl&gt; | doi &lt;int&gt; |\n",
       "|---|---|---|---|---|---|---|---|---|---|---|\n",
       "| 1 | 9378 | 46.2218 | 3.94455 | 307 | 2004-01-01 | 7.21 | 15.04 | 0.781 | 0.919 | 1 |\n",
       "| 2 | 9378 | 46.2218 | 3.94455 | 307 | 2004-01-02 | 6.15 | 14.89 | 0.000 | 0.662 | 2 |\n",
       "| 3 | 9378 | 46.2218 | 3.94455 | 307 | 2004-01-03 | 5.08 |  5.96 | 0.000 | 0.483 | 3 |\n",
       "| 4 | 9378 | 46.2218 | 3.94455 | 307 | 2004-01-04 | 0.08 |  8.51 | 0.000 | 0.407 | 4 |\n",
       "| 5 | 9378 | 46.2218 | 3.94455 | 307 | 2004-01-05 | 1.39 |  8.90 | 0.000 | 0.948 | 5 |\n",
       "| 6 | 9378 | 46.2218 | 3.94455 | 307 | 2004-01-06 | 1.05 | 10.28 | 0.000 | 0.296 | 6 |\n",
       "\n"
      ],
      "text/plain": [
       "  idpt lat     lon     alti date       Tn   Tx    RR    ETP   doi\n",
       "1 9378 46.2218 3.94455 307  2004-01-01 7.21 15.04 0.781 0.919 1  \n",
       "2 9378 46.2218 3.94455 307  2004-01-02 6.15 14.89 0.000 0.662 2  \n",
       "3 9378 46.2218 3.94455 307  2004-01-03 5.08  5.96 0.000 0.483 3  \n",
       "4 9378 46.2218 3.94455 307  2004-01-04 0.08  8.51 0.000 0.407 4  \n",
       "5 9378 46.2218 3.94455 307  2004-01-05 1.39  8.90 0.000 0.948 5  \n",
       "6 9378 46.2218 3.94455 307  2004-01-06 1.05 10.28 0.000 0.296 6  "
      ]
     },
     "metadata": {},
     "output_type": "display_data"
    }
   ],
   "source": [
    "## Teste la fonction pour le premier jour\n",
    "etht(tn = mydrias$Tn[1], tx = mydrias$Tx[1],latdeg = mydrias$lat[1],\n",
    "     doy = mydrias$doi[1]) # test sur la 1ere valeur\n",
    "\n",
    "head(mydrias)"
   ]
  },
  {
   "cell_type": "code",
   "execution_count": 11,
   "metadata": {},
   "outputs": [],
   "source": [
    "## utilisation de la fonction suppressWarnings afin d'éviter l'affichage des messages d'alerte\n",
    "\n",
    "ETP0 <- mapply(etht, tn=mydrias$Tn, tx=mydrias$Tx, \n",
    "                                latdeg=mydrias$lat, doy=mydrias$doi)"
   ]
  },
  {
   "cell_type": "code",
   "execution_count": 12,
   "metadata": {},
   "outputs": [
    {
     "data": {
      "text/html": [
       "0"
      ],
      "text/latex": [
       "0"
      ],
      "text/markdown": [
       "0"
      ],
      "text/plain": [
       "[1] 0"
      ]
     },
     "metadata": {},
     "output_type": "display_data"
    }
   ],
   "source": [
    "## check des résultats vérification de présence de NaN\n",
    "## NaN problème dans le calcul lié au fait que pour certains jours\n",
    "## tn > tx\n",
    "length(which(is.nan(ETP0)))"
   ]
  },
  {
   "cell_type": "code",
   "execution_count": 38,
   "metadata": {},
   "outputs": [],
   "source": [
    "## si présence de NaN -> remplace NaN par des NA\n",
    "ETP0[is.nan(ETP0)] <- NA"
   ]
  },
  {
   "cell_type": "code",
   "execution_count": 39,
   "metadata": {},
   "outputs": [],
   "source": [
    "## Charge la librairie zoo afin d'utiliser la fonction na.approx pour remplacer\n",
    "## les NAs par une valeur approximée par une méthode d'interpolation linéaire\n",
    "#library(zoo)\n",
    "## Remplacement des NAs par interpolation linéaire\n",
    "#ETP0 <- na.approx(ETP0)\n",
    "#length(which(is.nan(ETP0)))\n",
    "#length(ETP0)"
   ]
  },
  {
   "cell_type": "code",
   "execution_count": 40,
   "metadata": {},
   "outputs": [
    {
     "data": {
      "image/png": "[encoded data removed]",
      "text/plain": [
       "plot without title"
      ]
     },
     "metadata": {
      "image/png": {
       "height": 420,
       "width": 420
      }
     },
     "output_type": "display_data"
    }
   ],
   "source": [
    "## Vérification des résultats. Trace les valeurs d'ETP pour les 365 premiers jours\n",
    "## Cela vous parait-il cohérent ?\n",
    "plot(ETP0[1:365],type=\"l\")"
   ]
  },
  {
   "cell_type": "code",
   "execution_count": 41,
   "metadata": {},
   "outputs": [
    {
     "data": {
      "text/html": [
       "<style>\n",
       ".list-inline {list-style: none; margin:0; padding: 0}\n",
       ".list-inline>li {display: inline-block}\n",
       ".list-inline>li:not(:last-child)::after {content: \"\\00b7\"; padding: 0 .5ex}\n",
       "</style>\n",
       "<ol class=list-inline><li>'etht'</li><li>'etmh'</li><li>'ETP0'</li><li>'indn'</li><li>'Kc'</li><li>'mydrias'</li></ol>\n"
      ],
      "text/latex": [
       "\\begin{enumerate*}\n",
       "\\item 'etht'\n",
       "\\item 'etmh'\n",
       "\\item 'ETP0'\n",
       "\\item 'indn'\n",
       "\\item 'Kc'\n",
       "\\item 'mydrias'\n",
       "\\end{enumerate*}\n"
      ],
      "text/markdown": [
       "1. 'etht'\n",
       "2. 'etmh'\n",
       "3. 'ETP0'\n",
       "4. 'indn'\n",
       "5. 'Kc'\n",
       "6. 'mydrias'\n",
       "\n",
       "\n"
      ],
      "text/plain": [
       "[1] \"etht\"    \"etmh\"    \"ETP0\"    \"indn\"    \"Kc\"      \"mydrias\""
      ]
     },
     "metadata": {},
     "output_type": "display_data"
    }
   ],
   "source": [
    "ls()"
   ]
  },
  {
   "cell_type": "code",
   "execution_count": 13,
   "metadata": {},
   "outputs": [],
   "source": [
    "#### Ajout de l'ETP au dataframe mydrias\n",
    "mydrias$ETP0 <- ETP0"
   ]
  },
  {
   "cell_type": "code",
   "execution_count": 14,
   "metadata": {},
   "outputs": [
    {
     "data": {
      "text/html": [
       "<table class=\"dataframe\">\n",
       "<caption>A data.frame: 6 × 11</caption>\n",
       "<thead>\n",
       "\t<tr><th></th><th scope=col>idpt</th><th scope=col>lat</th><th scope=col>lon</th><th scope=col>alti</th><th scope=col>date</th><th scope=col>Tn</th><th scope=col>Tx</th><th scope=col>RR</th><th scope=col>ETP</th><th scope=col>doi</th><th scope=col>ETP0</th></tr>\n",
       "\t<tr><th></th><th scope=col>&lt;int&gt;</th><th scope=col>&lt;dbl&gt;</th><th scope=col>&lt;dbl&gt;</th><th scope=col>&lt;int&gt;</th><th scope=col>&lt;date&gt;</th><th scope=col>&lt;dbl&gt;</th><th scope=col>&lt;dbl&gt;</th><th scope=col>&lt;dbl&gt;</th><th scope=col>&lt;dbl&gt;</th><th scope=col>&lt;int&gt;</th><th scope=col>&lt;dbl&gt;</th></tr>\n",
       "</thead>\n",
       "<tbody>\n",
       "\t<tr><th scope=row>1</th><td>9378</td><td>46.2218</td><td>3.94455</td><td>307</td><td>2004-01-01</td><td>7.21</td><td>15.04</td><td>0.781</td><td>0.919</td><td>1</td><td>0.7602569</td></tr>\n",
       "\t<tr><th scope=row>2</th><td>9378</td><td>46.2218</td><td>3.94455</td><td>307</td><td>2004-01-02</td><td>6.15</td><td>14.89</td><td>0.000</td><td>0.662</td><td>2</td><td>0.7907394</td></tr>\n",
       "\t<tr><th scope=row>3</th><td>9378</td><td>46.2218</td><td>3.94455</td><td>307</td><td>2004-01-03</td><td>5.08</td><td> 5.96</td><td>0.000</td><td>0.483</td><td>3</td><td>0.2078320</td></tr>\n",
       "\t<tr><th scope=row>4</th><td>9378</td><td>46.2218</td><td>3.94455</td><td>307</td><td>2004-01-04</td><td>0.08</td><td> 8.51</td><td>0.000</td><td>0.407</td><td>4</td><td>0.6133170</td></tr>\n",
       "\t<tr><th scope=row>5</th><td>9378</td><td>46.2218</td><td>3.94455</td><td>307</td><td>2004-01-05</td><td>1.39</td><td> 8.90</td><td>0.000</td><td>0.948</td><td>5</td><td>0.6051917</td></tr>\n",
       "\t<tr><th scope=row>6</th><td>9378</td><td>46.2218</td><td>3.94455</td><td>307</td><td>2004-01-06</td><td>1.05</td><td>10.28</td><td>0.000</td><td>0.296</td><td>6</td><td>0.6910082</td></tr>\n",
       "</tbody>\n",
       "</table>\n"
      ],
      "text/latex": [
       "A data.frame: 6 × 11\n",
       "\\begin{tabular}{r|lllllllllll}\n",
       "  & idpt & lat & lon & alti & date & Tn & Tx & RR & ETP & doi & ETP0\\\\\n",
       "  & <int> & <dbl> & <dbl> & <int> & <date> & <dbl> & <dbl> & <dbl> & <dbl> & <int> & <dbl>\\\\\n",
       "\\hline\n",
       "\t1 & 9378 & 46.2218 & 3.94455 & 307 & 2004-01-01 & 7.21 & 15.04 & 0.781 & 0.919 & 1 & 0.7602569\\\\\n",
       "\t2 & 9378 & 46.2218 & 3.94455 & 307 & 2004-01-02 & 6.15 & 14.89 & 0.000 & 0.662 & 2 & 0.7907394\\\\\n",
       "\t3 & 9378 & 46.2218 & 3.94455 & 307 & 2004-01-03 & 5.08 &  5.96 & 0.000 & 0.483 & 3 & 0.2078320\\\\\n",
       "\t4 & 9378 & 46.2218 & 3.94455 & 307 & 2004-01-04 & 0.08 &  8.51 & 0.000 & 0.407 & 4 & 0.6133170\\\\\n",
       "\t5 & 9378 & 46.2218 & 3.94455 & 307 & 2004-01-05 & 1.39 &  8.90 & 0.000 & 0.948 & 5 & 0.6051917\\\\\n",
       "\t6 & 9378 & 46.2218 & 3.94455 & 307 & 2004-01-06 & 1.05 & 10.28 & 0.000 & 0.296 & 6 & 0.6910082\\\\\n",
       "\\end{tabular}\n"
      ],
      "text/markdown": [
       "\n",
       "A data.frame: 6 × 11\n",
       "\n",
       "| <!--/--> | idpt &lt;int&gt; | lat &lt;dbl&gt; | lon &lt;dbl&gt; | alti &lt;int&gt; | date &lt;date&gt; | Tn &lt;dbl&gt; | Tx &lt;dbl&gt; | RR &lt;dbl&gt; | ETP &lt;dbl&gt; | doi &lt;int&gt; | ETP0 &lt;dbl&gt; |\n",
       "|---|---|---|---|---|---|---|---|---|---|---|---|\n",
       "| 1 | 9378 | 46.2218 | 3.94455 | 307 | 2004-01-01 | 7.21 | 15.04 | 0.781 | 0.919 | 1 | 0.7602569 |\n",
       "| 2 | 9378 | 46.2218 | 3.94455 | 307 | 2004-01-02 | 6.15 | 14.89 | 0.000 | 0.662 | 2 | 0.7907394 |\n",
       "| 3 | 9378 | 46.2218 | 3.94455 | 307 | 2004-01-03 | 5.08 |  5.96 | 0.000 | 0.483 | 3 | 0.2078320 |\n",
       "| 4 | 9378 | 46.2218 | 3.94455 | 307 | 2004-01-04 | 0.08 |  8.51 | 0.000 | 0.407 | 4 | 0.6133170 |\n",
       "| 5 | 9378 | 46.2218 | 3.94455 | 307 | 2004-01-05 | 1.39 |  8.90 | 0.000 | 0.948 | 5 | 0.6051917 |\n",
       "| 6 | 9378 | 46.2218 | 3.94455 | 307 | 2004-01-06 | 1.05 | 10.28 | 0.000 | 0.296 | 6 | 0.6910082 |\n",
       "\n"
      ],
      "text/plain": [
       "  idpt lat     lon     alti date       Tn   Tx    RR    ETP   doi ETP0     \n",
       "1 9378 46.2218 3.94455 307  2004-01-01 7.21 15.04 0.781 0.919 1   0.7602569\n",
       "2 9378 46.2218 3.94455 307  2004-01-02 6.15 14.89 0.000 0.662 2   0.7907394\n",
       "3 9378 46.2218 3.94455 307  2004-01-03 5.08  5.96 0.000 0.483 3   0.2078320\n",
       "4 9378 46.2218 3.94455 307  2004-01-04 0.08  8.51 0.000 0.407 4   0.6133170\n",
       "5 9378 46.2218 3.94455 307  2004-01-05 1.39  8.90 0.000 0.948 5   0.6051917\n",
       "6 9378 46.2218 3.94455 307  2004-01-06 1.05 10.28 0.000 0.296 6   0.6910082"
      ]
     },
     "metadata": {},
     "output_type": "display_data"
    },
    {
     "data": {
      "text/html": [
       "0.96744489247998"
      ],
      "text/latex": [
       "0.96744489247998"
      ],
      "text/markdown": [
       "0.96744489247998"
      ],
      "text/plain": [
       "[1] 0.9674449"
      ]
     },
     "metadata": {},
     "output_type": "display_data"
    },
    {
     "data": {
      "image/png": "[encoded data removed]",
      "text/plain": [
       "plot without title"
      ]
     },
     "metadata": {
      "image/png": {
       "height": 420,
       "width": 420
      }
     },
     "output_type": "display_data"
    }
   ],
   "source": [
    "head(mydrias)\n",
    "plot(mydrias$ETP[1:365],type=\"l\")\n",
    "lines(mydrias$ETP0[1:365], col=\"red\")\n",
    "cor(mydrias$ETP[1:365],mydrias$ETP0[1:365])"
   ]
  },
  {
   "cell_type": "code",
   "execution_count": 15,
   "metadata": {},
   "outputs": [],
   "source": [
    "########################################################################\n",
    "## Récupération des données de Kc (cf. script kcjj.R))\n",
    "####################################################################\n",
    "load(\"Kc.RData\")"
   ]
  },
  {
   "cell_type": "code",
   "execution_count": 16,
   "metadata": {},
   "outputs": [
    {
     "data": {
      "text/html": [
       "<style>\n",
       ".list-inline {list-style: none; margin:0; padding: 0}\n",
       ".list-inline>li {display: inline-block}\n",
       ".list-inline>li:not(:last-child)::after {content: \"\\00b7\"; padding: 0 .5ex}\n",
       "</style>\n",
       "<ol class=list-inline><li>'etht'</li><li>'etmh'</li><li>'ETP0'</li><li>'indn'</li><li>'Kc'</li><li>'mydrias'</li></ol>\n"
      ],
      "text/latex": [
       "\\begin{enumerate*}\n",
       "\\item 'etht'\n",
       "\\item 'etmh'\n",
       "\\item 'ETP0'\n",
       "\\item 'indn'\n",
       "\\item 'Kc'\n",
       "\\item 'mydrias'\n",
       "\\end{enumerate*}\n"
      ],
      "text/markdown": [
       "1. 'etht'\n",
       "2. 'etmh'\n",
       "3. 'ETP0'\n",
       "4. 'indn'\n",
       "5. 'Kc'\n",
       "6. 'mydrias'\n",
       "\n",
       "\n"
      ],
      "text/plain": [
       "[1] \"etht\"    \"etmh\"    \"ETP0\"    \"indn\"    \"Kc\"      \"mydrias\""
      ]
     },
     "metadata": {},
     "output_type": "display_data"
    }
   ],
   "source": [
    "ls()"
   ]
  },
  {
   "cell_type": "code",
   "execution_count": 17,
   "metadata": {},
   "outputs": [],
   "source": [
    "## jointure des données de kc aux données drias\n",
    "## on utilise ici le doi (jour de l'année) comme\n",
    "## clef de jointure afin d'attribuer le bon Kc au bon jour\n",
    "mydrias <- merge(mydrias, Kc, by.x = \"doi\", by.y = \"doi\")"
   ]
  },
  {
   "cell_type": "code",
   "execution_count": 18,
   "metadata": {},
   "outputs": [
    {
     "data": {
      "text/html": [
       "<table class=\"dataframe\">\n",
       "<caption>A data.frame: 6 × 14</caption>\n",
       "<thead>\n",
       "\t<tr><th></th><th scope=col>doi</th><th scope=col>idpt</th><th scope=col>lat</th><th scope=col>lon</th><th scope=col>alti</th><th scope=col>date</th><th scope=col>Tn</th><th scope=col>Tx</th><th scope=col>RR</th><th scope=col>ETP</th><th scope=col>ETP0</th><th scope=col>kcc</th><th scope=col>kcl</th><th scope=col>kcs</th></tr>\n",
       "\t<tr><th></th><th scope=col>&lt;int&gt;</th><th scope=col>&lt;int&gt;</th><th scope=col>&lt;dbl&gt;</th><th scope=col>&lt;dbl&gt;</th><th scope=col>&lt;int&gt;</th><th scope=col>&lt;date&gt;</th><th scope=col>&lt;dbl&gt;</th><th scope=col>&lt;dbl&gt;</th><th scope=col>&lt;dbl&gt;</th><th scope=col>&lt;dbl&gt;</th><th scope=col>&lt;dbl&gt;</th><th scope=col>&lt;dbl&gt;</th><th scope=col>&lt;dbl&gt;</th><th scope=col>&lt;dbl&gt;</th></tr>\n",
       "</thead>\n",
       "<tbody>\n",
       "\t<tr><th scope=row>1</th><td>1</td><td> 9378</td><td>46.2218</td><td>3.94455</td><td>307</td><td>2004-01-01</td><td>7.21</td><td>15.04</td><td>0.781</td><td>0.919</td><td>0.7602569</td><td>0.2</td><td>0.2</td><td>0.2</td></tr>\n",
       "\t<tr><th scope=row>2</th><td>1</td><td>11386</td><td>47.2185</td><td>4.60839</td><td>407</td><td>2004-01-01</td><td>9.75</td><td>13.79</td><td>0.231</td><td>1.174</td><td>0.5245913</td><td>0.2</td><td>0.2</td><td>0.2</td></tr>\n",
       "\t<tr><th scope=row>3</th><td>1</td><td>13234</td><td>48.1708</td><td>3.46635</td><td>148</td><td>2004-01-01</td><td>9.62</td><td>11.58</td><td>7.017</td><td>0.228</td><td>0.3295486</td><td>0.2</td><td>0.2</td><td>0.2</td></tr>\n",
       "\t<tr><th scope=row>4</th><td>1</td><td>11387</td><td>47.2163</td><td>4.71396</td><td>458</td><td>2004-01-01</td><td>8.61</td><td>11.65</td><td>0.323</td><td>0.795</td><td>0.4298809</td><td>0.2</td><td>0.2</td><td>0.2</td></tr>\n",
       "\t<tr><th scope=row>5</th><td>1</td><td>13235</td><td>48.1697</td><td>3.57387</td><td>204</td><td>2004-01-01</td><td>9.69</td><td>10.80</td><td>7.908</td><td>0.216</td><td>0.2449190</td><td>0.2</td><td>0.2</td><td>0.2</td></tr>\n",
       "\t<tr><th scope=row>6</th><td>1</td><td> 9381</td><td>46.2170</td><td>4.25553</td><td>362</td><td>2004-01-01</td><td>8.32</td><td>14.83</td><td>0.250</td><td>1.336</td><td>0.7042082</td><td>0.2</td><td>0.2</td><td>0.2</td></tr>\n",
       "</tbody>\n",
       "</table>\n"
      ],
      "text/latex": [
       "A data.frame: 6 × 14\n",
       "\\begin{tabular}{r|llllllllllllll}\n",
       "  & doi & idpt & lat & lon & alti & date & Tn & Tx & RR & ETP & ETP0 & kcc & kcl & kcs\\\\\n",
       "  & <int> & <int> & <dbl> & <dbl> & <int> & <date> & <dbl> & <dbl> & <dbl> & <dbl> & <dbl> & <dbl> & <dbl> & <dbl>\\\\\n",
       "\\hline\n",
       "\t1 & 1 &  9378 & 46.2218 & 3.94455 & 307 & 2004-01-01 & 7.21 & 15.04 & 0.781 & 0.919 & 0.7602569 & 0.2 & 0.2 & 0.2\\\\\n",
       "\t2 & 1 & 11386 & 47.2185 & 4.60839 & 407 & 2004-01-01 & 9.75 & 13.79 & 0.231 & 1.174 & 0.5245913 & 0.2 & 0.2 & 0.2\\\\\n",
       "\t3 & 1 & 13234 & 48.1708 & 3.46635 & 148 & 2004-01-01 & 9.62 & 11.58 & 7.017 & 0.228 & 0.3295486 & 0.2 & 0.2 & 0.2\\\\\n",
       "\t4 & 1 & 11387 & 47.2163 & 4.71396 & 458 & 2004-01-01 & 8.61 & 11.65 & 0.323 & 0.795 & 0.4298809 & 0.2 & 0.2 & 0.2\\\\\n",
       "\t5 & 1 & 13235 & 48.1697 & 3.57387 & 204 & 2004-01-01 & 9.69 & 10.80 & 7.908 & 0.216 & 0.2449190 & 0.2 & 0.2 & 0.2\\\\\n",
       "\t6 & 1 &  9381 & 46.2170 & 4.25553 & 362 & 2004-01-01 & 8.32 & 14.83 & 0.250 & 1.336 & 0.7042082 & 0.2 & 0.2 & 0.2\\\\\n",
       "\\end{tabular}\n"
      ],
      "text/markdown": [
       "\n",
       "A data.frame: 6 × 14\n",
       "\n",
       "| <!--/--> | doi &lt;int&gt; | idpt &lt;int&gt; | lat &lt;dbl&gt; | lon &lt;dbl&gt; | alti &lt;int&gt; | date &lt;date&gt; | Tn &lt;dbl&gt; | Tx &lt;dbl&gt; | RR &lt;dbl&gt; | ETP &lt;dbl&gt; | ETP0 &lt;dbl&gt; | kcc &lt;dbl&gt; | kcl &lt;dbl&gt; | kcs &lt;dbl&gt; |\n",
       "|---|---|---|---|---|---|---|---|---|---|---|---|---|---|---|\n",
       "| 1 | 1 |  9378 | 46.2218 | 3.94455 | 307 | 2004-01-01 | 7.21 | 15.04 | 0.781 | 0.919 | 0.7602569 | 0.2 | 0.2 | 0.2 |\n",
       "| 2 | 1 | 11386 | 47.2185 | 4.60839 | 407 | 2004-01-01 | 9.75 | 13.79 | 0.231 | 1.174 | 0.5245913 | 0.2 | 0.2 | 0.2 |\n",
       "| 3 | 1 | 13234 | 48.1708 | 3.46635 | 148 | 2004-01-01 | 9.62 | 11.58 | 7.017 | 0.228 | 0.3295486 | 0.2 | 0.2 | 0.2 |\n",
       "| 4 | 1 | 11387 | 47.2163 | 4.71396 | 458 | 2004-01-01 | 8.61 | 11.65 | 0.323 | 0.795 | 0.4298809 | 0.2 | 0.2 | 0.2 |\n",
       "| 5 | 1 | 13235 | 48.1697 | 3.57387 | 204 | 2004-01-01 | 9.69 | 10.80 | 7.908 | 0.216 | 0.2449190 | 0.2 | 0.2 | 0.2 |\n",
       "| 6 | 1 |  9381 | 46.2170 | 4.25553 | 362 | 2004-01-01 | 8.32 | 14.83 | 0.250 | 1.336 | 0.7042082 | 0.2 | 0.2 | 0.2 |\n",
       "\n"
      ],
      "text/plain": [
       "  doi idpt  lat     lon     alti date       Tn   Tx    RR    ETP   ETP0     \n",
       "1 1    9378 46.2218 3.94455 307  2004-01-01 7.21 15.04 0.781 0.919 0.7602569\n",
       "2 1   11386 47.2185 4.60839 407  2004-01-01 9.75 13.79 0.231 1.174 0.5245913\n",
       "3 1   13234 48.1708 3.46635 148  2004-01-01 9.62 11.58 7.017 0.228 0.3295486\n",
       "4 1   11387 47.2163 4.71396 458  2004-01-01 8.61 11.65 0.323 0.795 0.4298809\n",
       "5 1   13235 48.1697 3.57387 204  2004-01-01 9.69 10.80 7.908 0.216 0.2449190\n",
       "6 1    9381 46.2170 4.25553 362  2004-01-01 8.32 14.83 0.250 1.336 0.7042082\n",
       "  kcc kcl kcs\n",
       "1 0.2 0.2 0.2\n",
       "2 0.2 0.2 0.2\n",
       "3 0.2 0.2 0.2\n",
       "4 0.2 0.2 0.2\n",
       "5 0.2 0.2 0.2\n",
       "6 0.2 0.2 0.2"
      ]
     },
     "metadata": {},
     "output_type": "display_data"
    }
   ],
   "source": [
    "head(mydrias)"
   ]
  },
  {
   "cell_type": "code",
   "execution_count": 19,
   "metadata": {},
   "outputs": [],
   "source": [
    "## Calcul de l'ETM = ETP x Kc\n",
    "mydrias$ETM <- mydrias$ETP * mydrias$kcl\n",
    "mydrias$ETM0 <- mydrias$ETP0 * mydrias$kcl"
   ]
  },
  {
   "cell_type": "code",
   "execution_count": 22,
   "metadata": {},
   "outputs": [
    {
     "data": {
      "text/html": [
       "<table class=\"dataframe\">\n",
       "<caption>A data.frame: 6 × 16</caption>\n",
       "<thead>\n",
       "\t<tr><th></th><th scope=col>doi</th><th scope=col>idpt</th><th scope=col>lat</th><th scope=col>lon</th><th scope=col>alti</th><th scope=col>date</th><th scope=col>Tn</th><th scope=col>Tx</th><th scope=col>RR</th><th scope=col>ETP</th><th scope=col>ETP0</th><th scope=col>kcc</th><th scope=col>kcl</th><th scope=col>kcs</th><th scope=col>ETM</th><th scope=col>ETM0</th></tr>\n",
       "\t<tr><th></th><th scope=col>&lt;int&gt;</th><th scope=col>&lt;int&gt;</th><th scope=col>&lt;dbl&gt;</th><th scope=col>&lt;dbl&gt;</th><th scope=col>&lt;int&gt;</th><th scope=col>&lt;date&gt;</th><th scope=col>&lt;dbl&gt;</th><th scope=col>&lt;dbl&gt;</th><th scope=col>&lt;dbl&gt;</th><th scope=col>&lt;dbl&gt;</th><th scope=col>&lt;dbl&gt;</th><th scope=col>&lt;dbl&gt;</th><th scope=col>&lt;dbl&gt;</th><th scope=col>&lt;dbl&gt;</th><th scope=col>&lt;dbl&gt;</th><th scope=col>&lt;dbl&gt;</th></tr>\n",
       "</thead>\n",
       "<tbody>\n",
       "\t<tr><th scope=row>1</th><td>1</td><td> 9378</td><td>46.2218</td><td>3.94455</td><td>307</td><td>2004-01-01</td><td>7.21</td><td>15.04</td><td>0.781</td><td>0.919</td><td>0.7602569</td><td>0.2</td><td>0.2</td><td>0.2</td><td>0.1838</td><td>0.15205138</td></tr>\n",
       "\t<tr><th scope=row>2</th><td>1</td><td>11386</td><td>47.2185</td><td>4.60839</td><td>407</td><td>2004-01-01</td><td>9.75</td><td>13.79</td><td>0.231</td><td>1.174</td><td>0.5245913</td><td>0.2</td><td>0.2</td><td>0.2</td><td>0.2348</td><td>0.10491825</td></tr>\n",
       "\t<tr><th scope=row>3</th><td>1</td><td>13234</td><td>48.1708</td><td>3.46635</td><td>148</td><td>2004-01-01</td><td>9.62</td><td>11.58</td><td>7.017</td><td>0.228</td><td>0.3295486</td><td>0.2</td><td>0.2</td><td>0.2</td><td>0.0456</td><td>0.06590971</td></tr>\n",
       "\t<tr><th scope=row>4</th><td>1</td><td>11387</td><td>47.2163</td><td>4.71396</td><td>458</td><td>2004-01-01</td><td>8.61</td><td>11.65</td><td>0.323</td><td>0.795</td><td>0.4298809</td><td>0.2</td><td>0.2</td><td>0.2</td><td>0.1590</td><td>0.08597617</td></tr>\n",
       "\t<tr><th scope=row>5</th><td>1</td><td>13235</td><td>48.1697</td><td>3.57387</td><td>204</td><td>2004-01-01</td><td>9.69</td><td>10.80</td><td>7.908</td><td>0.216</td><td>0.2449190</td><td>0.2</td><td>0.2</td><td>0.2</td><td>0.0432</td><td>0.04898379</td></tr>\n",
       "\t<tr><th scope=row>6</th><td>1</td><td> 9381</td><td>46.2170</td><td>4.25553</td><td>362</td><td>2004-01-01</td><td>8.32</td><td>14.83</td><td>0.250</td><td>1.336</td><td>0.7042082</td><td>0.2</td><td>0.2</td><td>0.2</td><td>0.2672</td><td>0.14084164</td></tr>\n",
       "</tbody>\n",
       "</table>\n"
      ],
      "text/latex": [
       "A data.frame: 6 × 16\n",
       "\\begin{tabular}{r|llllllllllllllll}\n",
       "  & doi & idpt & lat & lon & alti & date & Tn & Tx & RR & ETP & ETP0 & kcc & kcl & kcs & ETM & ETM0\\\\\n",
       "  & <int> & <int> & <dbl> & <dbl> & <int> & <date> & <dbl> & <dbl> & <dbl> & <dbl> & <dbl> & <dbl> & <dbl> & <dbl> & <dbl> & <dbl>\\\\\n",
       "\\hline\n",
       "\t1 & 1 &  9378 & 46.2218 & 3.94455 & 307 & 2004-01-01 & 7.21 & 15.04 & 0.781 & 0.919 & 0.7602569 & 0.2 & 0.2 & 0.2 & 0.1838 & 0.15205138\\\\\n",
       "\t2 & 1 & 11386 & 47.2185 & 4.60839 & 407 & 2004-01-01 & 9.75 & 13.79 & 0.231 & 1.174 & 0.5245913 & 0.2 & 0.2 & 0.2 & 0.2348 & 0.10491825\\\\\n",
       "\t3 & 1 & 13234 & 48.1708 & 3.46635 & 148 & 2004-01-01 & 9.62 & 11.58 & 7.017 & 0.228 & 0.3295486 & 0.2 & 0.2 & 0.2 & 0.0456 & 0.06590971\\\\\n",
       "\t4 & 1 & 11387 & 47.2163 & 4.71396 & 458 & 2004-01-01 & 8.61 & 11.65 & 0.323 & 0.795 & 0.4298809 & 0.2 & 0.2 & 0.2 & 0.1590 & 0.08597617\\\\\n",
       "\t5 & 1 & 13235 & 48.1697 & 3.57387 & 204 & 2004-01-01 & 9.69 & 10.80 & 7.908 & 0.216 & 0.2449190 & 0.2 & 0.2 & 0.2 & 0.0432 & 0.04898379\\\\\n",
       "\t6 & 1 &  9381 & 46.2170 & 4.25553 & 362 & 2004-01-01 & 8.32 & 14.83 & 0.250 & 1.336 & 0.7042082 & 0.2 & 0.2 & 0.2 & 0.2672 & 0.14084164\\\\\n",
       "\\end{tabular}\n"
      ],
      "text/markdown": [
       "\n",
       "A data.frame: 6 × 16\n",
       "\n",
       "| <!--/--> | doi &lt;int&gt; | idpt &lt;int&gt; | lat &lt;dbl&gt; | lon &lt;dbl&gt; | alti &lt;int&gt; | date &lt;date&gt; | Tn &lt;dbl&gt; | Tx &lt;dbl&gt; | RR &lt;dbl&gt; | ETP &lt;dbl&gt; | ETP0 &lt;dbl&gt; | kcc &lt;dbl&gt; | kcl &lt;dbl&gt; | kcs &lt;dbl&gt; | ETM &lt;dbl&gt; | ETM0 &lt;dbl&gt; |\n",
       "|---|---|---|---|---|---|---|---|---|---|---|---|---|---|---|---|---|\n",
       "| 1 | 1 |  9378 | 46.2218 | 3.94455 | 307 | 2004-01-01 | 7.21 | 15.04 | 0.781 | 0.919 | 0.7602569 | 0.2 | 0.2 | 0.2 | 0.1838 | 0.15205138 |\n",
       "| 2 | 1 | 11386 | 47.2185 | 4.60839 | 407 | 2004-01-01 | 9.75 | 13.79 | 0.231 | 1.174 | 0.5245913 | 0.2 | 0.2 | 0.2 | 0.2348 | 0.10491825 |\n",
       "| 3 | 1 | 13234 | 48.1708 | 3.46635 | 148 | 2004-01-01 | 9.62 | 11.58 | 7.017 | 0.228 | 0.3295486 | 0.2 | 0.2 | 0.2 | 0.0456 | 0.06590971 |\n",
       "| 4 | 1 | 11387 | 47.2163 | 4.71396 | 458 | 2004-01-01 | 8.61 | 11.65 | 0.323 | 0.795 | 0.4298809 | 0.2 | 0.2 | 0.2 | 0.1590 | 0.08597617 |\n",
       "| 5 | 1 | 13235 | 48.1697 | 3.57387 | 204 | 2004-01-01 | 9.69 | 10.80 | 7.908 | 0.216 | 0.2449190 | 0.2 | 0.2 | 0.2 | 0.0432 | 0.04898379 |\n",
       "| 6 | 1 |  9381 | 46.2170 | 4.25553 | 362 | 2004-01-01 | 8.32 | 14.83 | 0.250 | 1.336 | 0.7042082 | 0.2 | 0.2 | 0.2 | 0.2672 | 0.14084164 |\n",
       "\n"
      ],
      "text/plain": [
       "  doi idpt  lat     lon     alti date       Tn   Tx    RR    ETP   ETP0     \n",
       "1 1    9378 46.2218 3.94455 307  2004-01-01 7.21 15.04 0.781 0.919 0.7602569\n",
       "2 1   11386 47.2185 4.60839 407  2004-01-01 9.75 13.79 0.231 1.174 0.5245913\n",
       "3 1   13234 48.1708 3.46635 148  2004-01-01 9.62 11.58 7.017 0.228 0.3295486\n",
       "4 1   11387 47.2163 4.71396 458  2004-01-01 8.61 11.65 0.323 0.795 0.4298809\n",
       "5 1   13235 48.1697 3.57387 204  2004-01-01 9.69 10.80 7.908 0.216 0.2449190\n",
       "6 1    9381 46.2170 4.25553 362  2004-01-01 8.32 14.83 0.250 1.336 0.7042082\n",
       "  kcc kcl kcs ETM    ETM0      \n",
       "1 0.2 0.2 0.2 0.1838 0.15205138\n",
       "2 0.2 0.2 0.2 0.2348 0.10491825\n",
       "3 0.2 0.2 0.2 0.0456 0.06590971\n",
       "4 0.2 0.2 0.2 0.1590 0.08597617\n",
       "5 0.2 0.2 0.2 0.0432 0.04898379\n",
       "6 0.2 0.2 0.2 0.2672 0.14084164"
      ]
     },
     "metadata": {},
     "output_type": "display_data"
    }
   ],
   "source": [
    "head(mydrias)"
   ]
  },
  {
   "cell_type": "code",
   "execution_count": 20,
   "metadata": {},
   "outputs": [],
   "source": [
    "## Sauvegarde de mydrias \n",
    "save(mydrias,file=\"mydrias.RData\")\n",
    "## A ce stade il ne reste plus qu'à récupérer la taille du réservoir i.e.RU\n",
    "## La RU a été calculé pour chaque point de grille avec QGIS"
   ]
  },
  {
   "cell_type": "code",
   "execution_count": 21,
   "metadata": {},
   "outputs": [
    {
     "name": "stderr",
     "output_type": "stream",
     "text": [
      "Linking to GEOS 3.13.0, GDAL 3.9.3, PROJ 9.4.1; sf_use_s2() is TRUE\n",
      "\n"
     ]
    }
   ],
   "source": [
    "######################################################################\n",
    "## Récupération des données de RU pour chaque point (cf. traitement QGIS)\n",
    "## lecture du shapefile contenant les valeur de RU par point de grille\n",
    "## Nous allons utiliser le package maptools de R qui permet de lire \n",
    "## des données spatiales issues d'un SIG comme QGIS\n",
    "######################################################################\n",
    "#library(maptools)\n",
    "library(sf)\n"
   ]
  },
  {
   "cell_type": "code",
   "execution_count": 22,
   "metadata": {},
   "outputs": [
    {
     "name": "stdout",
     "output_type": "stream",
     "text": [
      "Reading layer `points_drias_RU' from data source \n",
      "  `/home/thierry/works/wdM2/UE4/UE4_Climat_2024/Data/points_drias_RU.shp' \n",
      "  using driver `ESRI Shapefile'\n",
      "Simple feature collection with 497 features and 11 fields\n",
      "Geometry type: POLYGON\n",
      "Dimension:     XY\n",
      "Bounding box:  xmin: 689891.1 ymin: 6564997 xmax: 890000.6 ymax: 6805965\n",
      "Projected CRS: RGF93 v1 / Lambert-93\n"
     ]
    }
   ],
   "source": [
    "#ptdriasRU <- readShapePoly('RU_ptdrias.shp')\n",
    "ptdriasRU <- st_read('points_drias_RU.shp')\n",
    "#str(ptdriasRU)\n",
    "#dir()"
   ]
  },
  {
   "cell_type": "code",
   "execution_count": 23,
   "metadata": {},
   "outputs": [
    {
     "data": {
      "text/html": [
       "<table class=\"dataframe\">\n",
       "<caption>A data.frame: 6 × 12</caption>\n",
       "<thead>\n",
       "\t<tr><th></th><th scope=col>idpt</th><th scope=col>lon</th><th scope=col>lat</th><th scope=col>alti</th><th scope=col>X_mean</th><th scope=col>X_median</th><th scope=col>X_stdev</th><th scope=col>X_min</th><th scope=col>X_max</th><th scope=col>X_majority</th><th scope=col>Dif_median</th><th scope=col>geometry</th></tr>\n",
       "\t<tr><th></th><th scope=col>&lt;dbl&gt;</th><th scope=col>&lt;dbl&gt;</th><th scope=col>&lt;dbl&gt;</th><th scope=col>&lt;dbl&gt;</th><th scope=col>&lt;dbl&gt;</th><th scope=col>&lt;dbl&gt;</th><th scope=col>&lt;dbl&gt;</th><th scope=col>&lt;dbl&gt;</th><th scope=col>&lt;dbl&gt;</th><th scope=col>&lt;dbl&gt;</th><th scope=col>&lt;dbl&gt;</th><th scope=col>&lt;POLYGON [m]&gt;</th></tr>\n",
       "</thead>\n",
       "<tbody>\n",
       "\t<tr><th scope=row>1</th><td>9378</td><td>3.94455</td><td>46.2218</td><td>307</td><td>103.82236</td><td>106</td><td> 9.086075</td><td>74</td><td>128</td><td>106</td><td>-2.178</td><td>POLYGON ((768805.1 6565540,...</td></tr>\n",
       "\t<tr><th scope=row>2</th><td>9379</td><td>4.04821</td><td>46.2203</td><td>298</td><td>100.71042</td><td>106</td><td>25.112361</td><td>21</td><td>128</td><td>106</td><td>-5.290</td><td>POLYGON ((776796.9 6565475,...</td></tr>\n",
       "\t<tr><th scope=row>3</th><td>9380</td><td>4.15188</td><td>46.2187</td><td>388</td><td> 90.74173</td><td> 83</td><td>23.689463</td><td>21</td><td>122</td><td> 83</td><td> 7.742</td><td>POLYGON ((784790 6565408, 7...</td></tr>\n",
       "\t<tr><th scope=row>4</th><td>9381</td><td>4.25553</td><td>46.2170</td><td>362</td><td> 77.10693</td><td> 74</td><td>23.197344</td><td>21</td><td>122</td><td> 71</td><td> 3.107</td><td>POLYGON ((792781.9 6565341,...</td></tr>\n",
       "\t<tr><th scope=row>5</th><td>9382</td><td>4.35918</td><td>46.2151</td><td>489</td><td> 72.41348</td><td> 71</td><td>14.558601</td><td> 0</td><td> 82</td><td> 71</td><td> 1.413</td><td>POLYGON ((800774.6 6565263,...</td></tr>\n",
       "\t<tr><th scope=row>6</th><td>9386</td><td>4.77370</td><td>46.2070</td><td>192</td><td> 95.75193</td><td> 67</td><td>59.568974</td><td>44</td><td>188</td><td> 44</td><td>28.752</td><td>POLYGON ((832744 6564997, 8...</td></tr>\n",
       "</tbody>\n",
       "</table>\n"
      ],
      "text/latex": [
       "A data.frame: 6 × 12\n",
       "\\begin{tabular}{r|llllllllllll}\n",
       "  & idpt & lon & lat & alti & X\\_mean & X\\_median & X\\_stdev & X\\_min & X\\_max & X\\_majority & Dif\\_median & geometry\\\\\n",
       "  & <dbl> & <dbl> & <dbl> & <dbl> & <dbl> & <dbl> & <dbl> & <dbl> & <dbl> & <dbl> & <dbl> & <POLYGON {[}m{]}>\\\\\n",
       "\\hline\n",
       "\t1 & 9378 & 3.94455 & 46.2218 & 307 & 103.82236 & 106 &  9.086075 & 74 & 128 & 106 & -2.178 & POLYGON ((768805.1 6565540,...\\\\\n",
       "\t2 & 9379 & 4.04821 & 46.2203 & 298 & 100.71042 & 106 & 25.112361 & 21 & 128 & 106 & -5.290 & POLYGON ((776796.9 6565475,...\\\\\n",
       "\t3 & 9380 & 4.15188 & 46.2187 & 388 &  90.74173 &  83 & 23.689463 & 21 & 122 &  83 &  7.742 & POLYGON ((784790 6565408, 7...\\\\\n",
       "\t4 & 9381 & 4.25553 & 46.2170 & 362 &  77.10693 &  74 & 23.197344 & 21 & 122 &  71 &  3.107 & POLYGON ((792781.9 6565341,...\\\\\n",
       "\t5 & 9382 & 4.35918 & 46.2151 & 489 &  72.41348 &  71 & 14.558601 &  0 &  82 &  71 &  1.413 & POLYGON ((800774.6 6565263,...\\\\\n",
       "\t6 & 9386 & 4.77370 & 46.2070 & 192 &  95.75193 &  67 & 59.568974 & 44 & 188 &  44 & 28.752 & POLYGON ((832744 6564997, 8...\\\\\n",
       "\\end{tabular}\n"
      ],
      "text/markdown": [
       "\n",
       "A data.frame: 6 × 12\n",
       "\n",
       "| <!--/--> | idpt &lt;dbl&gt; | lon &lt;dbl&gt; | lat &lt;dbl&gt; | alti &lt;dbl&gt; | X_mean &lt;dbl&gt; | X_median &lt;dbl&gt; | X_stdev &lt;dbl&gt; | X_min &lt;dbl&gt; | X_max &lt;dbl&gt; | X_majority &lt;dbl&gt; | Dif_median &lt;dbl&gt; | geometry &lt;POLYGON [m]&gt; |\n",
       "|---|---|---|---|---|---|---|---|---|---|---|---|---|\n",
       "| 1 | 9378 | 3.94455 | 46.2218 | 307 | 103.82236 | 106 |  9.086075 | 74 | 128 | 106 | -2.178 | POLYGON ((768805.1 6565540,... |\n",
       "| 2 | 9379 | 4.04821 | 46.2203 | 298 | 100.71042 | 106 | 25.112361 | 21 | 128 | 106 | -5.290 | POLYGON ((776796.9 6565475,... |\n",
       "| 3 | 9380 | 4.15188 | 46.2187 | 388 |  90.74173 |  83 | 23.689463 | 21 | 122 |  83 |  7.742 | POLYGON ((784790 6565408, 7... |\n",
       "| 4 | 9381 | 4.25553 | 46.2170 | 362 |  77.10693 |  74 | 23.197344 | 21 | 122 |  71 |  3.107 | POLYGON ((792781.9 6565341,... |\n",
       "| 5 | 9382 | 4.35918 | 46.2151 | 489 |  72.41348 |  71 | 14.558601 |  0 |  82 |  71 |  1.413 | POLYGON ((800774.6 6565263,... |\n",
       "| 6 | 9386 | 4.77370 | 46.2070 | 192 |  95.75193 |  67 | 59.568974 | 44 | 188 |  44 | 28.752 | POLYGON ((832744 6564997, 8... |\n",
       "\n"
      ],
      "text/plain": [
       "  idpt lon     lat     alti X_mean    X_median X_stdev   X_min X_max X_majority\n",
       "1 9378 3.94455 46.2218 307  103.82236 106       9.086075 74    128   106       \n",
       "2 9379 4.04821 46.2203 298  100.71042 106      25.112361 21    128   106       \n",
       "3 9380 4.15188 46.2187 388   90.74173  83      23.689463 21    122    83       \n",
       "4 9381 4.25553 46.2170 362   77.10693  74      23.197344 21    122    71       \n",
       "5 9382 4.35918 46.2151 489   72.41348  71      14.558601  0     82    71       \n",
       "6 9386 4.77370 46.2070 192   95.75193  67      59.568974 44    188    44       \n",
       "  Dif_median geometry                      \n",
       "1 -2.178     POLYGON ((768805.1 6565540,...\n",
       "2 -5.290     POLYGON ((776796.9 6565475,...\n",
       "3  7.742     POLYGON ((784790 6565408, 7...\n",
       "4  3.107     POLYGON ((792781.9 6565341,...\n",
       "5  1.413     POLYGON ((800774.6 6565263,...\n",
       "6 28.752     POLYGON ((832744 6564997, 8..."
      ]
     },
     "metadata": {},
     "output_type": "display_data"
    },
    {
     "data": {
      "text/html": [
       "<table class=\"dataframe\">\n",
       "<caption>A data.frame: 6 × 11</caption>\n",
       "<thead>\n",
       "\t<tr><th></th><th scope=col>idpt</th><th scope=col>lon</th><th scope=col>lat</th><th scope=col>alti</th><th scope=col>X_mean</th><th scope=col>X_median</th><th scope=col>X_stdev</th><th scope=col>X_min</th><th scope=col>X_max</th><th scope=col>X_majority</th><th scope=col>Dif_median</th></tr>\n",
       "\t<tr><th></th><th scope=col>&lt;dbl&gt;</th><th scope=col>&lt;dbl&gt;</th><th scope=col>&lt;dbl&gt;</th><th scope=col>&lt;dbl&gt;</th><th scope=col>&lt;dbl&gt;</th><th scope=col>&lt;dbl&gt;</th><th scope=col>&lt;dbl&gt;</th><th scope=col>&lt;dbl&gt;</th><th scope=col>&lt;dbl&gt;</th><th scope=col>&lt;dbl&gt;</th><th scope=col>&lt;dbl&gt;</th></tr>\n",
       "</thead>\n",
       "<tbody>\n",
       "\t<tr><th scope=row>1</th><td>9378</td><td>3.94455</td><td>46.2218</td><td>307</td><td>103.82236</td><td>106</td><td> 9.086075</td><td>74</td><td>128</td><td>106</td><td>-2.178</td></tr>\n",
       "\t<tr><th scope=row>2</th><td>9379</td><td>4.04821</td><td>46.2203</td><td>298</td><td>100.71042</td><td>106</td><td>25.112361</td><td>21</td><td>128</td><td>106</td><td>-5.290</td></tr>\n",
       "\t<tr><th scope=row>3</th><td>9380</td><td>4.15188</td><td>46.2187</td><td>388</td><td> 90.74173</td><td> 83</td><td>23.689463</td><td>21</td><td>122</td><td> 83</td><td> 7.742</td></tr>\n",
       "\t<tr><th scope=row>4</th><td>9381</td><td>4.25553</td><td>46.2170</td><td>362</td><td> 77.10693</td><td> 74</td><td>23.197344</td><td>21</td><td>122</td><td> 71</td><td> 3.107</td></tr>\n",
       "\t<tr><th scope=row>5</th><td>9382</td><td>4.35918</td><td>46.2151</td><td>489</td><td> 72.41348</td><td> 71</td><td>14.558601</td><td> 0</td><td> 82</td><td> 71</td><td> 1.413</td></tr>\n",
       "\t<tr><th scope=row>6</th><td>9386</td><td>4.77370</td><td>46.2070</td><td>192</td><td> 95.75193</td><td> 67</td><td>59.568974</td><td>44</td><td>188</td><td> 44</td><td>28.752</td></tr>\n",
       "</tbody>\n",
       "</table>\n"
      ],
      "text/latex": [
       "A data.frame: 6 × 11\n",
       "\\begin{tabular}{r|lllllllllll}\n",
       "  & idpt & lon & lat & alti & X\\_mean & X\\_median & X\\_stdev & X\\_min & X\\_max & X\\_majority & Dif\\_median\\\\\n",
       "  & <dbl> & <dbl> & <dbl> & <dbl> & <dbl> & <dbl> & <dbl> & <dbl> & <dbl> & <dbl> & <dbl>\\\\\n",
       "\\hline\n",
       "\t1 & 9378 & 3.94455 & 46.2218 & 307 & 103.82236 & 106 &  9.086075 & 74 & 128 & 106 & -2.178\\\\\n",
       "\t2 & 9379 & 4.04821 & 46.2203 & 298 & 100.71042 & 106 & 25.112361 & 21 & 128 & 106 & -5.290\\\\\n",
       "\t3 & 9380 & 4.15188 & 46.2187 & 388 &  90.74173 &  83 & 23.689463 & 21 & 122 &  83 &  7.742\\\\\n",
       "\t4 & 9381 & 4.25553 & 46.2170 & 362 &  77.10693 &  74 & 23.197344 & 21 & 122 &  71 &  3.107\\\\\n",
       "\t5 & 9382 & 4.35918 & 46.2151 & 489 &  72.41348 &  71 & 14.558601 &  0 &  82 &  71 &  1.413\\\\\n",
       "\t6 & 9386 & 4.77370 & 46.2070 & 192 &  95.75193 &  67 & 59.568974 & 44 & 188 &  44 & 28.752\\\\\n",
       "\\end{tabular}\n"
      ],
      "text/markdown": [
       "\n",
       "A data.frame: 6 × 11\n",
       "\n",
       "| <!--/--> | idpt &lt;dbl&gt; | lon &lt;dbl&gt; | lat &lt;dbl&gt; | alti &lt;dbl&gt; | X_mean &lt;dbl&gt; | X_median &lt;dbl&gt; | X_stdev &lt;dbl&gt; | X_min &lt;dbl&gt; | X_max &lt;dbl&gt; | X_majority &lt;dbl&gt; | Dif_median &lt;dbl&gt; |\n",
       "|---|---|---|---|---|---|---|---|---|---|---|---|\n",
       "| 1 | 9378 | 3.94455 | 46.2218 | 307 | 103.82236 | 106 |  9.086075 | 74 | 128 | 106 | -2.178 |\n",
       "| 2 | 9379 | 4.04821 | 46.2203 | 298 | 100.71042 | 106 | 25.112361 | 21 | 128 | 106 | -5.290 |\n",
       "| 3 | 9380 | 4.15188 | 46.2187 | 388 |  90.74173 |  83 | 23.689463 | 21 | 122 |  83 |  7.742 |\n",
       "| 4 | 9381 | 4.25553 | 46.2170 | 362 |  77.10693 |  74 | 23.197344 | 21 | 122 |  71 |  3.107 |\n",
       "| 5 | 9382 | 4.35918 | 46.2151 | 489 |  72.41348 |  71 | 14.558601 |  0 |  82 |  71 |  1.413 |\n",
       "| 6 | 9386 | 4.77370 | 46.2070 | 192 |  95.75193 |  67 | 59.568974 | 44 | 188 |  44 | 28.752 |\n",
       "\n"
      ],
      "text/plain": [
       "  idpt lon     lat     alti X_mean    X_median X_stdev   X_min X_max X_majority\n",
       "1 9378 3.94455 46.2218 307  103.82236 106       9.086075 74    128   106       \n",
       "2 9379 4.04821 46.2203 298  100.71042 106      25.112361 21    128   106       \n",
       "3 9380 4.15188 46.2187 388   90.74173  83      23.689463 21    122    83       \n",
       "4 9381 4.25553 46.2170 362   77.10693  74      23.197344 21    122    71       \n",
       "5 9382 4.35918 46.2151 489   72.41348  71      14.558601  0     82    71       \n",
       "6 9386 4.77370 46.2070 192   95.75193  67      59.568974 44    188    44       \n",
       "  Dif_median\n",
       "1 -2.178    \n",
       "2 -5.290    \n",
       "3  7.742    \n",
       "4  3.107    \n",
       "5  1.413    \n",
       "6 28.752    "
      ]
     },
     "metadata": {},
     "output_type": "display_data"
    }
   ],
   "source": [
    "## Récupération des données de la table contenat les valeur de RU \n",
    "## ainsique les identifiants des points de grille\n",
    "RU <- as.data.frame(ptdriasRU)\n",
    "## Sélection de l'identifiant, de la valeur moyenne et de la valeur majoritaire\n",
    "## faite une head(RU) pour mettre les bons noms des colonnes)\n",
    "#RU <- RU[,c(\"idpt\",\"zstru_mean\",\"zstru_medi\", \"zstru_majo\")]\n",
    "head(RU)\n",
    "RU <- RU[,-ncol(RU)] ## supprime la dernière colonne\n",
    "head(RU)"
   ]
  },
  {
   "cell_type": "code",
   "execution_count": 24,
   "metadata": {},
   "outputs": [],
   "source": [
    "## Jointure des données de RU à mydrias\n",
    "mydrias <- merge(mydrias, RU, by.x = \"idpt\", by.y = \"idpt\")"
   ]
  },
  {
   "cell_type": "code",
   "execution_count": 50,
   "metadata": {},
   "outputs": [
    {
     "name": "stdout",
     "output_type": "stream",
     "text": [
      "'data.frame':\t181902 obs. of  22 variables:\n",
      " $ idpt      : int  9378 9378 9378 9378 9378 9378 9378 9378 9378 9378 ...\n",
      " $ lat.x     : num  46.2 46.2 46.2 46.2 46.2 ...\n",
      " $ lon.x     : num  3.94 3.94 3.94 3.94 3.94 ...\n",
      " $ alti.x    : int  307 307 307 307 307 307 307 307 307 307 ...\n",
      " $ date      : Date, format: \"2004-01-01\" \"2004-01-02\" ...\n",
      " $ Tn        : num  7.21 6.15 5.08 0.08 1.39 1.05 3.71 5.4 2.72 0.93 ...\n",
      " $ Tx        : num  15.04 14.89 5.96 8.51 8.9 ...\n",
      " $ RR        : num  0.781 0 0 0 0 ...\n",
      " $ ETP       : num  0.919 0.662 0.483 0.407 0.948 0.296 0.388 0.308 0.266 0.625 ...\n",
      " $ doi       : int  1 2 3 4 5 6 7 8 9 10 ...\n",
      " $ ETP0      : num  0.76 0.791 0.208 0.613 0.605 ...\n",
      " $ lon.y     : num  3.94 3.94 3.94 3.94 3.94 ...\n",
      " $ lat.y     : num  46.2 46.2 46.2 46.2 46.2 ...\n",
      " $ alti.y    : num  307 307 307 307 307 307 307 307 307 307 ...\n",
      " $ X_mean    : num  104 104 104 104 104 ...\n",
      " $ X_median  : num  106 106 106 106 106 106 106 106 106 106 ...\n",
      " $ X_stdev   : num  9.09 9.09 9.09 9.09 9.09 ...\n",
      " $ X_min     : num  74 74 74 74 74 74 74 74 74 74 ...\n",
      " $ X_max     : num  128 128 128 128 128 128 128 128 128 128 ...\n",
      " $ X_majority: num  106 106 106 106 106 106 106 106 106 106 ...\n",
      " $ Dif_median: num  -2.18 -2.18 -2.18 -2.18 -2.18 ...\n",
      " $ geometry  :sfc_POLYGON of length 181902; first list element: List of 1\n",
      "  ..$ : num [1:5, 1:2] 768805 768805 776805 776805 768805 ...\n",
      "  ..- attr(*, \"class\")= chr [1:3] \"XY\" \"POLYGON\" \"sfg\"\n"
     ]
    }
   ],
   "source": [
    "str(mydrias)"
   ]
  },
  {
   "cell_type": "code",
   "execution_count": 25,
   "metadata": {},
   "outputs": [
    {
     "name": "stdout",
     "output_type": "stream",
     "text": [
      "'data.frame':\t181902 obs. of  26 variables:\n",
      " $ idpt      : int  9378 9378 9378 9378 9378 9378 9378 9378 9378 9378 ...\n",
      " $ doi       : int  1 2 3 4 5 6 7 8 9 10 ...\n",
      " $ lat.x     : num  46.2 46.2 46.2 46.2 46.2 ...\n",
      " $ lon.x     : num  3.94 3.94 3.94 3.94 3.94 ...\n",
      " $ alti.x    : int  307 307 307 307 307 307 307 307 307 307 ...\n",
      " $ date      : Date, format: \"2004-01-01\" \"2004-01-02\" ...\n",
      " $ Tn        : num  7.21 6.15 5.08 0.08 1.39 1.05 3.71 5.4 2.72 0.93 ...\n",
      " $ Tx        : num  15.04 14.89 5.96 8.51 8.9 ...\n",
      " $ RR        : num  0.781 0 0 0 0 ...\n",
      " $ ETP       : num  0.919 0.662 0.483 0.407 0.948 0.296 0.388 0.308 0.266 0.625 ...\n",
      " $ ETP0      : num  0.76 0.791 0.208 0.613 0.605 ...\n",
      " $ kcc       : num  0.2 0.2 0.2 0.2 0.2 0.2 0.2 0.2 0.2 0.2 ...\n",
      " $ kcl       : num  0.2 0.2 0.2 0.2 0.2 0.2 0.2 0.2 0.2 0.2 ...\n",
      " $ kcs       : num  0.2 0.2 0.2 0.2 0.2 ...\n",
      " $ ETM       : num  0.1838 0.1324 0.0966 0.0814 0.1896 ...\n",
      " $ ETM0      : num  0.1521 0.1581 0.0416 0.1227 0.121 ...\n",
      " $ lon.y     : num  3.94 3.94 3.94 3.94 3.94 ...\n",
      " $ lat.y     : num  46.2 46.2 46.2 46.2 46.2 ...\n",
      " $ alti.y    : num  307 307 307 307 307 307 307 307 307 307 ...\n",
      " $ X_mean    : num  104 104 104 104 104 ...\n",
      " $ X_median  : num  106 106 106 106 106 106 106 106 106 106 ...\n",
      " $ X_stdev   : num  9.09 9.09 9.09 9.09 9.09 ...\n",
      " $ X_min     : num  74 74 74 74 74 74 74 74 74 74 ...\n",
      " $ X_max     : num  128 128 128 128 128 128 128 128 128 128 ...\n",
      " $ X_majority: num  106 106 106 106 106 106 106 106 106 106 ...\n",
      " $ Dif_median: num  -2.18 -2.18 -2.18 -2.18 -2.18 ...\n"
     ]
    }
   ],
   "source": [
    "mydrias <- mydrias[order(mydrias$idpt, mydrias$date),]\n",
    "str(mydrias)"
   ]
  },
  {
   "cell_type": "code",
   "execution_count": 26,
   "metadata": {},
   "outputs": [],
   "source": [
    "## Sauvegarde de mydrias complet i.e. avec l'ensemble des données nécessaires\n",
    "## pour faire le calcul du bilan hydrique au pas de temps journalier\n",
    "save(mydrias,file=\"mydrias.RData\")"
   ]
  },
  {
   "cell_type": "code",
   "execution_count": 55,
   "metadata": {},
   "outputs": [
    {
     "data": {
      "text/html": [
       "<style>\n",
       ".list-inline {list-style: none; margin:0; padding: 0}\n",
       ".list-inline>li {display: inline-block}\n",
       ".list-inline>li:not(:last-child)::after {content: \"\\00b7\"; padding: 0 .5ex}\n",
       "</style>\n",
       "<ol class=list-inline><li>181902</li><li>23</li></ol>\n"
      ],
      "text/latex": [
       "\\begin{enumerate*}\n",
       "\\item 181902\n",
       "\\item 23\n",
       "\\end{enumerate*}\n"
      ],
      "text/markdown": [
       "1. 181902\n",
       "2. 23\n",
       "\n",
       "\n"
      ],
      "text/plain": [
       "[1] 181902     23"
      ]
     },
     "metadata": {},
     "output_type": "display_data"
    }
   ],
   "source": [
    "dim(mydrias)"
   ]
  },
  {
   "cell_type": "code",
   "execution_count": 56,
   "metadata": {
    "tags": []
   },
   "outputs": [
    {
     "data": {
      "text/html": [
       "<table class=\"dataframe\">\n",
       "<caption>A data.frame: 6 × 23</caption>\n",
       "<thead>\n",
       "\t<tr><th></th><th scope=col>idpt</th><th scope=col>doi</th><th scope=col>lat.x</th><th scope=col>lon.x</th><th scope=col>alti.x</th><th scope=col>date</th><th scope=col>Tn</th><th scope=col>Tx</th><th scope=col>RR</th><th scope=col>ETP</th><th scope=col>⋯</th><th scope=col>kcs</th><th scope=col>ETM</th><th scope=col>ETM0</th><th scope=col>lon.y</th><th scope=col>lat.y</th><th scope=col>alti.y</th><th scope=col>RUmean</th><th scope=col>RUmedian</th><th scope=col>RUstdev</th><th scope=col>RUmajority</th></tr>\n",
       "\t<tr><th></th><th scope=col>&lt;int&gt;</th><th scope=col>&lt;int&gt;</th><th scope=col>&lt;dbl&gt;</th><th scope=col>&lt;dbl&gt;</th><th scope=col>&lt;int&gt;</th><th scope=col>&lt;date&gt;</th><th scope=col>&lt;dbl&gt;</th><th scope=col>&lt;dbl&gt;</th><th scope=col>&lt;dbl&gt;</th><th scope=col>&lt;dbl&gt;</th><th scope=col>⋯</th><th scope=col>&lt;dbl&gt;</th><th scope=col>&lt;dbl&gt;</th><th scope=col>&lt;dbl&gt;</th><th scope=col>&lt;dbl&gt;</th><th scope=col>&lt;dbl&gt;</th><th scope=col>&lt;dbl&gt;</th><th scope=col>&lt;dbl&gt;</th><th scope=col>&lt;dbl&gt;</th><th scope=col>&lt;dbl&gt;</th><th scope=col>&lt;dbl&gt;</th></tr>\n",
       "</thead>\n",
       "<tbody>\n",
       "\t<tr><th scope=row>1</th><td>9378</td><td>1</td><td>46.2218</td><td>3.94455</td><td>307</td><td>2004-01-01</td><td>7.21</td><td>15.04</td><td>0.781</td><td>0.919</td><td>⋯</td><td>0.2000000</td><td>0.1838</td><td>0.1520514</td><td>3.94455</td><td>46.2218</td><td>307</td><td>103.8224</td><td>106</td><td>9.086075</td><td>106</td></tr>\n",
       "\t<tr><th scope=row>2</th><td>9378</td><td>2</td><td>46.2218</td><td>3.94455</td><td>307</td><td>2004-01-02</td><td>6.15</td><td>14.89</td><td>0.000</td><td>0.662</td><td>⋯</td><td>0.1999332</td><td>0.1324</td><td>0.1581479</td><td>3.94455</td><td>46.2218</td><td>307</td><td>103.8224</td><td>106</td><td>9.086075</td><td>106</td></tr>\n",
       "\t<tr><th scope=row>3</th><td>9378</td><td>3</td><td>46.2218</td><td>3.94455</td><td>307</td><td>2004-01-03</td><td>5.08</td><td> 5.96</td><td>0.000</td><td>0.483</td><td>⋯</td><td>0.1998767</td><td>0.0966</td><td>0.0415664</td><td>3.94455</td><td>46.2218</td><td>307</td><td>103.8224</td><td>106</td><td>9.086075</td><td>106</td></tr>\n",
       "\t<tr><th scope=row>4</th><td>9378</td><td>4</td><td>46.2218</td><td>3.94455</td><td>307</td><td>2004-01-04</td><td>0.08</td><td> 8.51</td><td>0.000</td><td>0.407</td><td>⋯</td><td>0.1998305</td><td>0.0814</td><td>0.1226634</td><td>3.94455</td><td>46.2218</td><td>307</td><td>103.8224</td><td>106</td><td>9.086075</td><td>106</td></tr>\n",
       "\t<tr><th scope=row>5</th><td>9378</td><td>5</td><td>46.2218</td><td>3.94455</td><td>307</td><td>2004-01-05</td><td>1.39</td><td> 8.90</td><td>0.000</td><td>0.948</td><td>⋯</td><td>0.1997945</td><td>0.1896</td><td>0.1210383</td><td>3.94455</td><td>46.2218</td><td>307</td><td>103.8224</td><td>106</td><td>9.086075</td><td>106</td></tr>\n",
       "\t<tr><th scope=row>6</th><td>9378</td><td>6</td><td>46.2218</td><td>3.94455</td><td>307</td><td>2004-01-06</td><td>1.05</td><td>10.28</td><td>0.000</td><td>0.296</td><td>⋯</td><td>0.1997688</td><td>0.0592</td><td>0.1382016</td><td>3.94455</td><td>46.2218</td><td>307</td><td>103.8224</td><td>106</td><td>9.086075</td><td>106</td></tr>\n",
       "</tbody>\n",
       "</table>\n"
      ],
      "text/latex": [
       "A data.frame: 6 × 23\n",
       "\\begin{tabular}{r|lllllllllllllllllllll}\n",
       "  & idpt & doi & lat.x & lon.x & alti.x & date & Tn & Tx & RR & ETP & ⋯ & kcs & ETM & ETM0 & lon.y & lat.y & alti.y & RUmean & RUmedian & RUstdev & RUmajority\\\\\n",
       "  & <int> & <int> & <dbl> & <dbl> & <int> & <date> & <dbl> & <dbl> & <dbl> & <dbl> & ⋯ & <dbl> & <dbl> & <dbl> & <dbl> & <dbl> & <dbl> & <dbl> & <dbl> & <dbl> & <dbl>\\\\\n",
       "\\hline\n",
       "\t1 & 9378 & 1 & 46.2218 & 3.94455 & 307 & 2004-01-01 & 7.21 & 15.04 & 0.781 & 0.919 & ⋯ & 0.2000000 & 0.1838 & 0.1520514 & 3.94455 & 46.2218 & 307 & 103.8224 & 106 & 9.086075 & 106\\\\\n",
       "\t2 & 9378 & 2 & 46.2218 & 3.94455 & 307 & 2004-01-02 & 6.15 & 14.89 & 0.000 & 0.662 & ⋯ & 0.1999332 & 0.1324 & 0.1581479 & 3.94455 & 46.2218 & 307 & 103.8224 & 106 & 9.086075 & 106\\\\\n",
       "\t3 & 9378 & 3 & 46.2218 & 3.94455 & 307 & 2004-01-03 & 5.08 &  5.96 & 0.000 & 0.483 & ⋯ & 0.1998767 & 0.0966 & 0.0415664 & 3.94455 & 46.2218 & 307 & 103.8224 & 106 & 9.086075 & 106\\\\\n",
       "\t4 & 9378 & 4 & 46.2218 & 3.94455 & 307 & 2004-01-04 & 0.08 &  8.51 & 0.000 & 0.407 & ⋯ & 0.1998305 & 0.0814 & 0.1226634 & 3.94455 & 46.2218 & 307 & 103.8224 & 106 & 9.086075 & 106\\\\\n",
       "\t5 & 9378 & 5 & 46.2218 & 3.94455 & 307 & 2004-01-05 & 1.39 &  8.90 & 0.000 & 0.948 & ⋯ & 0.1997945 & 0.1896 & 0.1210383 & 3.94455 & 46.2218 & 307 & 103.8224 & 106 & 9.086075 & 106\\\\\n",
       "\t6 & 9378 & 6 & 46.2218 & 3.94455 & 307 & 2004-01-06 & 1.05 & 10.28 & 0.000 & 0.296 & ⋯ & 0.1997688 & 0.0592 & 0.1382016 & 3.94455 & 46.2218 & 307 & 103.8224 & 106 & 9.086075 & 106\\\\\n",
       "\\end{tabular}\n"
      ],
      "text/markdown": [
       "\n",
       "A data.frame: 6 × 23\n",
       "\n",
       "| <!--/--> | idpt &lt;int&gt; | doi &lt;int&gt; | lat.x &lt;dbl&gt; | lon.x &lt;dbl&gt; | alti.x &lt;int&gt; | date &lt;date&gt; | Tn &lt;dbl&gt; | Tx &lt;dbl&gt; | RR &lt;dbl&gt; | ETP &lt;dbl&gt; | ⋯ ⋯ | kcs &lt;dbl&gt; | ETM &lt;dbl&gt; | ETM0 &lt;dbl&gt; | lon.y &lt;dbl&gt; | lat.y &lt;dbl&gt; | alti.y &lt;dbl&gt; | RUmean &lt;dbl&gt; | RUmedian &lt;dbl&gt; | RUstdev &lt;dbl&gt; | RUmajority &lt;dbl&gt; |\n",
       "|---|---|---|---|---|---|---|---|---|---|---|---|---|---|---|---|---|---|---|---|---|---|\n",
       "| 1 | 9378 | 1 | 46.2218 | 3.94455 | 307 | 2004-01-01 | 7.21 | 15.04 | 0.781 | 0.919 | ⋯ | 0.2000000 | 0.1838 | 0.1520514 | 3.94455 | 46.2218 | 307 | 103.8224 | 106 | 9.086075 | 106 |\n",
       "| 2 | 9378 | 2 | 46.2218 | 3.94455 | 307 | 2004-01-02 | 6.15 | 14.89 | 0.000 | 0.662 | ⋯ | 0.1999332 | 0.1324 | 0.1581479 | 3.94455 | 46.2218 | 307 | 103.8224 | 106 | 9.086075 | 106 |\n",
       "| 3 | 9378 | 3 | 46.2218 | 3.94455 | 307 | 2004-01-03 | 5.08 |  5.96 | 0.000 | 0.483 | ⋯ | 0.1998767 | 0.0966 | 0.0415664 | 3.94455 | 46.2218 | 307 | 103.8224 | 106 | 9.086075 | 106 |\n",
       "| 4 | 9378 | 4 | 46.2218 | 3.94455 | 307 | 2004-01-04 | 0.08 |  8.51 | 0.000 | 0.407 | ⋯ | 0.1998305 | 0.0814 | 0.1226634 | 3.94455 | 46.2218 | 307 | 103.8224 | 106 | 9.086075 | 106 |\n",
       "| 5 | 9378 | 5 | 46.2218 | 3.94455 | 307 | 2004-01-05 | 1.39 |  8.90 | 0.000 | 0.948 | ⋯ | 0.1997945 | 0.1896 | 0.1210383 | 3.94455 | 46.2218 | 307 | 103.8224 | 106 | 9.086075 | 106 |\n",
       "| 6 | 9378 | 6 | 46.2218 | 3.94455 | 307 | 2004-01-06 | 1.05 | 10.28 | 0.000 | 0.296 | ⋯ | 0.1997688 | 0.0592 | 0.1382016 | 3.94455 | 46.2218 | 307 | 103.8224 | 106 | 9.086075 | 106 |\n",
       "\n"
      ],
      "text/plain": [
       "  idpt doi lat.x   lon.x   alti.x date       Tn   Tx    RR    ETP   ⋯ kcs      \n",
       "1 9378 1   46.2218 3.94455 307    2004-01-01 7.21 15.04 0.781 0.919 ⋯ 0.2000000\n",
       "2 9378 2   46.2218 3.94455 307    2004-01-02 6.15 14.89 0.000 0.662 ⋯ 0.1999332\n",
       "3 9378 3   46.2218 3.94455 307    2004-01-03 5.08  5.96 0.000 0.483 ⋯ 0.1998767\n",
       "4 9378 4   46.2218 3.94455 307    2004-01-04 0.08  8.51 0.000 0.407 ⋯ 0.1998305\n",
       "5 9378 5   46.2218 3.94455 307    2004-01-05 1.39  8.90 0.000 0.948 ⋯ 0.1997945\n",
       "6 9378 6   46.2218 3.94455 307    2004-01-06 1.05 10.28 0.000 0.296 ⋯ 0.1997688\n",
       "  ETM    ETM0      lon.y   lat.y   alti.y RUmean   RUmedian RUstdev  RUmajority\n",
       "1 0.1838 0.1520514 3.94455 46.2218 307    103.8224 106      9.086075 106       \n",
       "2 0.1324 0.1581479 3.94455 46.2218 307    103.8224 106      9.086075 106       \n",
       "3 0.0966 0.0415664 3.94455 46.2218 307    103.8224 106      9.086075 106       \n",
       "4 0.0814 0.1226634 3.94455 46.2218 307    103.8224 106      9.086075 106       \n",
       "5 0.1896 0.1210383 3.94455 46.2218 307    103.8224 106      9.086075 106       \n",
       "6 0.0592 0.1382016 3.94455 46.2218 307    103.8224 106      9.086075 106       "
      ]
     },
     "metadata": {},
     "output_type": "display_data"
    }
   ],
   "source": [
    "head(mydrias)"
   ]
  },
  {
   "cell_type": "code",
   "execution_count": null,
   "metadata": {},
   "outputs": [],
   "source": []
  }
 ],
 "metadata": {
  "kernelspec": {
   "display_name": "R",
   "language": "R",
   "name": "ir"
  },
  "language_info": {
   "codemirror_mode": "r",
   "file_extension": ".r",
   "mimetype": "text/x-r-source",
   "name": "R",
   "pygments_lexer": "r",
   "version": "4.4.1"
  }
 },
 "nbformat": 4,
 "nbformat_minor": 4
}
