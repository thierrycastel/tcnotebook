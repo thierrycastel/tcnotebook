{
 "cells": [
  {
   "cell_type": "code",
   "execution_count": 1,
   "metadata": {},
   "outputs": [],
   "source": [
    "######################################################################\n",
    "setwd(\"../Data\")\n",
    "load(\"mydrias.RData\")"
   ]
  },
  {
   "cell_type": "code",
   "execution_count": 2,
   "metadata": {},
   "outputs": [
    {
     "data": {
      "text/html": [
       "<table class=\"dataframe\">\n",
       "<caption>A data.frame: 6 × 26</caption>\n",
       "<thead>\n",
       "\t<tr><th></th><th scope=col>idpt</th><th scope=col>doi</th><th scope=col>lat.x</th><th scope=col>lon.x</th><th scope=col>alti.x</th><th scope=col>date</th><th scope=col>Tn</th><th scope=col>Tx</th><th scope=col>RR</th><th scope=col>ETP</th><th scope=col>⋯</th><th scope=col>lon.y</th><th scope=col>lat.y</th><th scope=col>alti.y</th><th scope=col>X_mean</th><th scope=col>X_median</th><th scope=col>X_stdev</th><th scope=col>X_min</th><th scope=col>X_max</th><th scope=col>X_majority</th><th scope=col>Dif_median</th></tr>\n",
       "\t<tr><th></th><th scope=col>&lt;int&gt;</th><th scope=col>&lt;int&gt;</th><th scope=col>&lt;dbl&gt;</th><th scope=col>&lt;dbl&gt;</th><th scope=col>&lt;int&gt;</th><th scope=col>&lt;date&gt;</th><th scope=col>&lt;dbl&gt;</th><th scope=col>&lt;dbl&gt;</th><th scope=col>&lt;dbl&gt;</th><th scope=col>&lt;dbl&gt;</th><th scope=col>⋯</th><th scope=col>&lt;dbl&gt;</th><th scope=col>&lt;dbl&gt;</th><th scope=col>&lt;dbl&gt;</th><th scope=col>&lt;dbl&gt;</th><th scope=col>&lt;dbl&gt;</th><th scope=col>&lt;dbl&gt;</th><th scope=col>&lt;dbl&gt;</th><th scope=col>&lt;dbl&gt;</th><th scope=col>&lt;dbl&gt;</th><th scope=col>&lt;dbl&gt;</th></tr>\n",
       "</thead>\n",
       "<tbody>\n",
       "\t<tr><th scope=row>1</th><td>9378</td><td>1</td><td>46.2218</td><td>3.94455</td><td>307</td><td>2004-01-01</td><td>7.21</td><td>15.04</td><td>0.781</td><td>0.919</td><td>⋯</td><td>3.94455</td><td>46.2218</td><td>307</td><td>103.8224</td><td>106</td><td>9.086075</td><td>74</td><td>128</td><td>106</td><td>-2.178</td></tr>\n",
       "\t<tr><th scope=row>242</th><td>9378</td><td>2</td><td>46.2218</td><td>3.94455</td><td>307</td><td>2004-01-02</td><td>6.15</td><td>14.89</td><td>0.000</td><td>0.662</td><td>⋯</td><td>3.94455</td><td>46.2218</td><td>307</td><td>103.8224</td><td>106</td><td>9.086075</td><td>74</td><td>128</td><td>106</td><td>-2.178</td></tr>\n",
       "\t<tr><th scope=row>249</th><td>9378</td><td>3</td><td>46.2218</td><td>3.94455</td><td>307</td><td>2004-01-03</td><td>5.08</td><td> 5.96</td><td>0.000</td><td>0.483</td><td>⋯</td><td>3.94455</td><td>46.2218</td><td>307</td><td>103.8224</td><td>106</td><td>9.086075</td><td>74</td><td>128</td><td>106</td><td>-2.178</td></tr>\n",
       "\t<tr><th scope=row>349</th><td>9378</td><td>4</td><td>46.2218</td><td>3.94455</td><td>307</td><td>2004-01-04</td><td>0.08</td><td> 8.51</td><td>0.000</td><td>0.407</td><td>⋯</td><td>3.94455</td><td>46.2218</td><td>307</td><td>103.8224</td><td>106</td><td>9.086075</td><td>74</td><td>128</td><td>106</td><td>-2.178</td></tr>\n",
       "\t<tr><th scope=row>108</th><td>9378</td><td>5</td><td>46.2218</td><td>3.94455</td><td>307</td><td>2004-01-05</td><td>1.39</td><td> 8.90</td><td>0.000</td><td>0.948</td><td>⋯</td><td>3.94455</td><td>46.2218</td><td>307</td><td>103.8224</td><td>106</td><td>9.086075</td><td>74</td><td>128</td><td>106</td><td>-2.178</td></tr>\n",
       "\t<tr><th scope=row>163</th><td>9378</td><td>6</td><td>46.2218</td><td>3.94455</td><td>307</td><td>2004-01-06</td><td>1.05</td><td>10.28</td><td>0.000</td><td>0.296</td><td>⋯</td><td>3.94455</td><td>46.2218</td><td>307</td><td>103.8224</td><td>106</td><td>9.086075</td><td>74</td><td>128</td><td>106</td><td>-2.178</td></tr>\n",
       "</tbody>\n",
       "</table>\n"
      ],
      "text/latex": [
       "A data.frame: 6 × 26\n",
       "\\begin{tabular}{r|lllllllllllllllllllll}\n",
       "  & idpt & doi & lat.x & lon.x & alti.x & date & Tn & Tx & RR & ETP & ⋯ & lon.y & lat.y & alti.y & X\\_mean & X\\_median & X\\_stdev & X\\_min & X\\_max & X\\_majority & Dif\\_median\\\\\n",
       "  & <int> & <int> & <dbl> & <dbl> & <int> & <date> & <dbl> & <dbl> & <dbl> & <dbl> & ⋯ & <dbl> & <dbl> & <dbl> & <dbl> & <dbl> & <dbl> & <dbl> & <dbl> & <dbl> & <dbl>\\\\\n",
       "\\hline\n",
       "\t1 & 9378 & 1 & 46.2218 & 3.94455 & 307 & 2004-01-01 & 7.21 & 15.04 & 0.781 & 0.919 & ⋯ & 3.94455 & 46.2218 & 307 & 103.8224 & 106 & 9.086075 & 74 & 128 & 106 & -2.178\\\\\n",
       "\t242 & 9378 & 2 & 46.2218 & 3.94455 & 307 & 2004-01-02 & 6.15 & 14.89 & 0.000 & 0.662 & ⋯ & 3.94455 & 46.2218 & 307 & 103.8224 & 106 & 9.086075 & 74 & 128 & 106 & -2.178\\\\\n",
       "\t249 & 9378 & 3 & 46.2218 & 3.94455 & 307 & 2004-01-03 & 5.08 &  5.96 & 0.000 & 0.483 & ⋯ & 3.94455 & 46.2218 & 307 & 103.8224 & 106 & 9.086075 & 74 & 128 & 106 & -2.178\\\\\n",
       "\t349 & 9378 & 4 & 46.2218 & 3.94455 & 307 & 2004-01-04 & 0.08 &  8.51 & 0.000 & 0.407 & ⋯ & 3.94455 & 46.2218 & 307 & 103.8224 & 106 & 9.086075 & 74 & 128 & 106 & -2.178\\\\\n",
       "\t108 & 9378 & 5 & 46.2218 & 3.94455 & 307 & 2004-01-05 & 1.39 &  8.90 & 0.000 & 0.948 & ⋯ & 3.94455 & 46.2218 & 307 & 103.8224 & 106 & 9.086075 & 74 & 128 & 106 & -2.178\\\\\n",
       "\t163 & 9378 & 6 & 46.2218 & 3.94455 & 307 & 2004-01-06 & 1.05 & 10.28 & 0.000 & 0.296 & ⋯ & 3.94455 & 46.2218 & 307 & 103.8224 & 106 & 9.086075 & 74 & 128 & 106 & -2.178\\\\\n",
       "\\end{tabular}\n"
      ],
      "text/markdown": [
       "\n",
       "A data.frame: 6 × 26\n",
       "\n",
       "| <!--/--> | idpt &lt;int&gt; | doi &lt;int&gt; | lat.x &lt;dbl&gt; | lon.x &lt;dbl&gt; | alti.x &lt;int&gt; | date &lt;date&gt; | Tn &lt;dbl&gt; | Tx &lt;dbl&gt; | RR &lt;dbl&gt; | ETP &lt;dbl&gt; | ⋯ ⋯ | lon.y &lt;dbl&gt; | lat.y &lt;dbl&gt; | alti.y &lt;dbl&gt; | X_mean &lt;dbl&gt; | X_median &lt;dbl&gt; | X_stdev &lt;dbl&gt; | X_min &lt;dbl&gt; | X_max &lt;dbl&gt; | X_majority &lt;dbl&gt; | Dif_median &lt;dbl&gt; |\n",
       "|---|---|---|---|---|---|---|---|---|---|---|---|---|---|---|---|---|---|---|---|---|---|\n",
       "| 1 | 9378 | 1 | 46.2218 | 3.94455 | 307 | 2004-01-01 | 7.21 | 15.04 | 0.781 | 0.919 | ⋯ | 3.94455 | 46.2218 | 307 | 103.8224 | 106 | 9.086075 | 74 | 128 | 106 | -2.178 |\n",
       "| 242 | 9378 | 2 | 46.2218 | 3.94455 | 307 | 2004-01-02 | 6.15 | 14.89 | 0.000 | 0.662 | ⋯ | 3.94455 | 46.2218 | 307 | 103.8224 | 106 | 9.086075 | 74 | 128 | 106 | -2.178 |\n",
       "| 249 | 9378 | 3 | 46.2218 | 3.94455 | 307 | 2004-01-03 | 5.08 |  5.96 | 0.000 | 0.483 | ⋯ | 3.94455 | 46.2218 | 307 | 103.8224 | 106 | 9.086075 | 74 | 128 | 106 | -2.178 |\n",
       "| 349 | 9378 | 4 | 46.2218 | 3.94455 | 307 | 2004-01-04 | 0.08 |  8.51 | 0.000 | 0.407 | ⋯ | 3.94455 | 46.2218 | 307 | 103.8224 | 106 | 9.086075 | 74 | 128 | 106 | -2.178 |\n",
       "| 108 | 9378 | 5 | 46.2218 | 3.94455 | 307 | 2004-01-05 | 1.39 |  8.90 | 0.000 | 0.948 | ⋯ | 3.94455 | 46.2218 | 307 | 103.8224 | 106 | 9.086075 | 74 | 128 | 106 | -2.178 |\n",
       "| 163 | 9378 | 6 | 46.2218 | 3.94455 | 307 | 2004-01-06 | 1.05 | 10.28 | 0.000 | 0.296 | ⋯ | 3.94455 | 46.2218 | 307 | 103.8224 | 106 | 9.086075 | 74 | 128 | 106 | -2.178 |\n",
       "\n"
      ],
      "text/plain": [
       "    idpt doi lat.x   lon.x   alti.x date       Tn   Tx    RR    ETP   ⋯ lon.y  \n",
       "1   9378 1   46.2218 3.94455 307    2004-01-01 7.21 15.04 0.781 0.919 ⋯ 3.94455\n",
       "242 9378 2   46.2218 3.94455 307    2004-01-02 6.15 14.89 0.000 0.662 ⋯ 3.94455\n",
       "249 9378 3   46.2218 3.94455 307    2004-01-03 5.08  5.96 0.000 0.483 ⋯ 3.94455\n",
       "349 9378 4   46.2218 3.94455 307    2004-01-04 0.08  8.51 0.000 0.407 ⋯ 3.94455\n",
       "108 9378 5   46.2218 3.94455 307    2004-01-05 1.39  8.90 0.000 0.948 ⋯ 3.94455\n",
       "163 9378 6   46.2218 3.94455 307    2004-01-06 1.05 10.28 0.000 0.296 ⋯ 3.94455\n",
       "    lat.y   alti.y X_mean   X_median X_stdev  X_min X_max X_majority Dif_median\n",
       "1   46.2218 307    103.8224 106      9.086075 74    128   106        -2.178    \n",
       "242 46.2218 307    103.8224 106      9.086075 74    128   106        -2.178    \n",
       "249 46.2218 307    103.8224 106      9.086075 74    128   106        -2.178    \n",
       "349 46.2218 307    103.8224 106      9.086075 74    128   106        -2.178    \n",
       "108 46.2218 307    103.8224 106      9.086075 74    128   106        -2.178    \n",
       "163 46.2218 307    103.8224 106      9.086075 74    128   106        -2.178    "
      ]
     },
     "metadata": {},
     "output_type": "display_data"
    },
    {
     "data": {
      "text/html": [
       "<style>\n",
       ".list-inline {list-style: none; margin:0; padding: 0}\n",
       ".list-inline>li {display: inline-block}\n",
       ".list-inline>li:not(:last-child)::after {content: \"\\00b7\"; padding: 0 .5ex}\n",
       "</style>\n",
       "<ol class=list-inline><li>181902</li><li>26</li></ol>\n"
      ],
      "text/latex": [
       "\\begin{enumerate*}\n",
       "\\item 181902\n",
       "\\item 26\n",
       "\\end{enumerate*}\n"
      ],
      "text/markdown": [
       "1. 181902\n",
       "2. 26\n",
       "\n",
       "\n"
      ],
      "text/plain": [
       "[1] 181902     26"
      ]
     },
     "metadata": {},
     "output_type": "display_data"
    }
   ],
   "source": [
    "head(mydrias)\n",
    "dim(mydrias)"
   ]
  },
  {
   "cell_type": "code",
   "execution_count": 3,
   "metadata": {},
   "outputs": [
    {
     "data": {
      "text/html": [
       "<style>\n",
       ".list-inline {list-style: none; margin:0; padding: 0}\n",
       ".list-inline>li {display: inline-block}\n",
       ".list-inline>li:not(:last-child)::after {content: \"\\00b7\"; padding: 0 .5ex}\n",
       "</style>\n",
       "<ol class=list-inline><li>'BH2R'</li><li>'mydrias'</li></ol>\n"
      ],
      "text/latex": [
       "\\begin{enumerate*}\n",
       "\\item 'BH2R'\n",
       "\\item 'mydrias'\n",
       "\\end{enumerate*}\n"
      ],
      "text/markdown": [
       "1. 'BH2R'\n",
       "2. 'mydrias'\n",
       "\n",
       "\n"
      ],
      "text/plain": [
       "[1] \"BH2R\"    \"mydrias\""
      ]
     },
     "metadata": {},
     "output_type": "display_data"
    }
   ],
   "source": [
    "## Charge la fonction du modèle de bilan hydrique à 2 réservoirs\n",
    "source(\"../FonctionsR/FonctionBilanHydrique2R.R\")\n",
    "ls()"
   ]
  },
  {
   "cell_type": "code",
   "execution_count": 4,
   "metadata": {},
   "outputs": [],
   "source": [
    "## Partition de la RU en 2 réservoirs\n",
    "mydrias$RU1 <- mydrias$X_median * 0.4 ## réservoir superfiel\n",
    "mydrias$RU2 <- mydrias$X_median * 0.6 ## réservoir profond\n",
    "save(mydrias, file = \"mydrias.RData\")"
   ]
  },
  {
   "cell_type": "code",
   "execution_count": 5,
   "metadata": {},
   "outputs": [
    {
     "data": {
      "text/html": [
       "<table class=\"dataframe\">\n",
       "<caption>A data.frame: 6 × 28</caption>\n",
       "<thead>\n",
       "\t<tr><th></th><th scope=col>idpt</th><th scope=col>doi</th><th scope=col>lat.x</th><th scope=col>lon.x</th><th scope=col>alti.x</th><th scope=col>date</th><th scope=col>Tn</th><th scope=col>Tx</th><th scope=col>RR</th><th scope=col>ETP</th><th scope=col>⋯</th><th scope=col>alti.y</th><th scope=col>X_mean</th><th scope=col>X_median</th><th scope=col>X_stdev</th><th scope=col>X_min</th><th scope=col>X_max</th><th scope=col>X_majority</th><th scope=col>Dif_median</th><th scope=col>RU1</th><th scope=col>RU2</th></tr>\n",
       "\t<tr><th></th><th scope=col>&lt;int&gt;</th><th scope=col>&lt;int&gt;</th><th scope=col>&lt;dbl&gt;</th><th scope=col>&lt;dbl&gt;</th><th scope=col>&lt;int&gt;</th><th scope=col>&lt;date&gt;</th><th scope=col>&lt;dbl&gt;</th><th scope=col>&lt;dbl&gt;</th><th scope=col>&lt;dbl&gt;</th><th scope=col>&lt;dbl&gt;</th><th scope=col>⋯</th><th scope=col>&lt;dbl&gt;</th><th scope=col>&lt;dbl&gt;</th><th scope=col>&lt;dbl&gt;</th><th scope=col>&lt;dbl&gt;</th><th scope=col>&lt;dbl&gt;</th><th scope=col>&lt;dbl&gt;</th><th scope=col>&lt;dbl&gt;</th><th scope=col>&lt;dbl&gt;</th><th scope=col>&lt;dbl&gt;</th><th scope=col>&lt;dbl&gt;</th></tr>\n",
       "</thead>\n",
       "<tbody>\n",
       "\t<tr><th scope=row>1</th><td>9378</td><td>1</td><td>46.2218</td><td>3.94455</td><td>307</td><td>2004-01-01</td><td>7.21</td><td>15.04</td><td>0.781</td><td>0.919</td><td>⋯</td><td>307</td><td>103.8224</td><td>106</td><td>9.086075</td><td>74</td><td>128</td><td>106</td><td>-2.178</td><td>42.4</td><td>63.6</td></tr>\n",
       "\t<tr><th scope=row>242</th><td>9378</td><td>2</td><td>46.2218</td><td>3.94455</td><td>307</td><td>2004-01-02</td><td>6.15</td><td>14.89</td><td>0.000</td><td>0.662</td><td>⋯</td><td>307</td><td>103.8224</td><td>106</td><td>9.086075</td><td>74</td><td>128</td><td>106</td><td>-2.178</td><td>42.4</td><td>63.6</td></tr>\n",
       "\t<tr><th scope=row>249</th><td>9378</td><td>3</td><td>46.2218</td><td>3.94455</td><td>307</td><td>2004-01-03</td><td>5.08</td><td> 5.96</td><td>0.000</td><td>0.483</td><td>⋯</td><td>307</td><td>103.8224</td><td>106</td><td>9.086075</td><td>74</td><td>128</td><td>106</td><td>-2.178</td><td>42.4</td><td>63.6</td></tr>\n",
       "\t<tr><th scope=row>349</th><td>9378</td><td>4</td><td>46.2218</td><td>3.94455</td><td>307</td><td>2004-01-04</td><td>0.08</td><td> 8.51</td><td>0.000</td><td>0.407</td><td>⋯</td><td>307</td><td>103.8224</td><td>106</td><td>9.086075</td><td>74</td><td>128</td><td>106</td><td>-2.178</td><td>42.4</td><td>63.6</td></tr>\n",
       "\t<tr><th scope=row>108</th><td>9378</td><td>5</td><td>46.2218</td><td>3.94455</td><td>307</td><td>2004-01-05</td><td>1.39</td><td> 8.90</td><td>0.000</td><td>0.948</td><td>⋯</td><td>307</td><td>103.8224</td><td>106</td><td>9.086075</td><td>74</td><td>128</td><td>106</td><td>-2.178</td><td>42.4</td><td>63.6</td></tr>\n",
       "\t<tr><th scope=row>163</th><td>9378</td><td>6</td><td>46.2218</td><td>3.94455</td><td>307</td><td>2004-01-06</td><td>1.05</td><td>10.28</td><td>0.000</td><td>0.296</td><td>⋯</td><td>307</td><td>103.8224</td><td>106</td><td>9.086075</td><td>74</td><td>128</td><td>106</td><td>-2.178</td><td>42.4</td><td>63.6</td></tr>\n",
       "</tbody>\n",
       "</table>\n"
      ],
      "text/latex": [
       "A data.frame: 6 × 28\n",
       "\\begin{tabular}{r|lllllllllllllllllllll}\n",
       "  & idpt & doi & lat.x & lon.x & alti.x & date & Tn & Tx & RR & ETP & ⋯ & alti.y & X\\_mean & X\\_median & X\\_stdev & X\\_min & X\\_max & X\\_majority & Dif\\_median & RU1 & RU2\\\\\n",
       "  & <int> & <int> & <dbl> & <dbl> & <int> & <date> & <dbl> & <dbl> & <dbl> & <dbl> & ⋯ & <dbl> & <dbl> & <dbl> & <dbl> & <dbl> & <dbl> & <dbl> & <dbl> & <dbl> & <dbl>\\\\\n",
       "\\hline\n",
       "\t1 & 9378 & 1 & 46.2218 & 3.94455 & 307 & 2004-01-01 & 7.21 & 15.04 & 0.781 & 0.919 & ⋯ & 307 & 103.8224 & 106 & 9.086075 & 74 & 128 & 106 & -2.178 & 42.4 & 63.6\\\\\n",
       "\t242 & 9378 & 2 & 46.2218 & 3.94455 & 307 & 2004-01-02 & 6.15 & 14.89 & 0.000 & 0.662 & ⋯ & 307 & 103.8224 & 106 & 9.086075 & 74 & 128 & 106 & -2.178 & 42.4 & 63.6\\\\\n",
       "\t249 & 9378 & 3 & 46.2218 & 3.94455 & 307 & 2004-01-03 & 5.08 &  5.96 & 0.000 & 0.483 & ⋯ & 307 & 103.8224 & 106 & 9.086075 & 74 & 128 & 106 & -2.178 & 42.4 & 63.6\\\\\n",
       "\t349 & 9378 & 4 & 46.2218 & 3.94455 & 307 & 2004-01-04 & 0.08 &  8.51 & 0.000 & 0.407 & ⋯ & 307 & 103.8224 & 106 & 9.086075 & 74 & 128 & 106 & -2.178 & 42.4 & 63.6\\\\\n",
       "\t108 & 9378 & 5 & 46.2218 & 3.94455 & 307 & 2004-01-05 & 1.39 &  8.90 & 0.000 & 0.948 & ⋯ & 307 & 103.8224 & 106 & 9.086075 & 74 & 128 & 106 & -2.178 & 42.4 & 63.6\\\\\n",
       "\t163 & 9378 & 6 & 46.2218 & 3.94455 & 307 & 2004-01-06 & 1.05 & 10.28 & 0.000 & 0.296 & ⋯ & 307 & 103.8224 & 106 & 9.086075 & 74 & 128 & 106 & -2.178 & 42.4 & 63.6\\\\\n",
       "\\end{tabular}\n"
      ],
      "text/markdown": [
       "\n",
       "A data.frame: 6 × 28\n",
       "\n",
       "| <!--/--> | idpt &lt;int&gt; | doi &lt;int&gt; | lat.x &lt;dbl&gt; | lon.x &lt;dbl&gt; | alti.x &lt;int&gt; | date &lt;date&gt; | Tn &lt;dbl&gt; | Tx &lt;dbl&gt; | RR &lt;dbl&gt; | ETP &lt;dbl&gt; | ⋯ ⋯ | alti.y &lt;dbl&gt; | X_mean &lt;dbl&gt; | X_median &lt;dbl&gt; | X_stdev &lt;dbl&gt; | X_min &lt;dbl&gt; | X_max &lt;dbl&gt; | X_majority &lt;dbl&gt; | Dif_median &lt;dbl&gt; | RU1 &lt;dbl&gt; | RU2 &lt;dbl&gt; |\n",
       "|---|---|---|---|---|---|---|---|---|---|---|---|---|---|---|---|---|---|---|---|---|---|\n",
       "| 1 | 9378 | 1 | 46.2218 | 3.94455 | 307 | 2004-01-01 | 7.21 | 15.04 | 0.781 | 0.919 | ⋯ | 307 | 103.8224 | 106 | 9.086075 | 74 | 128 | 106 | -2.178 | 42.4 | 63.6 |\n",
       "| 242 | 9378 | 2 | 46.2218 | 3.94455 | 307 | 2004-01-02 | 6.15 | 14.89 | 0.000 | 0.662 | ⋯ | 307 | 103.8224 | 106 | 9.086075 | 74 | 128 | 106 | -2.178 | 42.4 | 63.6 |\n",
       "| 249 | 9378 | 3 | 46.2218 | 3.94455 | 307 | 2004-01-03 | 5.08 |  5.96 | 0.000 | 0.483 | ⋯ | 307 | 103.8224 | 106 | 9.086075 | 74 | 128 | 106 | -2.178 | 42.4 | 63.6 |\n",
       "| 349 | 9378 | 4 | 46.2218 | 3.94455 | 307 | 2004-01-04 | 0.08 |  8.51 | 0.000 | 0.407 | ⋯ | 307 | 103.8224 | 106 | 9.086075 | 74 | 128 | 106 | -2.178 | 42.4 | 63.6 |\n",
       "| 108 | 9378 | 5 | 46.2218 | 3.94455 | 307 | 2004-01-05 | 1.39 |  8.90 | 0.000 | 0.948 | ⋯ | 307 | 103.8224 | 106 | 9.086075 | 74 | 128 | 106 | -2.178 | 42.4 | 63.6 |\n",
       "| 163 | 9378 | 6 | 46.2218 | 3.94455 | 307 | 2004-01-06 | 1.05 | 10.28 | 0.000 | 0.296 | ⋯ | 307 | 103.8224 | 106 | 9.086075 | 74 | 128 | 106 | -2.178 | 42.4 | 63.6 |\n",
       "\n"
      ],
      "text/plain": [
       "    idpt doi lat.x   lon.x   alti.x date       Tn   Tx    RR    ETP   ⋯ alti.y\n",
       "1   9378 1   46.2218 3.94455 307    2004-01-01 7.21 15.04 0.781 0.919 ⋯ 307   \n",
       "242 9378 2   46.2218 3.94455 307    2004-01-02 6.15 14.89 0.000 0.662 ⋯ 307   \n",
       "249 9378 3   46.2218 3.94455 307    2004-01-03 5.08  5.96 0.000 0.483 ⋯ 307   \n",
       "349 9378 4   46.2218 3.94455 307    2004-01-04 0.08  8.51 0.000 0.407 ⋯ 307   \n",
       "108 9378 5   46.2218 3.94455 307    2004-01-05 1.39  8.90 0.000 0.948 ⋯ 307   \n",
       "163 9378 6   46.2218 3.94455 307    2004-01-06 1.05 10.28 0.000 0.296 ⋯ 307   \n",
       "    X_mean   X_median X_stdev  X_min X_max X_majority Dif_median RU1  RU2 \n",
       "1   103.8224 106      9.086075 74    128   106        -2.178     42.4 63.6\n",
       "242 103.8224 106      9.086075 74    128   106        -2.178     42.4 63.6\n",
       "249 103.8224 106      9.086075 74    128   106        -2.178     42.4 63.6\n",
       "349 103.8224 106      9.086075 74    128   106        -2.178     42.4 63.6\n",
       "108 103.8224 106      9.086075 74    128   106        -2.178     42.4 63.6\n",
       "163 103.8224 106      9.086075 74    128   106        -2.178     42.4 63.6"
      ]
     },
     "metadata": {},
     "output_type": "display_data"
    }
   ],
   "source": [
    "head(mydrias)\n",
    "## que voyez vous concernant l'ordre des dates ?"
   ]
  },
  {
   "cell_type": "code",
   "execution_count": 7,
   "metadata": {},
   "outputs": [],
   "source": [
    "## Création de l'objet idpt qui contient les identifiants\n",
    "## des points de grille Drias\n",
    "idpt <- unique(mydrias$idpt)"
   ]
  },
  {
   "cell_type": "code",
   "execution_count": 8,
   "metadata": {},
   "outputs": [
    {
     "data": {
      "text/html": [
       "497"
      ],
      "text/latex": [
       "497"
      ],
      "text/markdown": [
       "497"
      ],
      "text/plain": [
       "[1] 497"
      ]
     },
     "metadata": {},
     "output_type": "display_data"
    },
    {
     "name": "stdout",
     "output_type": "stream",
     "text": [
      "'data.frame':\t181902 obs. of  28 variables:\n",
      " $ idpt      : int  9378 9378 9378 9378 9378 9378 9378 9378 9378 9378 ...\n",
      " $ doi       : int  1 2 3 4 5 6 7 8 9 10 ...\n",
      " $ lat.x     : num  46.2 46.2 46.2 46.2 46.2 ...\n",
      " $ lon.x     : num  3.94 3.94 3.94 3.94 3.94 ...\n",
      " $ alti.x    : int  307 307 307 307 307 307 307 307 307 307 ...\n",
      " $ date      : Date, format: \"2004-01-01\" \"2004-01-02\" ...\n",
      " $ Tn        : num  7.21 6.15 5.08 0.08 1.39 1.05 3.71 5.4 2.72 0.93 ...\n",
      " $ Tx        : num  15.04 14.89 5.96 8.51 8.9 ...\n",
      " $ RR        : num  0.781 0 0 0 0 ...\n",
      " $ ETP       : num  0.919 0.662 0.483 0.407 0.948 0.296 0.388 0.308 0.266 0.625 ...\n",
      " $ ETP0      : num  0.76 0.791 0.208 0.613 0.605 ...\n",
      " $ kcc       : num  0.2 0.2 0.2 0.2 0.2 0.2 0.2 0.2 0.2 0.2 ...\n",
      " $ kcl       : num  0.2 0.2 0.2 0.2 0.2 0.2 0.2 0.2 0.2 0.2 ...\n",
      " $ kcs       : num  0.2 0.2 0.2 0.2 0.2 ...\n",
      " $ ETM       : num  0.1838 0.1324 0.0966 0.0814 0.1896 ...\n",
      " $ ETM0      : num  0.1521 0.1581 0.0416 0.1227 0.121 ...\n",
      " $ lon.y     : num  3.94 3.94 3.94 3.94 3.94 ...\n",
      " $ lat.y     : num  46.2 46.2 46.2 46.2 46.2 ...\n",
      " $ alti.y    : num  307 307 307 307 307 307 307 307 307 307 ...\n",
      " $ X_mean    : num  104 104 104 104 104 ...\n",
      " $ X_median  : num  106 106 106 106 106 106 106 106 106 106 ...\n",
      " $ X_stdev   : num  9.09 9.09 9.09 9.09 9.09 ...\n",
      " $ X_min     : num  74 74 74 74 74 74 74 74 74 74 ...\n",
      " $ X_max     : num  128 128 128 128 128 128 128 128 128 128 ...\n",
      " $ X_majority: num  106 106 106 106 106 106 106 106 106 106 ...\n",
      " $ Dif_median: num  -2.18 -2.18 -2.18 -2.18 -2.18 ...\n",
      " $ RU1       : num  42.4 42.4 42.4 42.4 42.4 42.4 42.4 42.4 42.4 42.4 ...\n",
      " $ RU2       : num  63.6 63.6 63.6 63.6 63.6 63.6 63.6 63.6 63.6 63.6 ...\n"
     ]
    }
   ],
   "source": [
    "length(idpt)\n",
    "str(mydrias)\n",
    "#mydrias$date <- as.character(mydrias$date)"
   ]
  },
  {
   "cell_type": "code",
   "execution_count": 9,
   "metadata": {},
   "outputs": [
    {
     "name": "stdout",
     "output_type": "stream",
     "text": [
      "[1] 9378\n",
      "[1] 9379\n",
      "[1] 9380\n",
      "[1] 9381\n",
      "[1] 9382\n",
      "[1] 9386\n",
      "[1] 9521\n",
      "[1] 9522\n",
      "[1] 9523\n",
      "[1] 9524\n",
      "[1] 9525\n",
      "[1] 9529\n",
      "[1] 9665\n",
      "[1] 9666\n",
      "[1] 9667\n",
      "[1] 9668\n",
      "[1] 9669\n",
      "[1] 9670\n",
      "[1] 9671\n",
      "[1] 9672\n",
      "[1] 9808\n",
      "[1] 9809\n",
      "[1] 9810\n",
      "[1] 9811\n",
      "[1] 9812\n",
      "[1] 9813\n",
      "[1] 9814\n",
      "[1] 9815\n",
      "[1] 9816\n",
      "[1] 9950\n",
      "[1] 9951\n",
      "[1] 9952\n",
      "[1] 9953\n",
      "[1] 9954\n",
      "[1] 9955\n",
      "[1] 9956\n",
      "[1] 9957\n",
      "[1] 9958\n",
      "[1] 9959\n",
      "[1] 9963\n",
      "[1] 9964\n",
      "[1] 10091\n",
      "[1] 10092\n",
      "[1] 10093\n",
      "[1] 10094\n",
      "[1] 10095\n",
      "[1] 10096\n",
      "[1] 10097\n",
      "[1] 10098\n",
      "[1] 10099\n",
      "[1] 10100\n",
      "[1] 10101\n",
      "[1] 10102\n",
      "[1] 10103\n",
      "[1] 10104\n",
      "[1] 10105\n",
      "[1] 10106\n",
      "[1] 10234\n",
      "[1] 10235\n",
      "[1] 10236\n",
      "[1] 10237\n",
      "[1] 10238\n",
      "[1] 10239\n",
      "[1] 10240\n",
      "[1] 10241\n",
      "[1] 10242\n",
      "[1] 10243\n",
      "[1] 10244\n",
      "[1] 10245\n",
      "[1] 10246\n",
      "[1] 10247\n",
      "[1] 10248\n",
      "[1] 10249\n",
      "[1] 10250\n",
      "[1] 10371\n",
      "[1] 10372\n",
      "[1] 10373\n",
      "[1] 10374\n",
      "[1] 10375\n",
      "[1] 10376\n",
      "[1] 10377\n",
      "[1] 10378\n",
      "[1] 10379\n",
      "[1] 10380\n",
      "[1] 10381\n",
      "[1] 10382\n",
      "[1] 10383\n",
      "[1] 10384\n",
      "[1] 10385\n",
      "[1] 10386\n",
      "[1] 10387\n",
      "[1] 10388\n",
      "[1] 10389\n",
      "[1] 10390\n",
      "[1] 10391\n",
      "[1] 10392\n",
      "[1] 10514\n",
      "[1] 10515\n",
      "[1] 10516\n",
      "[1] 10517\n",
      "[1] 10518\n",
      "[1] 10519\n",
      "[1] 10520\n",
      "[1] 10521\n",
      "[1] 10522\n",
      "[1] 10523\n",
      "[1] 10524\n",
      "[1] 10525\n",
      "[1] 10526\n",
      "[1] 10527\n",
      "[1] 10528\n",
      "[1] 10529\n",
      "[1] 10530\n",
      "[1] 10531\n",
      "[1] 10532\n",
      "[1] 10533\n",
      "[1] 10534\n",
      "[1] 10535\n",
      "[1] 10657\n",
      "[1] 10658\n",
      "[1] 10659\n",
      "[1] 10660\n",
      "[1] 10661\n",
      "[1] 10662\n",
      "[1] 10663\n",
      "[1] 10664\n",
      "[1] 10665\n",
      "[1] 10666\n",
      "[1] 10667\n",
      "[1] 10668\n",
      "[1] 10669\n",
      "[1] 10670\n",
      "[1] 10671\n",
      "[1] 10672\n",
      "[1] 10673\n",
      "[1] 10674\n",
      "[1] 10675\n",
      "[1] 10676\n",
      "[1] 10677\n",
      "[1] 10678\n",
      "[1] 10679\n",
      "[1] 10800\n",
      "[1] 10801\n",
      "[1] 10802\n",
      "[1] 10803\n",
      "[1] 10804\n",
      "[1] 10805\n",
      "[1] 10806\n",
      "[1] 10807\n",
      "[1] 10808\n",
      "[1] 10809\n",
      "[1] 10810\n",
      "[1] 10811\n",
      "[1] 10812\n",
      "[1] 10813\n",
      "[1] 10814\n",
      "[1] 10815\n",
      "[1] 10816\n",
      "[1] 10817\n",
      "[1] 10818\n",
      "[1] 10819\n",
      "[1] 10820\n",
      "[1] 10943\n",
      "[1] 10944\n",
      "[1] 10945\n",
      "[1] 10946\n",
      "[1] 10947\n",
      "[1] 10948\n",
      "[1] 10949\n",
      "[1] 10950\n",
      "[1] 10951\n",
      "[1] 10952\n",
      "[1] 10953\n",
      "[1] 10954\n",
      "[1] 10955\n",
      "[1] 10956\n",
      "[1] 10957\n",
      "[1] 10958\n",
      "[1] 10959\n",
      "[1] 10960\n",
      "[1] 10961\n",
      "[1] 10962\n",
      "[1] 10963\n",
      "[1] 11086\n",
      "[1] 11087\n",
      "[1] 11088\n",
      "[1] 11089\n",
      "[1] 11090\n",
      "[1] 11091\n",
      "[1] 11092\n",
      "[1] 11093\n",
      "[1] 11094\n",
      "[1] 11095\n",
      "[1] 11096\n",
      "[1] 11097\n",
      "[1] 11098\n",
      "[1] 11099\n",
      "[1] 11100\n",
      "[1] 11101\n",
      "[1] 11102\n",
      "[1] 11103\n",
      "[1] 11104\n",
      "[1] 11105\n",
      "[1] 11106\n",
      "[1] 11228\n",
      "[1] 11229\n",
      "[1] 11230\n",
      "[1] 11231\n",
      "[1] 11232\n",
      "[1] 11233\n",
      "[1] 11234\n",
      "[1] 11235\n",
      "[1] 11236\n",
      "[1] 11237\n",
      "[1] 11238\n",
      "[1] 11239\n",
      "[1] 11240\n",
      "[1] 11241\n",
      "[1] 11242\n",
      "[1] 11243\n",
      "[1] 11244\n",
      "[1] 11245\n",
      "[1] 11246\n",
      "[1] 11247\n",
      "[1] 11248\n",
      "[1] 11249\n",
      "[1] 11250\n",
      "[1] 11371\n",
      "[1] 11372\n",
      "[1] 11373\n",
      "[1] 11374\n",
      "[1] 11375\n",
      "[1] 11376\n",
      "[1] 11377\n",
      "[1] 11378\n",
      "[1] 11379\n",
      "[1] 11380\n",
      "[1] 11381\n",
      "[1] 11382\n",
      "[1] 11383\n",
      "[1] 11384\n",
      "[1] 11385\n",
      "[1] 11386\n",
      "[1] 11387\n",
      "[1] 11388\n",
      "[1] 11389\n",
      "[1] 11390\n",
      "[1] 11391\n",
      "[1] 11392\n",
      "[1] 11393\n",
      "[1] 11513\n",
      "[1] 11514\n",
      "[1] 11515\n",
      "[1] 11516\n",
      "[1] 11517\n",
      "[1] 11518\n",
      "[1] 11519\n",
      "[1] 11520\n",
      "[1] 11521\n",
      "[1] 11522\n",
      "[1] 11523\n",
      "[1] 11524\n",
      "[1] 11525\n",
      "[1] 11526\n",
      "[1] 11527\n",
      "[1] 11528\n",
      "[1] 11529\n",
      "[1] 11530\n",
      "[1] 11531\n",
      "[1] 11532\n",
      "[1] 11533\n",
      "[1] 11534\n",
      "[1] 11535\n",
      "[1] 11536\n",
      "[1] 11537\n",
      "[1] 11656\n",
      "[1] 11657\n",
      "[1] 11658\n",
      "[1] 11659\n",
      "[1] 11660\n",
      "[1] 11661\n",
      "[1] 11662\n",
      "[1] 11663\n",
      "[1] 11664\n",
      "[1] 11665\n",
      "[1] 11666\n",
      "[1] 11667\n",
      "[1] 11668\n",
      "[1] 11669\n",
      "[1] 11670\n",
      "[1] 11671\n",
      "[1] 11672\n",
      "[1] 11673\n",
      "[1] 11674\n",
      "[1] 11675\n",
      "[1] 11676\n",
      "[1] 11677\n",
      "[1] 11678\n",
      "[1] 11679\n",
      "[1] 11680\n",
      "[1] 11800\n",
      "[1] 11801\n",
      "[1] 11802\n",
      "[1] 11803\n",
      "[1] 11804\n",
      "[1] 11805\n",
      "[1] 11806\n",
      "[1] 11807\n",
      "[1] 11808\n",
      "[1] 11809\n",
      "[1] 11810\n",
      "[1] 11811\n",
      "[1] 11812\n",
      "[1] 11813\n",
      "[1] 11814\n",
      "[1] 11815\n",
      "[1] 11816\n",
      "[1] 11817\n",
      "[1] 11818\n",
      "[1] 11819\n",
      "[1] 11820\n",
      "[1] 11821\n",
      "[1] 11822\n",
      "[1] 11942\n",
      "[1] 11943\n",
      "[1] 11944\n",
      "[1] 11945\n",
      "[1] 11946\n",
      "[1] 11947\n",
      "[1] 11948\n",
      "[1] 11949\n",
      "[1] 11950\n",
      "[1] 11951\n",
      "[1] 11952\n",
      "[1] 11953\n",
      "[1] 11954\n",
      "[1] 11955\n",
      "[1] 11956\n",
      "[1] 11957\n",
      "[1] 11958\n",
      "[1] 11959\n",
      "[1] 11960\n",
      "[1] 11961\n",
      "[1] 11962\n",
      "[1] 11963\n",
      "[1] 11964\n",
      "[1] 11965\n",
      "[1] 12086\n",
      "[1] 12087\n",
      "[1] 12088\n",
      "[1] 12089\n",
      "[1] 12090\n",
      "[1] 12091\n",
      "[1] 12092\n",
      "[1] 12093\n",
      "[1] 12094\n",
      "[1] 12095\n",
      "[1] 12096\n",
      "[1] 12097\n",
      "[1] 12098\n",
      "[1] 12099\n",
      "[1] 12100\n",
      "[1] 12101\n",
      "[1] 12102\n",
      "[1] 12103\n",
      "[1] 12104\n",
      "[1] 12105\n",
      "[1] 12106\n",
      "[1] 12107\n",
      "[1] 12108\n",
      "[1] 12109\n",
      "[1] 12228\n",
      "[1] 12229\n",
      "[1] 12230\n",
      "[1] 12231\n",
      "[1] 12232\n",
      "[1] 12233\n",
      "[1] 12234\n",
      "[1] 12235\n",
      "[1] 12236\n",
      "[1] 12237\n",
      "[1] 12238\n",
      "[1] 12239\n",
      "[1] 12240\n",
      "[1] 12241\n",
      "[1] 12242\n",
      "[1] 12243\n",
      "[1] 12244\n",
      "[1] 12245\n",
      "[1] 12246\n",
      "[1] 12247\n",
      "[1] 12248\n",
      "[1] 12249\n",
      "[1] 12371\n",
      "[1] 12372\n",
      "[1] 12373\n",
      "[1] 12374\n",
      "[1] 12375\n",
      "[1] 12376\n",
      "[1] 12377\n",
      "[1] 12378\n",
      "[1] 12379\n",
      "[1] 12380\n",
      "[1] 12381\n",
      "[1] 12382\n",
      "[1] 12383\n",
      "[1] 12384\n",
      "[1] 12385\n",
      "[1] 12386\n",
      "[1] 12387\n",
      "[1] 12388\n",
      "[1] 12389\n",
      "[1] 12390\n",
      "[1] 12515\n",
      "[1] 12516\n",
      "[1] 12517\n",
      "[1] 12518\n",
      "[1] 12519\n",
      "[1] 12520\n",
      "[1] 12521\n",
      "[1] 12522\n",
      "[1] 12523\n",
      "[1] 12524\n",
      "[1] 12525\n",
      "[1] 12526\n",
      "[1] 12527\n",
      "[1] 12528\n",
      "[1] 12529\n",
      "[1] 12530\n",
      "[1] 12531\n",
      "[1] 12532\n",
      "[1] 12658\n",
      "[1] 12659\n",
      "[1] 12660\n",
      "[1] 12661\n",
      "[1] 12662\n",
      "[1] 12663\n",
      "[1] 12664\n",
      "[1] 12665\n",
      "[1] 12666\n",
      "[1] 12667\n",
      "[1] 12668\n",
      "[1] 12669\n",
      "[1] 12670\n",
      "[1] 12671\n",
      "[1] 12672\n",
      "[1] 12673\n",
      "[1] 12674\n",
      "[1] 12675\n",
      "[1] 12676\n",
      "[1] 12802\n",
      "[1] 12803\n",
      "[1] 12804\n",
      "[1] 12805\n",
      "[1] 12806\n",
      "[1] 12807\n",
      "[1] 12808\n",
      "[1] 12809\n",
      "[1] 12812\n",
      "[1] 12813\n",
      "[1] 12814\n",
      "[1] 12815\n",
      "[1] 12816\n",
      "[1] 12817\n",
      "[1] 12818\n",
      "[1] 12945\n",
      "[1] 12946\n",
      "[1] 12947\n",
      "[1] 12948\n",
      "[1] 12949\n",
      "[1] 12950\n",
      "[1] 12951\n",
      "[1] 12959\n",
      "[1] 13088\n",
      "[1] 13089\n",
      "[1] 13090\n",
      "[1] 13091\n",
      "[1] 13092\n",
      "[1] 13093\n",
      "[1] 13094\n",
      "[1] 13230\n",
      "[1] 13231\n",
      "[1] 13232\n",
      "[1] 13233\n",
      "[1] 13234\n",
      "[1] 13235\n",
      "[1] 13373\n",
      "[1] 13374\n",
      "[1] 13375\n",
      "[1] 13376\n",
      "[1] 13377\n",
      "[1] 13378\n",
      "[1] 13516\n",
      "[1] 13517\n",
      "[1] 13518\n",
      "[1] 13519\n",
      "[1] 13520\n"
     ]
    },
    {
     "data": {
      "text/plain": [
       "utilisateur     système      écoulé \n",
       "     10.582       0.000      10.582 "
      ]
     },
     "metadata": {},
     "output_type": "display_data"
    }
   ],
   "source": [
    "## Création d'un liste vide qui va contenir les résultats\n",
    "## la liste a autant d'éléments que de points de grille\n",
    "resuBH <- vector(\"list\", length(idpt))\n",
    "\n",
    "### Calcul du BH : version séquentielle i.e. traite les points les uns à\n",
    "## la suite des autres via une boucle for\n",
    "\n",
    "ptm <- proc.time() ## start time\n",
    "cpt <-1 ## initialisation d'un compteur pour le remplissage de la liste\n",
    "for (i in idpt) { ## Boucle du calcul du BH pour chaque point de grille\n",
    "  print(i)\n",
    "  tmp <- subset(mydrias, idpt == i)\n",
    "  ## construction du vecteur date. Odre jour, mois, années à adapter\n",
    "  ## en fonction de l'ordre dans lequel sont vos dates\n",
    "  #tmp$date <- as.Date(tmp$date, \"%d/%m/%Y\")\n",
    "  ## ordonne les données par date\n",
    "  tmp <- tmp[order(tmp$date), ]\n",
    "  # application du modèle sur tout la période\n",
    "  BH.tmp <- BH2R(RR = tmp$RR, ETM = tmp$ETM, RU1 = tmp$RU1[1], RU2 = tmp$RU2[1])\n",
    "  BH.tmp <- cbind(tmp[, c(\"idpt\", \"date\")], BH.tmp )\n",
    "  ## remplissage de la liste avec les résultats\n",
    "  resuBH[[cpt]] <- BH.tmp\n",
    "  cpt <- cpt + 1\n",
    "}\n",
    "\n",
    "proc.time() - ptm ## end time\n"
   ]
  },
  {
   "cell_type": "code",
   "execution_count": 14,
   "metadata": {},
   "outputs": [
    {
     "name": "stdout",
     "output_type": "stream",
     "text": [
      "'data.frame':\t366 obs. of  13 variables:\n",
      " $ idpt: int  9378 9378 9378 9378 9378 9378 9378 9378 9378 9378 ...\n",
      " $ date: Date, format: \"2004-01-01\" \"2004-01-02\" ...\n",
      " $ RR  : num  0.781 0 0 0 0 ...\n",
      " $ ETM : num  0.1838 0.1324 0.0966 0.0814 0.1896 ...\n",
      " $ R1  : num  42.4 42.3 42.2 42.1 41.9 ...\n",
      " $ R2  : num  63.6 63.6 63.6 63.6 63.6 63.6 63.6 63.6 63.6 63.6 ...\n",
      " $ ETR1: num  0.1838 0.1324 0.0966 0.0814 0.1896 ...\n",
      " $ ETR2: num  0 0 0 0 0 0 0 0 0 0 ...\n",
      " $ DR1 : num  0.184 0.132 0.229 0.31 0.5 ...\n",
      " $ DR2 : num  0 0 0 0 0 0 0 0 0 0 ...\n",
      " $ RR1 : num  0.184 0 0 0 0 ...\n",
      " $ RR2 : num  0 0 0 0 0 0 0 0 0 0 ...\n",
      " $ Ec  : num  0.597 NA NA NA NA ...\n"
     ]
    }
   ],
   "source": [
    "str(resuBH[[1]])"
   ]
  },
  {
   "cell_type": "code",
   "execution_count": 12,
   "metadata": {},
   "outputs": [],
   "source": [
    "save(resuBH, file=\"resuBH_historic.RData\")"
   ]
  },
  {
   "cell_type": "code",
   "execution_count": 15,
   "metadata": {},
   "outputs": [
    {
     "data": {
      "text/html": [
       "<table class=\"dataframe\">\n",
       "<caption>A data.frame: 6 × 13</caption>\n",
       "<thead>\n",
       "\t<tr><th></th><th scope=col>idpt</th><th scope=col>date</th><th scope=col>RR</th><th scope=col>ETM</th><th scope=col>R1</th><th scope=col>R2</th><th scope=col>ETR1</th><th scope=col>ETR2</th><th scope=col>DR1</th><th scope=col>DR2</th><th scope=col>RR1</th><th scope=col>RR2</th><th scope=col>Ec</th></tr>\n",
       "\t<tr><th></th><th scope=col>&lt;int&gt;</th><th scope=col>&lt;date&gt;</th><th scope=col>&lt;dbl&gt;</th><th scope=col>&lt;dbl&gt;</th><th scope=col>&lt;dbl&gt;</th><th scope=col>&lt;dbl&gt;</th><th scope=col>&lt;dbl&gt;</th><th scope=col>&lt;dbl&gt;</th><th scope=col>&lt;dbl&gt;</th><th scope=col>&lt;dbl&gt;</th><th scope=col>&lt;dbl&gt;</th><th scope=col>&lt;dbl&gt;</th><th scope=col>&lt;dbl&gt;</th></tr>\n",
       "</thead>\n",
       "<tbody>\n",
       "\t<tr><th scope=row>1</th><td>9378</td><td>2004-01-01</td><td>0.781</td><td>0.1838</td><td>42.4000</td><td>63.6</td><td>0.1838</td><td>0</td><td>0.1838</td><td>0</td><td>0.1838</td><td>0</td><td>0.5972</td></tr>\n",
       "\t<tr><th scope=row>242</th><td>9378</td><td>2004-01-02</td><td>0.000</td><td>0.1324</td><td>42.2676</td><td>63.6</td><td>0.1324</td><td>0</td><td>0.1324</td><td>0</td><td>0.0000</td><td>0</td><td>    NA</td></tr>\n",
       "\t<tr><th scope=row>249</th><td>9378</td><td>2004-01-03</td><td>0.000</td><td>0.0966</td><td>42.1710</td><td>63.6</td><td>0.0966</td><td>0</td><td>0.2290</td><td>0</td><td>0.0000</td><td>0</td><td>    NA</td></tr>\n",
       "\t<tr><th scope=row>349</th><td>9378</td><td>2004-01-04</td><td>0.000</td><td>0.0814</td><td>42.0896</td><td>63.6</td><td>0.0814</td><td>0</td><td>0.3104</td><td>0</td><td>0.0000</td><td>0</td><td>    NA</td></tr>\n",
       "\t<tr><th scope=row>108</th><td>9378</td><td>2004-01-05</td><td>0.000</td><td>0.1896</td><td>41.9000</td><td>63.6</td><td>0.1896</td><td>0</td><td>0.5000</td><td>0</td><td>0.0000</td><td>0</td><td>    NA</td></tr>\n",
       "\t<tr><th scope=row>163</th><td>9378</td><td>2004-01-06</td><td>0.000</td><td>0.0592</td><td>41.8408</td><td>63.6</td><td>0.0592</td><td>0</td><td>0.5592</td><td>0</td><td>0.0000</td><td>0</td><td>    NA</td></tr>\n",
       "</tbody>\n",
       "</table>\n"
      ],
      "text/latex": [
       "A data.frame: 6 × 13\n",
       "\\begin{tabular}{r|lllllllllllll}\n",
       "  & idpt & date & RR & ETM & R1 & R2 & ETR1 & ETR2 & DR1 & DR2 & RR1 & RR2 & Ec\\\\\n",
       "  & <int> & <date> & <dbl> & <dbl> & <dbl> & <dbl> & <dbl> & <dbl> & <dbl> & <dbl> & <dbl> & <dbl> & <dbl>\\\\\n",
       "\\hline\n",
       "\t1 & 9378 & 2004-01-01 & 0.781 & 0.1838 & 42.4000 & 63.6 & 0.1838 & 0 & 0.1838 & 0 & 0.1838 & 0 & 0.5972\\\\\n",
       "\t242 & 9378 & 2004-01-02 & 0.000 & 0.1324 & 42.2676 & 63.6 & 0.1324 & 0 & 0.1324 & 0 & 0.0000 & 0 &     NA\\\\\n",
       "\t249 & 9378 & 2004-01-03 & 0.000 & 0.0966 & 42.1710 & 63.6 & 0.0966 & 0 & 0.2290 & 0 & 0.0000 & 0 &     NA\\\\\n",
       "\t349 & 9378 & 2004-01-04 & 0.000 & 0.0814 & 42.0896 & 63.6 & 0.0814 & 0 & 0.3104 & 0 & 0.0000 & 0 &     NA\\\\\n",
       "\t108 & 9378 & 2004-01-05 & 0.000 & 0.1896 & 41.9000 & 63.6 & 0.1896 & 0 & 0.5000 & 0 & 0.0000 & 0 &     NA\\\\\n",
       "\t163 & 9378 & 2004-01-06 & 0.000 & 0.0592 & 41.8408 & 63.6 & 0.0592 & 0 & 0.5592 & 0 & 0.0000 & 0 &     NA\\\\\n",
       "\\end{tabular}\n"
      ],
      "text/markdown": [
       "\n",
       "A data.frame: 6 × 13\n",
       "\n",
       "| <!--/--> | idpt &lt;int&gt; | date &lt;date&gt; | RR &lt;dbl&gt; | ETM &lt;dbl&gt; | R1 &lt;dbl&gt; | R2 &lt;dbl&gt; | ETR1 &lt;dbl&gt; | ETR2 &lt;dbl&gt; | DR1 &lt;dbl&gt; | DR2 &lt;dbl&gt; | RR1 &lt;dbl&gt; | RR2 &lt;dbl&gt; | Ec &lt;dbl&gt; |\n",
       "|---|---|---|---|---|---|---|---|---|---|---|---|---|---|\n",
       "| 1 | 9378 | 2004-01-01 | 0.781 | 0.1838 | 42.4000 | 63.6 | 0.1838 | 0 | 0.1838 | 0 | 0.1838 | 0 | 0.5972 |\n",
       "| 242 | 9378 | 2004-01-02 | 0.000 | 0.1324 | 42.2676 | 63.6 | 0.1324 | 0 | 0.1324 | 0 | 0.0000 | 0 |     NA |\n",
       "| 249 | 9378 | 2004-01-03 | 0.000 | 0.0966 | 42.1710 | 63.6 | 0.0966 | 0 | 0.2290 | 0 | 0.0000 | 0 |     NA |\n",
       "| 349 | 9378 | 2004-01-04 | 0.000 | 0.0814 | 42.0896 | 63.6 | 0.0814 | 0 | 0.3104 | 0 | 0.0000 | 0 |     NA |\n",
       "| 108 | 9378 | 2004-01-05 | 0.000 | 0.1896 | 41.9000 | 63.6 | 0.1896 | 0 | 0.5000 | 0 | 0.0000 | 0 |     NA |\n",
       "| 163 | 9378 | 2004-01-06 | 0.000 | 0.0592 | 41.8408 | 63.6 | 0.0592 | 0 | 0.5592 | 0 | 0.0000 | 0 |     NA |\n",
       "\n"
      ],
      "text/plain": [
       "    idpt date       RR    ETM    R1      R2   ETR1   ETR2 DR1    DR2 RR1    RR2\n",
       "1   9378 2004-01-01 0.781 0.1838 42.4000 63.6 0.1838 0    0.1838 0   0.1838 0  \n",
       "242 9378 2004-01-02 0.000 0.1324 42.2676 63.6 0.1324 0    0.1324 0   0.0000 0  \n",
       "249 9378 2004-01-03 0.000 0.0966 42.1710 63.6 0.0966 0    0.2290 0   0.0000 0  \n",
       "349 9378 2004-01-04 0.000 0.0814 42.0896 63.6 0.0814 0    0.3104 0   0.0000 0  \n",
       "108 9378 2004-01-05 0.000 0.1896 41.9000 63.6 0.1896 0    0.5000 0   0.0000 0  \n",
       "163 9378 2004-01-06 0.000 0.0592 41.8408 63.6 0.0592 0    0.5592 0   0.0000 0  \n",
       "    Ec    \n",
       "1   0.5972\n",
       "242     NA\n",
       "249     NA\n",
       "349     NA\n",
       "108     NA\n",
       "163     NA"
      ]
     },
     "metadata": {},
     "output_type": "display_data"
    }
   ],
   "source": [
    "## Examen des résultats pour le premier point de grille\n",
    "BH.9378 <- resuBH[[1]]\n",
    "head(BH.9378)\n",
    "BH.1an <- BH.9378[1:365,]\n",
    "## Calcul du bilan hydrique relatif \n",
    "BH.1an$BH <- (BH.1an$R1 + BH.1an$R2)/(BH.1an$R1[1] + BH.1an$R2[1])"
   ]
  },
  {
   "cell_type": "code",
   "execution_count": 18,
   "metadata": {},
   "outputs": [],
   "source": [
    "BH.1an <- BH.9378[1:365,]\n",
    "BH.1an$BH <- (BH.1an$R1 + BH.1an$R2)/(BH.1an$R1[1] + BH.1an$R2[1])"
   ]
  },
  {
   "cell_type": "code",
   "execution_count": 19,
   "metadata": {},
   "outputs": [
    {
     "data": {
      "image/png": "[encoded data removed]",
      "text/plain": [
       "plot without title"
      ]
     },
     "metadata": {
      "image/png": {
       "height": 420,
       "width": 420
      }
     },
     "output_type": "display_data"
    }
   ],
   "source": [
    "#png(filename = \"/home/thierry/myTCloud/umi_umr/ANR_DYVALOCCA/rew.png\",\n",
    "    #width = 1200, height = 700, units = \"px\", pointsize = 12,\n",
    "     #bg = \"white\", type = c(\"cairo\", \"cairo-png\", \"Xlib\", \"quartz\"))\n",
    "\n",
    "## Trace l'évolution du BH relatif pour la première année \n",
    "## du premier point de grille \n",
    "plot(BH.1an$BH, type = \"l\", ylab= \"REW\", xlab=\"DOY\", cex.lab=1.5, cex.axis=1.5)\n",
    "\n",
    "#dev.off()\n"
   ]
  },
  {
   "cell_type": "code",
   "execution_count": 21,
   "metadata": {},
   "outputs": [
    {
     "data": {
      "text/html": [
       "0.734723439505082"
      ],
      "text/latex": [
       "0.734723439505082"
      ],
      "text/markdown": [
       "0.734723439505082"
      ],
      "text/plain": [
       "[1] 0.7347234"
      ]
     },
     "metadata": {},
     "output_type": "display_data"
    },
    {
     "data": {
      "text/html": [
       "0.0212956236658471"
      ],
      "text/latex": [
       "0.0212956236658471"
      ],
      "text/markdown": [
       "0.0212956236658471"
      ],
      "text/plain": [
       "[1] 0.02129562"
      ]
     },
     "metadata": {},
     "output_type": "display_data"
    },
    {
     "data": {
      "text/html": [
       "<table class=\"dataframe\">\n",
       "<caption>A data.frame: 6 × 14</caption>\n",
       "<thead>\n",
       "\t<tr><th></th><th scope=col>idpt</th><th scope=col>date</th><th scope=col>RR</th><th scope=col>ETM</th><th scope=col>R1</th><th scope=col>R2</th><th scope=col>ETR1</th><th scope=col>ETR2</th><th scope=col>DR1</th><th scope=col>DR2</th><th scope=col>RR1</th><th scope=col>RR2</th><th scope=col>Ec</th><th scope=col>BH</th></tr>\n",
       "\t<tr><th></th><th scope=col>&lt;int&gt;</th><th scope=col>&lt;date&gt;</th><th scope=col>&lt;dbl&gt;</th><th scope=col>&lt;dbl&gt;</th><th scope=col>&lt;dbl&gt;</th><th scope=col>&lt;dbl&gt;</th><th scope=col>&lt;dbl&gt;</th><th scope=col>&lt;dbl&gt;</th><th scope=col>&lt;dbl&gt;</th><th scope=col>&lt;dbl&gt;</th><th scope=col>&lt;dbl&gt;</th><th scope=col>&lt;dbl&gt;</th><th scope=col>&lt;dbl&gt;</th><th scope=col>&lt;dbl&gt;</th></tr>\n",
       "</thead>\n",
       "<tbody>\n",
       "\t<tr><th scope=row>1</th><td>9378</td><td>2004-01-01</td><td>0.781</td><td>0.1838</td><td>42.4000</td><td>63.6</td><td>0.1838</td><td>0</td><td>0.1838</td><td>0</td><td>0.1838</td><td>0</td><td>0.5972</td><td>1.0000000</td></tr>\n",
       "\t<tr><th scope=row>242</th><td>9378</td><td>2004-01-02</td><td>0.000</td><td>0.1324</td><td>42.2676</td><td>63.6</td><td>0.1324</td><td>0</td><td>0.1324</td><td>0</td><td>0.0000</td><td>0</td><td>    NA</td><td>0.9987509</td></tr>\n",
       "\t<tr><th scope=row>249</th><td>9378</td><td>2004-01-03</td><td>0.000</td><td>0.0966</td><td>42.1710</td><td>63.6</td><td>0.0966</td><td>0</td><td>0.2290</td><td>0</td><td>0.0000</td><td>0</td><td>    NA</td><td>0.9978396</td></tr>\n",
       "\t<tr><th scope=row>349</th><td>9378</td><td>2004-01-04</td><td>0.000</td><td>0.0814</td><td>42.0896</td><td>63.6</td><td>0.0814</td><td>0</td><td>0.3104</td><td>0</td><td>0.0000</td><td>0</td><td>    NA</td><td>0.9970717</td></tr>\n",
       "\t<tr><th scope=row>108</th><td>9378</td><td>2004-01-05</td><td>0.000</td><td>0.1896</td><td>41.9000</td><td>63.6</td><td>0.1896</td><td>0</td><td>0.5000</td><td>0</td><td>0.0000</td><td>0</td><td>    NA</td><td>0.9952830</td></tr>\n",
       "\t<tr><th scope=row>163</th><td>9378</td><td>2004-01-06</td><td>0.000</td><td>0.0592</td><td>41.8408</td><td>63.6</td><td>0.0592</td><td>0</td><td>0.5592</td><td>0</td><td>0.0000</td><td>0</td><td>    NA</td><td>0.9947245</td></tr>\n",
       "</tbody>\n",
       "</table>\n"
      ],
      "text/latex": [
       "A data.frame: 6 × 14\n",
       "\\begin{tabular}{r|llllllllllllll}\n",
       "  & idpt & date & RR & ETM & R1 & R2 & ETR1 & ETR2 & DR1 & DR2 & RR1 & RR2 & Ec & BH\\\\\n",
       "  & <int> & <date> & <dbl> & <dbl> & <dbl> & <dbl> & <dbl> & <dbl> & <dbl> & <dbl> & <dbl> & <dbl> & <dbl> & <dbl>\\\\\n",
       "\\hline\n",
       "\t1 & 9378 & 2004-01-01 & 0.781 & 0.1838 & 42.4000 & 63.6 & 0.1838 & 0 & 0.1838 & 0 & 0.1838 & 0 & 0.5972 & 1.0000000\\\\\n",
       "\t242 & 9378 & 2004-01-02 & 0.000 & 0.1324 & 42.2676 & 63.6 & 0.1324 & 0 & 0.1324 & 0 & 0.0000 & 0 &     NA & 0.9987509\\\\\n",
       "\t249 & 9378 & 2004-01-03 & 0.000 & 0.0966 & 42.1710 & 63.6 & 0.0966 & 0 & 0.2290 & 0 & 0.0000 & 0 &     NA & 0.9978396\\\\\n",
       "\t349 & 9378 & 2004-01-04 & 0.000 & 0.0814 & 42.0896 & 63.6 & 0.0814 & 0 & 0.3104 & 0 & 0.0000 & 0 &     NA & 0.9970717\\\\\n",
       "\t108 & 9378 & 2004-01-05 & 0.000 & 0.1896 & 41.9000 & 63.6 & 0.1896 & 0 & 0.5000 & 0 & 0.0000 & 0 &     NA & 0.9952830\\\\\n",
       "\t163 & 9378 & 2004-01-06 & 0.000 & 0.0592 & 41.8408 & 63.6 & 0.0592 & 0 & 0.5592 & 0 & 0.0000 & 0 &     NA & 0.9947245\\\\\n",
       "\\end{tabular}\n"
      ],
      "text/markdown": [
       "\n",
       "A data.frame: 6 × 14\n",
       "\n",
       "| <!--/--> | idpt &lt;int&gt; | date &lt;date&gt; | RR &lt;dbl&gt; | ETM &lt;dbl&gt; | R1 &lt;dbl&gt; | R2 &lt;dbl&gt; | ETR1 &lt;dbl&gt; | ETR2 &lt;dbl&gt; | DR1 &lt;dbl&gt; | DR2 &lt;dbl&gt; | RR1 &lt;dbl&gt; | RR2 &lt;dbl&gt; | Ec &lt;dbl&gt; | BH &lt;dbl&gt; |\n",
       "|---|---|---|---|---|---|---|---|---|---|---|---|---|---|---|\n",
       "| 1 | 9378 | 2004-01-01 | 0.781 | 0.1838 | 42.4000 | 63.6 | 0.1838 | 0 | 0.1838 | 0 | 0.1838 | 0 | 0.5972 | 1.0000000 |\n",
       "| 242 | 9378 | 2004-01-02 | 0.000 | 0.1324 | 42.2676 | 63.6 | 0.1324 | 0 | 0.1324 | 0 | 0.0000 | 0 |     NA | 0.9987509 |\n",
       "| 249 | 9378 | 2004-01-03 | 0.000 | 0.0966 | 42.1710 | 63.6 | 0.0966 | 0 | 0.2290 | 0 | 0.0000 | 0 |     NA | 0.9978396 |\n",
       "| 349 | 9378 | 2004-01-04 | 0.000 | 0.0814 | 42.0896 | 63.6 | 0.0814 | 0 | 0.3104 | 0 | 0.0000 | 0 |     NA | 0.9970717 |\n",
       "| 108 | 9378 | 2004-01-05 | 0.000 | 0.1896 | 41.9000 | 63.6 | 0.1896 | 0 | 0.5000 | 0 | 0.0000 | 0 |     NA | 0.9952830 |\n",
       "| 163 | 9378 | 2004-01-06 | 0.000 | 0.0592 | 41.8408 | 63.6 | 0.0592 | 0 | 0.5592 | 0 | 0.0000 | 0 |     NA | 0.9947245 |\n",
       "\n"
      ],
      "text/plain": [
       "    idpt date       RR    ETM    R1      R2   ETR1   ETR2 DR1    DR2 RR1    RR2\n",
       "1   9378 2004-01-01 0.781 0.1838 42.4000 63.6 0.1838 0    0.1838 0   0.1838 0  \n",
       "242 9378 2004-01-02 0.000 0.1324 42.2676 63.6 0.1324 0    0.1324 0   0.0000 0  \n",
       "249 9378 2004-01-03 0.000 0.0966 42.1710 63.6 0.0966 0    0.2290 0   0.0000 0  \n",
       "349 9378 2004-01-04 0.000 0.0814 42.0896 63.6 0.0814 0    0.3104 0   0.0000 0  \n",
       "108 9378 2004-01-05 0.000 0.1896 41.9000 63.6 0.1896 0    0.5000 0   0.0000 0  \n",
       "163 9378 2004-01-06 0.000 0.0592 41.8408 63.6 0.0592 0    0.5592 0   0.0000 0  \n",
       "    Ec     BH       \n",
       "1   0.5972 1.0000000\n",
       "242     NA 0.9987509\n",
       "249     NA 0.9978396\n",
       "349     NA 0.9970717\n",
       "108     NA 0.9952830\n",
       "163     NA 0.9947245"
      ]
     },
     "metadata": {},
     "output_type": "display_data"
    }
   ],
   "source": [
    "mean(BH.1an$RR-BH.1an$ETM)\n",
    "min(BH.1an$BH)\n",
    "head(BH.1an)"
   ]
  },
  {
   "cell_type": "code",
   "execution_count": 22,
   "metadata": {},
   "outputs": [
    {
     "data": {
      "image/png": "[encoded data removed]",
      "text/plain": [
       "plot without title"
      ]
     },
     "metadata": {
      "image/png": {
       "height": 420,
       "width": 420
      }
     },
     "output_type": "display_data"
    }
   ],
   "source": [
    "plot(BH.1an$Ec, type= \"l\")"
   ]
  },
  {
   "cell_type": "code",
   "execution_count": 23,
   "metadata": {},
   "outputs": [
    {
     "data": {
      "image/png": "[encoded data removed]",
      "text/plain": [
       "plot without title"
      ]
     },
     "metadata": {
      "image/png": {
       "height": 420,
       "width": 420
      }
     },
     "output_type": "display_data"
    }
   ],
   "source": [
    "## Partition ETM\n",
    "plot(BH.1an$ETM, type=\"l\")\n",
    "lines(BH.1an$ETR1, col=\"blue\")\n",
    "lines(BH.1an$ETR2, col = \"red\")"
   ]
  },
  {
   "cell_type": "code",
   "execution_count": 24,
   "metadata": {},
   "outputs": [
    {
     "data": {
      "text/html": [
       "<table class=\"dataframe\">\n",
       "<caption>A data.frame: 6 × 13</caption>\n",
       "<thead>\n",
       "\t<tr><th></th><th scope=col>idpt</th><th scope=col>date</th><th scope=col>RR</th><th scope=col>ETM</th><th scope=col>R1</th><th scope=col>R2</th><th scope=col>ETR1</th><th scope=col>ETR2</th><th scope=col>DR1</th><th scope=col>DR2</th><th scope=col>RR1</th><th scope=col>RR2</th><th scope=col>Ec</th></tr>\n",
       "\t<tr><th></th><th scope=col>&lt;int&gt;</th><th scope=col>&lt;date&gt;</th><th scope=col>&lt;dbl&gt;</th><th scope=col>&lt;dbl&gt;</th><th scope=col>&lt;dbl&gt;</th><th scope=col>&lt;dbl&gt;</th><th scope=col>&lt;dbl&gt;</th><th scope=col>&lt;dbl&gt;</th><th scope=col>&lt;dbl&gt;</th><th scope=col>&lt;dbl&gt;</th><th scope=col>&lt;dbl&gt;</th><th scope=col>&lt;dbl&gt;</th><th scope=col>&lt;dbl&gt;</th></tr>\n",
       "</thead>\n",
       "<tbody>\n",
       "\t<tr><th scope=row>1</th><td>9378</td><td>2004-01-01</td><td>0.781</td><td>0.1838</td><td>42.4000</td><td>63.6</td><td>0.1838</td><td>0</td><td>0.1838</td><td>0</td><td>0.1838</td><td>0</td><td>0.5972</td></tr>\n",
       "\t<tr><th scope=row>242</th><td>9378</td><td>2004-01-02</td><td>0.000</td><td>0.1324</td><td>42.2676</td><td>63.6</td><td>0.1324</td><td>0</td><td>0.1324</td><td>0</td><td>0.0000</td><td>0</td><td>    NA</td></tr>\n",
       "\t<tr><th scope=row>249</th><td>9378</td><td>2004-01-03</td><td>0.000</td><td>0.0966</td><td>42.1710</td><td>63.6</td><td>0.0966</td><td>0</td><td>0.2290</td><td>0</td><td>0.0000</td><td>0</td><td>    NA</td></tr>\n",
       "\t<tr><th scope=row>349</th><td>9378</td><td>2004-01-04</td><td>0.000</td><td>0.0814</td><td>42.0896</td><td>63.6</td><td>0.0814</td><td>0</td><td>0.3104</td><td>0</td><td>0.0000</td><td>0</td><td>    NA</td></tr>\n",
       "\t<tr><th scope=row>108</th><td>9378</td><td>2004-01-05</td><td>0.000</td><td>0.1896</td><td>41.9000</td><td>63.6</td><td>0.1896</td><td>0</td><td>0.5000</td><td>0</td><td>0.0000</td><td>0</td><td>    NA</td></tr>\n",
       "\t<tr><th scope=row>163</th><td>9378</td><td>2004-01-06</td><td>0.000</td><td>0.0592</td><td>41.8408</td><td>63.6</td><td>0.0592</td><td>0</td><td>0.5592</td><td>0</td><td>0.0000</td><td>0</td><td>    NA</td></tr>\n",
       "</tbody>\n",
       "</table>\n"
      ],
      "text/latex": [
       "A data.frame: 6 × 13\n",
       "\\begin{tabular}{r|lllllllllllll}\n",
       "  & idpt & date & RR & ETM & R1 & R2 & ETR1 & ETR2 & DR1 & DR2 & RR1 & RR2 & Ec\\\\\n",
       "  & <int> & <date> & <dbl> & <dbl> & <dbl> & <dbl> & <dbl> & <dbl> & <dbl> & <dbl> & <dbl> & <dbl> & <dbl>\\\\\n",
       "\\hline\n",
       "\t1 & 9378 & 2004-01-01 & 0.781 & 0.1838 & 42.4000 & 63.6 & 0.1838 & 0 & 0.1838 & 0 & 0.1838 & 0 & 0.5972\\\\\n",
       "\t242 & 9378 & 2004-01-02 & 0.000 & 0.1324 & 42.2676 & 63.6 & 0.1324 & 0 & 0.1324 & 0 & 0.0000 & 0 &     NA\\\\\n",
       "\t249 & 9378 & 2004-01-03 & 0.000 & 0.0966 & 42.1710 & 63.6 & 0.0966 & 0 & 0.2290 & 0 & 0.0000 & 0 &     NA\\\\\n",
       "\t349 & 9378 & 2004-01-04 & 0.000 & 0.0814 & 42.0896 & 63.6 & 0.0814 & 0 & 0.3104 & 0 & 0.0000 & 0 &     NA\\\\\n",
       "\t108 & 9378 & 2004-01-05 & 0.000 & 0.1896 & 41.9000 & 63.6 & 0.1896 & 0 & 0.5000 & 0 & 0.0000 & 0 &     NA\\\\\n",
       "\t163 & 9378 & 2004-01-06 & 0.000 & 0.0592 & 41.8408 & 63.6 & 0.0592 & 0 & 0.5592 & 0 & 0.0000 & 0 &     NA\\\\\n",
       "\\end{tabular}\n"
      ],
      "text/markdown": [
       "\n",
       "A data.frame: 6 × 13\n",
       "\n",
       "| <!--/--> | idpt &lt;int&gt; | date &lt;date&gt; | RR &lt;dbl&gt; | ETM &lt;dbl&gt; | R1 &lt;dbl&gt; | R2 &lt;dbl&gt; | ETR1 &lt;dbl&gt; | ETR2 &lt;dbl&gt; | DR1 &lt;dbl&gt; | DR2 &lt;dbl&gt; | RR1 &lt;dbl&gt; | RR2 &lt;dbl&gt; | Ec &lt;dbl&gt; |\n",
       "|---|---|---|---|---|---|---|---|---|---|---|---|---|---|\n",
       "| 1 | 9378 | 2004-01-01 | 0.781 | 0.1838 | 42.4000 | 63.6 | 0.1838 | 0 | 0.1838 | 0 | 0.1838 | 0 | 0.5972 |\n",
       "| 242 | 9378 | 2004-01-02 | 0.000 | 0.1324 | 42.2676 | 63.6 | 0.1324 | 0 | 0.1324 | 0 | 0.0000 | 0 |     NA |\n",
       "| 249 | 9378 | 2004-01-03 | 0.000 | 0.0966 | 42.1710 | 63.6 | 0.0966 | 0 | 0.2290 | 0 | 0.0000 | 0 |     NA |\n",
       "| 349 | 9378 | 2004-01-04 | 0.000 | 0.0814 | 42.0896 | 63.6 | 0.0814 | 0 | 0.3104 | 0 | 0.0000 | 0 |     NA |\n",
       "| 108 | 9378 | 2004-01-05 | 0.000 | 0.1896 | 41.9000 | 63.6 | 0.1896 | 0 | 0.5000 | 0 | 0.0000 | 0 |     NA |\n",
       "| 163 | 9378 | 2004-01-06 | 0.000 | 0.0592 | 41.8408 | 63.6 | 0.0592 | 0 | 0.5592 | 0 | 0.0000 | 0 |     NA |\n",
       "\n"
      ],
      "text/plain": [
       "    idpt date       RR    ETM    R1      R2   ETR1   ETR2 DR1    DR2 RR1    RR2\n",
       "1   9378 2004-01-01 0.781 0.1838 42.4000 63.6 0.1838 0    0.1838 0   0.1838 0  \n",
       "242 9378 2004-01-02 0.000 0.1324 42.2676 63.6 0.1324 0    0.1324 0   0.0000 0  \n",
       "249 9378 2004-01-03 0.000 0.0966 42.1710 63.6 0.0966 0    0.2290 0   0.0000 0  \n",
       "349 9378 2004-01-04 0.000 0.0814 42.0896 63.6 0.0814 0    0.3104 0   0.0000 0  \n",
       "108 9378 2004-01-05 0.000 0.1896 41.9000 63.6 0.1896 0    0.5000 0   0.0000 0  \n",
       "163 9378 2004-01-06 0.000 0.0592 41.8408 63.6 0.0592 0    0.5592 0   0.0000 0  \n",
       "    Ec    \n",
       "1   0.5972\n",
       "242     NA\n",
       "249     NA\n",
       "349     NA\n",
       "108     NA\n",
       "163     NA"
      ]
     },
     "metadata": {},
     "output_type": "display_data"
    }
   ],
   "source": [
    "head(BH.9378)"
   ]
  },
  {
   "cell_type": "code",
   "execution_count": 25,
   "metadata": {},
   "outputs": [
    {
     "data": {
      "text/html": [
       "497"
      ],
      "text/latex": [
       "497"
      ],
      "text/markdown": [
       "497"
      ],
      "text/plain": [
       "[1] 497"
      ]
     },
     "metadata": {},
     "output_type": "display_data"
    }
   ],
   "source": [
    "length(resuBH)"
   ]
  },
  {
   "cell_type": "code",
   "execution_count": 26,
   "metadata": {},
   "outputs": [],
   "source": [
    "##########################################################\n",
    "## Version parallèle du calcul de BH\n",
    "lpts <- split(mydrias,f=as.factor(mydrias$idpt))\n",
    "\n",
    "myfun <- function(x){\n",
    "    #x$date <- as.Date(x$date,\"%m/%d/%Y\")\n",
    "    x <- x[order(x$date),]\n",
    "    resu <- cbind(x[,c(\"idpt\",\"date\")],\n",
    "                  BH2R(RR=x$RR,ETM=x$ETM,RU1 = x$RU1[1], RU2 = x$RU2[1]))\n",
    "    return(resu)\n",
    "}"
   ]
  },
  {
   "cell_type": "code",
   "execution_count": 27,
   "metadata": {},
   "outputs": [
    {
     "data": {
      "text/plain": [
       "utilisateur     système      écoulé \n",
       "      0.052       0.025       2.392 "
      ]
     },
     "metadata": {},
     "output_type": "display_data"
    }
   ],
   "source": [
    "library(parallel)\n",
    "cl <- makeCluster(12,type=\"PSOCK\")\n",
    "clusterExport(cl, list(\"BH2R\"))\n",
    "ptm <- proc.time()\n",
    "resuparBH <- parLapply(cl = cl, lpts, myfun)\n",
    "proc.time() - ptm"
   ]
  }
 ],
 "metadata": {
  "kernelspec": {
   "display_name": "R",
   "language": "R",
   "name": "ir"
  },
  "language_info": {
   "codemirror_mode": "r",
   "file_extension": ".r",
   "mimetype": "text/x-r-source",
   "name": "R",
   "pygments_lexer": "r",
   "version": "4.4.2"
  }
 },
 "nbformat": 4,
 "nbformat_minor": 4
}
