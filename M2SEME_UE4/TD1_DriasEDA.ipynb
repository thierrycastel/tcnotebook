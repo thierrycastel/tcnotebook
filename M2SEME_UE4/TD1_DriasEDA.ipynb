{
 "cells": [
  {
   "cell_type": "code",
   "execution_count": 2,
   "id": "9a3dbd37-56a2-4cae-a433-a8ce3ad44875",
   "metadata": {},
   "outputs": [],
   "source": [
    "## Chemin vers l'espace de travail\n",
    "## ici le dossier Data -- Pensez à bien indiquer cela avec RStudio \n",
    "setwd(\"../Data\")"
   ]
  },
  {
   "cell_type": "code",
   "execution_count": 3,
   "id": "7febf302-8987-4f68-b0e0-700ae739090b",
   "metadata": {},
   "outputs": [
    {
     "data": {
      "text/html": [
       "'/home/thierry/works/wdM2/UE4/UE4_Climat_2024/Data'"
      ],
      "text/latex": [
       "'/home/thierry/works/wdM2/UE4/UE4\\_Climat\\_2024/Data'"
      ],
      "text/markdown": [
       "'/home/thierry/works/wdM2/UE4/UE4_Climat_2024/Data'"
      ],
      "text/plain": [
       "[1] \"/home/thierry/works/wdM2/UE4/UE4_Climat_2024/Data\""
      ]
     },
     "metadata": {},
     "output_type": "display_data"
    }
   ],
   "source": [
    "getwd()"
   ]
  },
  {
   "cell_type": "code",
   "execution_count": 4,
   "id": "1c6ba030-405b-4970-a62f-0945c3ce2a69",
   "metadata": {},
   "outputs": [
    {
     "data": {
      "text/html": [
       "<table class=\"dataframe\">\n",
       "<caption>A data.frame: 6 × 9</caption>\n",
       "<thead>\n",
       "\t<tr><th></th><th scope=col>V1</th><th scope=col>V2</th><th scope=col>V3</th><th scope=col>V4</th><th scope=col>V5</th><th scope=col>V6</th><th scope=col>V7</th><th scope=col>V8</th><th scope=col>V9</th></tr>\n",
       "\t<tr><th></th><th scope=col>&lt;int&gt;</th><th scope=col>&lt;dbl&gt;</th><th scope=col>&lt;dbl&gt;</th><th scope=col>&lt;int&gt;</th><th scope=col>&lt;chr&gt;</th><th scope=col>&lt;dbl&gt;</th><th scope=col>&lt;dbl&gt;</th><th scope=col>&lt;dbl&gt;</th><th scope=col>&lt;dbl&gt;</th></tr>\n",
       "</thead>\n",
       "<tbody>\n",
       "\t<tr><th scope=row>1</th><td>9378</td><td>46.2218</td><td>3.94455</td><td>307</td><td>01/01/2004</td><td>7.21</td><td>15.04</td><td>0.781</td><td>0.919</td></tr>\n",
       "\t<tr><th scope=row>2</th><td>9378</td><td>46.2218</td><td>3.94455</td><td>307</td><td>01/02/2004</td><td>6.15</td><td>14.89</td><td>0.000</td><td>0.662</td></tr>\n",
       "\t<tr><th scope=row>3</th><td>9378</td><td>46.2218</td><td>3.94455</td><td>307</td><td>01/03/2004</td><td>5.08</td><td> 5.96</td><td>0.000</td><td>0.483</td></tr>\n",
       "\t<tr><th scope=row>4</th><td>9378</td><td>46.2218</td><td>3.94455</td><td>307</td><td>01/04/2004</td><td>0.08</td><td> 8.51</td><td>0.000</td><td>0.407</td></tr>\n",
       "\t<tr><th scope=row>5</th><td>9378</td><td>46.2218</td><td>3.94455</td><td>307</td><td>01/05/2004</td><td>1.39</td><td> 8.90</td><td>0.000</td><td>0.948</td></tr>\n",
       "\t<tr><th scope=row>6</th><td>9378</td><td>46.2218</td><td>3.94455</td><td>307</td><td>01/06/2004</td><td>1.05</td><td>10.28</td><td>0.000</td><td>0.296</td></tr>\n",
       "</tbody>\n",
       "</table>\n"
      ],
      "text/latex": [
       "A data.frame: 6 × 9\n",
       "\\begin{tabular}{r|lllllllll}\n",
       "  & V1 & V2 & V3 & V4 & V5 & V6 & V7 & V8 & V9\\\\\n",
       "  & <int> & <dbl> & <dbl> & <int> & <chr> & <dbl> & <dbl> & <dbl> & <dbl>\\\\\n",
       "\\hline\n",
       "\t1 & 9378 & 46.2218 & 3.94455 & 307 & 01/01/2004 & 7.21 & 15.04 & 0.781 & 0.919\\\\\n",
       "\t2 & 9378 & 46.2218 & 3.94455 & 307 & 01/02/2004 & 6.15 & 14.89 & 0.000 & 0.662\\\\\n",
       "\t3 & 9378 & 46.2218 & 3.94455 & 307 & 01/03/2004 & 5.08 &  5.96 & 0.000 & 0.483\\\\\n",
       "\t4 & 9378 & 46.2218 & 3.94455 & 307 & 01/04/2004 & 0.08 &  8.51 & 0.000 & 0.407\\\\\n",
       "\t5 & 9378 & 46.2218 & 3.94455 & 307 & 01/05/2004 & 1.39 &  8.90 & 0.000 & 0.948\\\\\n",
       "\t6 & 9378 & 46.2218 & 3.94455 & 307 & 01/06/2004 & 1.05 & 10.28 & 0.000 & 0.296\\\\\n",
       "\\end{tabular}\n"
      ],
      "text/markdown": [
       "\n",
       "A data.frame: 6 × 9\n",
       "\n",
       "| <!--/--> | V1 &lt;int&gt; | V2 &lt;dbl&gt; | V3 &lt;dbl&gt; | V4 &lt;int&gt; | V5 &lt;chr&gt; | V6 &lt;dbl&gt; | V7 &lt;dbl&gt; | V8 &lt;dbl&gt; | V9 &lt;dbl&gt; |\n",
       "|---|---|---|---|---|---|---|---|---|---|\n",
       "| 1 | 9378 | 46.2218 | 3.94455 | 307 | 01/01/2004 | 7.21 | 15.04 | 0.781 | 0.919 |\n",
       "| 2 | 9378 | 46.2218 | 3.94455 | 307 | 01/02/2004 | 6.15 | 14.89 | 0.000 | 0.662 |\n",
       "| 3 | 9378 | 46.2218 | 3.94455 | 307 | 01/03/2004 | 5.08 |  5.96 | 0.000 | 0.483 |\n",
       "| 4 | 9378 | 46.2218 | 3.94455 | 307 | 01/04/2004 | 0.08 |  8.51 | 0.000 | 0.407 |\n",
       "| 5 | 9378 | 46.2218 | 3.94455 | 307 | 01/05/2004 | 1.39 |  8.90 | 0.000 | 0.948 |\n",
       "| 6 | 9378 | 46.2218 | 3.94455 | 307 | 01/06/2004 | 1.05 | 10.28 | 0.000 | 0.296 |\n",
       "\n"
      ],
      "text/plain": [
       "  V1   V2      V3      V4  V5         V6   V7    V8    V9   \n",
       "1 9378 46.2218 3.94455 307 01/01/2004 7.21 15.04 0.781 0.919\n",
       "2 9378 46.2218 3.94455 307 01/02/2004 6.15 14.89 0.000 0.662\n",
       "3 9378 46.2218 3.94455 307 01/03/2004 5.08  5.96 0.000 0.483\n",
       "4 9378 46.2218 3.94455 307 01/04/2004 0.08  8.51 0.000 0.407\n",
       "5 9378 46.2218 3.94455 307 01/05/2004 1.39  8.90 0.000 0.948\n",
       "6 9378 46.2218 3.94455 307 01/06/2004 1.05 10.28 0.000 0.296"
      ]
     },
     "metadata": {},
     "output_type": "display_data"
    },
    {
     "data": {
      "text/html": [
       "<table class=\"dataframe\">\n",
       "<caption>A data.frame: 6 × 9</caption>\n",
       "<thead>\n",
       "\t<tr><th></th><th scope=col>V1</th><th scope=col>V2</th><th scope=col>V3</th><th scope=col>V4</th><th scope=col>V5</th><th scope=col>V6</th><th scope=col>V7</th><th scope=col>V8</th><th scope=col>V9</th></tr>\n",
       "\t<tr><th></th><th scope=col>&lt;int&gt;</th><th scope=col>&lt;dbl&gt;</th><th scope=col>&lt;dbl&gt;</th><th scope=col>&lt;int&gt;</th><th scope=col>&lt;chr&gt;</th><th scope=col>&lt;dbl&gt;</th><th scope=col>&lt;dbl&gt;</th><th scope=col>&lt;dbl&gt;</th><th scope=col>&lt;dbl&gt;</th></tr>\n",
       "</thead>\n",
       "<tbody>\n",
       "\t<tr><th scope=row>181897</th><td>13520</td><td>48.3146</td><td>3.46945</td><td>169</td><td>12/26/2004</td><td>5.34</td><td>10.58</td><td>0.000</td><td>0.390</td></tr>\n",
       "\t<tr><th scope=row>181898</th><td>13520</td><td>48.3146</td><td>3.46945</td><td>169</td><td>12/27/2004</td><td>3.94</td><td>10.28</td><td>3.640</td><td>0.357</td></tr>\n",
       "\t<tr><th scope=row>181899</th><td>13520</td><td>48.3146</td><td>3.46945</td><td>169</td><td>12/28/2004</td><td>5.15</td><td> 5.92</td><td>0.974</td><td>0.359</td></tr>\n",
       "\t<tr><th scope=row>181900</th><td>13520</td><td>48.3146</td><td>3.46945</td><td>169</td><td>12/29/2004</td><td>2.48</td><td> 8.95</td><td>0.565</td><td>0.477</td></tr>\n",
       "\t<tr><th scope=row>181901</th><td>13520</td><td>48.3146</td><td>3.46945</td><td>169</td><td>12/30/2004</td><td>4.57</td><td> 7.11</td><td>0.283</td><td>0.278</td></tr>\n",
       "\t<tr><th scope=row>181902</th><td>13520</td><td>48.3146</td><td>3.46945</td><td>169</td><td>12/31/2004</td><td>4.21</td><td> 8.82</td><td>0.000</td><td>0.517</td></tr>\n",
       "</tbody>\n",
       "</table>\n"
      ],
      "text/latex": [
       "A data.frame: 6 × 9\n",
       "\\begin{tabular}{r|lllllllll}\n",
       "  & V1 & V2 & V3 & V4 & V5 & V6 & V7 & V8 & V9\\\\\n",
       "  & <int> & <dbl> & <dbl> & <int> & <chr> & <dbl> & <dbl> & <dbl> & <dbl>\\\\\n",
       "\\hline\n",
       "\t181897 & 13520 & 48.3146 & 3.46945 & 169 & 12/26/2004 & 5.34 & 10.58 & 0.000 & 0.390\\\\\n",
       "\t181898 & 13520 & 48.3146 & 3.46945 & 169 & 12/27/2004 & 3.94 & 10.28 & 3.640 & 0.357\\\\\n",
       "\t181899 & 13520 & 48.3146 & 3.46945 & 169 & 12/28/2004 & 5.15 &  5.92 & 0.974 & 0.359\\\\\n",
       "\t181900 & 13520 & 48.3146 & 3.46945 & 169 & 12/29/2004 & 2.48 &  8.95 & 0.565 & 0.477\\\\\n",
       "\t181901 & 13520 & 48.3146 & 3.46945 & 169 & 12/30/2004 & 4.57 &  7.11 & 0.283 & 0.278\\\\\n",
       "\t181902 & 13520 & 48.3146 & 3.46945 & 169 & 12/31/2004 & 4.21 &  8.82 & 0.000 & 0.517\\\\\n",
       "\\end{tabular}\n"
      ],
      "text/markdown": [
       "\n",
       "A data.frame: 6 × 9\n",
       "\n",
       "| <!--/--> | V1 &lt;int&gt; | V2 &lt;dbl&gt; | V3 &lt;dbl&gt; | V4 &lt;int&gt; | V5 &lt;chr&gt; | V6 &lt;dbl&gt; | V7 &lt;dbl&gt; | V8 &lt;dbl&gt; | V9 &lt;dbl&gt; |\n",
       "|---|---|---|---|---|---|---|---|---|---|\n",
       "| 181897 | 13520 | 48.3146 | 3.46945 | 169 | 12/26/2004 | 5.34 | 10.58 | 0.000 | 0.390 |\n",
       "| 181898 | 13520 | 48.3146 | 3.46945 | 169 | 12/27/2004 | 3.94 | 10.28 | 3.640 | 0.357 |\n",
       "| 181899 | 13520 | 48.3146 | 3.46945 | 169 | 12/28/2004 | 5.15 |  5.92 | 0.974 | 0.359 |\n",
       "| 181900 | 13520 | 48.3146 | 3.46945 | 169 | 12/29/2004 | 2.48 |  8.95 | 0.565 | 0.477 |\n",
       "| 181901 | 13520 | 48.3146 | 3.46945 | 169 | 12/30/2004 | 4.57 |  7.11 | 0.283 | 0.278 |\n",
       "| 181902 | 13520 | 48.3146 | 3.46945 | 169 | 12/31/2004 | 4.21 |  8.82 | 0.000 | 0.517 |\n",
       "\n"
      ],
      "text/plain": [
       "       V1    V2      V3      V4  V5         V6   V7    V8    V9   \n",
       "181897 13520 48.3146 3.46945 169 12/26/2004 5.34 10.58 0.000 0.390\n",
       "181898 13520 48.3146 3.46945 169 12/27/2004 3.94 10.28 3.640 0.357\n",
       "181899 13520 48.3146 3.46945 169 12/28/2004 5.15  5.92 0.974 0.359\n",
       "181900 13520 48.3146 3.46945 169 12/29/2004 2.48  8.95 0.565 0.477\n",
       "181901 13520 48.3146 3.46945 169 12/30/2004 4.57  7.11 0.283 0.278\n",
       "181902 13520 48.3146 3.46945 169 12/31/2004 4.21  8.82 0.000 0.517"
      ]
     },
     "metadata": {},
     "output_type": "display_data"
    }
   ],
   "source": [
    "###########################################################\n",
    "## Lecture et mise en forme des données drias\n",
    "###########################################################\n",
    "\n",
    "## Il faudra que vous ajustiez cela en fonction de vos données\n",
    "\n",
    "\n",
    "driasfile <- \"tasminAdjusttasmaxAdjustprtotAdjustevspsblpotAdjust_France_CNRM-CERFACS-CNRM-CM5_CNRM-ALADIN63_Historical_METEO-FRANCE_ADAMONT-France_SAFRAN_day_20040101-20041231.txt\"\n",
    "mydrias<-read.csv(driasfile, header = FALSE, sep=\",\", skip=60) ## Attention l'argument skip peut varier en fonction des variables récupérées\n",
    "head(mydrias)\n",
    "tail(mydrias)\n"
   ]
  },
  {
   "cell_type": "code",
   "execution_count": 5,
   "id": "00772949-cb18-4b24-a1e8-f9f8fc91d66b",
   "metadata": {},
   "outputs": [
    {
     "data": {
      "text/html": [
       "<table class=\"dataframe\">\n",
       "<caption>A data.frame: 6 × 9</caption>\n",
       "<thead>\n",
       "\t<tr><th></th><th scope=col>idpt</th><th scope=col>lat</th><th scope=col>lon</th><th scope=col>alti</th><th scope=col>date</th><th scope=col>Tn</th><th scope=col>Tx</th><th scope=col>RR</th><th scope=col>ETP</th></tr>\n",
       "\t<tr><th></th><th scope=col>&lt;int&gt;</th><th scope=col>&lt;dbl&gt;</th><th scope=col>&lt;dbl&gt;</th><th scope=col>&lt;int&gt;</th><th scope=col>&lt;chr&gt;</th><th scope=col>&lt;dbl&gt;</th><th scope=col>&lt;dbl&gt;</th><th scope=col>&lt;dbl&gt;</th><th scope=col>&lt;dbl&gt;</th></tr>\n",
       "</thead>\n",
       "<tbody>\n",
       "\t<tr><th scope=row>1</th><td>9378</td><td>46.2218</td><td>3.94455</td><td>307</td><td>01/01/2004</td><td>7.21</td><td>15.04</td><td>0.781</td><td>0.919</td></tr>\n",
       "\t<tr><th scope=row>2</th><td>9378</td><td>46.2218</td><td>3.94455</td><td>307</td><td>01/02/2004</td><td>6.15</td><td>14.89</td><td>0.000</td><td>0.662</td></tr>\n",
       "\t<tr><th scope=row>3</th><td>9378</td><td>46.2218</td><td>3.94455</td><td>307</td><td>01/03/2004</td><td>5.08</td><td> 5.96</td><td>0.000</td><td>0.483</td></tr>\n",
       "\t<tr><th scope=row>4</th><td>9378</td><td>46.2218</td><td>3.94455</td><td>307</td><td>01/04/2004</td><td>0.08</td><td> 8.51</td><td>0.000</td><td>0.407</td></tr>\n",
       "\t<tr><th scope=row>5</th><td>9378</td><td>46.2218</td><td>3.94455</td><td>307</td><td>01/05/2004</td><td>1.39</td><td> 8.90</td><td>0.000</td><td>0.948</td></tr>\n",
       "\t<tr><th scope=row>6</th><td>9378</td><td>46.2218</td><td>3.94455</td><td>307</td><td>01/06/2004</td><td>1.05</td><td>10.28</td><td>0.000</td><td>0.296</td></tr>\n",
       "</tbody>\n",
       "</table>\n"
      ],
      "text/latex": [
       "A data.frame: 6 × 9\n",
       "\\begin{tabular}{r|lllllllll}\n",
       "  & idpt & lat & lon & alti & date & Tn & Tx & RR & ETP\\\\\n",
       "  & <int> & <dbl> & <dbl> & <int> & <chr> & <dbl> & <dbl> & <dbl> & <dbl>\\\\\n",
       "\\hline\n",
       "\t1 & 9378 & 46.2218 & 3.94455 & 307 & 01/01/2004 & 7.21 & 15.04 & 0.781 & 0.919\\\\\n",
       "\t2 & 9378 & 46.2218 & 3.94455 & 307 & 01/02/2004 & 6.15 & 14.89 & 0.000 & 0.662\\\\\n",
       "\t3 & 9378 & 46.2218 & 3.94455 & 307 & 01/03/2004 & 5.08 &  5.96 & 0.000 & 0.483\\\\\n",
       "\t4 & 9378 & 46.2218 & 3.94455 & 307 & 01/04/2004 & 0.08 &  8.51 & 0.000 & 0.407\\\\\n",
       "\t5 & 9378 & 46.2218 & 3.94455 & 307 & 01/05/2004 & 1.39 &  8.90 & 0.000 & 0.948\\\\\n",
       "\t6 & 9378 & 46.2218 & 3.94455 & 307 & 01/06/2004 & 1.05 & 10.28 & 0.000 & 0.296\\\\\n",
       "\\end{tabular}\n"
      ],
      "text/markdown": [
       "\n",
       "A data.frame: 6 × 9\n",
       "\n",
       "| <!--/--> | idpt &lt;int&gt; | lat &lt;dbl&gt; | lon &lt;dbl&gt; | alti &lt;int&gt; | date &lt;chr&gt; | Tn &lt;dbl&gt; | Tx &lt;dbl&gt; | RR &lt;dbl&gt; | ETP &lt;dbl&gt; |\n",
       "|---|---|---|---|---|---|---|---|---|---|\n",
       "| 1 | 9378 | 46.2218 | 3.94455 | 307 | 01/01/2004 | 7.21 | 15.04 | 0.781 | 0.919 |\n",
       "| 2 | 9378 | 46.2218 | 3.94455 | 307 | 01/02/2004 | 6.15 | 14.89 | 0.000 | 0.662 |\n",
       "| 3 | 9378 | 46.2218 | 3.94455 | 307 | 01/03/2004 | 5.08 |  5.96 | 0.000 | 0.483 |\n",
       "| 4 | 9378 | 46.2218 | 3.94455 | 307 | 01/04/2004 | 0.08 |  8.51 | 0.000 | 0.407 |\n",
       "| 5 | 9378 | 46.2218 | 3.94455 | 307 | 01/05/2004 | 1.39 |  8.90 | 0.000 | 0.948 |\n",
       "| 6 | 9378 | 46.2218 | 3.94455 | 307 | 01/06/2004 | 1.05 | 10.28 | 0.000 | 0.296 |\n",
       "\n"
      ],
      "text/plain": [
       "  idpt lat     lon     alti date       Tn   Tx    RR    ETP  \n",
       "1 9378 46.2218 3.94455 307  01/01/2004 7.21 15.04 0.781 0.919\n",
       "2 9378 46.2218 3.94455 307  01/02/2004 6.15 14.89 0.000 0.662\n",
       "3 9378 46.2218 3.94455 307  01/03/2004 5.08  5.96 0.000 0.483\n",
       "4 9378 46.2218 3.94455 307  01/04/2004 0.08  8.51 0.000 0.407\n",
       "5 9378 46.2218 3.94455 307  01/05/2004 1.39  8.90 0.000 0.948\n",
       "6 9378 46.2218 3.94455 307  01/06/2004 1.05 10.28 0.000 0.296"
      ]
     },
     "metadata": {},
     "output_type": "display_data"
    },
    {
     "data": {
      "text/html": [
       "<style>\n",
       ".list-inline {list-style: none; margin:0; padding: 0}\n",
       ".list-inline>li {display: inline-block}\n",
       ".list-inline>li:not(:last-child)::after {content: \"\\00b7\"; padding: 0 .5ex}\n",
       "</style>\n",
       "<ol class=list-inline><li>181902</li><li>9</li></ol>\n"
      ],
      "text/latex": [
       "\\begin{enumerate*}\n",
       "\\item 181902\n",
       "\\item 9\n",
       "\\end{enumerate*}\n"
      ],
      "text/markdown": [
       "1. 181902\n",
       "2. 9\n",
       "\n",
       "\n"
      ],
      "text/plain": [
       "[1] 181902      9"
      ]
     },
     "metadata": {},
     "output_type": "display_data"
    }
   ],
   "source": [
    "## Nom ce colonnes à adapter en fonction de vos données\n",
    "colnames(mydrias) <- c(\"idpt\",\"lat\",\"lon\",\"alti\",\"date\",\"Tn\",\"Tx\",\"RR\",\"ETP\")\n",
    "head(mydrias)\n",
    "dim(mydrias)"
   ]
  },
  {
   "cell_type": "code",
   "execution_count": 6,
   "id": "3494eaf4-62fe-4c26-bbca-2a55f18b30de",
   "metadata": {},
   "outputs": [
    {
     "data": {
      "text/html": [
       "<style>\n",
       ".list-inline {list-style: none; margin:0; padding: 0}\n",
       ".list-inline>li {display: inline-block}\n",
       ".list-inline>li:not(:last-child)::after {content: \"\\00b7\"; padding: 0 .5ex}\n",
       "</style>\n",
       "<ol class=list-inline><li>181902</li><li>9</li></ol>\n"
      ],
      "text/latex": [
       "\\begin{enumerate*}\n",
       "\\item 181902\n",
       "\\item 9\n",
       "\\end{enumerate*}\n"
      ],
      "text/markdown": [
       "1. 181902\n",
       "2. 9\n",
       "\n",
       "\n"
      ],
      "text/plain": [
       "[1] 181902      9"
      ]
     },
     "metadata": {},
     "output_type": "display_data"
    }
   ],
   "source": [
    "###############################################################\n",
    "## Sauvegarde l'ensemble des données Drias au format RData\n",
    "## une fois réalisé les données pourrons directement être chargé avec la fonction load\n",
    "dim(mydrias)\n",
    "save(mydrias, file=\"mydrias.RData\")\n",
    "#### Recharger les données au format RData se fait avec la fonction\n",
    "load(\"mydrias.RData\")"
   ]
  },
  {
   "cell_type": "code",
   "execution_count": 6,
   "id": "82dd257f-1678-49c6-a1bb-93149e8b26b2",
   "metadata": {},
   "outputs": [
    {
     "name": "stdout",
     "output_type": "stream",
     "text": [
      "'data.frame':\t497 obs. of  4 variables:\n",
      " $ idpt: int  9378 9379 9380 9381 9382 9386 9521 9522 9523 9524 ...\n",
      " $ lon : num  3.94 4.05 4.15 4.26 4.36 ...\n",
      " $ lat : num  46.2 46.2 46.2 46.2 46.2 ...\n",
      " $ alti: int  307 298 388 362 489 192 293 286 405 405 ...\n"
     ]
    },
    {
     "data": {
      "text/html": [
       "<style>\n",
       ".list-inline {list-style: none; margin:0; padding: 0}\n",
       ".list-inline>li {display: inline-block}\n",
       ".list-inline>li:not(:last-child)::after {content: \"\\00b7\"; padding: 0 .5ex}\n",
       "</style>\n",
       "<ol class=list-inline><li>497</li><li>4</li></ol>\n"
      ],
      "text/latex": [
       "\\begin{enumerate*}\n",
       "\\item 497\n",
       "\\item 4\n",
       "\\end{enumerate*}\n"
      ],
      "text/markdown": [
       "1. 497\n",
       "2. 4\n",
       "\n",
       "\n"
      ],
      "text/plain": [
       "[1] 497   4"
      ]
     },
     "metadata": {},
     "output_type": "display_data"
    }
   ],
   "source": [
    "## Combien de points de grille ?\n",
    "mydrias.pts <- unique(mydrias[,c(\"idpt\",\"lon\",\"lat\",\"alti\")])\n",
    "str(mydrias.pts)\n",
    "dim(mydrias.pts)\n",
    "## Sauvegarde les points de grille au format csv -> pour récupération avec QGIS\n",
    "write.csv(mydrias.pts,file=\"ptsdrias.csv\",quote=FALSE,row.names=FALSE)\n",
    "\n",
    "## Vérifier avec QGIS que les points du fichier ptsdrias.csv\n",
    "## couvrent la Bourgogne\n"
   ]
  },
  {
   "cell_type": "code",
   "execution_count": 7,
   "id": "e52c83cd-ced3-417b-9f31-f50b79a5f6f2",
   "metadata": {},
   "outputs": [
    {
     "name": "stderr",
     "output_type": "stream",
     "text": [
      "Le chargement a nécessité le package : zoo\n",
      "\n",
      "\n",
      "Attachement du package : ‘zoo’\n",
      "\n",
      "\n",
      "Les objets suivants sont masqués depuis ‘package:base’:\n",
      "\n",
      "    as.Date, as.Date.numeric\n",
      "\n",
      "\n"
     ]
    }
   ],
   "source": [
    "#####################################################################\n",
    "##               Evaluation des données DRIAS\n",
    "#####################################################################\n",
    "## Calcul de la climatologie des données Drias au pas de temps mensuel\n",
    "## pour comparaison avec les données observées des stations Météo France\n",
    "## \n",
    "#####################################################################\n",
    "\n",
    "library(xts) ## charge le package xts\n",
    "\n",
    "## calcul des moyennes mensuelles toutes années confondus\n",
    "\n",
    "## initalise les objets pour l'ensemble des résultats\n",
    "resuTn <- c(); resuTx <- c(); resuRR <- c()\n",
    "\n",
    "## première boucle sur les 497 points Drias\n",
    "for(i in 1:nrow(mydrias.pts)){\n",
    "    tmp <- subset(mydrias,mydrias$idpt==mydrias.pts[i,\"idpt\"])\n",
    "    mydate <- as.Date(as.character(tmp$date),\"%m/%d/%Y\")\n",
    "    tmpxts <- xts(tmp[,c(\"idpt\",\"Tn\",\"Tx\",\"RR\")], order.by=mydate)\n",
    "    ## initialise objet vide pour les moyennes mensuelles\n",
    "    rmoiTn <- c();rmoiTx <- c();rmoiRR <- c()\n",
    "    \n",
    "    ## Deuxième boucle sur les mois\n",
    "    for(j in 1:12){\n",
    "        moi <- tmpxts[.indexmon(tmpxts) %in% (j-1)]\n",
    "        rmoiTn <- cbind(rmoiTn,colMeans(moi[,\"Tn\"]))\n",
    "        rmoiTx <- cbind(rmoiTx,colMeans(moi[,\"Tx\"]))\n",
    "        tmprr <- apply.monthly(moi[,\"RR\"],sum)\n",
    "        rmoiRR <- cbind(rmoiRR,colMeans(tmprr))\n",
    "        }\n",
    "    resuTn <- rbind(resuTn,rmoiTn)\n",
    "    resuTx <- rbind(resuTx,rmoiTx)\n",
    "    resuRR <- rbind(resuRR,rmoiRR)\n",
    "}"
   ]
  },
  {
   "cell_type": "code",
   "execution_count": 10,
   "id": "dbc84fa8-d1f7-4bc6-b404-3a563a87fdc8",
   "metadata": {},
   "outputs": [
    {
     "data": {
      "text/html": [
       "<style>\n",
       ".list-inline {list-style: none; margin:0; padding: 0}\n",
       ".list-inline>li {display: inline-block}\n",
       ".list-inline>li:not(:last-child)::after {content: \"\\00b7\"; padding: 0 .5ex}\n",
       "</style>\n",
       "<ol class=list-inline><li>497</li><li>12</li></ol>\n"
      ],
      "text/latex": [
       "\\begin{enumerate*}\n",
       "\\item 497\n",
       "\\item 12\n",
       "\\end{enumerate*}\n"
      ],
      "text/markdown": [
       "1. 497\n",
       "2. 12\n",
       "\n",
       "\n"
      ],
      "text/plain": [
       "[1] 497  12"
      ]
     },
     "metadata": {},
     "output_type": "display_data"
    },
    {
     "data": {
      "text/html": [
       "<table class=\"dataframe\">\n",
       "<caption>A matrix: 6 × 12 of type dbl</caption>\n",
       "<thead>\n",
       "\t<tr><th></th><th scope=col>Jan</th><th scope=col>Feb</th><th scope=col>Mar</th><th scope=col>Apr</th><th scope=col>May</th><th scope=col>Jun</th><th scope=col>Jul</th><th scope=col>Aug</th><th scope=col>Sep</th><th scope=col>Oct</th><th scope=col>Nov</th><th scope=col>Dec</th></tr>\n",
       "</thead>\n",
       "<tbody>\n",
       "\t<tr><th scope=row>RR</th><td>47.481</td><td>67.583</td><td>107.688</td><td>28.029</td><td>154.300</td><td>48.761</td><td>43.848</td><td>51.392</td><td>118.738</td><td>57.591</td><td>52.243</td><td>42.238</td></tr>\n",
       "\t<tr><th scope=row>RR</th><td>47.308</td><td>67.115</td><td>107.011</td><td>27.943</td><td>153.919</td><td>48.573</td><td>43.662</td><td>51.196</td><td>118.547</td><td>57.422</td><td>52.011</td><td>42.254</td></tr>\n",
       "\t<tr><th scope=row>RR</th><td>62.176</td><td>71.116</td><td>102.750</td><td>26.541</td><td>166.334</td><td>57.782</td><td>59.654</td><td>43.487</td><td>128.143</td><td>52.442</td><td>45.970</td><td>48.646</td></tr>\n",
       "\t<tr><th scope=row>RR</th><td>65.227</td><td>65.449</td><td> 90.159</td><td>22.818</td><td>144.154</td><td>50.246</td><td>62.291</td><td>36.189</td><td>107.827</td><td>47.311</td><td>45.132</td><td>41.245</td></tr>\n",
       "\t<tr><th scope=row>RR</th><td>66.134</td><td>65.692</td><td>100.051</td><td>24.057</td><td>149.391</td><td>52.962</td><td>65.787</td><td>38.301</td><td>113.033</td><td>49.458</td><td>47.485</td><td>44.579</td></tr>\n",
       "\t<tr><th scope=row>RR</th><td>56.879</td><td>75.259</td><td> 79.632</td><td>15.864</td><td>119.616</td><td>25.555</td><td>38.417</td><td>21.263</td><td>127.714</td><td>83.306</td><td>60.222</td><td>48.223</td></tr>\n",
       "</tbody>\n",
       "</table>\n"
      ],
      "text/latex": [
       "A matrix: 6 × 12 of type dbl\n",
       "\\begin{tabular}{r|llllllllllll}\n",
       "  & Jan & Feb & Mar & Apr & May & Jun & Jul & Aug & Sep & Oct & Nov & Dec\\\\\n",
       "\\hline\n",
       "\tRR & 47.481 & 67.583 & 107.688 & 28.029 & 154.300 & 48.761 & 43.848 & 51.392 & 118.738 & 57.591 & 52.243 & 42.238\\\\\n",
       "\tRR & 47.308 & 67.115 & 107.011 & 27.943 & 153.919 & 48.573 & 43.662 & 51.196 & 118.547 & 57.422 & 52.011 & 42.254\\\\\n",
       "\tRR & 62.176 & 71.116 & 102.750 & 26.541 & 166.334 & 57.782 & 59.654 & 43.487 & 128.143 & 52.442 & 45.970 & 48.646\\\\\n",
       "\tRR & 65.227 & 65.449 &  90.159 & 22.818 & 144.154 & 50.246 & 62.291 & 36.189 & 107.827 & 47.311 & 45.132 & 41.245\\\\\n",
       "\tRR & 66.134 & 65.692 & 100.051 & 24.057 & 149.391 & 52.962 & 65.787 & 38.301 & 113.033 & 49.458 & 47.485 & 44.579\\\\\n",
       "\tRR & 56.879 & 75.259 &  79.632 & 15.864 & 119.616 & 25.555 & 38.417 & 21.263 & 127.714 & 83.306 & 60.222 & 48.223\\\\\n",
       "\\end{tabular}\n"
      ],
      "text/markdown": [
       "\n",
       "A matrix: 6 × 12 of type dbl\n",
       "\n",
       "| <!--/--> | Jan | Feb | Mar | Apr | May | Jun | Jul | Aug | Sep | Oct | Nov | Dec |\n",
       "|---|---|---|---|---|---|---|---|---|---|---|---|---|\n",
       "| RR | 47.481 | 67.583 | 107.688 | 28.029 | 154.300 | 48.761 | 43.848 | 51.392 | 118.738 | 57.591 | 52.243 | 42.238 |\n",
       "| RR | 47.308 | 67.115 | 107.011 | 27.943 | 153.919 | 48.573 | 43.662 | 51.196 | 118.547 | 57.422 | 52.011 | 42.254 |\n",
       "| RR | 62.176 | 71.116 | 102.750 | 26.541 | 166.334 | 57.782 | 59.654 | 43.487 | 128.143 | 52.442 | 45.970 | 48.646 |\n",
       "| RR | 65.227 | 65.449 |  90.159 | 22.818 | 144.154 | 50.246 | 62.291 | 36.189 | 107.827 | 47.311 | 45.132 | 41.245 |\n",
       "| RR | 66.134 | 65.692 | 100.051 | 24.057 | 149.391 | 52.962 | 65.787 | 38.301 | 113.033 | 49.458 | 47.485 | 44.579 |\n",
       "| RR | 56.879 | 75.259 |  79.632 | 15.864 | 119.616 | 25.555 | 38.417 | 21.263 | 127.714 | 83.306 | 60.222 | 48.223 |\n",
       "\n"
      ],
      "text/plain": [
       "   Jan    Feb    Mar     Apr    May     Jun    Jul    Aug    Sep     Oct   \n",
       "RR 47.481 67.583 107.688 28.029 154.300 48.761 43.848 51.392 118.738 57.591\n",
       "RR 47.308 67.115 107.011 27.943 153.919 48.573 43.662 51.196 118.547 57.422\n",
       "RR 62.176 71.116 102.750 26.541 166.334 57.782 59.654 43.487 128.143 52.442\n",
       "RR 65.227 65.449  90.159 22.818 144.154 50.246 62.291 36.189 107.827 47.311\n",
       "RR 66.134 65.692 100.051 24.057 149.391 52.962 65.787 38.301 113.033 49.458\n",
       "RR 56.879 75.259  79.632 15.864 119.616 25.555 38.417 21.263 127.714 83.306\n",
       "   Nov    Dec   \n",
       "RR 52.243 42.238\n",
       "RR 52.011 42.254\n",
       "RR 45.970 48.646\n",
       "RR 45.132 41.245\n",
       "RR 47.485 44.579\n",
       "RR 60.222 48.223"
      ]
     },
     "metadata": {},
     "output_type": "display_data"
    }
   ],
   "source": [
    "## Ajoute les noms des colonnes\n",
    "colnames(resuTn) <- month.abb\n",
    "colnames(resuTx) <- month.abb\n",
    "colnames(resuRR) <- month.abb\n",
    "##################################################################\n",
    "dim(resuRR)\n",
    "head(resuRR)\n",
    "#str(mydrias)"
   ]
  },
  {
   "cell_type": "code",
   "execution_count": 17,
   "id": "dc022e3e-01ee-4cda-b7e6-499dc496a3b3",
   "metadata": {},
   "outputs": [
    {
     "data": {
      "image/png": "[encoded data removed]",
      "text/plain": [
       "plot without title"
      ]
     },
     "metadata": {
      "image/png": {
       "height": 420,
       "width": 420
      }
     },
     "output_type": "display_data"
    }
   ],
   "source": [
    "######################################################################\n",
    "## Vérifier avec un graphique que les résultats pour la température\n",
    "## sont cohérents\n",
    "######################################################################\n",
    "\n",
    "plot(resuTx[1,], type=\"l\") ## Trace le cycle annuel des Tx pour la 1er point de grille\n"
   ]
  },
  {
   "cell_type": "code",
   "execution_count": 18,
   "id": "5b4de0aa-31b9-4785-9c85-855013b3d436",
   "metadata": {},
   "outputs": [],
   "source": [
    "######################################################################\n",
    "## Sauvegarde des données DRIAS -- moyennes mensuelles\n",
    "#####################################################################\n",
    "\n",
    "save(resuTn,resuTx,resuRR,mydrias.pts,\n",
    "     file = \"DriasData_mois.RData\")\n"
   ]
  },
  {
   "cell_type": "code",
   "execution_count": null,
   "id": "9bb78895-4cf9-4938-9014-385c5e24e0fc",
   "metadata": {},
   "outputs": [],
   "source": []
  }
 ],
 "metadata": {
  "kernelspec": {
   "display_name": "R",
   "language": "R",
   "name": "ir"
  },
  "language_info": {
   "codemirror_mode": "r",
   "file_extension": ".r",
   "mimetype": "text/x-r-source",
   "name": "R",
   "pygments_lexer": "r",
   "version": "4.4.1"
  }
 },
 "nbformat": 4,
 "nbformat_minor": 5
}
