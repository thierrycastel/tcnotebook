{
 "cells": [
  {
   "cell_type": "code",
   "execution_count": 1,
   "metadata": {},
   "outputs": [
    {
     "data": {
      "text/html": [
       "<table>\n",
       "<caption>A data.frame: 6 × 9</caption>\n",
       "<thead>\n",
       "\t<tr><th></th><th scope=col>date</th><th scope=col>idpt</th><th scope=col>lat</th><th scope=col>lon</th><th scope=col>alti</th><th scope=col>Tn</th><th scope=col>Tx</th><th scope=col>Tm</th><th scope=col>RR</th></tr>\n",
       "\t<tr><th></th><th scope=col>&lt;chr&gt;</th><th scope=col>&lt;int&gt;</th><th scope=col>&lt;dbl&gt;</th><th scope=col>&lt;dbl&gt;</th><th scope=col>&lt;int&gt;</th><th scope=col>&lt;dbl&gt;</th><th scope=col>&lt;dbl&gt;</th><th scope=col>&lt;dbl&gt;</th><th scope=col>&lt;dbl&gt;</th></tr>\n",
       "</thead>\n",
       "<tbody>\n",
       "\t<tr><th scope=row>1</th><td>01/01/1975</td><td>9378</td><td>46.2218</td><td>3.94455</td><td>302</td><td>-3.32</td><td> 2.16</td><td>-0.78</td><td>0.00</td></tr>\n",
       "\t<tr><th scope=row>2</th><td>02/01/1975</td><td>9378</td><td>46.2218</td><td>3.94455</td><td>302</td><td>-3.17</td><td> 2.93</td><td>-0.90</td><td>0.00</td></tr>\n",
       "\t<tr><th scope=row>3</th><td>03/01/1975</td><td>9378</td><td>46.2218</td><td>3.94455</td><td>302</td><td>-4.36</td><td>-1.67</td><td>-2.78</td><td>0.00</td></tr>\n",
       "\t<tr><th scope=row>4</th><td>04/01/1975</td><td>9378</td><td>46.2218</td><td>3.94455</td><td>302</td><td>-5.40</td><td>-0.32</td><td>-3.27</td><td>0.00</td></tr>\n",
       "\t<tr><th scope=row>5</th><td>05/01/1975</td><td>9378</td><td>46.2218</td><td>3.94455</td><td>302</td><td>-2.70</td><td> 2.52</td><td>-0.02</td><td>1.06</td></tr>\n",
       "\t<tr><th scope=row>6</th><td>06/01/1975</td><td>9378</td><td>46.2218</td><td>3.94455</td><td>302</td><td>-2.41</td><td> 4.47</td><td> 1.06</td><td>0.00</td></tr>\n",
       "</tbody>\n",
       "</table>\n"
      ],
      "text/latex": [
       "A data.frame: 6 × 9\n",
       "\\begin{tabular}{r|lllllllll}\n",
       "  & date & idpt & lat & lon & alti & Tn & Tx & Tm & RR\\\\\n",
       "  & <chr> & <int> & <dbl> & <dbl> & <int> & <dbl> & <dbl> & <dbl> & <dbl>\\\\\n",
       "\\hline\n",
       "\t1 & 01/01/1975 & 9378 & 46.2218 & 3.94455 & 302 & -3.32 &  2.16 & -0.78 & 0.00\\\\\n",
       "\t2 & 02/01/1975 & 9378 & 46.2218 & 3.94455 & 302 & -3.17 &  2.93 & -0.90 & 0.00\\\\\n",
       "\t3 & 03/01/1975 & 9378 & 46.2218 & 3.94455 & 302 & -4.36 & -1.67 & -2.78 & 0.00\\\\\n",
       "\t4 & 04/01/1975 & 9378 & 46.2218 & 3.94455 & 302 & -5.40 & -0.32 & -3.27 & 0.00\\\\\n",
       "\t5 & 05/01/1975 & 9378 & 46.2218 & 3.94455 & 302 & -2.70 &  2.52 & -0.02 & 1.06\\\\\n",
       "\t6 & 06/01/1975 & 9378 & 46.2218 & 3.94455 & 302 & -2.41 &  4.47 &  1.06 & 0.00\\\\\n",
       "\\end{tabular}\n"
      ],
      "text/markdown": [
       "\n",
       "A data.frame: 6 × 9\n",
       "\n",
       "| <!--/--> | date &lt;chr&gt; | idpt &lt;int&gt; | lat &lt;dbl&gt; | lon &lt;dbl&gt; | alti &lt;int&gt; | Tn &lt;dbl&gt; | Tx &lt;dbl&gt; | Tm &lt;dbl&gt; | RR &lt;dbl&gt; |\n",
       "|---|---|---|---|---|---|---|---|---|---|\n",
       "| 1 | 01/01/1975 | 9378 | 46.2218 | 3.94455 | 302 | -3.32 |  2.16 | -0.78 | 0.00 |\n",
       "| 2 | 02/01/1975 | 9378 | 46.2218 | 3.94455 | 302 | -3.17 |  2.93 | -0.90 | 0.00 |\n",
       "| 3 | 03/01/1975 | 9378 | 46.2218 | 3.94455 | 302 | -4.36 | -1.67 | -2.78 | 0.00 |\n",
       "| 4 | 04/01/1975 | 9378 | 46.2218 | 3.94455 | 302 | -5.40 | -0.32 | -3.27 | 0.00 |\n",
       "| 5 | 05/01/1975 | 9378 | 46.2218 | 3.94455 | 302 | -2.70 |  2.52 | -0.02 | 1.06 |\n",
       "| 6 | 06/01/1975 | 9378 | 46.2218 | 3.94455 | 302 | -2.41 |  4.47 |  1.06 | 0.00 |\n",
       "\n"
      ],
      "text/plain": [
       "  date       idpt lat     lon     alti Tn    Tx    Tm    RR  \n",
       "1 01/01/1975 9378 46.2218 3.94455 302  -3.32  2.16 -0.78 0.00\n",
       "2 02/01/1975 9378 46.2218 3.94455 302  -3.17  2.93 -0.90 0.00\n",
       "3 03/01/1975 9378 46.2218 3.94455 302  -4.36 -1.67 -2.78 0.00\n",
       "4 04/01/1975 9378 46.2218 3.94455 302  -5.40 -0.32 -3.27 0.00\n",
       "5 05/01/1975 9378 46.2218 3.94455 302  -2.70  2.52 -0.02 1.06\n",
       "6 06/01/1975 9378 46.2218 3.94455 302  -2.41  4.47  1.06 0.00"
      ]
     },
     "metadata": {},
     "output_type": "display_data"
    }
   ],
   "source": [
    "setwd(\"../Data\")\n",
    "\n",
    "mydrias<-read.csv(\"tasmintasmaxtaspr_metro_IPSL_WRF_histo_QT_REF_19750101-19851231.txt\", header = FALSE, sep=\";\", skip=62)\n",
    "#mydrias <- read.csv(\"tasmintasmaxtaspr_metro_IPSL_WRF_histo_QT_REF_19750101-19851231.txt\", header = FALSE, skip=62)\n",
    "\n",
    "colnames(mydrias) <- c(\"date\",\"idpt\",\"lat\",\"lon\",\"alti\",\"Tn\",\"Tx\",\"Tm\",\"RR\") ## A adapter en fonction de vos données\n",
    "head(mydrias)"
   ]
  },
  {
   "cell_type": "code",
   "execution_count": 2,
   "metadata": {},
   "outputs": [
    {
     "data": {
      "text/html": [
       "<style>\n",
       ".list-inline {list-style: none; margin:0; padding: 0}\n",
       ".list-inline>li {display: inline-block}\n",
       ".list-inline>li:not(:last-child)::after {content: \"\\00b7\"; padding: 0 .5ex}\n",
       "</style>\n",
       "<ol class=list-inline><li>1996946</li><li>9</li></ol>\n"
      ],
      "text/latex": [
       "\\begin{enumerate*}\n",
       "\\item 1996946\n",
       "\\item 9\n",
       "\\end{enumerate*}\n"
      ],
      "text/markdown": [
       "1. 1996946\n",
       "2. 9\n",
       "\n",
       "\n"
      ],
      "text/plain": [
       "[1] 1996946       9"
      ]
     },
     "metadata": {},
     "output_type": "display_data"
    }
   ],
   "source": [
    "dim(mydrias)"
   ]
  },
  {
   "cell_type": "code",
   "execution_count": 3,
   "metadata": {},
   "outputs": [],
   "source": [
    "## ajout des jours juliens au dataframe mydrias qui contient les données climat\n",
    "## attention ici de bien vérifier comment vos dates sont organisées\n",
    "mydrias$doi <- as.integer(format(as.Date(as.character(mydrias$date),\"%d/%m/%Y\"),\"%j\"))"
   ]
  },
  {
   "cell_type": "code",
   "execution_count": 4,
   "metadata": {},
   "outputs": [],
   "source": [
    "### Pour eviter d'avoir à chaque fois à lancer les lignes précendentes\n",
    "### nous allons sauvegarder l'objet mydrias dand le format des fichiers R\n",
    "save(mydrias, file = \"mydrias.RData\")"
   ]
  },
  {
   "cell_type": "code",
   "execution_count": 5,
   "metadata": {},
   "outputs": [],
   "source": [
    "load(\"../Data/mydrias.RData\")\n"
   ]
  },
  {
   "cell_type": "code",
   "execution_count": 6,
   "metadata": {},
   "outputs": [
    {
     "data": {
      "text/html": [
       "1553"
      ],
      "text/latex": [
       "1553"
      ],
      "text/markdown": [
       "1553"
      ],
      "text/plain": [
       "[1] 1553"
      ]
     },
     "metadata": {},
     "output_type": "display_data"
    }
   ],
   "source": [
    "## Vérification que Tx > Tn\n",
    "indn <- which(mydrias$Tn>mydrias$Tx)\n",
    "length(mydrias$Tx[indn])\n",
    "## si length(mydrias$Tx[indn]) > 0 donc il y a des jours pour lesquels\n",
    "## Tn > Tx ce qui est bien évidemment un problème et pose question\n",
    "## A votre avis à quoi cela peut-il être du ?"
   ]
  },
  {
   "cell_type": "code",
   "execution_count": 7,
   "metadata": {},
   "outputs": [],
   "source": [
    "## Charge la fonction de calcul de l'ETP Hargreaves\n",
    "source(\"../FonctionsR/ETPHargreaves.R\")"
   ]
  },
  {
   "cell_type": "code",
   "execution_count": 8,
   "metadata": {},
   "outputs": [
    {
     "data": {
      "text/html": [
       "<style>\n",
       ".list-inline {list-style: none; margin:0; padding: 0}\n",
       ".list-inline>li {display: inline-block}\n",
       ".list-inline>li:not(:last-child)::after {content: \"\\00b7\"; padding: 0 .5ex}\n",
       "</style>\n",
       "<ol class=list-inline><li>'etht'</li><li>'etmh'</li><li>'indn'</li><li>'mydrias'</li></ol>\n"
      ],
      "text/latex": [
       "\\begin{enumerate*}\n",
       "\\item 'etht'\n",
       "\\item 'etmh'\n",
       "\\item 'indn'\n",
       "\\item 'mydrias'\n",
       "\\end{enumerate*}\n"
      ],
      "text/markdown": [
       "1. 'etht'\n",
       "2. 'etmh'\n",
       "3. 'indn'\n",
       "4. 'mydrias'\n",
       "\n",
       "\n"
      ],
      "text/plain": [
       "[1] \"etht\"    \"etmh\"    \"indn\"    \"mydrias\""
      ]
     },
     "metadata": {},
     "output_type": "display_data"
    }
   ],
   "source": [
    "ls() ## liste des objets chargés dans "
   ]
  },
  {
   "cell_type": "code",
   "execution_count": 9,
   "metadata": {},
   "outputs": [
    {
     "data": {
      "text/html": [
       "<pre class=language-r><code>function (tn, tx, latdeg, doy, a = 0.0023) \n",
       "{\n",
       "<span style=white-space:pre-wrap>    lat = latdeg * pi/180</span>\n",
       "<span style=white-space:pre-wrap>    gsc = 0.082</span>\n",
       "<span style=white-space:pre-wrap>    t_m = (tn + tx)/2</span>\n",
       "<span style=white-space:pre-wrap>    d_r = 1 + 0.033 * cos(2 * pi * doy/365)</span>\n",
       "<span style=white-space:pre-wrap>    del = 0.409 * sin(2 * pi * doy/365 - 1.39)</span>\n",
       "<span style=white-space:pre-wrap>    om = acos(-tan(lat) * tan(del))</span>\n",
       "<span style=white-space:pre-wrap>    om[is.nan(om)] &lt;- c(pi - 10^-9, 10^-9)[((latdeg[is.nan(om)] * </span>\n",
       "<span style=white-space:pre-wrap>        del) &lt; 0) + 1]</span>\n",
       "<span style=white-space:pre-wrap>    Ga = ((24 * 60)/pi) * gsc * d_r * (om * sin(lat) * sin(del) + </span>\n",
       "<span style=white-space:pre-wrap>        cos(lat) * cos(del) * sin(om))</span>\n",
       "<span style=white-space:pre-wrap>    Ga[Ga &lt; 0] &lt;- 0</span>\n",
       "<span style=white-space:pre-wrap>    et0 = a * Ga/2.45 * (t_m + 17.8) * sqrt(tx - tn)</span>\n",
       "<span style=white-space:pre-wrap>    et0 = pmax(et0, 0)</span>\n",
       "<span style=white-space:pre-wrap>    return(et0)</span>\n",
       "}</code></pre>"
      ],
      "text/latex": [
       "\\begin{minted}{r}\n",
       "function (tn, tx, latdeg, doy, a = 0.0023) \n",
       "\\{\n",
       "    lat = latdeg * pi/180\n",
       "    gsc = 0.082\n",
       "    t\\_m = (tn + tx)/2\n",
       "    d\\_r = 1 + 0.033 * cos(2 * pi * doy/365)\n",
       "    del = 0.409 * sin(2 * pi * doy/365 - 1.39)\n",
       "    om = acos(-tan(lat) * tan(del))\n",
       "    om{[}is.nan(om){]} <- c(pi - 10\\textasciicircum{}-9, 10\\textasciicircum{}-9){[}((latdeg{[}is.nan(om){]} * \n",
       "        del) < 0) + 1{]}\n",
       "    Ga = ((24 * 60)/pi) * gsc * d\\_r * (om * sin(lat) * sin(del) + \n",
       "        cos(lat) * cos(del) * sin(om))\n",
       "    Ga{[}Ga < 0{]} <- 0\n",
       "    et0 = a * Ga/2.45 * (t\\_m + 17.8) * sqrt(tx - tn)\n",
       "    et0 = pmax(et0, 0)\n",
       "    return(et0)\n",
       "\\}\n",
       "\\end{minted}"
      ],
      "text/markdown": [
       "```r\n",
       "function (tn, tx, latdeg, doy, a = 0.0023) \n",
       "{\n",
       "    lat = latdeg * pi/180\n",
       "    gsc = 0.082\n",
       "    t_m = (tn + tx)/2\n",
       "    d_r = 1 + 0.033 * cos(2 * pi * doy/365)\n",
       "    del = 0.409 * sin(2 * pi * doy/365 - 1.39)\n",
       "    om = acos(-tan(lat) * tan(del))\n",
       "    om[is.nan(om)] <- c(pi - 10^-9, 10^-9)[((latdeg[is.nan(om)] * \n",
       "        del) < 0) + 1]\n",
       "    Ga = ((24 * 60)/pi) * gsc * d_r * (om * sin(lat) * sin(del) + \n",
       "        cos(lat) * cos(del) * sin(om))\n",
       "    Ga[Ga < 0] <- 0\n",
       "    et0 = a * Ga/2.45 * (t_m + 17.8) * sqrt(tx - tn)\n",
       "    et0 = pmax(et0, 0)\n",
       "    return(et0)\n",
       "}\n",
       "```"
      ],
      "text/plain": [
       "function (tn, tx, latdeg, doy, a = 0.0023) \n",
       "{\n",
       "    lat = latdeg * pi/180\n",
       "    gsc = 0.082\n",
       "    t_m = (tn + tx)/2\n",
       "    d_r = 1 + 0.033 * cos(2 * pi * doy/365)\n",
       "    del = 0.409 * sin(2 * pi * doy/365 - 1.39)\n",
       "    om = acos(-tan(lat) * tan(del))\n",
       "    om[is.nan(om)] <- c(pi - 10^-9, 10^-9)[((latdeg[is.nan(om)] * \n",
       "        del) < 0) + 1]\n",
       "    Ga = ((24 * 60)/pi) * gsc * d_r * (om * sin(lat) * sin(del) + \n",
       "        cos(lat) * cos(del) * sin(om))\n",
       "    Ga[Ga < 0] <- 0\n",
       "    et0 = a * Ga/2.45 * (t_m + 17.8) * sqrt(tx - tn)\n",
       "    et0 = pmax(et0, 0)\n",
       "    return(et0)\n",
       "}"
      ]
     },
     "metadata": {},
     "output_type": "display_data"
    }
   ],
   "source": [
    "etht ## détail sur la fonction de calcul de l'ETP"
   ]
  },
  {
   "cell_type": "code",
   "execution_count": 10,
   "metadata": {},
   "outputs": [],
   "source": [
    "## La fonction etht calcule l'ETP au pas de temps journalier\n",
    "## les arguments de la fonction sont : tn, tx, latitude en degré décimal et jour de l'année\n",
    "## Nous utiliserons ici la fonction de R mapply qui permet d'appliquer itérativement une fontion\n",
    "## nécessitant plusieurs argument. Cette fonction évite donc l'utilisation de boucle for moins efficace \n",
    "## en particulier pour des gros dataframes\n",
    "## utilisation de la fonction suppressWarnings afin d'éviter l'affichage des messages d'alerte\n",
    "\n",
    "suppressWarnings(ETP0 <- mapply(etht, tn=mydrias$Tn, tx=mydrias$Tx, latdeg=mydrias$lat, doy=mydrias$doi))"
   ]
  },
  {
   "cell_type": "code",
   "execution_count": 11,
   "metadata": {},
   "outputs": [
    {
     "data": {
      "text/html": [
       "1553"
      ],
      "text/latex": [
       "1553"
      ],
      "text/markdown": [
       "1553"
      ],
      "text/plain": [
       "[1] 1553"
      ]
     },
     "metadata": {},
     "output_type": "display_data"
    }
   ],
   "source": [
    "## check des résultats vérification de présence de NaN\n",
    "## NaN problème dans le calcul lié au fait que pour certains jours\n",
    "## tn > tx\n",
    "length(which(is.nan(ETP0)))"
   ]
  },
  {
   "cell_type": "code",
   "execution_count": 12,
   "metadata": {},
   "outputs": [],
   "source": [
    "## si présence de NaN -> remplace NaN par des NA\n",
    "ETP0[is.nan(ETP0)] <- NA"
   ]
  },
  {
   "cell_type": "code",
   "execution_count": 13,
   "metadata": {},
   "outputs": [
    {
     "name": "stderr",
     "output_type": "stream",
     "text": [
      "\n",
      "Attaching package: ‘zoo’\n",
      "\n",
      "\n",
      "The following objects are masked from ‘package:base’:\n",
      "\n",
      "    as.Date, as.Date.numeric\n",
      "\n",
      "\n"
     ]
    }
   ],
   "source": [
    "## Charge la librairie zoo afin d'utiliser la fonction na.approx pour remplacer\n",
    "## les NAs par une valeur approximée par une méthode d'interpolation linéaire\n",
    "library(zoo)"
   ]
  },
  {
   "cell_type": "code",
   "execution_count": 14,
   "metadata": {},
   "outputs": [
    {
     "data": {
      "text/html": [
       "0"
      ],
      "text/latex": [
       "0"
      ],
      "text/markdown": [
       "0"
      ],
      "text/plain": [
       "[1] 0"
      ]
     },
     "metadata": {},
     "output_type": "display_data"
    }
   ],
   "source": [
    "## Remplacement des NAs par interpolation linéaire\n",
    "ETP0 <- na.approx(ETP0)\n",
    "length(which(is.nan(ETP0)))"
   ]
  },
  {
   "cell_type": "code",
   "execution_count": 15,
   "metadata": {},
   "outputs": [
    {
     "data": {
      "image/png": "[encoded data removed]",
      "text/plain": [
       "plot without title"
      ]
     },
     "metadata": {
      "image/png": {
       "height": 420,
       "width": 420
      }
     },
     "output_type": "display_data"
    }
   ],
   "source": [
    "## Vérification des résultats. Trace les valeurs d'ETP pour les 365 premiers jours\n",
    "## Cela vous parait-il cohérent ?\n",
    "plot(ETP0[1:365],type=\"l\")"
   ]
  },
  {
   "cell_type": "code",
   "execution_count": 16,
   "metadata": {},
   "outputs": [
    {
     "data": {
      "text/html": [
       "<style>\n",
       ".list-inline {list-style: none; margin:0; padding: 0}\n",
       ".list-inline>li {display: inline-block}\n",
       ".list-inline>li:not(:last-child)::after {content: \"\\00b7\"; padding: 0 .5ex}\n",
       "</style>\n",
       "<ol class=list-inline><li>'etht'</li><li>'etmh'</li><li>'ETP0'</li><li>'indn'</li><li>'mydrias'</li></ol>\n"
      ],
      "text/latex": [
       "\\begin{enumerate*}\n",
       "\\item 'etht'\n",
       "\\item 'etmh'\n",
       "\\item 'ETP0'\n",
       "\\item 'indn'\n",
       "\\item 'mydrias'\n",
       "\\end{enumerate*}\n"
      ],
      "text/markdown": [
       "1. 'etht'\n",
       "2. 'etmh'\n",
       "3. 'ETP0'\n",
       "4. 'indn'\n",
       "5. 'mydrias'\n",
       "\n",
       "\n"
      ],
      "text/plain": [
       "[1] \"etht\"    \"etmh\"    \"ETP0\"    \"indn\"    \"mydrias\""
      ]
     },
     "metadata": {},
     "output_type": "display_data"
    }
   ],
   "source": [
    "ls()"
   ]
  },
  {
   "cell_type": "code",
   "execution_count": 17,
   "metadata": {},
   "outputs": [],
   "source": [
    "#### Ajout de l'ETP au dataframe mydrias\n",
    "mydrias$ETP <- ETP0"
   ]
  },
  {
   "cell_type": "code",
   "execution_count": 18,
   "metadata": {},
   "outputs": [
    {
     "data": {
      "text/html": [
       "<table>\n",
       "<caption>A data.frame: 6 × 11</caption>\n",
       "<thead>\n",
       "\t<tr><th></th><th scope=col>date</th><th scope=col>idpt</th><th scope=col>lat</th><th scope=col>lon</th><th scope=col>alti</th><th scope=col>Tn</th><th scope=col>Tx</th><th scope=col>Tm</th><th scope=col>RR</th><th scope=col>doi</th><th scope=col>ETP</th></tr>\n",
       "\t<tr><th></th><th scope=col>&lt;chr&gt;</th><th scope=col>&lt;int&gt;</th><th scope=col>&lt;dbl&gt;</th><th scope=col>&lt;dbl&gt;</th><th scope=col>&lt;int&gt;</th><th scope=col>&lt;dbl&gt;</th><th scope=col>&lt;dbl&gt;</th><th scope=col>&lt;dbl&gt;</th><th scope=col>&lt;dbl&gt;</th><th scope=col>&lt;int&gt;</th><th scope=col>&lt;dbl&gt;</th></tr>\n",
       "</thead>\n",
       "<tbody>\n",
       "\t<tr><th scope=row>1</th><td>01/01/1975</td><td>9378</td><td>46.2218</td><td>3.94455</td><td>302</td><td>-3.32</td><td> 2.16</td><td>-0.78</td><td>0.00</td><td>1</td><td>0.3786427</td></tr>\n",
       "\t<tr><th scope=row>2</th><td>02/01/1975</td><td>9378</td><td>46.2218</td><td>3.94455</td><td>302</td><td>-3.17</td><td> 2.93</td><td>-0.90</td><td>0.00</td><td>2</td><td>0.4124123</td></tr>\n",
       "\t<tr><th scope=row>3</th><td>03/01/1975</td><td>9378</td><td>46.2218</td><td>3.94455</td><td>302</td><td>-4.36</td><td>-1.67</td><td>-2.78</td><td>0.00</td><td>3</td><td>0.2303775</td></tr>\n",
       "\t<tr><th scope=row>4</th><td>04/01/1975</td><td>9378</td><td>46.2218</td><td>3.94455</td><td>302</td><td>-5.40</td><td>-0.32</td><td>-3.27</td><td>0.00</td><td>4</td><td>0.3219287</td></tr>\n",
       "\t<tr><th scope=row>5</th><td>05/01/1975</td><td>9378</td><td>46.2218</td><td>3.94455</td><td>302</td><td>-2.70</td><td> 2.52</td><td>-0.02</td><td>1.06</td><td>5</td><td>0.3894383</td></tr>\n",
       "\t<tr><th scope=row>6</th><td>06/01/1975</td><td>9378</td><td>46.2218</td><td>3.94455</td><td>302</td><td>-2.41</td><td> 4.47</td><td> 1.06</td><td>0.00</td><td>6</td><td>0.4787473</td></tr>\n",
       "</tbody>\n",
       "</table>\n"
      ],
      "text/latex": [
       "A data.frame: 6 × 11\n",
       "\\begin{tabular}{r|lllllllllll}\n",
       "  & date & idpt & lat & lon & alti & Tn & Tx & Tm & RR & doi & ETP\\\\\n",
       "  & <chr> & <int> & <dbl> & <dbl> & <int> & <dbl> & <dbl> & <dbl> & <dbl> & <int> & <dbl>\\\\\n",
       "\\hline\n",
       "\t1 & 01/01/1975 & 9378 & 46.2218 & 3.94455 & 302 & -3.32 &  2.16 & -0.78 & 0.00 & 1 & 0.3786427\\\\\n",
       "\t2 & 02/01/1975 & 9378 & 46.2218 & 3.94455 & 302 & -3.17 &  2.93 & -0.90 & 0.00 & 2 & 0.4124123\\\\\n",
       "\t3 & 03/01/1975 & 9378 & 46.2218 & 3.94455 & 302 & -4.36 & -1.67 & -2.78 & 0.00 & 3 & 0.2303775\\\\\n",
       "\t4 & 04/01/1975 & 9378 & 46.2218 & 3.94455 & 302 & -5.40 & -0.32 & -3.27 & 0.00 & 4 & 0.3219287\\\\\n",
       "\t5 & 05/01/1975 & 9378 & 46.2218 & 3.94455 & 302 & -2.70 &  2.52 & -0.02 & 1.06 & 5 & 0.3894383\\\\\n",
       "\t6 & 06/01/1975 & 9378 & 46.2218 & 3.94455 & 302 & -2.41 &  4.47 &  1.06 & 0.00 & 6 & 0.4787473\\\\\n",
       "\\end{tabular}\n"
      ],
      "text/markdown": [
       "\n",
       "A data.frame: 6 × 11\n",
       "\n",
       "| <!--/--> | date &lt;chr&gt; | idpt &lt;int&gt; | lat &lt;dbl&gt; | lon &lt;dbl&gt; | alti &lt;int&gt; | Tn &lt;dbl&gt; | Tx &lt;dbl&gt; | Tm &lt;dbl&gt; | RR &lt;dbl&gt; | doi &lt;int&gt; | ETP &lt;dbl&gt; |\n",
       "|---|---|---|---|---|---|---|---|---|---|---|---|\n",
       "| 1 | 01/01/1975 | 9378 | 46.2218 | 3.94455 | 302 | -3.32 |  2.16 | -0.78 | 0.00 | 1 | 0.3786427 |\n",
       "| 2 | 02/01/1975 | 9378 | 46.2218 | 3.94455 | 302 | -3.17 |  2.93 | -0.90 | 0.00 | 2 | 0.4124123 |\n",
       "| 3 | 03/01/1975 | 9378 | 46.2218 | 3.94455 | 302 | -4.36 | -1.67 | -2.78 | 0.00 | 3 | 0.2303775 |\n",
       "| 4 | 04/01/1975 | 9378 | 46.2218 | 3.94455 | 302 | -5.40 | -0.32 | -3.27 | 0.00 | 4 | 0.3219287 |\n",
       "| 5 | 05/01/1975 | 9378 | 46.2218 | 3.94455 | 302 | -2.70 |  2.52 | -0.02 | 1.06 | 5 | 0.3894383 |\n",
       "| 6 | 06/01/1975 | 9378 | 46.2218 | 3.94455 | 302 | -2.41 |  4.47 |  1.06 | 0.00 | 6 | 0.4787473 |\n",
       "\n"
      ],
      "text/plain": [
       "  date       idpt lat     lon     alti Tn    Tx    Tm    RR   doi ETP      \n",
       "1 01/01/1975 9378 46.2218 3.94455 302  -3.32  2.16 -0.78 0.00 1   0.3786427\n",
       "2 02/01/1975 9378 46.2218 3.94455 302  -3.17  2.93 -0.90 0.00 2   0.4124123\n",
       "3 03/01/1975 9378 46.2218 3.94455 302  -4.36 -1.67 -2.78 0.00 3   0.2303775\n",
       "4 04/01/1975 9378 46.2218 3.94455 302  -5.40 -0.32 -3.27 0.00 4   0.3219287\n",
       "5 05/01/1975 9378 46.2218 3.94455 302  -2.70  2.52 -0.02 1.06 5   0.3894383\n",
       "6 06/01/1975 9378 46.2218 3.94455 302  -2.41  4.47  1.06 0.00 6   0.4787473"
      ]
     },
     "metadata": {},
     "output_type": "display_data"
    }
   ],
   "source": [
    "head(mydrias)"
   ]
  },
  {
   "cell_type": "code",
   "execution_count": 19,
   "metadata": {},
   "outputs": [],
   "source": [
    "########################################################################\n",
    "## Récupération des données de Kc (cf. script kcjj.R))\n",
    "####################################################################\n",
    "load(\"Kc.RData\")"
   ]
  },
  {
   "cell_type": "code",
   "execution_count": 20,
   "metadata": {},
   "outputs": [
    {
     "data": {
      "text/html": [
       "<style>\n",
       ".list-inline {list-style: none; margin:0; padding: 0}\n",
       ".list-inline>li {display: inline-block}\n",
       ".list-inline>li:not(:last-child)::after {content: \"\\00b7\"; padding: 0 .5ex}\n",
       "</style>\n",
       "<ol class=list-inline><li>'etht'</li><li>'etmh'</li><li>'ETP0'</li><li>'indn'</li><li>'Kc'</li><li>'mydrias'</li></ol>\n"
      ],
      "text/latex": [
       "\\begin{enumerate*}\n",
       "\\item 'etht'\n",
       "\\item 'etmh'\n",
       "\\item 'ETP0'\n",
       "\\item 'indn'\n",
       "\\item 'Kc'\n",
       "\\item 'mydrias'\n",
       "\\end{enumerate*}\n"
      ],
      "text/markdown": [
       "1. 'etht'\n",
       "2. 'etmh'\n",
       "3. 'ETP0'\n",
       "4. 'indn'\n",
       "5. 'Kc'\n",
       "6. 'mydrias'\n",
       "\n",
       "\n"
      ],
      "text/plain": [
       "[1] \"etht\"    \"etmh\"    \"ETP0\"    \"indn\"    \"Kc\"      \"mydrias\""
      ]
     },
     "metadata": {},
     "output_type": "display_data"
    }
   ],
   "source": [
    "ls()"
   ]
  },
  {
   "cell_type": "code",
   "execution_count": 21,
   "metadata": {},
   "outputs": [],
   "source": [
    "## jointure des données de kc aux données drias\n",
    "## on utilise ici le doi (jour de l'année) comme\n",
    "## clef de jointure afin d'attribuer le bon Kc au bon jour\n",
    "mydrias <- merge(mydrias, Kc, by.x = \"doi\", by.y = \"doi\")"
   ]
  },
  {
   "cell_type": "code",
   "execution_count": 22,
   "metadata": {},
   "outputs": [
    {
     "data": {
      "text/html": [
       "<table>\n",
       "<caption>A data.frame: 6 × 14</caption>\n",
       "<thead>\n",
       "\t<tr><th></th><th scope=col>doi</th><th scope=col>date</th><th scope=col>idpt</th><th scope=col>lat</th><th scope=col>lon</th><th scope=col>alti</th><th scope=col>Tn</th><th scope=col>Tx</th><th scope=col>Tm</th><th scope=col>RR</th><th scope=col>ETP</th><th scope=col>kcc</th><th scope=col>kcl</th><th scope=col>kcs</th></tr>\n",
       "\t<tr><th></th><th scope=col>&lt;int&gt;</th><th scope=col>&lt;chr&gt;</th><th scope=col>&lt;int&gt;</th><th scope=col>&lt;dbl&gt;</th><th scope=col>&lt;dbl&gt;</th><th scope=col>&lt;int&gt;</th><th scope=col>&lt;dbl&gt;</th><th scope=col>&lt;dbl&gt;</th><th scope=col>&lt;dbl&gt;</th><th scope=col>&lt;dbl&gt;</th><th scope=col>&lt;dbl&gt;</th><th scope=col>&lt;dbl&gt;</th><th scope=col>&lt;dbl&gt;</th><th scope=col>&lt;dbl&gt;</th></tr>\n",
       "</thead>\n",
       "<tbody>\n",
       "\t<tr><th scope=row>1</th><td>1</td><td>01/01/1975</td><td> 9378</td><td>46.2218</td><td>3.94455</td><td>302</td><td>-3.32</td><td> 2.16</td><td>-0.78</td><td>0.00</td><td>0.3786427</td><td>0.2</td><td>0.2</td><td>0.1999332</td></tr>\n",
       "\t<tr><th scope=row>2</th><td>1</td><td>01/01/1977</td><td>10667</td><td>46.8663</td><td>4.17368</td><td>301</td><td>-7.10</td><td>-2.53</td><td>-4.88</td><td>0.00</td><td>0.2505549</td><td>0.2</td><td>0.2</td><td>0.1999332</td></tr>\n",
       "\t<tr><th scope=row>3</th><td>1</td><td>01/01/1980</td><td>10952</td><td>47.0118</td><td>4.07341</td><td>624</td><td> 3.16</td><td> 4.84</td><td> 4.46</td><td>3.79</td><td>0.2527089</td><td>0.2</td><td>0.2</td><td>0.1999332</td></tr>\n",
       "\t<tr><th scope=row>4</th><td>1</td><td>01/01/1977</td><td>11520</td><td>47.3052</td><td>3.65968</td><td>206</td><td>-6.86</td><td>-2.07</td><td>-4.47</td><td>0.00</td><td>0.2561628</td><td>0.2</td><td>0.2</td><td>0.1999332</td></tr>\n",
       "\t<tr><th scope=row>5</th><td>1</td><td>01/01/1982</td><td>12530</td><td>47.7939</td><td>4.63307</td><td>332</td><td> 0.99</td><td> 2.65</td><td> 1.94</td><td>0.00</td><td>0.2148899</td><td>0.2</td><td>0.2</td><td>0.1999332</td></tr>\n",
       "\t<tr><th scope=row>6</th><td>1</td><td>01/01/1985</td><td>11961</td><td>47.4995</td><td>4.93907</td><td>398</td><td>-6.85</td><td>-2.74</td><td>-5.07</td><td>0.00</td><td>0.2285127</td><td>0.2</td><td>0.2</td><td>0.1999332</td></tr>\n",
       "</tbody>\n",
       "</table>\n"
      ],
      "text/latex": [
       "A data.frame: 6 × 14\n",
       "\\begin{tabular}{r|llllllllllllll}\n",
       "  & doi & date & idpt & lat & lon & alti & Tn & Tx & Tm & RR & ETP & kcc & kcl & kcs\\\\\n",
       "  & <int> & <chr> & <int> & <dbl> & <dbl> & <int> & <dbl> & <dbl> & <dbl> & <dbl> & <dbl> & <dbl> & <dbl> & <dbl>\\\\\n",
       "\\hline\n",
       "\t1 & 1 & 01/01/1975 &  9378 & 46.2218 & 3.94455 & 302 & -3.32 &  2.16 & -0.78 & 0.00 & 0.3786427 & 0.2 & 0.2 & 0.1999332\\\\\n",
       "\t2 & 1 & 01/01/1977 & 10667 & 46.8663 & 4.17368 & 301 & -7.10 & -2.53 & -4.88 & 0.00 & 0.2505549 & 0.2 & 0.2 & 0.1999332\\\\\n",
       "\t3 & 1 & 01/01/1980 & 10952 & 47.0118 & 4.07341 & 624 &  3.16 &  4.84 &  4.46 & 3.79 & 0.2527089 & 0.2 & 0.2 & 0.1999332\\\\\n",
       "\t4 & 1 & 01/01/1977 & 11520 & 47.3052 & 3.65968 & 206 & -6.86 & -2.07 & -4.47 & 0.00 & 0.2561628 & 0.2 & 0.2 & 0.1999332\\\\\n",
       "\t5 & 1 & 01/01/1982 & 12530 & 47.7939 & 4.63307 & 332 &  0.99 &  2.65 &  1.94 & 0.00 & 0.2148899 & 0.2 & 0.2 & 0.1999332\\\\\n",
       "\t6 & 1 & 01/01/1985 & 11961 & 47.4995 & 4.93907 & 398 & -6.85 & -2.74 & -5.07 & 0.00 & 0.2285127 & 0.2 & 0.2 & 0.1999332\\\\\n",
       "\\end{tabular}\n"
      ],
      "text/markdown": [
       "\n",
       "A data.frame: 6 × 14\n",
       "\n",
       "| <!--/--> | doi &lt;int&gt; | date &lt;chr&gt; | idpt &lt;int&gt; | lat &lt;dbl&gt; | lon &lt;dbl&gt; | alti &lt;int&gt; | Tn &lt;dbl&gt; | Tx &lt;dbl&gt; | Tm &lt;dbl&gt; | RR &lt;dbl&gt; | ETP &lt;dbl&gt; | kcc &lt;dbl&gt; | kcl &lt;dbl&gt; | kcs &lt;dbl&gt; |\n",
       "|---|---|---|---|---|---|---|---|---|---|---|---|---|---|---|\n",
       "| 1 | 1 | 01/01/1975 |  9378 | 46.2218 | 3.94455 | 302 | -3.32 |  2.16 | -0.78 | 0.00 | 0.3786427 | 0.2 | 0.2 | 0.1999332 |\n",
       "| 2 | 1 | 01/01/1977 | 10667 | 46.8663 | 4.17368 | 301 | -7.10 | -2.53 | -4.88 | 0.00 | 0.2505549 | 0.2 | 0.2 | 0.1999332 |\n",
       "| 3 | 1 | 01/01/1980 | 10952 | 47.0118 | 4.07341 | 624 |  3.16 |  4.84 |  4.46 | 3.79 | 0.2527089 | 0.2 | 0.2 | 0.1999332 |\n",
       "| 4 | 1 | 01/01/1977 | 11520 | 47.3052 | 3.65968 | 206 | -6.86 | -2.07 | -4.47 | 0.00 | 0.2561628 | 0.2 | 0.2 | 0.1999332 |\n",
       "| 5 | 1 | 01/01/1982 | 12530 | 47.7939 | 4.63307 | 332 |  0.99 |  2.65 |  1.94 | 0.00 | 0.2148899 | 0.2 | 0.2 | 0.1999332 |\n",
       "| 6 | 1 | 01/01/1985 | 11961 | 47.4995 | 4.93907 | 398 | -6.85 | -2.74 | -5.07 | 0.00 | 0.2285127 | 0.2 | 0.2 | 0.1999332 |\n",
       "\n"
      ],
      "text/plain": [
       "  doi date       idpt  lat     lon     alti Tn    Tx    Tm    RR   ETP      \n",
       "1 1   01/01/1975  9378 46.2218 3.94455 302  -3.32  2.16 -0.78 0.00 0.3786427\n",
       "2 1   01/01/1977 10667 46.8663 4.17368 301  -7.10 -2.53 -4.88 0.00 0.2505549\n",
       "3 1   01/01/1980 10952 47.0118 4.07341 624   3.16  4.84  4.46 3.79 0.2527089\n",
       "4 1   01/01/1977 11520 47.3052 3.65968 206  -6.86 -2.07 -4.47 0.00 0.2561628\n",
       "5 1   01/01/1982 12530 47.7939 4.63307 332   0.99  2.65  1.94 0.00 0.2148899\n",
       "6 1   01/01/1985 11961 47.4995 4.93907 398  -6.85 -2.74 -5.07 0.00 0.2285127\n",
       "  kcc kcl kcs      \n",
       "1 0.2 0.2 0.1999332\n",
       "2 0.2 0.2 0.1999332\n",
       "3 0.2 0.2 0.1999332\n",
       "4 0.2 0.2 0.1999332\n",
       "5 0.2 0.2 0.1999332\n",
       "6 0.2 0.2 0.1999332"
      ]
     },
     "metadata": {},
     "output_type": "display_data"
    }
   ],
   "source": [
    "head(mydrias)"
   ]
  },
  {
   "cell_type": "code",
   "execution_count": 23,
   "metadata": {},
   "outputs": [],
   "source": [
    "## Calcul de l'ETM = ETP x Kc\n",
    "mydrias$ETM <- mydrias$ETP * mydrias$kcl"
   ]
  },
  {
   "cell_type": "code",
   "execution_count": 24,
   "metadata": {},
   "outputs": [],
   "source": [
    "## Sauvegarde de mydrias \n",
    "save(mydrias,file=\"mydrias.RData\")\n",
    "## A ce stade il ne reste plus qu'à récupérer la taille du réservoir i.e.RU\n",
    "## La RU a été calculé pour chaque point de grille avec QGIS"
   ]
  },
  {
   "cell_type": "code",
   "execution_count": 25,
   "metadata": {},
   "outputs": [
    {
     "name": "stderr",
     "output_type": "stream",
     "text": [
      "Loading required package: sp\n",
      "\n",
      "Checking rgeos availability: TRUE\n",
      "\n"
     ]
    }
   ],
   "source": [
    "######################################################################\n",
    "## Récupération des données de RU pour chaque point (cf. traitement QGIS)\n",
    "## lecture du shapefile contenant les valeur de RU par point de grille\n",
    "## Nous allons utiliser le package maptools de R qui permet de lire \n",
    "## des données spatiales issues d'un SIG comme QGIS\n",
    "######################################################################\n",
    "library(maptools)"
   ]
  },
  {
   "cell_type": "code",
   "execution_count": 26,
   "metadata": {},
   "outputs": [
    {
     "name": "stderr",
     "output_type": "stream",
     "text": [
      "Warning message:\n",
      "“readShapePoly is deprecated; use rgdal::readOGR or sf::st_read”\n",
      "Field name: ‘_stdev’ changed to: ‘X_stdev’\n",
      "\n"
     ]
    }
   ],
   "source": [
    "ptdriasRU <- readShapePoly('RU_drias.shp')"
   ]
  },
  {
   "cell_type": "code",
   "execution_count": 29,
   "metadata": {},
   "outputs": [],
   "source": [
    "## Récupération des données de la table contenat les valeur de RU \n",
    "## ainsique les identifiants des points de grille\n",
    "RU <- ptdriasRU@data\n",
    "## Sélection de l'identifiant, de la valeur moyenne et de la valeur majoritaire\n",
    "## faite une head(RU pour mettre les bons noms des colonnes)\n",
    "RU <- RU[,c(\"idpt\",\"ru_mean\",\"ru_majorit\")]"
   ]
  },
  {
   "cell_type": "code",
   "execution_count": 32,
   "metadata": {},
   "outputs": [],
   "source": [
    "## Jointure des données de RU à mydrias\n",
    "mydrias <- merge(mydrias, RU, by.x = \"idpt\", by.y = \"idpt\")"
   ]
  },
  {
   "cell_type": "code",
   "execution_count": 33,
   "metadata": {},
   "outputs": [
    {
     "data": {
      "text/html": [
       "<table>\n",
       "<caption>A data.frame: 6 × 17</caption>\n",
       "<thead>\n",
       "\t<tr><th></th><th scope=col>idpt</th><th scope=col>doi</th><th scope=col>date</th><th scope=col>lat</th><th scope=col>lon</th><th scope=col>alti</th><th scope=col>Tn</th><th scope=col>Tx</th><th scope=col>Tm</th><th scope=col>RR</th><th scope=col>ETP</th><th scope=col>kcc</th><th scope=col>kcl</th><th scope=col>kcs</th><th scope=col>ETM</th><th scope=col>ru_mean</th><th scope=col>ru_majorit</th></tr>\n",
       "\t<tr><th></th><th scope=col>&lt;int&gt;</th><th scope=col>&lt;int&gt;</th><th scope=col>&lt;chr&gt;</th><th scope=col>&lt;dbl&gt;</th><th scope=col>&lt;dbl&gt;</th><th scope=col>&lt;int&gt;</th><th scope=col>&lt;dbl&gt;</th><th scope=col>&lt;dbl&gt;</th><th scope=col>&lt;dbl&gt;</th><th scope=col>&lt;dbl&gt;</th><th scope=col>&lt;dbl&gt;</th><th scope=col>&lt;dbl&gt;</th><th scope=col>&lt;dbl&gt;</th><th scope=col>&lt;dbl&gt;</th><th scope=col>&lt;dbl&gt;</th><th scope=col>&lt;dbl&gt;</th><th scope=col>&lt;dbl&gt;</th></tr>\n",
       "</thead>\n",
       "<tbody>\n",
       "\t<tr><th scope=row>1</th><td>9378</td><td>  1</td><td>01/01/1975</td><td>46.2218</td><td>3.94455</td><td>302</td><td>-3.32</td><td> 2.16</td><td>-0.78</td><td>0.00</td><td>0.3786427</td><td>0.20</td><td>0.2000000</td><td>0.1999332</td><td>0.07572854</td><td>103.8224</td><td>106</td></tr>\n",
       "\t<tr><th scope=row>2</th><td>9378</td><td>312</td><td>08/11/1983</td><td>46.2218</td><td>3.94455</td><td>302</td><td> 5.10</td><td>12.83</td><td>10.09</td><td>7.66</td><td>0.9535886</td><td>0.35</td><td>0.2338710</td><td>0.2161277</td><td>0.22301669</td><td>103.8224</td><td>106</td></tr>\n",
       "\t<tr><th scope=row>3</th><td>9378</td><td>292</td><td>18/10/1980</td><td>46.2218</td><td>3.94455</td><td>302</td><td> 1.77</td><td> 5.78</td><td> 4.07</td><td>0.22</td><td>0.7303612</td><td>0.35</td><td>0.3306452</td><td>0.3184270</td><td>0.24149039</td><td>103.8224</td><td>106</td></tr>\n",
       "\t<tr><th scope=row>4</th><td>9378</td><td>155</td><td>04/06/1975</td><td>46.2218</td><td>3.94455</td><td>302</td><td> 8.64</td><td>15.23</td><td>12.49</td><td>0.18</td><td>2.9612793</td><td>0.68</td><td>1.0154839</td><td>1.0477081</td><td>3.00713141</td><td>103.8224</td><td>106</td></tr>\n",
       "\t<tr><th scope=row>5</th><td>9378</td><td>286</td><td>13/10/1979</td><td>46.2218</td><td>3.94455</td><td>302</td><td> 5.53</td><td>18.93</td><td>11.50</td><td>0.00</td><td>2.0166078</td><td>0.65</td><td>0.3700000</td><td>0.3672705</td><td>0.74614489</td><td>103.8224</td><td>106</td></tr>\n",
       "\t<tr><th scope=row>6</th><td>9378</td><td>363</td><td>29/12/1983</td><td>46.2218</td><td>3.94455</td><td>302</td><td>-2.14</td><td> 9.90</td><td> 3.76</td><td>0.00</td><td>0.6968727</td><td>0.20</td><td>0.2000000</td><td>0.2013706</td><td>0.13937454</td><td>103.8224</td><td>106</td></tr>\n",
       "</tbody>\n",
       "</table>\n"
      ],
      "text/latex": [
       "A data.frame: 6 × 17\n",
       "\\begin{tabular}{r|lllllllllllllllll}\n",
       "  & idpt & doi & date & lat & lon & alti & Tn & Tx & Tm & RR & ETP & kcc & kcl & kcs & ETM & ru\\_mean & ru\\_majorit\\\\\n",
       "  & <int> & <int> & <chr> & <dbl> & <dbl> & <int> & <dbl> & <dbl> & <dbl> & <dbl> & <dbl> & <dbl> & <dbl> & <dbl> & <dbl> & <dbl> & <dbl>\\\\\n",
       "\\hline\n",
       "\t1 & 9378 &   1 & 01/01/1975 & 46.2218 & 3.94455 & 302 & -3.32 &  2.16 & -0.78 & 0.00 & 0.3786427 & 0.20 & 0.2000000 & 0.1999332 & 0.07572854 & 103.8224 & 106\\\\\n",
       "\t2 & 9378 & 312 & 08/11/1983 & 46.2218 & 3.94455 & 302 &  5.10 & 12.83 & 10.09 & 7.66 & 0.9535886 & 0.35 & 0.2338710 & 0.2161277 & 0.22301669 & 103.8224 & 106\\\\\n",
       "\t3 & 9378 & 292 & 18/10/1980 & 46.2218 & 3.94455 & 302 &  1.77 &  5.78 &  4.07 & 0.22 & 0.7303612 & 0.35 & 0.3306452 & 0.3184270 & 0.24149039 & 103.8224 & 106\\\\\n",
       "\t4 & 9378 & 155 & 04/06/1975 & 46.2218 & 3.94455 & 302 &  8.64 & 15.23 & 12.49 & 0.18 & 2.9612793 & 0.68 & 1.0154839 & 1.0477081 & 3.00713141 & 103.8224 & 106\\\\\n",
       "\t5 & 9378 & 286 & 13/10/1979 & 46.2218 & 3.94455 & 302 &  5.53 & 18.93 & 11.50 & 0.00 & 2.0166078 & 0.65 & 0.3700000 & 0.3672705 & 0.74614489 & 103.8224 & 106\\\\\n",
       "\t6 & 9378 & 363 & 29/12/1983 & 46.2218 & 3.94455 & 302 & -2.14 &  9.90 &  3.76 & 0.00 & 0.6968727 & 0.20 & 0.2000000 & 0.2013706 & 0.13937454 & 103.8224 & 106\\\\\n",
       "\\end{tabular}\n"
      ],
      "text/markdown": [
       "\n",
       "A data.frame: 6 × 17\n",
       "\n",
       "| <!--/--> | idpt &lt;int&gt; | doi &lt;int&gt; | date &lt;chr&gt; | lat &lt;dbl&gt; | lon &lt;dbl&gt; | alti &lt;int&gt; | Tn &lt;dbl&gt; | Tx &lt;dbl&gt; | Tm &lt;dbl&gt; | RR &lt;dbl&gt; | ETP &lt;dbl&gt; | kcc &lt;dbl&gt; | kcl &lt;dbl&gt; | kcs &lt;dbl&gt; | ETM &lt;dbl&gt; | ru_mean &lt;dbl&gt; | ru_majorit &lt;dbl&gt; |\n",
       "|---|---|---|---|---|---|---|---|---|---|---|---|---|---|---|---|---|---|\n",
       "| 1 | 9378 |   1 | 01/01/1975 | 46.2218 | 3.94455 | 302 | -3.32 |  2.16 | -0.78 | 0.00 | 0.3786427 | 0.20 | 0.2000000 | 0.1999332 | 0.07572854 | 103.8224 | 106 |\n",
       "| 2 | 9378 | 312 | 08/11/1983 | 46.2218 | 3.94455 | 302 |  5.10 | 12.83 | 10.09 | 7.66 | 0.9535886 | 0.35 | 0.2338710 | 0.2161277 | 0.22301669 | 103.8224 | 106 |\n",
       "| 3 | 9378 | 292 | 18/10/1980 | 46.2218 | 3.94455 | 302 |  1.77 |  5.78 |  4.07 | 0.22 | 0.7303612 | 0.35 | 0.3306452 | 0.3184270 | 0.24149039 | 103.8224 | 106 |\n",
       "| 4 | 9378 | 155 | 04/06/1975 | 46.2218 | 3.94455 | 302 |  8.64 | 15.23 | 12.49 | 0.18 | 2.9612793 | 0.68 | 1.0154839 | 1.0477081 | 3.00713141 | 103.8224 | 106 |\n",
       "| 5 | 9378 | 286 | 13/10/1979 | 46.2218 | 3.94455 | 302 |  5.53 | 18.93 | 11.50 | 0.00 | 2.0166078 | 0.65 | 0.3700000 | 0.3672705 | 0.74614489 | 103.8224 | 106 |\n",
       "| 6 | 9378 | 363 | 29/12/1983 | 46.2218 | 3.94455 | 302 | -2.14 |  9.90 |  3.76 | 0.00 | 0.6968727 | 0.20 | 0.2000000 | 0.2013706 | 0.13937454 | 103.8224 | 106 |\n",
       "\n"
      ],
      "text/plain": [
       "  idpt doi date       lat     lon     alti Tn    Tx    Tm    RR   ETP      \n",
       "1 9378   1 01/01/1975 46.2218 3.94455 302  -3.32  2.16 -0.78 0.00 0.3786427\n",
       "2 9378 312 08/11/1983 46.2218 3.94455 302   5.10 12.83 10.09 7.66 0.9535886\n",
       "3 9378 292 18/10/1980 46.2218 3.94455 302   1.77  5.78  4.07 0.22 0.7303612\n",
       "4 9378 155 04/06/1975 46.2218 3.94455 302   8.64 15.23 12.49 0.18 2.9612793\n",
       "5 9378 286 13/10/1979 46.2218 3.94455 302   5.53 18.93 11.50 0.00 2.0166078\n",
       "6 9378 363 29/12/1983 46.2218 3.94455 302  -2.14  9.90  3.76 0.00 0.6968727\n",
       "  kcc  kcl       kcs       ETM        ru_mean  ru_majorit\n",
       "1 0.20 0.2000000 0.1999332 0.07572854 103.8224 106       \n",
       "2 0.35 0.2338710 0.2161277 0.22301669 103.8224 106       \n",
       "3 0.35 0.3306452 0.3184270 0.24149039 103.8224 106       \n",
       "4 0.68 1.0154839 1.0477081 3.00713141 103.8224 106       \n",
       "5 0.65 0.3700000 0.3672705 0.74614489 103.8224 106       \n",
       "6 0.20 0.2000000 0.2013706 0.13937454 103.8224 106       "
      ]
     },
     "metadata": {},
     "output_type": "display_data"
    }
   ],
   "source": [
    "head(mydrias)"
   ]
  },
  {
   "cell_type": "code",
   "execution_count": 34,
   "metadata": {},
   "outputs": [],
   "source": [
    "## Sauvegarde de mydrias complet i.e. avec l'ensemble des données nécessaires\n",
    "## pour faire le calcul du bilan hydrique au pas de temps journalier\n",
    "save(mydrias,file=\"mydrias.RData\")"
   ]
  },
  {
   "cell_type": "code",
   "execution_count": null,
   "metadata": {},
   "outputs": [],
   "source": []
  }
 ],
 "metadata": {
  "kernelspec": {
   "display_name": "R",
   "language": "R",
   "name": "ir"
  },
  "language_info": {
   "codemirror_mode": "r",
   "file_extension": ".r",
   "mimetype": "text/x-r-source",
   "name": "R",
   "pygments_lexer": "r",
   "version": "4.0.2"
  }
 },
 "nbformat": 4,
 "nbformat_minor": 4
}
