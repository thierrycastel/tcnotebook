{
 "cells": [
  {
   "cell_type": "code",
   "execution_count": 1,
   "id": "cfcc6cb9-4f68-44d8-8309-8b6f59009360",
   "metadata": {},
   "outputs": [
    {
     "data": {
      "text/html": [
       "'data.frame'"
      ],
      "text/latex": [
       "'data.frame'"
      ],
      "text/markdown": [
       "'data.frame'"
      ],
      "text/plain": [
       "[1] \"data.frame\""
      ]
     },
     "metadata": {},
     "output_type": "display_data"
    },
    {
     "name": "stdout",
     "output_type": "stream",
     "text": [
      "'data.frame':\t1511788 obs. of  58 variables:\n",
      " $ NUM_POSTE: int  21010001 21010001 21010001 21010001 21010001 21010001 21010001 21010001 21010001 21010001 ...\n",
      " $ NOM_USUEL: chr  \"ALOXE CORTON\" \"ALOXE CORTON\" \"ALOXE CORTON\" \"ALOXE CORTON\" ...\n",
      " $ LAT      : num  47.1 47.1 47.1 47.1 47.1 ...\n",
      " $ LON      : num  4.86 4.86 4.86 4.86 4.86 ...\n",
      " $ ALTI     : int  273 273 273 273 273 273 273 273 273 273 ...\n",
      " $ AAAAMMJJ : int  19570101 19570102 19570103 19570104 19570105 19570106 19570107 19570108 19570109 19570110 ...\n",
      " $ RR       : num  0 0 1.5 0 0 1.4 0 0 0 4 ...\n",
      " $ QRR      : int  9 9 9 9 9 9 9 9 9 9 ...\n",
      " $ TN       : num  NA NA NA NA NA NA NA NA NA NA ...\n",
      " $ QTN      : int  NA NA NA NA NA NA NA NA NA NA ...\n",
      " $ HTN      : int  NA NA NA NA NA NA NA NA NA NA ...\n",
      " $ QHTN     : int  NA NA NA NA NA NA NA NA NA NA ...\n",
      " $ TX       : num  NA NA NA NA NA NA NA NA NA NA ...\n",
      " $ QTX      : int  NA NA NA NA NA NA NA NA NA NA ...\n",
      " $ HTX      : int  NA NA NA NA NA NA NA NA NA NA ...\n",
      " $ QHTX     : int  NA NA NA NA NA NA NA NA NA NA ...\n",
      " $ TM       : num  NA NA NA NA NA NA NA NA NA NA ...\n",
      " $ QTM      : int  NA NA NA NA NA NA NA NA NA NA ...\n",
      " $ TNTXM    : num  NA NA NA NA NA NA NA NA NA NA ...\n",
      " $ QTNTXM   : int  NA NA NA NA NA NA NA NA NA NA ...\n",
      " $ TAMPLI   : num  NA NA NA NA NA NA NA NA NA NA ...\n",
      " $ QTAMPLI  : int  NA NA NA NA NA NA NA NA NA NA ...\n",
      " $ TNSOL    : num  NA NA NA NA NA NA NA NA NA NA ...\n",
      " $ QTNSOL   : int  NA NA NA NA NA NA NA NA NA NA ...\n",
      " $ TN50     : num  NA NA NA NA NA NA NA NA NA NA ...\n",
      " $ QTN50    : int  NA NA NA NA NA NA NA NA NA NA ...\n",
      " $ DG       : int  NA NA NA NA NA NA NA NA NA NA ...\n",
      " $ QDG      : int  NA NA NA NA NA NA NA NA NA NA ...\n",
      " $ FFM      : num  NA NA NA NA NA NA NA NA NA NA ...\n",
      " $ QFFM     : int  NA NA NA NA NA NA NA NA NA NA ...\n",
      " $ FF2M     : logi  NA NA NA NA NA NA ...\n",
      " $ QFF2M    : logi  NA NA NA NA NA NA ...\n",
      " $ FXY      : num  NA NA NA NA NA NA NA NA NA NA ...\n",
      " $ QFXY     : int  NA NA NA NA NA NA NA NA NA NA ...\n",
      " $ DXY      : int  NA NA NA NA NA NA NA NA NA NA ...\n",
      " $ QDXY     : int  NA NA NA NA NA NA NA NA NA NA ...\n",
      " $ HXY      : int  NA NA NA NA NA NA NA NA NA NA ...\n",
      " $ QHXY     : int  NA NA NA NA NA NA NA NA NA NA ...\n",
      " $ FXI      : num  NA NA NA NA NA NA NA NA NA NA ...\n",
      " $ QFXI     : int  NA NA NA NA NA NA NA NA NA NA ...\n",
      " $ DXI      : int  NA NA NA NA NA NA NA NA NA NA ...\n",
      " $ QDXI     : int  NA NA NA NA NA NA NA NA NA NA ...\n",
      " $ HXI      : int  NA NA NA NA NA NA NA NA NA NA ...\n",
      " $ QHXI     : int  NA NA NA NA NA NA NA NA NA NA ...\n",
      " $ FXI2     : logi  NA NA NA NA NA NA ...\n",
      " $ QFXI2    : logi  NA NA NA NA NA NA ...\n",
      " $ DXI2     : logi  NA NA NA NA NA NA ...\n",
      " $ QDXI2    : logi  NA NA NA NA NA NA ...\n",
      " $ HXI2     : logi  NA NA NA NA NA NA ...\n",
      " $ QHXI2    : logi  NA NA NA NA NA NA ...\n",
      " $ FXI3S    : num  NA NA NA NA NA NA NA NA NA NA ...\n",
      " $ QFXI3S   : int  NA NA NA NA NA NA NA NA NA NA ...\n",
      " $ DXI3S    : int  NA NA NA NA NA NA NA NA NA NA ...\n",
      " $ QDXI3S   : int  NA NA NA NA NA NA NA NA NA NA ...\n",
      " $ HXI3S    : int  NA NA NA NA NA NA NA NA NA NA ...\n",
      " $ QHXI3S   : int  NA NA NA NA NA NA NA NA NA NA ...\n",
      " $ DRR      : int  NA NA NA NA NA NA NA NA NA NA ...\n",
      " $ QDRR     : int  NA NA NA NA NA NA NA NA NA NA ...\n"
     ]
    }
   ],
   "source": [
    "## Chemin vers l'espace de travail\n",
    "## ici le dossier Data -- Pensez à bien indiquer cela avec RStudio \n",
    "setwd(\"../Data\")\n",
    "\n",
    "############### Stations Météo France ###############################\n",
    "####### lecture et chargement des données quotidiennes ################\n",
    "#####################################################################\n",
    "\n",
    "mydataMF <- read.csv(\"Q_21_previous-1950-2022_RR-T-Vent.csv\", sep = \";\")\n",
    "class(mydataMF) ## Classe de l'objet\n",
    "str(mydataMF) ## structure de l'objet avec le type des données contenues\n"
   ]
  },
  {
   "cell_type": "code",
   "execution_count": 2,
   "id": "93628d41-5a76-4485-8e6f-9d1c43d82c23",
   "metadata": {},
   "outputs": [
    {
     "data": {
      "text/html": [
       "<table class=\"dataframe\">\n",
       "<caption>A data.frame: 6 × 58</caption>\n",
       "<thead>\n",
       "\t<tr><th></th><th scope=col>NUM_POSTE</th><th scope=col>NOM_USUEL</th><th scope=col>LAT</th><th scope=col>LON</th><th scope=col>ALTI</th><th scope=col>AAAAMMJJ</th><th scope=col>RR</th><th scope=col>QRR</th><th scope=col>TN</th><th scope=col>QTN</th><th scope=col>⋯</th><th scope=col>HXI2</th><th scope=col>QHXI2</th><th scope=col>FXI3S</th><th scope=col>QFXI3S</th><th scope=col>DXI3S</th><th scope=col>QDXI3S</th><th scope=col>HXI3S</th><th scope=col>QHXI3S</th><th scope=col>DRR</th><th scope=col>QDRR</th></tr>\n",
       "\t<tr><th></th><th scope=col>&lt;int&gt;</th><th scope=col>&lt;chr&gt;</th><th scope=col>&lt;dbl&gt;</th><th scope=col>&lt;dbl&gt;</th><th scope=col>&lt;int&gt;</th><th scope=col>&lt;int&gt;</th><th scope=col>&lt;dbl&gt;</th><th scope=col>&lt;int&gt;</th><th scope=col>&lt;dbl&gt;</th><th scope=col>&lt;int&gt;</th><th scope=col>⋯</th><th scope=col>&lt;lgl&gt;</th><th scope=col>&lt;lgl&gt;</th><th scope=col>&lt;dbl&gt;</th><th scope=col>&lt;int&gt;</th><th scope=col>&lt;int&gt;</th><th scope=col>&lt;int&gt;</th><th scope=col>&lt;int&gt;</th><th scope=col>&lt;int&gt;</th><th scope=col>&lt;int&gt;</th><th scope=col>&lt;int&gt;</th></tr>\n",
       "</thead>\n",
       "<tbody>\n",
       "\t<tr><th scope=row>1</th><td>21010001</td><td>ALOXE CORTON</td><td>47.069</td><td>4.8615</td><td>273</td><td>19570101</td><td>0.0</td><td>9</td><td>NA</td><td>NA</td><td>⋯</td><td>NA</td><td>NA</td><td>NA</td><td>NA</td><td>NA</td><td>NA</td><td>NA</td><td>NA</td><td>NA</td><td>NA</td></tr>\n",
       "\t<tr><th scope=row>2</th><td>21010001</td><td>ALOXE CORTON</td><td>47.069</td><td>4.8615</td><td>273</td><td>19570102</td><td>0.0</td><td>9</td><td>NA</td><td>NA</td><td>⋯</td><td>NA</td><td>NA</td><td>NA</td><td>NA</td><td>NA</td><td>NA</td><td>NA</td><td>NA</td><td>NA</td><td>NA</td></tr>\n",
       "\t<tr><th scope=row>3</th><td>21010001</td><td>ALOXE CORTON</td><td>47.069</td><td>4.8615</td><td>273</td><td>19570103</td><td>1.5</td><td>9</td><td>NA</td><td>NA</td><td>⋯</td><td>NA</td><td>NA</td><td>NA</td><td>NA</td><td>NA</td><td>NA</td><td>NA</td><td>NA</td><td>NA</td><td>NA</td></tr>\n",
       "\t<tr><th scope=row>4</th><td>21010001</td><td>ALOXE CORTON</td><td>47.069</td><td>4.8615</td><td>273</td><td>19570104</td><td>0.0</td><td>9</td><td>NA</td><td>NA</td><td>⋯</td><td>NA</td><td>NA</td><td>NA</td><td>NA</td><td>NA</td><td>NA</td><td>NA</td><td>NA</td><td>NA</td><td>NA</td></tr>\n",
       "\t<tr><th scope=row>5</th><td>21010001</td><td>ALOXE CORTON</td><td>47.069</td><td>4.8615</td><td>273</td><td>19570105</td><td>0.0</td><td>9</td><td>NA</td><td>NA</td><td>⋯</td><td>NA</td><td>NA</td><td>NA</td><td>NA</td><td>NA</td><td>NA</td><td>NA</td><td>NA</td><td>NA</td><td>NA</td></tr>\n",
       "\t<tr><th scope=row>6</th><td>21010001</td><td>ALOXE CORTON</td><td>47.069</td><td>4.8615</td><td>273</td><td>19570106</td><td>1.4</td><td>9</td><td>NA</td><td>NA</td><td>⋯</td><td>NA</td><td>NA</td><td>NA</td><td>NA</td><td>NA</td><td>NA</td><td>NA</td><td>NA</td><td>NA</td><td>NA</td></tr>\n",
       "</tbody>\n",
       "</table>\n"
      ],
      "text/latex": [
       "A data.frame: 6 × 58\n",
       "\\begin{tabular}{r|lllllllllllllllllllll}\n",
       "  & NUM\\_POSTE & NOM\\_USUEL & LAT & LON & ALTI & AAAAMMJJ & RR & QRR & TN & QTN & ⋯ & HXI2 & QHXI2 & FXI3S & QFXI3S & DXI3S & QDXI3S & HXI3S & QHXI3S & DRR & QDRR\\\\\n",
       "  & <int> & <chr> & <dbl> & <dbl> & <int> & <int> & <dbl> & <int> & <dbl> & <int> & ⋯ & <lgl> & <lgl> & <dbl> & <int> & <int> & <int> & <int> & <int> & <int> & <int>\\\\\n",
       "\\hline\n",
       "\t1 & 21010001 & ALOXE CORTON & 47.069 & 4.8615 & 273 & 19570101 & 0.0 & 9 & NA & NA & ⋯ & NA & NA & NA & NA & NA & NA & NA & NA & NA & NA\\\\\n",
       "\t2 & 21010001 & ALOXE CORTON & 47.069 & 4.8615 & 273 & 19570102 & 0.0 & 9 & NA & NA & ⋯ & NA & NA & NA & NA & NA & NA & NA & NA & NA & NA\\\\\n",
       "\t3 & 21010001 & ALOXE CORTON & 47.069 & 4.8615 & 273 & 19570103 & 1.5 & 9 & NA & NA & ⋯ & NA & NA & NA & NA & NA & NA & NA & NA & NA & NA\\\\\n",
       "\t4 & 21010001 & ALOXE CORTON & 47.069 & 4.8615 & 273 & 19570104 & 0.0 & 9 & NA & NA & ⋯ & NA & NA & NA & NA & NA & NA & NA & NA & NA & NA\\\\\n",
       "\t5 & 21010001 & ALOXE CORTON & 47.069 & 4.8615 & 273 & 19570105 & 0.0 & 9 & NA & NA & ⋯ & NA & NA & NA & NA & NA & NA & NA & NA & NA & NA\\\\\n",
       "\t6 & 21010001 & ALOXE CORTON & 47.069 & 4.8615 & 273 & 19570106 & 1.4 & 9 & NA & NA & ⋯ & NA & NA & NA & NA & NA & NA & NA & NA & NA & NA\\\\\n",
       "\\end{tabular}\n"
      ],
      "text/markdown": [
       "\n",
       "A data.frame: 6 × 58\n",
       "\n",
       "| <!--/--> | NUM_POSTE &lt;int&gt; | NOM_USUEL &lt;chr&gt; | LAT &lt;dbl&gt; | LON &lt;dbl&gt; | ALTI &lt;int&gt; | AAAAMMJJ &lt;int&gt; | RR &lt;dbl&gt; | QRR &lt;int&gt; | TN &lt;dbl&gt; | QTN &lt;int&gt; | ⋯ ⋯ | HXI2 &lt;lgl&gt; | QHXI2 &lt;lgl&gt; | FXI3S &lt;dbl&gt; | QFXI3S &lt;int&gt; | DXI3S &lt;int&gt; | QDXI3S &lt;int&gt; | HXI3S &lt;int&gt; | QHXI3S &lt;int&gt; | DRR &lt;int&gt; | QDRR &lt;int&gt; |\n",
       "|---|---|---|---|---|---|---|---|---|---|---|---|---|---|---|---|---|---|---|---|---|---|\n",
       "| 1 | 21010001 | ALOXE CORTON | 47.069 | 4.8615 | 273 | 19570101 | 0.0 | 9 | NA | NA | ⋯ | NA | NA | NA | NA | NA | NA | NA | NA | NA | NA |\n",
       "| 2 | 21010001 | ALOXE CORTON | 47.069 | 4.8615 | 273 | 19570102 | 0.0 | 9 | NA | NA | ⋯ | NA | NA | NA | NA | NA | NA | NA | NA | NA | NA |\n",
       "| 3 | 21010001 | ALOXE CORTON | 47.069 | 4.8615 | 273 | 19570103 | 1.5 | 9 | NA | NA | ⋯ | NA | NA | NA | NA | NA | NA | NA | NA | NA | NA |\n",
       "| 4 | 21010001 | ALOXE CORTON | 47.069 | 4.8615 | 273 | 19570104 | 0.0 | 9 | NA | NA | ⋯ | NA | NA | NA | NA | NA | NA | NA | NA | NA | NA |\n",
       "| 5 | 21010001 | ALOXE CORTON | 47.069 | 4.8615 | 273 | 19570105 | 0.0 | 9 | NA | NA | ⋯ | NA | NA | NA | NA | NA | NA | NA | NA | NA | NA |\n",
       "| 6 | 21010001 | ALOXE CORTON | 47.069 | 4.8615 | 273 | 19570106 | 1.4 | 9 | NA | NA | ⋯ | NA | NA | NA | NA | NA | NA | NA | NA | NA | NA |\n",
       "\n"
      ],
      "text/plain": [
       "  NUM_POSTE NOM_USUEL    LAT    LON    ALTI AAAAMMJJ RR  QRR TN QTN ⋯ HXI2\n",
       "1 21010001  ALOXE CORTON 47.069 4.8615 273  19570101 0.0 9   NA NA  ⋯ NA  \n",
       "2 21010001  ALOXE CORTON 47.069 4.8615 273  19570102 0.0 9   NA NA  ⋯ NA  \n",
       "3 21010001  ALOXE CORTON 47.069 4.8615 273  19570103 1.5 9   NA NA  ⋯ NA  \n",
       "4 21010001  ALOXE CORTON 47.069 4.8615 273  19570104 0.0 9   NA NA  ⋯ NA  \n",
       "5 21010001  ALOXE CORTON 47.069 4.8615 273  19570105 0.0 9   NA NA  ⋯ NA  \n",
       "6 21010001  ALOXE CORTON 47.069 4.8615 273  19570106 1.4 9   NA NA  ⋯ NA  \n",
       "  QHXI2 FXI3S QFXI3S DXI3S QDXI3S HXI3S QHXI3S DRR QDRR\n",
       "1 NA    NA    NA     NA    NA     NA    NA     NA  NA  \n",
       "2 NA    NA    NA     NA    NA     NA    NA     NA  NA  \n",
       "3 NA    NA    NA     NA    NA     NA    NA     NA  NA  \n",
       "4 NA    NA    NA     NA    NA     NA    NA     NA  NA  \n",
       "5 NA    NA    NA     NA    NA     NA    NA     NA  NA  \n",
       "6 NA    NA    NA     NA    NA     NA    NA     NA  NA  "
      ]
     },
     "metadata": {},
     "output_type": "display_data"
    },
    {
     "data": {
      "text/html": [
       "<table class=\"dataframe\">\n",
       "<caption>A data.frame: 6 × 58</caption>\n",
       "<thead>\n",
       "\t<tr><th></th><th scope=col>NUM_POSTE</th><th scope=col>NOM_USUEL</th><th scope=col>LAT</th><th scope=col>LON</th><th scope=col>ALTI</th><th scope=col>AAAAMMJJ</th><th scope=col>RR</th><th scope=col>QRR</th><th scope=col>TN</th><th scope=col>QTN</th><th scope=col>⋯</th><th scope=col>HXI2</th><th scope=col>QHXI2</th><th scope=col>FXI3S</th><th scope=col>QFXI3S</th><th scope=col>DXI3S</th><th scope=col>QDXI3S</th><th scope=col>HXI3S</th><th scope=col>QHXI3S</th><th scope=col>DRR</th><th scope=col>QDRR</th></tr>\n",
       "\t<tr><th></th><th scope=col>&lt;int&gt;</th><th scope=col>&lt;chr&gt;</th><th scope=col>&lt;dbl&gt;</th><th scope=col>&lt;dbl&gt;</th><th scope=col>&lt;int&gt;</th><th scope=col>&lt;int&gt;</th><th scope=col>&lt;dbl&gt;</th><th scope=col>&lt;int&gt;</th><th scope=col>&lt;dbl&gt;</th><th scope=col>&lt;int&gt;</th><th scope=col>⋯</th><th scope=col>&lt;lgl&gt;</th><th scope=col>&lt;lgl&gt;</th><th scope=col>&lt;dbl&gt;</th><th scope=col>&lt;int&gt;</th><th scope=col>&lt;int&gt;</th><th scope=col>&lt;int&gt;</th><th scope=col>&lt;int&gt;</th><th scope=col>&lt;int&gt;</th><th scope=col>&lt;int&gt;</th><th scope=col>&lt;int&gt;</th></tr>\n",
       "</thead>\n",
       "<tbody>\n",
       "\t<tr><th scope=row>1511783</th><td>21714001</td><td>VOSNE ROMANEE</td><td>47.16183</td><td>4.954167</td><td>255</td><td>20190625</td><td>0</td><td>1</td><td>NA</td><td>NA</td><td>⋯</td><td>NA</td><td>NA</td><td>NA</td><td>NA</td><td>NA</td><td>NA</td><td>NA</td><td>NA</td><td>NA</td><td>NA</td></tr>\n",
       "\t<tr><th scope=row>1511784</th><td>21714001</td><td>VOSNE ROMANEE</td><td>47.16183</td><td>4.954167</td><td>255</td><td>20190626</td><td>0</td><td>1</td><td>NA</td><td>NA</td><td>⋯</td><td>NA</td><td>NA</td><td>NA</td><td>NA</td><td>NA</td><td>NA</td><td>NA</td><td>NA</td><td>NA</td><td>NA</td></tr>\n",
       "\t<tr><th scope=row>1511785</th><td>21714001</td><td>VOSNE ROMANEE</td><td>47.16183</td><td>4.954167</td><td>255</td><td>20190627</td><td>0</td><td>1</td><td>NA</td><td>NA</td><td>⋯</td><td>NA</td><td>NA</td><td>NA</td><td>NA</td><td>NA</td><td>NA</td><td>NA</td><td>NA</td><td>NA</td><td>NA</td></tr>\n",
       "\t<tr><th scope=row>1511786</th><td>21714001</td><td>VOSNE ROMANEE</td><td>47.16183</td><td>4.954167</td><td>255</td><td>20190628</td><td>0</td><td>1</td><td>NA</td><td>NA</td><td>⋯</td><td>NA</td><td>NA</td><td>NA</td><td>NA</td><td>NA</td><td>NA</td><td>NA</td><td>NA</td><td>NA</td><td>NA</td></tr>\n",
       "\t<tr><th scope=row>1511787</th><td>21714001</td><td>VOSNE ROMANEE</td><td>47.16183</td><td>4.954167</td><td>255</td><td>20190629</td><td>0</td><td>1</td><td>NA</td><td>NA</td><td>⋯</td><td>NA</td><td>NA</td><td>NA</td><td>NA</td><td>NA</td><td>NA</td><td>NA</td><td>NA</td><td>NA</td><td>NA</td></tr>\n",
       "\t<tr><th scope=row>1511788</th><td>21714001</td><td>VOSNE ROMANEE</td><td>47.16183</td><td>4.954167</td><td>255</td><td>20190630</td><td>0</td><td>1</td><td>NA</td><td>NA</td><td>⋯</td><td>NA</td><td>NA</td><td>NA</td><td>NA</td><td>NA</td><td>NA</td><td>NA</td><td>NA</td><td>NA</td><td>NA</td></tr>\n",
       "</tbody>\n",
       "</table>\n"
      ],
      "text/latex": [
       "A data.frame: 6 × 58\n",
       "\\begin{tabular}{r|lllllllllllllllllllll}\n",
       "  & NUM\\_POSTE & NOM\\_USUEL & LAT & LON & ALTI & AAAAMMJJ & RR & QRR & TN & QTN & ⋯ & HXI2 & QHXI2 & FXI3S & QFXI3S & DXI3S & QDXI3S & HXI3S & QHXI3S & DRR & QDRR\\\\\n",
       "  & <int> & <chr> & <dbl> & <dbl> & <int> & <int> & <dbl> & <int> & <dbl> & <int> & ⋯ & <lgl> & <lgl> & <dbl> & <int> & <int> & <int> & <int> & <int> & <int> & <int>\\\\\n",
       "\\hline\n",
       "\t1511783 & 21714001 & VOSNE ROMANEE & 47.16183 & 4.954167 & 255 & 20190625 & 0 & 1 & NA & NA & ⋯ & NA & NA & NA & NA & NA & NA & NA & NA & NA & NA\\\\\n",
       "\t1511784 & 21714001 & VOSNE ROMANEE & 47.16183 & 4.954167 & 255 & 20190626 & 0 & 1 & NA & NA & ⋯ & NA & NA & NA & NA & NA & NA & NA & NA & NA & NA\\\\\n",
       "\t1511785 & 21714001 & VOSNE ROMANEE & 47.16183 & 4.954167 & 255 & 20190627 & 0 & 1 & NA & NA & ⋯ & NA & NA & NA & NA & NA & NA & NA & NA & NA & NA\\\\\n",
       "\t1511786 & 21714001 & VOSNE ROMANEE & 47.16183 & 4.954167 & 255 & 20190628 & 0 & 1 & NA & NA & ⋯ & NA & NA & NA & NA & NA & NA & NA & NA & NA & NA\\\\\n",
       "\t1511787 & 21714001 & VOSNE ROMANEE & 47.16183 & 4.954167 & 255 & 20190629 & 0 & 1 & NA & NA & ⋯ & NA & NA & NA & NA & NA & NA & NA & NA & NA & NA\\\\\n",
       "\t1511788 & 21714001 & VOSNE ROMANEE & 47.16183 & 4.954167 & 255 & 20190630 & 0 & 1 & NA & NA & ⋯ & NA & NA & NA & NA & NA & NA & NA & NA & NA & NA\\\\\n",
       "\\end{tabular}\n"
      ],
      "text/markdown": [
       "\n",
       "A data.frame: 6 × 58\n",
       "\n",
       "| <!--/--> | NUM_POSTE &lt;int&gt; | NOM_USUEL &lt;chr&gt; | LAT &lt;dbl&gt; | LON &lt;dbl&gt; | ALTI &lt;int&gt; | AAAAMMJJ &lt;int&gt; | RR &lt;dbl&gt; | QRR &lt;int&gt; | TN &lt;dbl&gt; | QTN &lt;int&gt; | ⋯ ⋯ | HXI2 &lt;lgl&gt; | QHXI2 &lt;lgl&gt; | FXI3S &lt;dbl&gt; | QFXI3S &lt;int&gt; | DXI3S &lt;int&gt; | QDXI3S &lt;int&gt; | HXI3S &lt;int&gt; | QHXI3S &lt;int&gt; | DRR &lt;int&gt; | QDRR &lt;int&gt; |\n",
       "|---|---|---|---|---|---|---|---|---|---|---|---|---|---|---|---|---|---|---|---|---|---|\n",
       "| 1511783 | 21714001 | VOSNE ROMANEE | 47.16183 | 4.954167 | 255 | 20190625 | 0 | 1 | NA | NA | ⋯ | NA | NA | NA | NA | NA | NA | NA | NA | NA | NA |\n",
       "| 1511784 | 21714001 | VOSNE ROMANEE | 47.16183 | 4.954167 | 255 | 20190626 | 0 | 1 | NA | NA | ⋯ | NA | NA | NA | NA | NA | NA | NA | NA | NA | NA |\n",
       "| 1511785 | 21714001 | VOSNE ROMANEE | 47.16183 | 4.954167 | 255 | 20190627 | 0 | 1 | NA | NA | ⋯ | NA | NA | NA | NA | NA | NA | NA | NA | NA | NA |\n",
       "| 1511786 | 21714001 | VOSNE ROMANEE | 47.16183 | 4.954167 | 255 | 20190628 | 0 | 1 | NA | NA | ⋯ | NA | NA | NA | NA | NA | NA | NA | NA | NA | NA |\n",
       "| 1511787 | 21714001 | VOSNE ROMANEE | 47.16183 | 4.954167 | 255 | 20190629 | 0 | 1 | NA | NA | ⋯ | NA | NA | NA | NA | NA | NA | NA | NA | NA | NA |\n",
       "| 1511788 | 21714001 | VOSNE ROMANEE | 47.16183 | 4.954167 | 255 | 20190630 | 0 | 1 | NA | NA | ⋯ | NA | NA | NA | NA | NA | NA | NA | NA | NA | NA |\n",
       "\n"
      ],
      "text/plain": [
       "        NUM_POSTE NOM_USUEL     LAT      LON      ALTI AAAAMMJJ RR QRR TN QTN ⋯\n",
       "1511783 21714001  VOSNE ROMANEE 47.16183 4.954167 255  20190625 0  1   NA NA  ⋯\n",
       "1511784 21714001  VOSNE ROMANEE 47.16183 4.954167 255  20190626 0  1   NA NA  ⋯\n",
       "1511785 21714001  VOSNE ROMANEE 47.16183 4.954167 255  20190627 0  1   NA NA  ⋯\n",
       "1511786 21714001  VOSNE ROMANEE 47.16183 4.954167 255  20190628 0  1   NA NA  ⋯\n",
       "1511787 21714001  VOSNE ROMANEE 47.16183 4.954167 255  20190629 0  1   NA NA  ⋯\n",
       "1511788 21714001  VOSNE ROMANEE 47.16183 4.954167 255  20190630 0  1   NA NA  ⋯\n",
       "        HXI2 QHXI2 FXI3S QFXI3S DXI3S QDXI3S HXI3S QHXI3S DRR QDRR\n",
       "1511783 NA   NA    NA    NA     NA    NA     NA    NA     NA  NA  \n",
       "1511784 NA   NA    NA    NA     NA    NA     NA    NA     NA  NA  \n",
       "1511785 NA   NA    NA    NA     NA    NA     NA    NA     NA  NA  \n",
       "1511786 NA   NA    NA    NA     NA    NA     NA    NA     NA  NA  \n",
       "1511787 NA   NA    NA    NA     NA    NA     NA    NA     NA  NA  \n",
       "1511788 NA   NA    NA    NA     NA    NA     NA    NA     NA  NA  "
      ]
     },
     "metadata": {},
     "output_type": "display_data"
    },
    {
     "data": {
      "text/html": [
       "<style>\n",
       ".list-inline {list-style: none; margin:0; padding: 0}\n",
       ".list-inline>li {display: inline-block}\n",
       ".list-inline>li:not(:last-child)::after {content: \"\\00b7\"; padding: 0 .5ex}\n",
       "</style>\n",
       "<ol class=list-inline><li>1511788</li><li>58</li></ol>\n"
      ],
      "text/latex": [
       "\\begin{enumerate*}\n",
       "\\item 1511788\n",
       "\\item 58\n",
       "\\end{enumerate*}\n"
      ],
      "text/markdown": [
       "1. 1511788\n",
       "2. 58\n",
       "\n",
       "\n"
      ],
      "text/plain": [
       "[1] 1511788      58"
      ]
     },
     "metadata": {},
     "output_type": "display_data"
    }
   ],
   "source": [
    "## Exploration des données Météo-France##\n",
    "########################################################\n",
    "head(mydataMF) ## affichage les premières lignes des données\n",
    "tail(mydataMF) ## affichage des dernières lignes des données\n",
    "dim(mydataMF) ## dimension de l'objet\n"
   ]
  },
  {
   "cell_type": "code",
   "execution_count": 5,
   "id": "0a942209-57a7-4d12-9972-484b6d955df8",
   "metadata": {},
   "outputs": [
    {
     "data": {
      "text/html": [
       "<table class=\"dataframe\">\n",
       "<caption>A data.frame: 6 × 5</caption>\n",
       "<thead>\n",
       "\t<tr><th></th><th scope=col>NUM_POSTE</th><th scope=col>NOM_USUEL</th><th scope=col>LAT</th><th scope=col>LON</th><th scope=col>ALTI</th></tr>\n",
       "\t<tr><th></th><th scope=col>&lt;int&gt;</th><th scope=col>&lt;chr&gt;</th><th scope=col>&lt;dbl&gt;</th><th scope=col>&lt;dbl&gt;</th><th scope=col>&lt;int&gt;</th></tr>\n",
       "</thead>\n",
       "<tbody>\n",
       "\t<tr><th scope=row>1</th><td>21010001</td><td>ALOXE CORTON      </td><td>47.06900</td><td>4.861500</td><td>273</td></tr>\n",
       "\t<tr><th scope=row>21949</th><td>21012001</td><td>AMPILLY LE SEC    </td><td>47.80833</td><td>4.529000</td><td>277</td></tr>\n",
       "\t<tr><th scope=row>47959</th><td>21023001</td><td>ARNAY LE DUC      </td><td>47.13333</td><td>4.493333</td><td>365</td></tr>\n",
       "\t<tr><th scope=row>65004</th><td>21030001</td><td>AUBAINE           </td><td>47.16667</td><td>4.703833</td><td>380</td></tr>\n",
       "\t<tr><th scope=row>87222</th><td>21038001</td><td>AUXONNE           </td><td>47.19017</td><td>5.380000</td><td>185</td></tr>\n",
       "\t<tr><th scope=row>109137</th><td>21043001</td><td>BAIGNEUX LES JUIFS</td><td>47.60033</td><td>4.645167</td><td>415</td></tr>\n",
       "</tbody>\n",
       "</table>\n"
      ],
      "text/latex": [
       "A data.frame: 6 × 5\n",
       "\\begin{tabular}{r|lllll}\n",
       "  & NUM\\_POSTE & NOM\\_USUEL & LAT & LON & ALTI\\\\\n",
       "  & <int> & <chr> & <dbl> & <dbl> & <int>\\\\\n",
       "\\hline\n",
       "\t1 & 21010001 & ALOXE CORTON       & 47.06900 & 4.861500 & 273\\\\\n",
       "\t21949 & 21012001 & AMPILLY LE SEC     & 47.80833 & 4.529000 & 277\\\\\n",
       "\t47959 & 21023001 & ARNAY LE DUC       & 47.13333 & 4.493333 & 365\\\\\n",
       "\t65004 & 21030001 & AUBAINE            & 47.16667 & 4.703833 & 380\\\\\n",
       "\t87222 & 21038001 & AUXONNE            & 47.19017 & 5.380000 & 185\\\\\n",
       "\t109137 & 21043001 & BAIGNEUX LES JUIFS & 47.60033 & 4.645167 & 415\\\\\n",
       "\\end{tabular}\n"
      ],
      "text/markdown": [
       "\n",
       "A data.frame: 6 × 5\n",
       "\n",
       "| <!--/--> | NUM_POSTE &lt;int&gt; | NOM_USUEL &lt;chr&gt; | LAT &lt;dbl&gt; | LON &lt;dbl&gt; | ALTI &lt;int&gt; |\n",
       "|---|---|---|---|---|---|\n",
       "| 1 | 21010001 | ALOXE CORTON       | 47.06900 | 4.861500 | 273 |\n",
       "| 21949 | 21012001 | AMPILLY LE SEC     | 47.80833 | 4.529000 | 277 |\n",
       "| 47959 | 21023001 | ARNAY LE DUC       | 47.13333 | 4.493333 | 365 |\n",
       "| 65004 | 21030001 | AUBAINE            | 47.16667 | 4.703833 | 380 |\n",
       "| 87222 | 21038001 | AUXONNE            | 47.19017 | 5.380000 | 185 |\n",
       "| 109137 | 21043001 | BAIGNEUX LES JUIFS | 47.60033 | 4.645167 | 415 |\n",
       "\n"
      ],
      "text/plain": [
       "       NUM_POSTE NOM_USUEL          LAT      LON      ALTI\n",
       "1      21010001  ALOXE CORTON       47.06900 4.861500 273 \n",
       "21949  21012001  AMPILLY LE SEC     47.80833 4.529000 277 \n",
       "47959  21023001  ARNAY LE DUC       47.13333 4.493333 365 \n",
       "65004  21030001  AUBAINE            47.16667 4.703833 380 \n",
       "87222  21038001  AUXONNE            47.19017 5.380000 185 \n",
       "109137 21043001  BAIGNEUX LES JUIFS 47.60033 4.645167 415 "
      ]
     },
     "metadata": {},
     "output_type": "display_data"
    },
    {
     "data": {
      "text/html": [
       "<style>\n",
       ".list-inline {list-style: none; margin:0; padding: 0}\n",
       ".list-inline>li {display: inline-block}\n",
       ".list-inline>li:not(:last-child)::after {content: \"\\00b7\"; padding: 0 .5ex}\n",
       "</style>\n",
       "<ol class=list-inline><li>111</li><li>5</li></ol>\n"
      ],
      "text/latex": [
       "\\begin{enumerate*}\n",
       "\\item 111\n",
       "\\item 5\n",
       "\\end{enumerate*}\n"
      ],
      "text/markdown": [
       "1. 111\n",
       "2. 5\n",
       "\n",
       "\n"
      ],
      "text/plain": [
       "[1] 111   5"
      ]
     },
     "metadata": {},
     "output_type": "display_data"
    }
   ],
   "source": [
    "###########################################################\n",
    "## Identification du nombre de stations Météo-France\n",
    "###########################################################\n",
    "MFposte <- unique(mydataMF[, c(\"NUM_POSTE\", \"NOM_USUEL\", \"LAT\", \"LON\", \"ALTI\")])\n",
    "head(MFposte) ## Affichage des premières lignes des données\n",
    "dim(MFposte)\n",
    "write.csv(MFposte,file=\"MFposte21.csv\")"
   ]
  },
  {
   "cell_type": "code",
   "execution_count": 7,
   "id": "b8dd4c8b-3860-43d0-b7f0-974b60dbef4a",
   "metadata": {},
   "outputs": [
    {
     "data": {
      "text/html": [
       "<style>\n",
       ".list-inline {list-style: none; margin:0; padding: 0}\n",
       ".list-inline>li {display: inline-block}\n",
       ".list-inline>li:not(:last-child)::after {content: \"\\00b7\"; padding: 0 .5ex}\n",
       "</style>\n",
       "<ol class=list-inline><li>1511788</li><li>5</li></ol>\n"
      ],
      "text/latex": [
       "\\begin{enumerate*}\n",
       "\\item 1511788\n",
       "\\item 5\n",
       "\\end{enumerate*}\n"
      ],
      "text/markdown": [
       "1. 1511788\n",
       "2. 5\n",
       "\n",
       "\n"
      ],
      "text/plain": [
       "[1] 1511788       5"
      ]
     },
     "metadata": {},
     "output_type": "display_data"
    },
    {
     "name": "stdout",
     "output_type": "stream",
     "text": [
      "'data.frame':\t1511788 obs. of  5 variables:\n",
      " $ NUM_POSTE: int  21010001 21010001 21010001 21010001 21010001 21010001 21010001 21010001 21010001 21010001 ...\n",
      " $ AAAAMMJJ : int  19570101 19570102 19570103 19570104 19570105 19570106 19570107 19570108 19570109 19570110 ...\n",
      " $ RR       : num  0 0 1.5 0 0 1.4 0 0 0 4 ...\n",
      " $ TN       : num  NA NA NA NA NA NA NA NA NA NA ...\n",
      " $ TX       : num  NA NA NA NA NA NA NA NA NA NA ...\n"
     ]
    }
   ],
   "source": [
    "## Nettoyage des données i.e. suppression/conservation des certaines colonnes\n",
    "## pour cela on s'aide du fichier \"Q_descriptif_champs_RR-T-Vent.csv\"\n",
    "## récupéré sur le site https://meteo.data.gouv.fr/\n",
    "\n",
    "mydataMF <- mydataMF[, c(\"NUM_POSTE\", \"AAAAMMJJ\", \"RR\", \"TN\", \"TX\")]\n",
    "dim(mydataMF)\n",
    "str(mydataMF)"
   ]
  },
  {
   "cell_type": "code",
   "execution_count": 8,
   "id": "b1445d11-36ca-4072-96a2-ee1aef993fb2",
   "metadata": {},
   "outputs": [
    {
     "name": "stderr",
     "output_type": "stream",
     "text": [
      "Le chargement a nécessité le package : zoo\n",
      "\n",
      "\n",
      "Attachement du package : ‘zoo’\n",
      "\n",
      "\n",
      "Les objets suivants sont masqués depuis ‘package:base’:\n",
      "\n",
      "    as.Date, as.Date.numeric\n",
      "\n",
      "\n"
     ]
    }
   ],
   "source": [
    "## Quel est le format de données de la colonne qui contient les dates ? ##\n",
    "## création d'un vecteur date nécessaire pour créer un objet xts\n",
    "\n",
    "mydates <- as.Date(as.character(mydataMF$AAAAMMJJ), \"%Y%m%d\")\n",
    "## Chargement de la librairie xts\n",
    "library(xts)"
   ]
  },
  {
   "cell_type": "code",
   "execution_count": 9,
   "id": "5075010c-5637-4a80-9992-832528006a31",
   "metadata": {},
   "outputs": [
    {
     "data": {
      "text/html": [
       "<style>\n",
       ".list-inline {list-style: none; margin:0; padding: 0}\n",
       ".list-inline>li {display: inline-block}\n",
       ".list-inline>li:not(:last-child)::after {content: \"\\00b7\"; padding: 0 .5ex}\n",
       "</style>\n",
       "<ol class=list-inline><li>1511788</li><li>4</li></ol>\n"
      ],
      "text/latex": [
       "\\begin{enumerate*}\n",
       "\\item 1511788\n",
       "\\item 4\n",
       "\\end{enumerate*}\n"
      ],
      "text/markdown": [
       "1. 1511788\n",
       "2. 4\n",
       "\n",
       "\n"
      ],
      "text/plain": [
       "[1] 1511788       4"
      ]
     },
     "metadata": {},
     "output_type": "display_data"
    }
   ],
   "source": [
    "mydataMF.xts <- xts(mydataMF[, c(\"NUM_POSTE\",\"TN\", \"TX\", \"RR\")], order.by = mydates)\n",
    "dim(mydataMF.xts)"
   ]
  },
  {
   "cell_type": "code",
   "execution_count": 10,
   "id": "3dd55c30-a143-4792-a81d-daf42aa058ed",
   "metadata": {},
   "outputs": [
    {
     "data": {
      "text/html": [
       "<style>\n",
       ".list-inline {list-style: none; margin:0; padding: 0}\n",
       ".list-inline>li {display: inline-block}\n",
       ".list-inline>li:not(:last-child)::after {content: \"\\00b7\"; padding: 0 .5ex}\n",
       "</style>\n",
       "<ol class=list-inline><li>742161</li><li>4</li></ol>\n"
      ],
      "text/latex": [
       "\\begin{enumerate*}\n",
       "\\item 742161\n",
       "\\item 4\n",
       "\\end{enumerate*}\n"
      ],
      "text/markdown": [
       "1. 742161\n",
       "2. 4\n",
       "\n",
       "\n"
      ],
      "text/plain": [
       "[1] 742161      4"
      ]
     },
     "metadata": {},
     "output_type": "display_data"
    }
   ],
   "source": [
    "## Ici on découpe la période d'intérêt\n",
    "mydataMF.xts <- mydataMF.xts[\"1975/2005\"]\n",
    "dim(mydataMF.xts)"
   ]
  },
  {
   "cell_type": "code",
   "execution_count": 10,
   "id": "6a2a8358-7ce2-4014-b320-74b2a591ca84",
   "metadata": {},
   "outputs": [],
   "source": [
    "## Attention les données sont maintenant ordonnées selon les dates et non les stations\n",
    "## vérifier cela"
   ]
  },
  {
   "cell_type": "code",
   "execution_count": 18,
   "id": "3298c4ba-09bb-495b-b3c5-d0befbb101ab",
   "metadata": {},
   "outputs": [
    {
     "name": "stdout",
     "output_type": "stream",
     "text": [
      "[1] 21010001\n",
      "[1] 21012001\n",
      "[1] 21023001\n",
      "[1] 21030001\n",
      "[1] 21038001\n",
      "[1] 21043001\n",
      "[1] 21054001\n",
      "[1] 21054002\n",
      "[1] 21056001\n",
      "[1] 21065001\n",
      "[1] 21068001\n",
      "[1] 21109001\n",
      "[1] 21116002\n",
      "[1] 21131001\n",
      "[1] 21139001\n",
      "[1] 21142001\n",
      "[1] 21146001\n",
      "[1] 21154001\n",
      "[1] 21154002\n",
      "[1] 21164002\n",
      "[1] 21196001\n",
      "[1] 21228001\n",
      "[1] 21231001\n",
      "[1] 21231002\n",
      "[1] 21231006\n",
      "[1] 21231007\n",
      "[1] 21237001\n",
      "[1] 21271001\n",
      "[1] 21277001\n",
      "[1] 21292001\n",
      "[1] 21296001\n",
      "[1] 21299001\n",
      "[1] 21304002\n",
      "[1] 21308001\n",
      "[1] 21310001\n",
      "[1] 21312001\n",
      "[1] 21317001\n",
      "[1] 21321001\n",
      "[1] 21326001\n",
      "[1] 21332001\n",
      "[1] 21336001\n",
      "[1] 21349001\n",
      "[1] 21351001\n",
      "[1] 21357001\n",
      "[1] 21357002\n",
      "[1] 21361001\n",
      "[1] 21380001\n",
      "[1] 21382001\n",
      "[1] 21382002\n",
      "[1] 21383001\n",
      "[1] 21384001\n",
      "[1] 21386001\n",
      "[1] 21390001\n",
      "[1] 21395001\n",
      "[1] 21396001\n",
      "[1] 21406001\n",
      "[1] 21409001\n",
      "[1] 21410001\n",
      "[1] 21419001\n",
      "[1] 21425001\n",
      "[1] 21441001\n",
      "[1] 21445001\n",
      "[1] 21446001\n",
      "[1] 21449001\n",
      "[1] 21454001\n",
      "[1] 21461001\n",
      "[1] 21461002\n",
      "[1] 21464001\n",
      "[1] 21471001\n",
      "[1] 21473001\n",
      "[1] 21484001\n",
      "[1] 21497001\n",
      "[1] 21501001\n",
      "[1] 21501003\n",
      "[1] 21503001\n",
      "[1] 21515001\n",
      "[1] 21517001\n",
      "[1] 21519001\n",
      "[1] 21525001\n",
      "[1] 21527001\n",
      "[1] 21546001\n",
      "[1] 21546011\n",
      "[1] 21560001\n",
      "[1] 21561001\n",
      "[1] 21561003\n",
      "[1] 21564001\n",
      "[1] 21567001\n",
      "[1] 21569001\n",
      "[1] 21573001\n",
      "[1] 21584001\n",
      "[1] 21589001\n",
      "[1] 21590001\n",
      "[1] 21603001\n",
      "[1] 21603003\n",
      "[1] 21611001\n",
      "[1] 21633001\n",
      "[1] 21633002\n",
      "[1] 21638002\n",
      "[1] 21648001\n",
      "[1] 21656001\n",
      "[1] 21663001\n",
      "[1] 21676001\n",
      "[1] 21685001\n",
      "[1] 21690001\n",
      "[1] 21699001\n",
      "[1] 21705001\n",
      "[1] 21710001\n",
      "[1] 21710004\n",
      "[1] 21711001\n",
      "[1] 21713001\n",
      "[1] 21714001\n"
     ]
    }
   ],
   "source": [
    "## Boucle pour calculer les moyennes mensuelles pour chaque station\n",
    "## et pour les trois variables climatiques Tn, Tx, RR\n",
    "\n",
    "## Création d'objets vide que l'on va remplir par le calcul\n",
    "## 3 objets pour les moyennes et 3 pour sélectionner les stations\n",
    "## avec suffisamment de données et peu/pas de NA\n",
    "\n",
    "dfnatx <- c();dftx <- c()\n",
    "dfnatn <- c();dftn <- c()\n",
    "dfnarr <- c();dfrr <- c()\n",
    "\n",
    "for (i in MFposte$NUM_POSTE) {\n",
    "  print(i)## affiche le numéro de la station MF qui est traitée\n",
    "  tmp <- mydataMF.xts[mydataMF.xts$NUM_POSTE %in% i]\n",
    "\n",
    "  if (nrow(tmp) == 0) { ## si la station n'a pas de données pour la période 1975/2005\n",
    "    dfnatx <- cbind(dfnatx, NA)\n",
    "    dfnatn <- cbind(dfnatn, NA)\n",
    "    dfnarr <- cbind(dfnarr, NA)\n",
    "    dftx <- cbind(dftx, NA)\n",
    "    dftn <- cbind(dftn, NA)\n",
    "    dfrr <- cbind(dfrr, NA)\n",
    "  } else { \n",
    "    ## On calcule le nombre de NA pour chaque variable et pour chaque mois\n",
    "    tmpna <- apply.monthly(\n",
    "        tmp[, c(\"TN\", \"TX\", \"RR\")],\n",
    "        function(x) apply(x, 2, function(x) length(which(is.na(x))))\n",
    "      )\n",
    "    ## On rempli les objets pour avoir le nombre de NA par station, par mois et par variable\n",
    "    dfnatx <- cbind(dfnatx, tmpna$TX)\n",
    "    dfnatn <- cbind(dfnatn, tmpna$TN)\n",
    "    dfnarr <- cbind(dfnarr, tmpna$RR)\n",
    "        \n",
    "    ## On calcule les moyennes mensuelles pour les températures \n",
    "    tmpst <- apply.monthly(tmp[, c(\"TN\", \"TX\")],\n",
    "      FUN = function(x) colMeans(x, na.rm = TRUE)\n",
    "    )\n",
    "    ## On rempli les objets avec les résultats\n",
    "    dftx <- cbind(dftx, tmpst$TX)\n",
    "    dftn <- cbind(dftn, tmpst$TN)\n",
    "    \n",
    "    ## On calcule les cumuls mensuels\n",
    "    tmpstr <- apply.monthly(tmp[, c(\"RR\")],\n",
    "      FUN = function(x) colSums(x, na.rm = TRUE)\n",
    "    )\n",
    "    dfrr <- cbind(dfrr, tmpstr$RR)\n",
    "  }\n",
    "}"
   ]
  },
  {
   "cell_type": "code",
   "execution_count": 20,
   "id": "4812e5e8-3994-462b-8459-b880dd7199b1",
   "metadata": {},
   "outputs": [
    {
     "data": {
      "text/html": [
       "<style>\n",
       ".list-inline {list-style: none; margin:0; padding: 0}\n",
       ".list-inline>li {display: inline-block}\n",
       ".list-inline>li:not(:last-child)::after {content: \"\\00b7\"; padding: 0 .5ex}\n",
       "</style>\n",
       "<ol class=list-inline><li>'xts'</li><li>'zoo'</li></ol>\n"
      ],
      "text/latex": [
       "\\begin{enumerate*}\n",
       "\\item 'xts'\n",
       "\\item 'zoo'\n",
       "\\end{enumerate*}\n"
      ],
      "text/markdown": [
       "1. 'xts'\n",
       "2. 'zoo'\n",
       "\n",
       "\n"
      ],
      "text/plain": [
       "[1] \"xts\" \"zoo\""
      ]
     },
     "metadata": {},
     "output_type": "display_data"
    },
    {
     "data": {
      "text/html": [
       "<style>\n",
       ".list-inline {list-style: none; margin:0; padding: 0}\n",
       ".list-inline>li {display: inline-block}\n",
       ".list-inline>li:not(:last-child)::after {content: \"\\00b7\"; padding: 0 .5ex}\n",
       "</style>\n",
       "<ol class=list-inline><li>389</li><li>111</li></ol>\n"
      ],
      "text/latex": [
       "\\begin{enumerate*}\n",
       "\\item 389\n",
       "\\item 111\n",
       "\\end{enumerate*}\n"
      ],
      "text/markdown": [
       "1. 389\n",
       "2. 111\n",
       "\n",
       "\n"
      ],
      "text/plain": [
       "[1] 389 111"
      ]
     },
     "metadata": {},
     "output_type": "display_data"
    },
    {
     "data": {
      "text/plain": [
       "           TX TX.1 TX.2 TX.3      TX.4      TX.5 TX.6 NA. TX.7 TX.8 TX.9 TX.10\n",
       "1975-01-31 NA   NA   NA   NA  6.990323  8.258065   NA  NA   NA   NA   NA    NA\n",
       "1975-02-28 NA   NA   NA   NA  8.425000  9.725000   NA  NA   NA   NA   NA    NA\n",
       "1975-03-31 NA   NA   NA   NA  7.706452  6.570968   NA  NA   NA   NA   NA    NA\n",
       "1975-04-30 NA   NA   NA   NA 13.820000 13.280000   NA  NA   NA   NA   NA    NA\n",
       "1975-05-31 NA   NA   NA   NA 17.148387 16.680645   NA  NA   NA   NA   NA    NA\n",
       "1975-06-30 NA   NA   NA   NA 20.763333 20.840000   NA  NA   NA   NA   NA    NA\n",
       "           NA..1 TX.11 TX.12 TX.13 TX.14     TX.15 NA..2 TX.16     TX.17\n",
       "1975-01-31    NA    NA    NA    NA    NA  8.596774    NA    NA  8.587097\n",
       "1975-02-28    NA    NA    NA    NA    NA 10.632143    NA    NA 10.064286\n",
       "1975-03-31    NA    NA    NA    NA    NA  7.603226    NA    NA  9.541935\n",
       "1975-04-30    NA    NA    NA    NA    NA 13.416667    NA    NA 15.893333\n",
       "1975-05-31    NA    NA    NA    NA    NA 16.838710    NA    NA 18.951613\n",
       "1975-06-30    NA    NA    NA    NA    NA 20.923333    NA    NA 23.390000\n",
       "               TX.18 TX.19 TX.20 TX.21 TX.22 TX.23 TX.24     TX.25 TX.26 TX.27\n",
       "1975-01-31  6.109677    NA    NA    NA    NA    NA    NA  7.458065    NA    NA\n",
       "1975-02-28  8.178571    NA    NA    NA    NA    NA    NA  9.614286    NA    NA\n",
       "1975-03-31  5.896774    NA    NA    NA    NA    NA    NA  8.554839    NA    NA\n",
       "1975-04-30 12.263333    NA    NA    NA    NA    NA    NA 14.496667    NA    NA\n",
       "1975-05-31 16.300000    NA    NA    NA    NA    NA    NA 18.187097    NA    NA\n",
       "1975-06-30 20.163333    NA    NA    NA    NA    NA    NA 22.323333    NA    NA\n",
       "           TX.28 TX.29 TX.30 TX.31 TX.32 TX.33 TX.34 NA..3 TX.35 TX.36 TX.37\n",
       "1975-01-31    NA    NA    NA    NA    NA    NA    NA    NA    NA    NA    NA\n",
       "1975-02-28    NA    NA    NA    NA    NA    NA    NA    NA    NA    NA    NA\n",
       "1975-03-31    NA    NA    NA    NA    NA    NA    NA    NA    NA    NA    NA\n",
       "1975-04-30    NA    NA    NA    NA    NA    NA    NA    NA    NA    NA    NA\n",
       "1975-05-31    NA    NA    NA    NA    NA    NA    NA    NA    NA    NA    NA\n",
       "1975-06-30    NA    NA    NA    NA    NA    NA    NA    NA    NA    NA    NA\n",
       "           TX.38 NA..4 TX.39 TX.40 TX.41 TX.42 TX.43 TX.44 TX.45 TX.46\n",
       "1975-01-31    NA    NA    NA    NA    NA    NA    NA    NA    NA    NA\n",
       "1975-02-28    NA    NA    NA    NA    NA    NA    NA    NA    NA    NA\n",
       "1975-03-31    NA    NA    NA    NA    NA    NA    NA    NA    NA    NA\n",
       "1975-04-30    NA    NA    NA    NA    NA    NA    NA    NA    NA    NA\n",
       "1975-05-31    NA    NA    NA    NA    NA    NA    NA    NA    NA    NA\n",
       "1975-06-30    NA    NA    NA    NA    NA    NA    NA    NA    NA    NA\n",
       "               TX.47 NA..5 TX.48 TX.49 NA..6 TX.50 TX.51 TX.52 TX.53 TX.54\n",
       "1975-01-31  7.648387    NA    NA    NA    NA    NA    NA    NA    NA    NA\n",
       "1975-02-28  9.410714    NA    NA    NA    NA    NA    NA    NA    NA    NA\n",
       "1975-03-31  8.780645    NA    NA    NA    NA    NA    NA    NA    NA    NA\n",
       "1975-04-30 14.890000    NA    NA    NA    NA    NA    NA    NA    NA    NA\n",
       "1975-05-31 18.625806    NA    NA    NA    NA    NA    NA    NA    NA    NA\n",
       "1975-06-30 23.216667    NA    NA    NA    NA    NA    NA    NA    NA    NA\n",
       "           TX.55 TX.56 TX.57 TX.58 TX.59 TX.60 TX.61     TX.62 TX.63 TX.64\n",
       "1975-01-31    NA    NA    NA    NA    NA    NA    NA  7.806452    NA    NA\n",
       "1975-02-28    NA    NA    NA    NA    NA    NA    NA  9.578571    NA    NA\n",
       "1975-03-31    NA    NA    NA    NA    NA    NA    NA  8.622581    NA    NA\n",
       "1975-04-30    NA    NA    NA    NA    NA    NA    NA 14.413333    NA    NA\n",
       "1975-05-31    NA    NA    NA    NA    NA    NA    NA 17.832258    NA    NA\n",
       "1975-06-30    NA    NA    NA    NA    NA    NA    NA 21.763333    NA    NA\n",
       "           TX.65 TX.66 TX.67 TX.68 NA..7 TX.69 TX.70     TX.71 TX.72 TX.73\n",
       "1975-01-31    NA    NA    NA    NA    NA    NA    NA  6.951613    NA    NA\n",
       "1975-02-28    NA    NA    NA    NA    NA    NA    NA  7.732143    NA    NA\n",
       "1975-03-31    NA    NA    NA    NA    NA    NA    NA  7.161290    NA    NA\n",
       "1975-04-30    NA    NA    NA    NA    NA    NA    NA 13.100000    NA    NA\n",
       "1975-05-31    NA    NA    NA    NA    NA    NA    NA 16.338710    NA    NA\n",
       "1975-06-30    NA    NA    NA    NA    NA    NA    NA 20.300000    NA    NA\n",
       "           TX.74 TX.75 TX.76     TX.77 TX.78 NA..8 NA..9     TX.79 TX.80\n",
       "1975-01-31    NA    NA    NA  8.003226    NA    NA    NA  7.519355    NA\n",
       "1975-02-28    NA    NA    NA  9.739286    NA    NA    NA  9.071429    NA\n",
       "1975-03-31    NA    NA    NA  8.674194    NA    NA    NA  5.996774    NA\n",
       "1975-04-30    NA    NA    NA 14.666667    NA    NA    NA 12.653333    NA\n",
       "1975-05-31    NA    NA    NA 17.951613    NA    NA    NA 15.174194    NA\n",
       "1975-06-30    NA    NA    NA 22.123333    NA    NA    NA 19.033333    NA\n",
       "               TX.81 TX.82 NA..10 TX.83 NA..11 NA..12 TX.84 TX.85 TX.86 TX.87\n",
       "1975-01-31  7.816129    NA     NA    NA     NA     NA    NA    NA    NA    NA\n",
       "1975-02-28  9.264286    NA     NA    NA     NA     NA    NA    NA    NA    NA\n",
       "1975-03-31  8.464516    NA     NA    NA     NA     NA    NA    NA    NA    NA\n",
       "1975-04-30 14.426667    NA     NA    NA     NA     NA    NA    NA    NA    NA\n",
       "1975-05-31 17.761290    NA     NA    NA     NA     NA    NA    NA    NA    NA\n",
       "1975-06-30 21.950000    NA     NA    NA     NA     NA    NA    NA    NA    NA\n",
       "           TX.88 TX.89 TX.90 NA..13 TX.91 TX.92 TX.93 TX.94 TX.95 TX.96\n",
       "1975-01-31    NA    NA    NA     NA    NA    NA    NA    NA    NA    NA\n",
       "1975-02-28    NA    NA    NA     NA    NA    NA    NA    NA    NA    NA\n",
       "1975-03-31    NA    NA    NA     NA    NA    NA    NA    NA    NA    NA\n",
       "1975-04-30    NA    NA    NA     NA    NA    NA    NA    NA    NA    NA\n",
       "1975-05-31    NA    NA    NA     NA    NA    NA    NA    NA    NA    NA\n",
       "1975-06-30    NA    NA    NA     NA    NA    NA    NA    NA    NA    NA"
      ]
     },
     "metadata": {},
     "output_type": "display_data"
    }
   ],
   "source": [
    "## le calcul renvoie des NaN si que des NA dans la série\n",
    "## On les remplace par des NA\n",
    "dftn[dftn == \"NaN\"] <- NA; dfnatn[dfnatn == \"NaN\"] <- NA\n",
    "dftx[dftx == \"NaN\"] <- NA; dfnatx[dfnatx == \"NaN\"] <- NA\n",
    "dfrr[dfrr == \"NaN\"] <- NA; dfnarr[dfnarr == \"NaN\"] <- NA\n",
    "\n",
    "class(dftx)\n",
    "dim(dftx)\n",
    "head(dftx)"
   ]
  },
  {
   "cell_type": "code",
   "execution_count": 21,
   "id": "1b93e1d7-5510-4c34-8aff-2ca1caf0eeb2",
   "metadata": {},
   "outputs": [],
   "source": [
    "## nettoyage des données, on enlève les mois incomplets\n",
    "##\n",
    "indom <- which(as.numeric(format(index(dftx), format = \"%d\")) < 28)\n",
    "dftx <- dftx[-indom, ]; dfnatx <- dfnatx[-indom, ]\n",
    "indom <- which(as.numeric(format(index(dftn), format = \"%d\")) < 28)\n",
    "dftn <- dftn[-indom, ]; dfnatn <- dfnatn[-indom, ]\n",
    "indom <- which(as.numeric(format(index(dfrr), format = \"%d\")) < 28)\n",
    "dfrr <- dfrr[-indom, ]; dfnarr <- dfnarr[-indom, ]\n",
    "###################################################################\n"
   ]
  },
  {
   "cell_type": "code",
   "execution_count": 22,
   "id": "4bee3f2c-c1c3-4e7f-816a-639482fb2bfc",
   "metadata": {},
   "outputs": [],
   "source": [
    "## calcul des moyennes mensuelles toutes années confondus\n",
    "## initalise les objets pour l'ensemble des résultats\n",
    "\n",
    "## Création d'une fonction pour écarter les stations & mois incomplets\n",
    "##\n",
    "MFclean <- function(myxts, myxtsna){\n",
    "\n",
    "  ## identifie les mois avec plus de 5 jours sans données\n",
    "  ## et ceux avec des NA\n",
    "  ind <- which(myxtsna > 5 | is.na(myxtsna))\n",
    "\n",
    "  myxts[ind] <- NA\n",
    "  \n",
    "  mwna <- length(which(is.na(myxts)))\n",
    "  ## si mwna > 60 i.e. plus de 5 ans sans données (12*5)\n",
    "  ## alors tout en NA pour écarter la station\n",
    "  if(mwna>60){\n",
    "    myxts[] <- NA\n",
    "  }\n",
    " return(myxts)\n",
    "}"
   ]
  },
  {
   "cell_type": "code",
   "execution_count": 23,
   "id": "5a2f271d-121d-47cf-97e5-27b9e9d3fd56",
   "metadata": {},
   "outputs": [],
   "source": [
    "## Boucle principale du calcul des moyennes climatologiques période 1975/2005\n",
    "resuMFTn <- c()\n",
    "resuMFTx <- c()\n",
    "resuMFRR <- c()\n",
    "for (i in 1:ncol(dftn)){## boucle su les station qui sont en colonne\n",
    "  tmptn <- MFclean(dftn[, i], dfnatn[, i])\n",
    "  tmptx <- MFclean(dftx[, i], dfnatx[, i])\n",
    "  tmprr <- MFclean(dfrr[, i], dfnarr[, i])\n",
    "  ## initialise objet vide pour les moyennes mensuelles\n",
    "  rmoiTn <- c()\n",
    "  rmoiTx <- c()\n",
    "  rmoiRR <- c()\n",
    "  for (j in 1:12) {## boucle pous faire la moyenne de tous les mois de janvier, puis février etc.\n",
    "    moi <- tmptn[.indexmon(tmptn) %in% (j - 1)]\n",
    "    rmoiTn <- cbind(rmoiTn, colMeans(moi, na.rm = TRUE))\n",
    "    moi <- tmptx[.indexmon(tmptx) %in% (j - 1)]\n",
    "    rmoiTx <- cbind(rmoiTx, colMeans(moi, na.rm = TRUE))\n",
    "    moi <- tmprr[.indexmon(tmprr) %in% (j - 1)]\n",
    "    rmoiRR <- cbind(rmoiRR, colMeans(moi, na.rm = TRUE))\n",
    "  }\n",
    "  resuMFTn <- rbind(resuMFTn, rmoiTn)\n",
    "  resuMFTx <- rbind(resuMFTx, rmoiTx)\n",
    "  resuMFRR <- rbind(resuMFRR, rmoiRR)\n",
    "}"
   ]
  },
  {
   "cell_type": "code",
   "execution_count": 24,
   "id": "ebf63ace-9be9-4ee7-9586-f4c2a44fb70d",
   "metadata": {},
   "outputs": [
    {
     "data": {
      "text/html": [
       "<style>\n",
       ".list-inline {list-style: none; margin:0; padding: 0}\n",
       ".list-inline>li {display: inline-block}\n",
       ".list-inline>li:not(:last-child)::after {content: \"\\00b7\"; padding: 0 .5ex}\n",
       "</style>\n",
       "<ol class=list-inline><li>111</li><li>12</li></ol>\n"
      ],
      "text/latex": [
       "\\begin{enumerate*}\n",
       "\\item 111\n",
       "\\item 12\n",
       "\\end{enumerate*}\n"
      ],
      "text/markdown": [
       "1. 111\n",
       "2. 12\n",
       "\n",
       "\n"
      ],
      "text/plain": [
       "[1] 111  12"
      ]
     },
     "metadata": {},
     "output_type": "display_data"
    }
   ],
   "source": [
    "dim(resuMFTn)"
   ]
  },
  {
   "cell_type": "code",
   "execution_count": 18,
   "id": "b91bd956-048d-4892-9c82-875201b51a9c",
   "metadata": {},
   "outputs": [],
   "source": [
    "## Change les noms des colonnes\n",
    "colnames(resuMFTn) <- month.abb\n",
    "colnames(resuMFTx) <- month.abb\n",
    "colnames(resuMFRR) <- month.abb"
   ]
  },
  {
   "cell_type": "code",
   "execution_count": 26,
   "id": "5c573c96-d587-45c0-8e03-952ecaf4d1b8",
   "metadata": {},
   "outputs": [],
   "source": [
    "## fonction pour identifier les stations sans valeurs \n",
    "## afin de les écarter\n",
    "MFind <- function(mydf) {\n",
    "  ind <- which(apply(mydf, 1,\n",
    "                     function(x) length(which(is.na(x)))) > 11)\n",
    "  return(as.vector(ind))\n",
    "}"
   ]
  },
  {
   "cell_type": "code",
   "execution_count": 27,
   "id": "c431eafb-ea01-4b91-a31f-4b2bfc025369",
   "metadata": {},
   "outputs": [],
   "source": [
    "## selection les stations des données\n",
    "resuMFTn[resuMFTn == \"NaN\"] <- NA\n",
    "ind <- MFind(resuMFTn)\n",
    "resuMFTn <- resuMFTn[-ind, ]\n",
    "MFTnposte <- MFposte[-ind,]\n",
    "\n",
    "resuMFTx[resuMFTx == \"NaN\"] <- NA\n",
    "ind <- MFind(resuMFTx)\n",
    "resuMFTx <- resuMFTx[-ind, ]\n",
    "MFTxposte <- MFposte[-ind, ]\n",
    "\n",
    "resuMFRR[resuMFRR == \"NaN\"] <- NA\n",
    "ind <- MFind(resuMFRR)\n",
    "resuMFRR <- resuMFRR[-ind, ]\n",
    "MFRRposte <- MFposte[-ind, ]"
   ]
  },
  {
   "cell_type": "code",
   "execution_count": 31,
   "id": "b61e523e-a465-4f4c-8799-2843c01c3c55",
   "metadata": {},
   "outputs": [
    {
     "data": {
      "text/html": [
       "<style>\n",
       ".list-inline {list-style: none; margin:0; padding: 0}\n",
       ".list-inline>li {display: inline-block}\n",
       ".list-inline>li:not(:last-child)::after {content: \"\\00b7\"; padding: 0 .5ex}\n",
       "</style>\n",
       "<ol class=list-inline><li>10</li><li>12</li></ol>\n"
      ],
      "text/latex": [
       "\\begin{enumerate*}\n",
       "\\item 10\n",
       "\\item 12\n",
       "\\end{enumerate*}\n"
      ],
      "text/markdown": [
       "1. 10\n",
       "2. 12\n",
       "\n",
       "\n"
      ],
      "text/plain": [
       "[1] 10 12"
      ]
     },
     "metadata": {},
     "output_type": "display_data"
    },
    {
     "data": {
      "text/html": [
       "<style>\n",
       ".list-inline {list-style: none; margin:0; padding: 0}\n",
       ".list-inline>li {display: inline-block}\n",
       ".list-inline>li:not(:last-child)::after {content: \"\\00b7\"; padding: 0 .5ex}\n",
       "</style>\n",
       "<ol class=list-inline><li>44</li><li>12</li></ol>\n"
      ],
      "text/latex": [
       "\\begin{enumerate*}\n",
       "\\item 44\n",
       "\\item 12\n",
       "\\end{enumerate*}\n"
      ],
      "text/markdown": [
       "1. 44\n",
       "2. 12\n",
       "\n",
       "\n"
      ],
      "text/plain": [
       "[1] 44 12"
      ]
     },
     "metadata": {},
     "output_type": "display_data"
    },
    {
     "data": {
      "text/html": [
       "<table class=\"dataframe\">\n",
       "<caption>A data.frame: 10 × 5</caption>\n",
       "<thead>\n",
       "\t<tr><th></th><th scope=col>NUM_POSTE</th><th scope=col>NOM_USUEL</th><th scope=col>LAT</th><th scope=col>LON</th><th scope=col>ALTI</th></tr>\n",
       "\t<tr><th></th><th scope=col>&lt;int&gt;</th><th scope=col>&lt;chr&gt;</th><th scope=col>&lt;dbl&gt;</th><th scope=col>&lt;dbl&gt;</th><th scope=col>&lt;int&gt;</th></tr>\n",
       "</thead>\n",
       "<tbody>\n",
       "\t<tr><th scope=row>87222</th><td>21038001</td><td>AUXONNE             </td><td>47.19017</td><td>5.380000</td><td>185</td></tr>\n",
       "\t<tr><th scope=row>109137</th><td>21043001</td><td>BAIGNEUX LES JUIFS  </td><td>47.60033</td><td>4.645167</td><td>415</td></tr>\n",
       "\t<tr><th scope=row>278257</th><td>21154001</td><td>CHATILLON/SEINE     </td><td>47.84933</td><td>4.581333</td><td>262</td></tr>\n",
       "\t<tr><th scope=row>735589</th><td>21390001</td><td>MARSANNAY LA COTE   </td><td>47.26667</td><td>4.986833</td><td>280</td></tr>\n",
       "\t<tr><th scope=row>935827</th><td>21473001</td><td>DIJON-LONGVIC       </td><td>47.26783</td><td>5.088333</td><td>219</td></tr>\n",
       "\t<tr><th scope=row>1103209</th><td>21527001</td><td>LA ROCHEPOT         </td><td>46.95250</td><td>4.674000</td><td>417</td></tr>\n",
       "\t<tr><th scope=row>1178487</th><td>21564001</td><td>ST NIC. CITEAUX     </td><td>47.12217</td><td>5.072167</td><td>203</td></tr>\n",
       "\t<tr><th scope=row>1224387</th><td>21584001</td><td>SAULIEU             </td><td>47.26417</td><td>4.215000</td><td>586</td></tr>\n",
       "\t<tr><th scope=row>1272741</th><td>21590001</td><td>SAVIGNY LES BEA     </td><td>47.05633</td><td>4.836667</td><td>246</td></tr>\n",
       "\t<tr><th scope=row>1299404</th><td>21603001</td><td>SEMUR EN AUXOIS_SAPC</td><td>47.48200</td><td>4.340000</td><td>314</td></tr>\n",
       "</tbody>\n",
       "</table>\n"
      ],
      "text/latex": [
       "A data.frame: 10 × 5\n",
       "\\begin{tabular}{r|lllll}\n",
       "  & NUM\\_POSTE & NOM\\_USUEL & LAT & LON & ALTI\\\\\n",
       "  & <int> & <chr> & <dbl> & <dbl> & <int>\\\\\n",
       "\\hline\n",
       "\t87222 & 21038001 & AUXONNE              & 47.19017 & 5.380000 & 185\\\\\n",
       "\t109137 & 21043001 & BAIGNEUX LES JUIFS   & 47.60033 & 4.645167 & 415\\\\\n",
       "\t278257 & 21154001 & CHATILLON/SEINE      & 47.84933 & 4.581333 & 262\\\\\n",
       "\t735589 & 21390001 & MARSANNAY LA COTE    & 47.26667 & 4.986833 & 280\\\\\n",
       "\t935827 & 21473001 & DIJON-LONGVIC        & 47.26783 & 5.088333 & 219\\\\\n",
       "\t1103209 & 21527001 & LA ROCHEPOT          & 46.95250 & 4.674000 & 417\\\\\n",
       "\t1178487 & 21564001 & ST NIC. CITEAUX      & 47.12217 & 5.072167 & 203\\\\\n",
       "\t1224387 & 21584001 & SAULIEU              & 47.26417 & 4.215000 & 586\\\\\n",
       "\t1272741 & 21590001 & SAVIGNY LES BEA      & 47.05633 & 4.836667 & 246\\\\\n",
       "\t1299404 & 21603001 & SEMUR EN AUXOIS\\_SAPC & 47.48200 & 4.340000 & 314\\\\\n",
       "\\end{tabular}\n"
      ],
      "text/markdown": [
       "\n",
       "A data.frame: 10 × 5\n",
       "\n",
       "| <!--/--> | NUM_POSTE &lt;int&gt; | NOM_USUEL &lt;chr&gt; | LAT &lt;dbl&gt; | LON &lt;dbl&gt; | ALTI &lt;int&gt; |\n",
       "|---|---|---|---|---|---|\n",
       "| 87222 | 21038001 | AUXONNE              | 47.19017 | 5.380000 | 185 |\n",
       "| 109137 | 21043001 | BAIGNEUX LES JUIFS   | 47.60033 | 4.645167 | 415 |\n",
       "| 278257 | 21154001 | CHATILLON/SEINE      | 47.84933 | 4.581333 | 262 |\n",
       "| 735589 | 21390001 | MARSANNAY LA COTE    | 47.26667 | 4.986833 | 280 |\n",
       "| 935827 | 21473001 | DIJON-LONGVIC        | 47.26783 | 5.088333 | 219 |\n",
       "| 1103209 | 21527001 | LA ROCHEPOT          | 46.95250 | 4.674000 | 417 |\n",
       "| 1178487 | 21564001 | ST NIC. CITEAUX      | 47.12217 | 5.072167 | 203 |\n",
       "| 1224387 | 21584001 | SAULIEU              | 47.26417 | 4.215000 | 586 |\n",
       "| 1272741 | 21590001 | SAVIGNY LES BEA      | 47.05633 | 4.836667 | 246 |\n",
       "| 1299404 | 21603001 | SEMUR EN AUXOIS_SAPC | 47.48200 | 4.340000 | 314 |\n",
       "\n"
      ],
      "text/plain": [
       "        NUM_POSTE NOM_USUEL            LAT      LON      ALTI\n",
       "87222   21038001  AUXONNE              47.19017 5.380000 185 \n",
       "109137  21043001  BAIGNEUX LES JUIFS   47.60033 4.645167 415 \n",
       "278257  21154001  CHATILLON/SEINE      47.84933 4.581333 262 \n",
       "735589  21390001  MARSANNAY LA COTE    47.26667 4.986833 280 \n",
       "935827  21473001  DIJON-LONGVIC        47.26783 5.088333 219 \n",
       "1103209 21527001  LA ROCHEPOT          46.95250 4.674000 417 \n",
       "1178487 21564001  ST NIC. CITEAUX      47.12217 5.072167 203 \n",
       "1224387 21584001  SAULIEU              47.26417 4.215000 586 \n",
       "1272741 21590001  SAVIGNY LES BEA      47.05633 4.836667 246 \n",
       "1299404 21603001  SEMUR EN AUXOIS_SAPC 47.48200 4.340000 314 "
      ]
     },
     "metadata": {},
     "output_type": "display_data"
    }
   ],
   "source": [
    "dim(resuMFTn)\n",
    "dim(resuMFRR)\n",
    "## Qu'en déduisez-vous à partir des dimension des objets qui contiennent les résultats ?\n",
    "MFTxposte"
   ]
  },
  {
   "cell_type": "code",
   "execution_count": 32,
   "id": "4b09eef5-9805-4f2d-abae-1896fd90f13a",
   "metadata": {},
   "outputs": [],
   "source": [
    "save(resuMFRR,resuMFTn,resuMFTx,\n",
    "     MFRRposte,MFTnposte,MFTxposte,\n",
    "     file = \"MFData_mois.RData\")\n"
   ]
  },
  {
   "cell_type": "code",
   "execution_count": null,
   "id": "2dbf0eed-afd9-4827-af10-da5cecdb2040",
   "metadata": {},
   "outputs": [],
   "source": []
  }
 ],
 "metadata": {
  "kernelspec": {
   "display_name": "R",
   "language": "R",
   "name": "ir"
  },
  "language_info": {
   "codemirror_mode": "r",
   "file_extension": ".r",
   "mimetype": "text/x-r-source",
   "name": "R",
   "pygments_lexer": "r",
   "version": "4.4.1"
  }
 },
 "nbformat": 4,
 "nbformat_minor": 5
}
